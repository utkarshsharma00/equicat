{
 "cells": [
  {
   "cell_type": "code",
   "execution_count": 32,
   "metadata": {},
   "outputs": [],
   "source": [
    "import yaml\n",
    "import json\n",
    "import pandas as pd\n",
    "import numpy as np\n",
    "import re\n",
    "from sklearn.ensemble import RandomForestRegressor, GradientBoostingRegressor\n",
    "from sklearn.svm import SVR\n",
    "from sklearn.linear_model import LassoLarsCV\n",
    "from sklearn.pipeline import Pipeline\n",
    "from sklearn.preprocessing import MinMaxScaler\n",
    "from sklearn.feature_selection import SelectPercentile, mutual_info_regression, VarianceThreshold\n",
    "from sklearn.model_selection import cross_validate\n",
    "from sklearn.metrics import r2_score, mean_absolute_error\n",
    "import matplotlib.pyplot as plt\n",
    "from time import time\n",
    "from copy import deepcopy\n",
    "from pprint import pprint"
   ]
  },
  {
   "cell_type": "code",
   "execution_count": 33,
   "metadata": {},
   "outputs": [
    {
     "name": "stdout",
     "output_type": "stream",
     "text": [
      "Number of train handles: 384\n"
     ]
    }
   ],
   "source": [
    "# Load YAML file\n",
    "with open(\"/Users/utkarsh/MMLI/equicat/science/Science_2019_reaction_handles.yml\", 'r') as file:\n",
    "    reaction_handles = yaml.safe_load(file)\n",
    "\n",
    "# Extract relevant data from YAML\n",
    "uts_reaction_handles = reaction_handles[\"Study 1:\"][\"UTS\"]\n",
    "train_handles = reaction_handles[\"Study 2:\"][\"Train\"]\n",
    "unseen_cat_handles = reaction_handles[\"Study 2:\"][\"Test: unseen catalysts\"]\n",
    "unseen_subs_handles = reaction_handles[\"Study 2:\"][\"Test: unseen substrates\"]\n",
    "unseen_cat_and_subs_handles = reaction_handles[\"Study 2:\"][\"Test: unseen subs and catalysts\"]\n",
    "\n",
    "print(\"Number of train handles:\", len(train_handles))"
   ]
  },
  {
   "cell_type": "code",
   "execution_count": 34,
   "metadata": {},
   "outputs": [
    {
     "name": "stdout",
     "output_type": "stream",
     "text": [
      "Loaded embeddings for 835 entities\n",
      "Loaded Y data with 1075 rows\n"
     ]
    }
   ],
   "source": [
    "# Function to load embeddings from JSON file and strip family prefix\n",
    "def load_embeddings(file_path):\n",
    "    with open(file_path, 'r') as f:\n",
    "        raw_embeddings = json.load(f)\n",
    "    \n",
    "    embeddings = {}\n",
    "    family_pattern = re.compile(r'^family\\d+_')\n",
    "    for key, value in raw_embeddings.items():\n",
    "        stripped_key = family_pattern.sub('', key)\n",
    "        embeddings[stripped_key] = np.array(value)\n",
    "    \n",
    "    return embeddings\n",
    "\n",
    "# Load embeddings\n",
    "embeddings = load_embeddings('/Users/utkarsh/MMLI/equicat/develop_op/final_molecule_embeddings.json')\n",
    "print(f\"Loaded embeddings for {len(embeddings)} entities\")\n",
    "\n",
    "# Load Y data\n",
    "Y_df = pd.read_csv('/Users/utkarsh/MMLI/equicat/science/Y_DATA.csv', dtype={\n",
    "    'catalyst_id': str,\n",
    "    'imine_id': str,\n",
    "    'thiol_id': str,\n",
    "    'product_id': str\n",
    "})\n",
    "print(f\"Loaded Y data with {len(Y_df)} rows\")"
   ]
  },
  {
   "cell_type": "code",
   "execution_count": 35,
   "metadata": {},
   "outputs": [
    {
     "name": "stdout",
     "output_type": "stream",
     "text": [
      "Missing embedding for reaction: 181_i_1_A - Missing IDs: ['181_i']\n",
      "Missing embedding for reaction: 181_i_1_B - Missing IDs: ['181_i']\n",
      "Missing embedding for reaction: 181_i_1_C - Missing IDs: ['181_i']\n",
      "Missing embedding for reaction: 181_i_1_D - Missing IDs: ['181_i']\n",
      "Missing embedding for reaction: 181_i_1_E - Missing IDs: ['181_i']\n",
      "Missing embedding for reaction: 181_i_2_A - Missing IDs: ['181_i']\n",
      "Missing embedding for reaction: 181_i_2_B - Missing IDs: ['181_i']\n",
      "Missing embedding for reaction: 181_i_2_C - Missing IDs: ['181_i']\n",
      "Missing embedding for reaction: 181_i_2_D - Missing IDs: ['181_i']\n",
      "Missing embedding for reaction: 181_i_2_E - Missing IDs: ['181_i']\n",
      "Missing embedding for reaction: 181_i_3_A - Missing IDs: ['181_i']\n",
      "Missing embedding for reaction: 181_i_3_B - Missing IDs: ['181_i']\n",
      "Missing embedding for reaction: 181_i_3_C - Missing IDs: ['181_i']\n",
      "Missing embedding for reaction: 181_i_3_D - Missing IDs: ['181_i']\n",
      "Missing embedding for reaction: 181_i_3_E - Missing IDs: ['181_i']\n",
      "Missing embedding for reaction: 181_i_4_A - Missing IDs: ['181_i']\n",
      "Missing embedding for reaction: 181_i_4_B - Missing IDs: ['181_i']\n",
      "Missing embedding for reaction: 181_i_4_C - Missing IDs: ['181_i']\n",
      "Missing embedding for reaction: 181_i_4_D - Missing IDs: ['181_i']\n",
      "Missing embedding for reaction: 181_i_4_E - Missing IDs: ['181_i']\n",
      "Missing embedding for reaction: 181_i_5_A - Missing IDs: ['181_i']\n",
      "Missing embedding for reaction: 181_i_5_B - Missing IDs: ['181_i']\n",
      "Missing embedding for reaction: 181_i_5_C - Missing IDs: ['181_i']\n",
      "Missing embedding for reaction: 181_i_5_D - Missing IDs: ['181_i']\n",
      "Missing embedding for reaction: 181_i_5_E - Missing IDs: ['181_i']\n",
      "Created dataset with 1050 samples and 768 features\n"
     ]
    }
   ],
   "source": [
    "# Create X data using embeddings for catalyst, imine, thiol, and product\n",
    "X_data = []\n",
    "Y_data = []\n",
    "valid_reaction_handles = []\n",
    "\n",
    "for _, row in Y_df.iterrows():\n",
    "    catalyst_id = row['catalyst_id']\n",
    "    imine_id = row['imine_id']\n",
    "    thiol_id = row['thiol_id']\n",
    "    product_id = row['product_id']\n",
    "    reaction_handle = row['reaction_handle']\n",
    "    \n",
    "    if all(id in embeddings for id in [catalyst_id, imine_id, thiol_id, product_id]):\n",
    "        combined_embedding = np.concatenate([\n",
    "            embeddings[catalyst_id],\n",
    "            embeddings[imine_id],\n",
    "            embeddings[thiol_id],\n",
    "            embeddings[product_id]\n",
    "        ])\n",
    "        \n",
    "        X_data.append(combined_embedding)\n",
    "        Y_data.append(row['selectivity_ddGact_kcal'])\n",
    "        valid_reaction_handles.append(reaction_handle)\n",
    "    else:\n",
    "        missing_ids = [id for id in [catalyst_id, imine_id, thiol_id, product_id] if id not in embeddings]\n",
    "        print(f\"Missing embedding for reaction: {reaction_handle} - Missing IDs: {missing_ids}\")\n",
    "\n",
    "# Convert to DataFrame\n",
    "X_df = pd.DataFrame(X_data, index=valid_reaction_handles)\n",
    "Y_series = pd.Series(Y_data, index=valid_reaction_handles)\n",
    "\n",
    "print(f\"Created dataset with {len(X_df)} samples and {X_df.shape[1]} features\")"
   ]
  },
  {
   "cell_type": "code",
   "execution_count": 36,
   "metadata": {},
   "outputs": [],
   "source": [
    "# Helper function for plotting\n",
    "def multiplot_and_print(estimator, X_train, Y_train, comb_partitions, title, verbose=1, file_dpi=800):\n",
    "    predicted_train = estimator.predict(X_train)\n",
    "    r2_train = r2_score(Y_train, predicted_train)\n",
    "    mae_train = mean_absolute_error(Y_train, predicted_train)\n",
    "\n",
    "    if verbose:\n",
    "        print(title)\n",
    "        print(f\"Train R^2: {r2_train:0.5f}, train MAE: {mae_train:0.5f}\")\n",
    "\n",
    "    fig, ax = plt.subplots()\n",
    "\n",
    "    ax.scatter(\n",
    "        Y_train,\n",
    "        predicted_train,\n",
    "        color=\"gray\",\n",
    "        label=f\"Train (r2= {r2_train:0.3f}, MAE={mae_train:0.3f})\"\n",
    "    )\n",
    "\n",
    "    for part_name, part_data in comb_partitions.items():\n",
    "        predicted_test = estimator.predict(part_data[0])\n",
    "        r2_test = r2_score(part_data[1], predicted_test)\n",
    "        mae_test = mean_absolute_error(part_data[1], predicted_test)\n",
    "\n",
    "        if verbose:\n",
    "            print(f\"Test R^2: {r2_test:0.5f}, test MAE: {mae_test:0.5f}\")\n",
    "\n",
    "        ax.scatter(\n",
    "            part_data[1],\n",
    "            predicted_test,\n",
    "            color=part_data[2],\n",
    "            label=f\"{part_name} (r2= {r2_test:0.3f}, MAE={mae_test:0.3f})\"\n",
    "        )\n",
    "\n",
    "    ax.set_title(title)\n",
    "    ax.set_xlabel(\"Observed $\\Delta \\Delta G^\\u2021 [\\mathrm{kcal\\;mol^{-1}}]$\")\n",
    "    ax.set_ylabel(\"Predicted $\\Delta \\Delta G^\\u2021 [\\mathrm{kcal\\;mol^{-1}}]$\")\n",
    "    ax.set_ylim(-3, 3)\n",
    "    ax.set_xlim(-3, 3)\n",
    "\n",
    "    plt.legend()\n",
    "    plt.tight_layout()\n",
    "    plt.savefig(title + \".png\", dpi=file_dpi)\n",
    "    plt.close()"
   ]
  },
  {
   "cell_type": "code",
   "execution_count": 37,
   "metadata": {},
   "outputs": [
    {
     "name": "stdout",
     "output_type": "stream",
     "text": [
      "X_train shape: (368, 768)\n",
      "Y_train shape: (368, 1)\n",
      "X_sub_test shape: (207, 768)\n",
      "Y_sub_test shape: (207, 1)\n",
      "X_cat_test shape: (304, 768)\n",
      "Y_cat_test shape: (304, 1)\n",
      "X_subcat_test shape: (171, 768)\n",
      "Y_subcat_test shape: (171, 1)\n"
     ]
    }
   ],
   "source": [
    "# Prepare train and test data\n",
    "valid_train_handles = [handle for handle in train_handles if handle in X_df.index]\n",
    "X_train = X_df.loc[valid_train_handles]\n",
    "Y_train = Y_df.loc[Y_df['reaction_handle'].isin(valid_train_handles), [\"selectivity_ddGact_kcal\"]]\n",
    "print(\"X_train shape:\", X_train.shape)\n",
    "print(\"Y_train shape:\", Y_train.shape)\n",
    "\n",
    "comb_partitions = {}\n",
    "\n",
    "valid_unseen_subs_handles = [handle for handle in unseen_subs_handles if handle in X_df.index]\n",
    "X_sub_test = X_df.loc[valid_unseen_subs_handles]\n",
    "Y_sub_test = Y_df.loc[Y_df['reaction_handle'].isin(valid_unseen_subs_handles), [\"selectivity_ddGact_kcal\"]]\n",
    "comb_partitions[\"Unseen substrates\"] = (X_sub_test, Y_sub_test, \"green\")\n",
    "print(\"X_sub_test shape:\", X_sub_test.shape)\n",
    "print(\"Y_sub_test shape:\", Y_sub_test.shape)\n",
    "\n",
    "valid_unseen_cat_handles = [handle for handle in unseen_cat_handles if handle in X_df.index]\n",
    "X_cat_test = X_df.loc[valid_unseen_cat_handles]\n",
    "Y_cat_test = Y_df.loc[Y_df['reaction_handle'].isin(valid_unseen_cat_handles), [\"selectivity_ddGact_kcal\"]]\n",
    "comb_partitions[\"Unseen catalysts\"] = (X_cat_test, Y_cat_test, \"purple\")\n",
    "print(\"X_cat_test shape:\", X_cat_test.shape)\n",
    "print(\"Y_cat_test shape:\", Y_cat_test.shape)\n",
    "\n",
    "valid_unseen_cat_and_subs_handles = [handle for handle in unseen_cat_and_subs_handles if handle in X_df.index]\n",
    "X_subcat_test = X_df.loc[valid_unseen_cat_and_subs_handles]\n",
    "Y_subcat_test = Y_df.loc[Y_df['reaction_handle'].isin(valid_unseen_cat_and_subs_handles), [\"selectivity_ddGact_kcal\"]]\n",
    "comb_partitions[\"Unseen subs and cats\"] = (X_subcat_test, Y_subcat_test, \"blue\")\n",
    "print(\"X_subcat_test shape:\", X_subcat_test.shape)\n",
    "print(\"Y_subcat_test shape:\", Y_subcat_test.shape)\n",
    "\n",
    "f_select_model = RandomForestRegressor(n_estimators=500, n_jobs=64, random_state=1234)\n",
    "\n",
    "base_pipeline = Pipeline(steps=[\n",
    "    ('variance', VarianceThreshold()),\n",
    "    ('scaler', MinMaxScaler()),\n",
    "    # ('feature_selection', SelectFromModel(f_select_model, max_features = 30)),\n",
    "    ('feature_selection', SelectPercentile(mutual_info_regression, percentile=25)),\n",
    "])"
   ]
  },
  {
   "cell_type": "code",
   "execution_count": 39,
   "metadata": {},
   "outputs": [],
   "source": [
    "# Model training and evaluation\n",
    "models = {\n",
    "    \"GBR\": GradientBoostingRegressor(n_estimators=1000, ccp_alpha=1e-3),\n",
    "    \"SVR\": SVR(kernel='poly', degree=3, epsilon=0.05),\n",
    "    \"RF\": RandomForestRegressor(n_estimators=1000, n_jobs=-1, random_state=7),\n",
    "    \"LL\": LassoLarsCV(max_iter=5000, cv=5, n_jobs=-1)\n",
    "}"
   ]
  },
  {
   "cell_type": "code",
   "execution_count": 42,
   "metadata": {},
   "outputs": [
    {
     "name": "stdout",
     "output_type": "stream",
     "text": [
      "\n",
      "Training GBR...\n"
     ]
    },
    {
     "name": "stderr",
     "output_type": "stream",
     "text": [
      "/Users/utkarsh/miniconda3/lib/python3.11/site-packages/sklearn/utils/validation.py:1310: DataConversionWarning: A column-vector y was passed when a 1d array was expected. Please change the shape of y to (n_samples, ), for example using ravel().\n",
      "  y = column_or_1d(y, warn=True)\n",
      "/Users/utkarsh/miniconda3/lib/python3.11/site-packages/sklearn/ensemble/_gb.py:668: DataConversionWarning: A column-vector y was passed when a 1d array was expected. Please change the shape of y to (n_samples, ), for example using ravel().\n",
      "  y = column_or_1d(y, warn=True)  # TODO: Is this still required?\n"
     ]
    },
    {
     "name": "stdout",
     "output_type": "stream",
     "text": [
      "GBR: Fitting took 3.038s.\n"
     ]
    },
    {
     "name": "stderr",
     "output_type": "stream",
     "text": [
      "/Users/utkarsh/miniconda3/lib/python3.11/site-packages/sklearn/utils/validation.py:1310: DataConversionWarning: A column-vector y was passed when a 1d array was expected. Please change the shape of y to (n_samples, ), for example using ravel().\n",
      "  y = column_or_1d(y, warn=True)\n",
      "/Users/utkarsh/miniconda3/lib/python3.11/site-packages/sklearn/ensemble/_gb.py:668: DataConversionWarning: A column-vector y was passed when a 1d array was expected. Please change the shape of y to (n_samples, ), for example using ravel().\n",
      "  y = column_or_1d(y, warn=True)  # TODO: Is this still required?\n",
      "/Users/utkarsh/miniconda3/lib/python3.11/site-packages/sklearn/utils/validation.py:1310: DataConversionWarning: A column-vector y was passed when a 1d array was expected. Please change the shape of y to (n_samples, ), for example using ravel().\n",
      "  y = column_or_1d(y, warn=True)\n",
      "/Users/utkarsh/miniconda3/lib/python3.11/site-packages/sklearn/ensemble/_gb.py:668: DataConversionWarning: A column-vector y was passed when a 1d array was expected. Please change the shape of y to (n_samples, ), for example using ravel().\n",
      "  y = column_or_1d(y, warn=True)  # TODO: Is this still required?\n",
      "/Users/utkarsh/miniconda3/lib/python3.11/site-packages/sklearn/utils/validation.py:1310: DataConversionWarning: A column-vector y was passed when a 1d array was expected. Please change the shape of y to (n_samples, ), for example using ravel().\n",
      "  y = column_or_1d(y, warn=True)\n",
      "/Users/utkarsh/miniconda3/lib/python3.11/site-packages/sklearn/ensemble/_gb.py:668: DataConversionWarning: A column-vector y was passed when a 1d array was expected. Please change the shape of y to (n_samples, ), for example using ravel().\n",
      "  y = column_or_1d(y, warn=True)  # TODO: Is this still required?\n",
      "/Users/utkarsh/miniconda3/lib/python3.11/site-packages/sklearn/utils/validation.py:1310: DataConversionWarning: A column-vector y was passed when a 1d array was expected. Please change the shape of y to (n_samples, ), for example using ravel().\n",
      "  y = column_or_1d(y, warn=True)\n",
      "/Users/utkarsh/miniconda3/lib/python3.11/site-packages/sklearn/ensemble/_gb.py:668: DataConversionWarning: A column-vector y was passed when a 1d array was expected. Please change the shape of y to (n_samples, ), for example using ravel().\n",
      "  y = column_or_1d(y, warn=True)  # TODO: Is this still required?\n",
      "/Users/utkarsh/miniconda3/lib/python3.11/site-packages/sklearn/utils/validation.py:1310: DataConversionWarning: A column-vector y was passed when a 1d array was expected. Please change the shape of y to (n_samples, ), for example using ravel().\n",
      "  y = column_or_1d(y, warn=True)\n",
      "/Users/utkarsh/miniconda3/lib/python3.11/site-packages/sklearn/ensemble/_gb.py:668: DataConversionWarning: A column-vector y was passed when a 1d array was expected. Please change the shape of y to (n_samples, ), for example using ravel().\n",
      "  y = column_or_1d(y, warn=True)  # TODO: Is this still required?\n"
     ]
    },
    {
     "name": "stdout",
     "output_type": "stream",
     "text": [
      "{'fit_time': array([2.93766022, 2.29408097, 2.26784682, 2.15340328, 2.22591877]),\n",
      " 'score_time': array([0.00740504, 0.00371289, 0.00336695, 0.00327277, 0.00335431]),\n",
      " 'test_neg_mean_absolute_error': array([-0.47937329, -0.58519114, -0.55550473, -0.48552131, -0.37001129]),\n",
      " 'test_r2': array([-0.09696019, -1.17464649,  0.22379963, -0.07685155, -0.14446218]),\n",
      " 'train_neg_mean_absolute_error': array([-0.34556285, -0.37381301, -0.32850108, -0.32639431, -0.33683587]),\n",
      " 'train_r2': array([0.64779298, 0.59758756, 0.60192412, 0.64836692, 0.68800321])}\n",
      "GBR Q_2: -0.25382\n",
      "BPA_Combinatorial_GBR\n",
      "Train R^2: 0.64349, train MAE: 0.34212\n",
      "Test R^2: 0.69763, test MAE: 0.31181\n",
      "Test R^2: -0.51103, test MAE: 0.67133\n",
      "Test R^2: -0.46979, test MAE: 0.67540\n",
      "\n",
      "Training SVR...\n"
     ]
    },
    {
     "name": "stderr",
     "output_type": "stream",
     "text": [
      "/Users/utkarsh/miniconda3/lib/python3.11/site-packages/sklearn/utils/validation.py:1310: DataConversionWarning: A column-vector y was passed when a 1d array was expected. Please change the shape of y to (n_samples, ), for example using ravel().\n",
      "  y = column_or_1d(y, warn=True)\n",
      "/Users/utkarsh/miniconda3/lib/python3.11/site-packages/sklearn/utils/validation.py:1310: DataConversionWarning: A column-vector y was passed when a 1d array was expected. Please change the shape of y to (n_samples, ), for example using ravel().\n",
      "  y = column_or_1d(y, warn=True)\n",
      "/Users/utkarsh/miniconda3/lib/python3.11/site-packages/sklearn/utils/validation.py:1310: DataConversionWarning: A column-vector y was passed when a 1d array was expected. Please change the shape of y to (n_samples, ), for example using ravel().\n",
      "  y = column_or_1d(y, warn=True)\n"
     ]
    },
    {
     "name": "stdout",
     "output_type": "stream",
     "text": [
      "SVR: Fitting took 0.643s.\n"
     ]
    },
    {
     "name": "stderr",
     "output_type": "stream",
     "text": [
      "/Users/utkarsh/miniconda3/lib/python3.11/site-packages/sklearn/utils/validation.py:1310: DataConversionWarning: A column-vector y was passed when a 1d array was expected. Please change the shape of y to (n_samples, ), for example using ravel().\n",
      "  y = column_or_1d(y, warn=True)\n",
      "/Users/utkarsh/miniconda3/lib/python3.11/site-packages/sklearn/utils/validation.py:1310: DataConversionWarning: A column-vector y was passed when a 1d array was expected. Please change the shape of y to (n_samples, ), for example using ravel().\n",
      "  y = column_or_1d(y, warn=True)\n",
      "/Users/utkarsh/miniconda3/lib/python3.11/site-packages/sklearn/utils/validation.py:1310: DataConversionWarning: A column-vector y was passed when a 1d array was expected. Please change the shape of y to (n_samples, ), for example using ravel().\n",
      "  y = column_or_1d(y, warn=True)\n",
      "/Users/utkarsh/miniconda3/lib/python3.11/site-packages/sklearn/utils/validation.py:1310: DataConversionWarning: A column-vector y was passed when a 1d array was expected. Please change the shape of y to (n_samples, ), for example using ravel().\n",
      "  y = column_or_1d(y, warn=True)\n",
      "/Users/utkarsh/miniconda3/lib/python3.11/site-packages/sklearn/utils/validation.py:1310: DataConversionWarning: A column-vector y was passed when a 1d array was expected. Please change the shape of y to (n_samples, ), for example using ravel().\n",
      "  y = column_or_1d(y, warn=True)\n",
      "/Users/utkarsh/miniconda3/lib/python3.11/site-packages/sklearn/utils/validation.py:1310: DataConversionWarning: A column-vector y was passed when a 1d array was expected. Please change the shape of y to (n_samples, ), for example using ravel().\n",
      "  y = column_or_1d(y, warn=True)\n",
      "/Users/utkarsh/miniconda3/lib/python3.11/site-packages/sklearn/utils/validation.py:1310: DataConversionWarning: A column-vector y was passed when a 1d array was expected. Please change the shape of y to (n_samples, ), for example using ravel().\n",
      "  y = column_or_1d(y, warn=True)\n",
      "/Users/utkarsh/miniconda3/lib/python3.11/site-packages/sklearn/utils/validation.py:1310: DataConversionWarning: A column-vector y was passed when a 1d array was expected. Please change the shape of y to (n_samples, ), for example using ravel().\n",
      "  y = column_or_1d(y, warn=True)\n",
      "/Users/utkarsh/miniconda3/lib/python3.11/site-packages/sklearn/utils/validation.py:1310: DataConversionWarning: A column-vector y was passed when a 1d array was expected. Please change the shape of y to (n_samples, ), for example using ravel().\n",
      "  y = column_or_1d(y, warn=True)\n"
     ]
    },
    {
     "name": "stdout",
     "output_type": "stream",
     "text": [
      "{'fit_time': array([0.57016492, 0.574646  , 0.56280327, 0.5713768 , 0.62339497]),\n",
      " 'score_time': array([0.00431013, 0.00393391, 0.00387311, 0.00392509, 0.00400305]),\n",
      " 'test_neg_mean_absolute_error': array([-0.46927876, -0.52417942, -0.59829291, -0.658965  , -0.38143669]),\n",
      " 'test_r2': array([-0.02960856, -0.77912023, -0.01447746, -1.08299862, -0.26897743]),\n",
      " 'train_neg_mean_absolute_error': array([-0.34085145, -0.36982661, -0.32480749, -0.3224177 , -0.33132259]),\n",
      " 'train_r2': array([0.56330931, 0.51145443, 0.54959292, 0.56382437, 0.61558212])}\n",
      "SVR Q_2: -0.43504\n",
      "BPA_Combinatorial_SVR\n",
      "Train R^2: 0.56734, train MAE: 0.33809\n",
      "Test R^2: 0.56545, test MAE: 0.36100\n",
      "Test R^2: -0.12310, test MAE: 0.56659\n",
      "Test R^2: -0.32787, test MAE: 0.66446\n",
      "\n",
      "Training RF...\n"
     ]
    },
    {
     "name": "stderr",
     "output_type": "stream",
     "text": [
      "/Users/utkarsh/miniconda3/lib/python3.11/site-packages/sklearn/utils/validation.py:1310: DataConversionWarning: A column-vector y was passed when a 1d array was expected. Please change the shape of y to (n_samples, ), for example using ravel().\n",
      "  y = column_or_1d(y, warn=True)\n",
      "/Users/utkarsh/miniconda3/lib/python3.11/site-packages/sklearn/base.py:1473: DataConversionWarning: A column-vector y was passed when a 1d array was expected. Please change the shape of y to (n_samples,), for example using ravel().\n",
      "  return fit_method(estimator, *args, **kwargs)\n"
     ]
    },
    {
     "name": "stdout",
     "output_type": "stream",
     "text": [
      "RF: Fitting took 1.488s.\n"
     ]
    },
    {
     "name": "stderr",
     "output_type": "stream",
     "text": [
      "/Users/utkarsh/miniconda3/lib/python3.11/site-packages/sklearn/utils/validation.py:1310: DataConversionWarning: A column-vector y was passed when a 1d array was expected. Please change the shape of y to (n_samples, ), for example using ravel().\n",
      "  y = column_or_1d(y, warn=True)\n",
      "/Users/utkarsh/miniconda3/lib/python3.11/site-packages/sklearn/base.py:1473: DataConversionWarning: A column-vector y was passed when a 1d array was expected. Please change the shape of y to (n_samples,), for example using ravel().\n",
      "  return fit_method(estimator, *args, **kwargs)\n",
      "/Users/utkarsh/miniconda3/lib/python3.11/site-packages/sklearn/utils/validation.py:1310: DataConversionWarning: A column-vector y was passed when a 1d array was expected. Please change the shape of y to (n_samples, ), for example using ravel().\n",
      "  y = column_or_1d(y, warn=True)\n",
      "/Users/utkarsh/miniconda3/lib/python3.11/site-packages/sklearn/base.py:1473: DataConversionWarning: A column-vector y was passed when a 1d array was expected. Please change the shape of y to (n_samples,), for example using ravel().\n",
      "  return fit_method(estimator, *args, **kwargs)\n",
      "/Users/utkarsh/miniconda3/lib/python3.11/site-packages/sklearn/utils/validation.py:1310: DataConversionWarning: A column-vector y was passed when a 1d array was expected. Please change the shape of y to (n_samples, ), for example using ravel().\n",
      "  y = column_or_1d(y, warn=True)\n",
      "/Users/utkarsh/miniconda3/lib/python3.11/site-packages/sklearn/base.py:1473: DataConversionWarning: A column-vector y was passed when a 1d array was expected. Please change the shape of y to (n_samples,), for example using ravel().\n",
      "  return fit_method(estimator, *args, **kwargs)\n",
      "/Users/utkarsh/miniconda3/lib/python3.11/site-packages/sklearn/utils/validation.py:1310: DataConversionWarning: A column-vector y was passed when a 1d array was expected. Please change the shape of y to (n_samples, ), for example using ravel().\n",
      "  y = column_or_1d(y, warn=True)\n",
      "/Users/utkarsh/miniconda3/lib/python3.11/site-packages/sklearn/base.py:1473: DataConversionWarning: A column-vector y was passed when a 1d array was expected. Please change the shape of y to (n_samples,), for example using ravel().\n",
      "  return fit_method(estimator, *args, **kwargs)\n",
      "/Users/utkarsh/miniconda3/lib/python3.11/site-packages/sklearn/utils/validation.py:1310: DataConversionWarning: A column-vector y was passed when a 1d array was expected. Please change the shape of y to (n_samples, ), for example using ravel().\n",
      "  y = column_or_1d(y, warn=True)\n",
      "/Users/utkarsh/miniconda3/lib/python3.11/site-packages/sklearn/base.py:1473: DataConversionWarning: A column-vector y was passed when a 1d array was expected. Please change the shape of y to (n_samples,), for example using ravel().\n",
      "  return fit_method(estimator, *args, **kwargs)\n"
     ]
    },
    {
     "name": "stdout",
     "output_type": "stream",
     "text": [
      "{'fit_time': array([1.37665296, 1.24443269, 1.26924729, 1.2646358 , 1.28757024]),\n",
      " 'score_time': array([0.04240179, 0.04070711, 0.04252768, 0.15978122, 0.03991985]),\n",
      " 'test_neg_mean_absolute_error': array([-0.51304895, -0.5890203 , -0.55832038, -0.51720235, -0.36127287]),\n",
      " 'test_r2': array([-0.21374161, -1.25706533,  0.19652702, -0.33471876,  0.07250606]),\n",
      " 'train_neg_mean_absolute_error': array([-0.34065506, -0.36990315, -0.32489756, -0.32233113, -0.3322759 ]),\n",
      " 'train_r2': array([0.65275486, 0.6031154 , 0.60916509, 0.65400685, 0.69288496])}\n",
      "RF Q_2: -0.30730\n",
      "BPA_Combinatorial_RF\n",
      "Train R^2: 0.64936, train MAE: 0.33803\n",
      "Test R^2: 0.71553, test MAE: 0.30251\n",
      "Test R^2: -0.38820, test MAE: 0.65106\n",
      "Test R^2: -0.36379, test MAE: 0.66301\n",
      "\n",
      "Training LL...\n"
     ]
    },
    {
     "name": "stderr",
     "output_type": "stream",
     "text": [
      "/Users/utkarsh/miniconda3/lib/python3.11/site-packages/sklearn/utils/validation.py:1310: DataConversionWarning: A column-vector y was passed when a 1d array was expected. Please change the shape of y to (n_samples, ), for example using ravel().\n",
      "  y = column_or_1d(y, warn=True)\n",
      "/Users/utkarsh/miniconda3/lib/python3.11/site-packages/sklearn/utils/validation.py:1310: DataConversionWarning: A column-vector y was passed when a 1d array was expected. Please change the shape of y to (n_samples, ), for example using ravel().\n",
      "  y = column_or_1d(y, warn=True)\n",
      "/Users/utkarsh/miniconda3/lib/python3.11/site-packages/sklearn/utils/validation.py:1310: DataConversionWarning: A column-vector y was passed when a 1d array was expected. Please change the shape of y to (n_samples, ), for example using ravel().\n",
      "  y = column_or_1d(y, warn=True)\n"
     ]
    },
    {
     "name": "stdout",
     "output_type": "stream",
     "text": [
      "LL: Fitting took 0.686s.\n"
     ]
    },
    {
     "name": "stderr",
     "output_type": "stream",
     "text": [
      "/Users/utkarsh/miniconda3/lib/python3.11/site-packages/sklearn/utils/validation.py:1310: DataConversionWarning: A column-vector y was passed when a 1d array was expected. Please change the shape of y to (n_samples, ), for example using ravel().\n",
      "  y = column_or_1d(y, warn=True)\n",
      "/Users/utkarsh/miniconda3/lib/python3.11/site-packages/sklearn/utils/validation.py:1310: DataConversionWarning: A column-vector y was passed when a 1d array was expected. Please change the shape of y to (n_samples, ), for example using ravel().\n",
      "  y = column_or_1d(y, warn=True)\n",
      "/Users/utkarsh/miniconda3/lib/python3.11/site-packages/sklearn/utils/validation.py:1310: DataConversionWarning: A column-vector y was passed when a 1d array was expected. Please change the shape of y to (n_samples, ), for example using ravel().\n",
      "  y = column_or_1d(y, warn=True)\n",
      "/Users/utkarsh/miniconda3/lib/python3.11/site-packages/sklearn/utils/validation.py:1310: DataConversionWarning: A column-vector y was passed when a 1d array was expected. Please change the shape of y to (n_samples, ), for example using ravel().\n",
      "  y = column_or_1d(y, warn=True)\n",
      "/Users/utkarsh/miniconda3/lib/python3.11/site-packages/sklearn/utils/validation.py:1310: DataConversionWarning: A column-vector y was passed when a 1d array was expected. Please change the shape of y to (n_samples, ), for example using ravel().\n",
      "  y = column_or_1d(y, warn=True)\n",
      "/Users/utkarsh/miniconda3/lib/python3.11/site-packages/sklearn/utils/validation.py:1310: DataConversionWarning: A column-vector y was passed when a 1d array was expected. Please change the shape of y to (n_samples, ), for example using ravel().\n",
      "  y = column_or_1d(y, warn=True)\n",
      "/Users/utkarsh/miniconda3/lib/python3.11/site-packages/sklearn/utils/validation.py:1310: DataConversionWarning: A column-vector y was passed when a 1d array was expected. Please change the shape of y to (n_samples, ), for example using ravel().\n",
      "  y = column_or_1d(y, warn=True)\n",
      "/Users/utkarsh/miniconda3/lib/python3.11/site-packages/sklearn/utils/validation.py:1310: DataConversionWarning: A column-vector y was passed when a 1d array was expected. Please change the shape of y to (n_samples, ), for example using ravel().\n",
      "  y = column_or_1d(y, warn=True)\n",
      "/Users/utkarsh/miniconda3/lib/python3.11/site-packages/sklearn/utils/validation.py:1310: DataConversionWarning: A column-vector y was passed when a 1d array was expected. Please change the shape of y to (n_samples, ), for example using ravel().\n",
      "  y = column_or_1d(y, warn=True)\n"
     ]
    },
    {
     "name": "stdout",
     "output_type": "stream",
     "text": [
      "{'fit_time': array([0.82345819, 0.73108292, 0.71718216, 0.69422913, 0.7616601 ]),\n",
      " 'score_time': array([0.00411177, 0.00333905, 0.00304794, 0.01127076, 0.00334096]),\n",
      " 'test_neg_mean_absolute_error': array([-0.77561094, -0.74175659, -0.73385369, -0.6354781 , -0.36561611]),\n",
      " 'test_r2': array([-1.55077393, -2.38521674, -0.0859622 , -0.94548584, -0.01997947]),\n",
      " 'train_neg_mean_absolute_error': array([-0.34064838, -0.38436008, -0.352966  , -0.51164494, -0.58181791]),\n",
      " 'train_r2': array([0.65278769, 0.57375571, 0.53714494, 0.        , 0.        ])}\n",
      "LL Q_2: -0.99748\n",
      "BPA_Combinatorial_LL\n",
      "Train R^2: 0.00000, train MAE: 0.54042\n",
      "Test R^2: -0.03286, test MAE: 0.58499\n",
      "Test R^2: -0.04266, test MAE: 0.56389\n",
      "Test R^2: -0.19093, test MAE: 0.63337\n",
      "All models trained and evaluated successfully.\n"
     ]
    }
   ],
   "source": [
    "for model_name, model in models.items():\n",
    "    pipe = deepcopy(base_pipeline)\n",
    "    pipe.steps.append(('model', model))\n",
    "    \n",
    "    print(f\"\\nTraining {model_name}...\")\n",
    "    t0 = time()\n",
    "    pipe.fit(X_train, Y_train)\n",
    "    print(f\"{model_name}: Fitting took {time() - t0:.3f}s.\")\n",
    "\n",
    "    scores = cross_validate(pipe, X_train, Y_train, cv=5, scoring=['neg_mean_absolute_error', 'r2'], return_train_score=True)\n",
    "    pprint(scores)\n",
    "    print(f\"{model_name} Q_2: {np.mean(scores['test_r2']):.5f}\")\n",
    "\n",
    "    multiplot_and_print(pipe, X_train, Y_train, comb_partitions, f\"BPA_Combinatorial_{model_name}\")\n",
    "\n",
    "print(\"All models trained and evaluated successfully.\")"
   ]
  },
  {
   "cell_type": "code",
   "execution_count": null,
   "metadata": {},
   "outputs": [],
   "source": []
  }
 ],
 "metadata": {
  "kernelspec": {
   "display_name": "molli",
   "language": "python",
   "name": "python3"
  },
  "language_info": {
   "codemirror_mode": {
    "name": "ipython",
    "version": 3
   },
   "file_extension": ".py",
   "mimetype": "text/x-python",
   "name": "python",
   "nbconvert_exporter": "python",
   "pygments_lexer": "ipython3",
   "version": "3.11.8"
  },
  "orig_nbformat": 4,
  "vscode": {
   "interpreter": {
    "hash": "2035dfce6eff95fa73cff02d151cbd73701570f1ef0ed5b94db9438e1a1736f2"
   }
  }
 },
 "nbformat": 4,
 "nbformat_minor": 2
}
