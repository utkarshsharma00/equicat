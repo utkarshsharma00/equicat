{
 "cells": [
  {
   "cell_type": "code",
   "execution_count": 1,
   "metadata": {},
   "outputs": [],
   "source": [
    "import json\n",
    "import re\n",
    "import numpy as np\n",
    "import pandas as pd\n",
    "import matplotlib.pyplot as plt\n",
    "from sklearn.model_selection import train_test_split, cross_validate, RandomizedSearchCV\n",
    "from sklearn.metrics import r2_score, mean_absolute_error\n",
    "from sklearn.preprocessing import MinMaxScaler\n",
    "from sklearn.feature_selection import VarianceThreshold, SelectPercentile, mutual_info_regression\n",
    "from sklearn.pipeline import Pipeline\n",
    "from sklearn.ensemble import RandomForestRegressor, GradientBoostingRegressor\n",
    "from sklearn.svm import SVR\n",
    "from sklearn.linear_model import LassoLarsCV\n",
    "from xgboost import XGBRegressor\n",
    "from copy import deepcopy\n",
    "from time import time\n",
    "from pprint import pprint\n",
    "import yaml"
   ]
  },
  {
   "cell_type": "code",
   "execution_count": 2,
   "metadata": {},
   "outputs": [
    {
     "name": "stdout",
     "output_type": "stream",
     "text": [
      "Number of train handles: 384\n",
      "Number of unseen catalysts: 304\n",
      "Number of unseen substrates: 216\n",
      "Number of unseen catalysts and substrates: 171\n"
     ]
    }
   ],
   "source": [
    "# Load YAML file\n",
    "with open(\"/Users/utkarsh/MMLI/equicat/science/Science_2019_reaction_handles.yml\", 'r') as file:\n",
    "    reaction_handles = yaml.safe_load(file)\n",
    "\n",
    "# Extract relevant data from YAML\n",
    "uts_reaction_handles = reaction_handles[\"Study 1:\"][\"UTS\"]\n",
    "train_handles = reaction_handles[\"Study 2:\"][\"Train\"]\n",
    "unseen_cat_handles = reaction_handles[\"Study 2:\"][\"Test: unseen catalysts\"]\n",
    "unseen_subs_handles = reaction_handles[\"Study 2:\"][\"Test: unseen substrates\"]\n",
    "unseen_cat_and_subs_handles = reaction_handles[\"Study 2:\"][\"Test: unseen subs and catalysts\"]\n",
    "\n",
    "print(\"Number of train handles:\", len(train_handles))\n",
    "print(\"Number of unseen catalysts:\", len(unseen_cat_handles))\n",
    "print(\"Number of unseen substrates:\", len(unseen_subs_handles))\n",
    "print(\"Number of unseen catalysts and substrates:\", len(unseen_cat_and_subs_handles))"
   ]
  },
  {
   "cell_type": "code",
   "execution_count": 3,
   "metadata": {},
   "outputs": [
    {
     "name": "stdout",
     "output_type": "stream",
     "text": [
      "Loaded embeddings for 835 entities\n",
      "Loaded Y data with 1075 rows\n"
     ]
    }
   ],
   "source": [
    "# Function to load embeddings from JSON file and strip family prefix\n",
    "def load_embeddings(file_path):\n",
    "    with open(file_path, 'r') as f:\n",
    "        raw_embeddings = json.load(f)\n",
    "    \n",
    "    embeddings = {}\n",
    "    family_pattern = re.compile(r'^family\\d+_')\n",
    "    for key, value in raw_embeddings.items():\n",
    "        stripped_key = family_pattern.sub('', key)\n",
    "        embeddings[stripped_key] = np.array(value)\n",
    "    \n",
    "    return embeddings\n",
    "\n",
    "# Load embeddings\n",
    "embeddings = load_embeddings('/Users/utkarsh/MMLI/equicat/develop_op/final_molecule_embeddings.json')\n",
    "print(f\"Loaded embeddings for {len(embeddings)} entities\")\n",
    "\n",
    "# Load Y data\n",
    "Y_df = pd.read_csv('/Users/utkarsh/MMLI/equicat/science/Y_DATA.csv', dtype={\n",
    "    'catalyst_id': str,\n",
    "    'imine_id': str,\n",
    "    'thiol_id': str,\n",
    "    'product_id': str\n",
    "})\n",
    "print(f\"Loaded Y data with {len(Y_df)} rows\")"
   ]
  },
  {
   "cell_type": "code",
   "execution_count": 4,
   "metadata": {},
   "outputs": [
    {
     "name": "stdout",
     "output_type": "stream",
     "text": [
      "Missing embedding for reaction: 181_i_1_A - Missing IDs: ['181_i']\n",
      "Missing embedding for reaction: 181_i_1_B - Missing IDs: ['181_i']\n",
      "Missing embedding for reaction: 181_i_1_C - Missing IDs: ['181_i']\n",
      "Missing embedding for reaction: 181_i_1_D - Missing IDs: ['181_i']\n",
      "Missing embedding for reaction: 181_i_1_E - Missing IDs: ['181_i']\n",
      "Missing embedding for reaction: 181_i_2_A - Missing IDs: ['181_i']\n",
      "Missing embedding for reaction: 181_i_2_B - Missing IDs: ['181_i']\n",
      "Missing embedding for reaction: 181_i_2_C - Missing IDs: ['181_i']\n",
      "Missing embedding for reaction: 181_i_2_D - Missing IDs: ['181_i']\n",
      "Missing embedding for reaction: 181_i_2_E - Missing IDs: ['181_i']\n",
      "Missing embedding for reaction: 181_i_3_A - Missing IDs: ['181_i']\n",
      "Missing embedding for reaction: 181_i_3_B - Missing IDs: ['181_i']\n",
      "Missing embedding for reaction: 181_i_3_C - Missing IDs: ['181_i']\n",
      "Missing embedding for reaction: 181_i_3_D - Missing IDs: ['181_i']\n",
      "Missing embedding for reaction: 181_i_3_E - Missing IDs: ['181_i']\n",
      "Missing embedding for reaction: 181_i_4_A - Missing IDs: ['181_i']\n",
      "Missing embedding for reaction: 181_i_4_B - Missing IDs: ['181_i']\n",
      "Missing embedding for reaction: 181_i_4_C - Missing IDs: ['181_i']\n",
      "Missing embedding for reaction: 181_i_4_D - Missing IDs: ['181_i']\n",
      "Missing embedding for reaction: 181_i_4_E - Missing IDs: ['181_i']\n",
      "Missing embedding for reaction: 181_i_5_A - Missing IDs: ['181_i']\n",
      "Missing embedding for reaction: 181_i_5_B - Missing IDs: ['181_i']\n",
      "Missing embedding for reaction: 181_i_5_C - Missing IDs: ['181_i']\n",
      "Missing embedding for reaction: 181_i_5_D - Missing IDs: ['181_i']\n",
      "Missing embedding for reaction: 181_i_5_E - Missing IDs: ['181_i']\n",
      "Created dataset with 1050 samples and 768 features\n"
     ]
    }
   ],
   "source": [
    "# Create X data using embeddings for catalyst, imine, thiol, and product\n",
    "X_data = []\n",
    "Y_data = []\n",
    "valid_reaction_handles = []\n",
    "\n",
    "for _, row in Y_df.iterrows():\n",
    "    catalyst_id = row['catalyst_id']\n",
    "    imine_id = row['imine_id']\n",
    "    thiol_id = row['thiol_id']\n",
    "    product_id = row['product_id']\n",
    "    reaction_handle = row['reaction_handle']\n",
    "    \n",
    "    if all(id in embeddings for id in [catalyst_id, imine_id, thiol_id, product_id]):\n",
    "        combined_embedding = np.concatenate([\n",
    "            embeddings[catalyst_id],\n",
    "            embeddings[imine_id],\n",
    "            embeddings[thiol_id],\n",
    "            embeddings[product_id]\n",
    "        ])\n",
    "        \n",
    "        X_data.append(combined_embedding)\n",
    "        Y_data.append(row['selectivity_ddGact_kcal'])\n",
    "        valid_reaction_handles.append(reaction_handle)\n",
    "    else:\n",
    "        missing_ids = [id for id in [catalyst_id, imine_id, thiol_id, product_id] if id not in embeddings]\n",
    "        print(f\"Missing embedding for reaction: {reaction_handle} - Missing IDs: {missing_ids}\")\n",
    "\n",
    "# Convert to DataFrame\n",
    "X_df = pd.DataFrame(X_data, index=valid_reaction_handles)\n",
    "Y_series = pd.Series(Y_data, index=valid_reaction_handles)\n",
    "\n",
    "print(f\"Created dataset with {len(X_df)} samples and {X_df.shape[1]} features\")"
   ]
  },
  {
   "cell_type": "code",
   "execution_count": 5,
   "metadata": {},
   "outputs": [],
   "source": [
    "# Helper function for plotting\n",
    "def multiplot_and_print(estimator, X_train, Y_train, comb_partitions, title, verbose=1, file_dpi=800):\n",
    "    predicted_train = estimator.predict(X_train)\n",
    "    r2_train = r2_score(Y_train, predicted_train)\n",
    "    mae_train = mean_absolute_error(Y_train, predicted_train)\n",
    "\n",
    "    if verbose:\n",
    "        print(title)\n",
    "        print(f\"Train R^2: {r2_train:0.5f}, train MAE: {mae_train:0.5f}\")\n",
    "\n",
    "    fig, ax = plt.subplots()\n",
    "\n",
    "    ax.scatter(\n",
    "        Y_train,\n",
    "        predicted_train,\n",
    "        color=\"gray\",\n",
    "        label=f\"Train (r2= {r2_train:0.3f}, MAE={mae_train:0.3f})\"\n",
    "    )\n",
    "\n",
    "    for part_name, part_data in comb_partitions.items():\n",
    "        predicted_test = estimator.predict(part_data[0])\n",
    "        r2_test = r2_score(part_data[1], predicted_test)\n",
    "        mae_test = mean_absolute_error(part_data[1], predicted_test)\n",
    "\n",
    "        if verbose:\n",
    "            print(f\"Test R^2: {r2_test:0.5f}, test MAE: {mae_test:0.5f}\")\n",
    "\n",
    "        ax.scatter(\n",
    "            part_data[1],\n",
    "            predicted_test,\n",
    "            color=part_data[2],\n",
    "            label=f\"{part_name} (r2= {r2_test:0.3f}, MAE={mae_test:0.3f})\"\n",
    "        )\n",
    "\n",
    "    ax.set_title(title)\n",
    "    ax.set_xlabel(\"Observed $\\Delta \\Delta G^\\u2021 [\\mathrm{kcal\\;mol^{-1}}]$\")\n",
    "    ax.set_ylabel(\"Predicted $\\Delta \\Delta G^\\u2021 [\\mathrm{kcal\\;mol^{-1}}]$\")\n",
    "    ax.set_ylim(-3, 3)\n",
    "    ax.set_xlim(-3, 3)\n",
    "\n",
    "    plt.legend()\n",
    "    plt.tight_layout()\n",
    "    plt.savefig(title + \".png\", dpi=file_dpi)\n",
    "    plt.close()"
   ]
  },
  {
   "cell_type": "code",
   "execution_count": 7,
   "metadata": {},
   "outputs": [
    {
     "name": "stdout",
     "output_type": "stream",
     "text": [
      "X_train shape: (368, 768)\n",
      "Y_train shape: (368, 1)\n",
      "X_sub_test shape: (207, 768)\n",
      "Y_sub_test shape: (207, 1)\n",
      "X_cat_test shape: (304, 768)\n",
      "Y_cat_test shape: (304, 1)\n",
      "X_subcat_test shape: (171, 768)\n",
      "Y_subcat_test shape: (171, 1)\n"
     ]
    }
   ],
   "source": [
    "# Prepare train and test data\n",
    "valid_train_handles = [handle for handle in train_handles if handle in X_df.index]\n",
    "X_train = X_df.loc[valid_train_handles]\n",
    "Y_train = Y_df.loc[Y_df['reaction_handle'].isin(valid_train_handles), [\"selectivity_ddGact_kcal\"]]\n",
    "print(\"X_train shape:\", X_train.shape)\n",
    "print(\"Y_train shape:\", Y_train.shape)\n",
    "\n",
    "comb_partitions = {}\n",
    "\n",
    "valid_unseen_subs_handles = [handle for handle in unseen_subs_handles if handle in X_df.index]\n",
    "X_sub_test = X_df.loc[valid_unseen_subs_handles]\n",
    "Y_sub_test = Y_df.loc[Y_df['reaction_handle'].isin(valid_unseen_subs_handles), [\"selectivity_ddGact_kcal\"]]\n",
    "comb_partitions[\"Unseen substrates\"] = (X_sub_test, Y_sub_test, \"green\")\n",
    "print(\"X_sub_test shape:\", X_sub_test.shape)\n",
    "print(\"Y_sub_test shape:\", Y_sub_test.shape)\n",
    "\n",
    "valid_unseen_cat_handles = [handle for handle in unseen_cat_handles if handle in X_df.index]\n",
    "X_cat_test = X_df.loc[valid_unseen_cat_handles]\n",
    "Y_cat_test = Y_df.loc[Y_df['reaction_handle'].isin(valid_unseen_cat_handles), [\"selectivity_ddGact_kcal\"]]\n",
    "comb_partitions[\"Unseen catalysts\"] = (X_cat_test, Y_cat_test, \"purple\")\n",
    "print(\"X_cat_test shape:\", X_cat_test.shape)\n",
    "print(\"Y_cat_test shape:\", Y_cat_test.shape)\n",
    "\n",
    "valid_unseen_cat_and_subs_handles = [handle for handle in unseen_cat_and_subs_handles if handle in X_df.index]\n",
    "X_subcat_test = X_df.loc[valid_unseen_cat_and_subs_handles]\n",
    "Y_subcat_test = Y_df.loc[Y_df['reaction_handle'].isin(valid_unseen_cat_and_subs_handles), [\"selectivity_ddGact_kcal\"]]\n",
    "comb_partitions[\"Unseen subs and cats\"] = (X_subcat_test, Y_subcat_test, \"blue\")\n",
    "print(\"X_subcat_test shape:\", X_subcat_test.shape)\n",
    "print(\"Y_subcat_test shape:\", Y_subcat_test.shape)\n",
    "\n",
    "f_select_model = RandomForestRegressor(n_estimators=500, n_jobs=64, random_state=1234)\n",
    "\n",
    "base_pipeline = Pipeline(steps=[\n",
    "    ('variance', VarianceThreshold()),\n",
    "    ('scaler', MinMaxScaler()),\n",
    "    # ('feature_selection', SelectFromModel(f_select_model, max_features = 30)),\n",
    "    ('feature_selection', SelectPercentile(mutual_info_regression, percentile=25)),\n",
    "])"
   ]
  },
  {
   "cell_type": "code",
   "execution_count": 8,
   "metadata": {},
   "outputs": [],
   "source": [
    "# Define models\n",
    "models = {\n",
    "    \"GBR\": GradientBoostingRegressor(n_estimators=500, ccp_alpha=1e-3),\n",
    "    \"SVR\": SVR(kernel='poly', degree=3, epsilon=0.05),\n",
    "    \"RF\": RandomForestRegressor(n_estimators=500, n_jobs=-1, random_state=7),\n",
    "    \"LL\": LassoLarsCV(max_iter=5000, cv=5, n_jobs=-1),\n",
    "    \"XGB\": XGBRegressor()\n",
    "}\n",
    "\n",
    "# XGBoost parameter grid\n",
    "xgb_param_grid = {\n",
    "    'model__learning_rate': np.logspace(-4, 0, 20),\n",
    "    'model__subsample': np.linspace(0.5, 1.0, 10),\n",
    "    'model__colsample_bytree': np.linspace(0.1, 1.0, 10),\n",
    "    'model__max_depth': [3, 4, 5, 6, 7, 8, 9, 10, None],\n",
    "    'model__min_child_weight': np.linspace(1, 10, 10),\n",
    "    'model__gamma': np.linspace(0, 1, 10),\n",
    "    'model__n_estimators': [100, 200, 300, 400, 500, 600, 700, 800, 900, 1000]\n",
    "}"
   ]
  },
  {
   "cell_type": "code",
   "execution_count": 9,
   "metadata": {},
   "outputs": [
    {
     "name": "stdout",
     "output_type": "stream",
     "text": [
      "\n",
      "Training GBR...\n"
     ]
    },
    {
     "name": "stderr",
     "output_type": "stream",
     "text": [
      "/Users/utkarsh/miniconda3/lib/python3.11/site-packages/sklearn/utils/validation.py:1310: DataConversionWarning: A column-vector y was passed when a 1d array was expected. Please change the shape of y to (n_samples, ), for example using ravel().\n",
      "  y = column_or_1d(y, warn=True)\n",
      "/Users/utkarsh/miniconda3/lib/python3.11/site-packages/sklearn/ensemble/_gb.py:668: DataConversionWarning: A column-vector y was passed when a 1d array was expected. Please change the shape of y to (n_samples, ), for example using ravel().\n",
      "  y = column_or_1d(y, warn=True)  # TODO: Is this still required?\n"
     ]
    },
    {
     "name": "stdout",
     "output_type": "stream",
     "text": [
      "GBR: Fitting took 2.509s.\n"
     ]
    },
    {
     "name": "stderr",
     "output_type": "stream",
     "text": [
      "/Users/utkarsh/miniconda3/lib/python3.11/site-packages/sklearn/utils/validation.py:1310: DataConversionWarning: A column-vector y was passed when a 1d array was expected. Please change the shape of y to (n_samples, ), for example using ravel().\n",
      "  y = column_or_1d(y, warn=True)\n",
      "/Users/utkarsh/miniconda3/lib/python3.11/site-packages/sklearn/ensemble/_gb.py:668: DataConversionWarning: A column-vector y was passed when a 1d array was expected. Please change the shape of y to (n_samples, ), for example using ravel().\n",
      "  y = column_or_1d(y, warn=True)  # TODO: Is this still required?\n",
      "/Users/utkarsh/miniconda3/lib/python3.11/site-packages/sklearn/utils/validation.py:1310: DataConversionWarning: A column-vector y was passed when a 1d array was expected. Please change the shape of y to (n_samples, ), for example using ravel().\n",
      "  y = column_or_1d(y, warn=True)\n",
      "/Users/utkarsh/miniconda3/lib/python3.11/site-packages/sklearn/ensemble/_gb.py:668: DataConversionWarning: A column-vector y was passed when a 1d array was expected. Please change the shape of y to (n_samples, ), for example using ravel().\n",
      "  y = column_or_1d(y, warn=True)  # TODO: Is this still required?\n",
      "/Users/utkarsh/miniconda3/lib/python3.11/site-packages/sklearn/utils/validation.py:1310: DataConversionWarning: A column-vector y was passed when a 1d array was expected. Please change the shape of y to (n_samples, ), for example using ravel().\n",
      "  y = column_or_1d(y, warn=True)\n",
      "/Users/utkarsh/miniconda3/lib/python3.11/site-packages/sklearn/ensemble/_gb.py:668: DataConversionWarning: A column-vector y was passed when a 1d array was expected. Please change the shape of y to (n_samples, ), for example using ravel().\n",
      "  y = column_or_1d(y, warn=True)  # TODO: Is this still required?\n",
      "/Users/utkarsh/miniconda3/lib/python3.11/site-packages/sklearn/utils/validation.py:1310: DataConversionWarning: A column-vector y was passed when a 1d array was expected. Please change the shape of y to (n_samples, ), for example using ravel().\n",
      "  y = column_or_1d(y, warn=True)\n",
      "/Users/utkarsh/miniconda3/lib/python3.11/site-packages/sklearn/ensemble/_gb.py:668: DataConversionWarning: A column-vector y was passed when a 1d array was expected. Please change the shape of y to (n_samples, ), for example using ravel().\n",
      "  y = column_or_1d(y, warn=True)  # TODO: Is this still required?\n",
      "/Users/utkarsh/miniconda3/lib/python3.11/site-packages/sklearn/utils/validation.py:1310: DataConversionWarning: A column-vector y was passed when a 1d array was expected. Please change the shape of y to (n_samples, ), for example using ravel().\n",
      "  y = column_or_1d(y, warn=True)\n",
      "/Users/utkarsh/miniconda3/lib/python3.11/site-packages/sklearn/ensemble/_gb.py:668: DataConversionWarning: A column-vector y was passed when a 1d array was expected. Please change the shape of y to (n_samples, ), for example using ravel().\n",
      "  y = column_or_1d(y, warn=True)  # TODO: Is this still required?\n"
     ]
    },
    {
     "name": "stdout",
     "output_type": "stream",
     "text": [
      "{'fit_time': array([1.60480809, 1.46556592, 1.53778934, 1.43741298, 1.64644217]),\n",
      " 'score_time': array([0.00541997, 0.00436306, 0.00571799, 0.00357604, 0.00379109]),\n",
      " 'test_neg_mean_absolute_error': array([-0.48911036, -0.57928951, -0.53099207, -0.48269632, -0.36688606]),\n",
      " 'test_r2': array([-0.11779532, -1.17054749,  0.26641691, -0.12168491, -0.06020306]),\n",
      " 'train_neg_mean_absolute_error': array([-0.34556285, -0.37381301, -0.32850108, -0.32639431, -0.33683587]),\n",
      " 'train_r2': array([0.64779298, 0.59758756, 0.60192412, 0.64836692, 0.68800321])}\n",
      "GBR Q_2: -0.24076\n",
      "BPA_Combinatorial_GBR\n",
      "Train R^2: 0.64349, train MAE: 0.34212\n",
      "Test R^2: 0.69763, test MAE: 0.31181\n",
      "Test R^2: -0.50550, test MAE: 0.65968\n",
      "Test R^2: -0.47600, test MAE: 0.66560\n",
      "\n",
      "Training SVR...\n"
     ]
    },
    {
     "name": "stderr",
     "output_type": "stream",
     "text": [
      "/Users/utkarsh/miniconda3/lib/python3.11/site-packages/sklearn/utils/validation.py:1310: DataConversionWarning: A column-vector y was passed when a 1d array was expected. Please change the shape of y to (n_samples, ), for example using ravel().\n",
      "  y = column_or_1d(y, warn=True)\n",
      "/Users/utkarsh/miniconda3/lib/python3.11/site-packages/sklearn/utils/validation.py:1310: DataConversionWarning: A column-vector y was passed when a 1d array was expected. Please change the shape of y to (n_samples, ), for example using ravel().\n",
      "  y = column_or_1d(y, warn=True)\n",
      "/Users/utkarsh/miniconda3/lib/python3.11/site-packages/sklearn/utils/validation.py:1310: DataConversionWarning: A column-vector y was passed when a 1d array was expected. Please change the shape of y to (n_samples, ), for example using ravel().\n",
      "  y = column_or_1d(y, warn=True)\n"
     ]
    },
    {
     "name": "stdout",
     "output_type": "stream",
     "text": [
      "SVR: Fitting took 0.675s.\n"
     ]
    },
    {
     "name": "stderr",
     "output_type": "stream",
     "text": [
      "/Users/utkarsh/miniconda3/lib/python3.11/site-packages/sklearn/utils/validation.py:1310: DataConversionWarning: A column-vector y was passed when a 1d array was expected. Please change the shape of y to (n_samples, ), for example using ravel().\n",
      "  y = column_or_1d(y, warn=True)\n",
      "/Users/utkarsh/miniconda3/lib/python3.11/site-packages/sklearn/utils/validation.py:1310: DataConversionWarning: A column-vector y was passed when a 1d array was expected. Please change the shape of y to (n_samples, ), for example using ravel().\n",
      "  y = column_or_1d(y, warn=True)\n",
      "/Users/utkarsh/miniconda3/lib/python3.11/site-packages/sklearn/utils/validation.py:1310: DataConversionWarning: A column-vector y was passed when a 1d array was expected. Please change the shape of y to (n_samples, ), for example using ravel().\n",
      "  y = column_or_1d(y, warn=True)\n",
      "/Users/utkarsh/miniconda3/lib/python3.11/site-packages/sklearn/utils/validation.py:1310: DataConversionWarning: A column-vector y was passed when a 1d array was expected. Please change the shape of y to (n_samples, ), for example using ravel().\n",
      "  y = column_or_1d(y, warn=True)\n",
      "/Users/utkarsh/miniconda3/lib/python3.11/site-packages/sklearn/utils/validation.py:1310: DataConversionWarning: A column-vector y was passed when a 1d array was expected. Please change the shape of y to (n_samples, ), for example using ravel().\n",
      "  y = column_or_1d(y, warn=True)\n",
      "/Users/utkarsh/miniconda3/lib/python3.11/site-packages/sklearn/utils/validation.py:1310: DataConversionWarning: A column-vector y was passed when a 1d array was expected. Please change the shape of y to (n_samples, ), for example using ravel().\n",
      "  y = column_or_1d(y, warn=True)\n",
      "/Users/utkarsh/miniconda3/lib/python3.11/site-packages/sklearn/utils/validation.py:1310: DataConversionWarning: A column-vector y was passed when a 1d array was expected. Please change the shape of y to (n_samples, ), for example using ravel().\n",
      "  y = column_or_1d(y, warn=True)\n",
      "/Users/utkarsh/miniconda3/lib/python3.11/site-packages/sklearn/utils/validation.py:1310: DataConversionWarning: A column-vector y was passed when a 1d array was expected. Please change the shape of y to (n_samples, ), for example using ravel().\n",
      "  y = column_or_1d(y, warn=True)\n",
      "/Users/utkarsh/miniconda3/lib/python3.11/site-packages/sklearn/utils/validation.py:1310: DataConversionWarning: A column-vector y was passed when a 1d array was expected. Please change the shape of y to (n_samples, ), for example using ravel().\n",
      "  y = column_or_1d(y, warn=True)\n"
     ]
    },
    {
     "name": "stdout",
     "output_type": "stream",
     "text": [
      "{'fit_time': array([0.59028006, 0.58695102, 0.59020805, 0.58840656, 0.58717394]),\n",
      " 'score_time': array([0.00448704, 0.00386786, 0.00475693, 0.00398636, 0.00385213]),\n",
      " 'test_neg_mean_absolute_error': array([-0.46927876, -0.52417942, -0.59829291, -0.658965  , -0.38143669]),\n",
      " 'test_r2': array([-0.02960856, -0.77912023, -0.01447746, -1.08299862, -0.26897743]),\n",
      " 'train_neg_mean_absolute_error': array([-0.34085145, -0.36982661, -0.32480749, -0.3224177 , -0.33132259]),\n",
      " 'train_r2': array([0.56330931, 0.51145443, 0.54959292, 0.56382437, 0.61558212])}\n",
      "SVR Q_2: -0.43504\n",
      "BPA_Combinatorial_SVR\n",
      "Train R^2: 0.56734, train MAE: 0.33809\n",
      "Test R^2: 0.56545, test MAE: 0.36100\n",
      "Test R^2: -0.12310, test MAE: 0.56659\n",
      "Test R^2: -0.32787, test MAE: 0.66446\n",
      "\n",
      "Training RF...\n"
     ]
    },
    {
     "name": "stderr",
     "output_type": "stream",
     "text": [
      "/Users/utkarsh/miniconda3/lib/python3.11/site-packages/sklearn/utils/validation.py:1310: DataConversionWarning: A column-vector y was passed when a 1d array was expected. Please change the shape of y to (n_samples, ), for example using ravel().\n",
      "  y = column_or_1d(y, warn=True)\n",
      "/Users/utkarsh/miniconda3/lib/python3.11/site-packages/sklearn/base.py:1473: DataConversionWarning: A column-vector y was passed when a 1d array was expected. Please change the shape of y to (n_samples,), for example using ravel().\n",
      "  return fit_method(estimator, *args, **kwargs)\n"
     ]
    },
    {
     "name": "stdout",
     "output_type": "stream",
     "text": [
      "RF: Fitting took 1.128s.\n"
     ]
    },
    {
     "name": "stderr",
     "output_type": "stream",
     "text": [
      "/Users/utkarsh/miniconda3/lib/python3.11/site-packages/sklearn/utils/validation.py:1310: DataConversionWarning: A column-vector y was passed when a 1d array was expected. Please change the shape of y to (n_samples, ), for example using ravel().\n",
      "  y = column_or_1d(y, warn=True)\n",
      "/Users/utkarsh/miniconda3/lib/python3.11/site-packages/sklearn/base.py:1473: DataConversionWarning: A column-vector y was passed when a 1d array was expected. Please change the shape of y to (n_samples,), for example using ravel().\n",
      "  return fit_method(estimator, *args, **kwargs)\n",
      "/Users/utkarsh/miniconda3/lib/python3.11/site-packages/sklearn/utils/validation.py:1310: DataConversionWarning: A column-vector y was passed when a 1d array was expected. Please change the shape of y to (n_samples, ), for example using ravel().\n",
      "  y = column_or_1d(y, warn=True)\n",
      "/Users/utkarsh/miniconda3/lib/python3.11/site-packages/sklearn/base.py:1473: DataConversionWarning: A column-vector y was passed when a 1d array was expected. Please change the shape of y to (n_samples,), for example using ravel().\n",
      "  return fit_method(estimator, *args, **kwargs)\n",
      "/Users/utkarsh/miniconda3/lib/python3.11/site-packages/sklearn/utils/validation.py:1310: DataConversionWarning: A column-vector y was passed when a 1d array was expected. Please change the shape of y to (n_samples, ), for example using ravel().\n",
      "  y = column_or_1d(y, warn=True)\n",
      "/Users/utkarsh/miniconda3/lib/python3.11/site-packages/sklearn/base.py:1473: DataConversionWarning: A column-vector y was passed when a 1d array was expected. Please change the shape of y to (n_samples,), for example using ravel().\n",
      "  return fit_method(estimator, *args, **kwargs)\n",
      "/Users/utkarsh/miniconda3/lib/python3.11/site-packages/sklearn/utils/validation.py:1310: DataConversionWarning: A column-vector y was passed when a 1d array was expected. Please change the shape of y to (n_samples, ), for example using ravel().\n",
      "  y = column_or_1d(y, warn=True)\n",
      "/Users/utkarsh/miniconda3/lib/python3.11/site-packages/sklearn/base.py:1473: DataConversionWarning: A column-vector y was passed when a 1d array was expected. Please change the shape of y to (n_samples,), for example using ravel().\n",
      "  return fit_method(estimator, *args, **kwargs)\n",
      "/Users/utkarsh/miniconda3/lib/python3.11/site-packages/sklearn/utils/validation.py:1310: DataConversionWarning: A column-vector y was passed when a 1d array was expected. Please change the shape of y to (n_samples, ), for example using ravel().\n",
      "  y = column_or_1d(y, warn=True)\n",
      "/Users/utkarsh/miniconda3/lib/python3.11/site-packages/sklearn/base.py:1473: DataConversionWarning: A column-vector y was passed when a 1d array was expected. Please change the shape of y to (n_samples,), for example using ravel().\n",
      "  return fit_method(estimator, *args, **kwargs)\n"
     ]
    },
    {
     "name": "stdout",
     "output_type": "stream",
     "text": [
      "{'fit_time': array([0.96312189, 0.99884486, 0.98044991, 0.97379994, 0.9779551 ]),\n",
      " 'score_time': array([0.03006506, 0.02983928, 0.03192306, 0.03065205, 0.02744818]),\n",
      " 'test_neg_mean_absolute_error': array([-0.51525397, -0.58610121, -0.55757102, -0.52389869, -0.36139845]),\n",
      " 'test_r2': array([-0.22581374, -1.2505895 ,  0.19548978, -0.3717181 ,  0.06607441]),\n",
      " 'train_neg_mean_absolute_error': array([-0.34069842, -0.36993406, -0.32487202, -0.32230933, -0.33221366]),\n",
      " 'train_r2': array([0.65271655, 0.60308284, 0.60915832, 0.65397022, 0.69285508])}\n",
      "RF Q_2: -0.31731\n",
      "BPA_Combinatorial_RF\n",
      "Train R^2: 0.64932, train MAE: 0.33800\n",
      "Test R^2: 0.71545, test MAE: 0.30280\n",
      "Test R^2: -0.37540, test MAE: 0.64795\n",
      "Test R^2: -0.35439, test MAE: 0.65942\n",
      "\n",
      "Training LL...\n"
     ]
    },
    {
     "name": "stderr",
     "output_type": "stream",
     "text": [
      "/Users/utkarsh/miniconda3/lib/python3.11/site-packages/sklearn/utils/validation.py:1310: DataConversionWarning: A column-vector y was passed when a 1d array was expected. Please change the shape of y to (n_samples, ), for example using ravel().\n",
      "  y = column_or_1d(y, warn=True)\n",
      "/Users/utkarsh/miniconda3/lib/python3.11/site-packages/sklearn/utils/validation.py:1310: DataConversionWarning: A column-vector y was passed when a 1d array was expected. Please change the shape of y to (n_samples, ), for example using ravel().\n",
      "  y = column_or_1d(y, warn=True)\n"
     ]
    },
    {
     "name": "stdout",
     "output_type": "stream",
     "text": [
      "LL: Fitting took 2.872s.\n"
     ]
    },
    {
     "name": "stderr",
     "output_type": "stream",
     "text": [
      "/Users/utkarsh/miniconda3/lib/python3.11/site-packages/sklearn/utils/validation.py:1310: DataConversionWarning: A column-vector y was passed when a 1d array was expected. Please change the shape of y to (n_samples, ), for example using ravel().\n",
      "  y = column_or_1d(y, warn=True)\n",
      "/Users/utkarsh/miniconda3/lib/python3.11/site-packages/sklearn/utils/validation.py:1310: DataConversionWarning: A column-vector y was passed when a 1d array was expected. Please change the shape of y to (n_samples, ), for example using ravel().\n",
      "  y = column_or_1d(y, warn=True)\n",
      "/Users/utkarsh/miniconda3/lib/python3.11/site-packages/sklearn/utils/validation.py:1310: DataConversionWarning: A column-vector y was passed when a 1d array was expected. Please change the shape of y to (n_samples, ), for example using ravel().\n",
      "  y = column_or_1d(y, warn=True)\n",
      "/Users/utkarsh/miniconda3/lib/python3.11/site-packages/sklearn/utils/validation.py:1310: DataConversionWarning: A column-vector y was passed when a 1d array was expected. Please change the shape of y to (n_samples, ), for example using ravel().\n",
      "  y = column_or_1d(y, warn=True)\n",
      "/Users/utkarsh/miniconda3/lib/python3.11/site-packages/sklearn/utils/validation.py:1310: DataConversionWarning: A column-vector y was passed when a 1d array was expected. Please change the shape of y to (n_samples, ), for example using ravel().\n",
      "  y = column_or_1d(y, warn=True)\n",
      "/Users/utkarsh/miniconda3/lib/python3.11/site-packages/sklearn/utils/validation.py:1310: DataConversionWarning: A column-vector y was passed when a 1d array was expected. Please change the shape of y to (n_samples, ), for example using ravel().\n",
      "  y = column_or_1d(y, warn=True)\n",
      "/Users/utkarsh/miniconda3/lib/python3.11/site-packages/sklearn/utils/validation.py:1310: DataConversionWarning: A column-vector y was passed when a 1d array was expected. Please change the shape of y to (n_samples, ), for example using ravel().\n",
      "  y = column_or_1d(y, warn=True)\n",
      "/Users/utkarsh/miniconda3/lib/python3.11/site-packages/sklearn/utils/validation.py:1310: DataConversionWarning: A column-vector y was passed when a 1d array was expected. Please change the shape of y to (n_samples, ), for example using ravel().\n",
      "  y = column_or_1d(y, warn=True)\n",
      "/Users/utkarsh/miniconda3/lib/python3.11/site-packages/sklearn/utils/validation.py:1310: DataConversionWarning: A column-vector y was passed when a 1d array was expected. Please change the shape of y to (n_samples, ), for example using ravel().\n",
      "  y = column_or_1d(y, warn=True)\n",
      "/Users/utkarsh/miniconda3/lib/python3.11/site-packages/sklearn/utils/validation.py:1310: DataConversionWarning: A column-vector y was passed when a 1d array was expected. Please change the shape of y to (n_samples, ), for example using ravel().\n",
      "  y = column_or_1d(y, warn=True)\n"
     ]
    },
    {
     "name": "stdout",
     "output_type": "stream",
     "text": [
      "{'fit_time': array([1.02720308, 0.73363519, 0.95907402, 0.74059081, 0.98883986]),\n",
      " 'score_time': array([0.00824904, 0.00567198, 0.00369   , 0.01355433, 0.00525498]),\n",
      " 'test_neg_mean_absolute_error': array([-0.77561094, -0.74175659, -0.73385369, -0.6354781 , -0.36561611]),\n",
      " 'test_r2': array([-1.55077393, -2.38521674, -0.0859622 , -0.94548584, -0.01997947]),\n",
      " 'train_neg_mean_absolute_error': array([-0.34064838, -0.38436008, -0.352966  , -0.51164494, -0.58181791]),\n",
      " 'train_r2': array([0.65278769, 0.57375571, 0.53714494, 0.        , 0.        ])}\n",
      "LL Q_2: -0.99748\n",
      "BPA_Combinatorial_LL\n",
      "Train R^2: 0.00000, train MAE: 0.54042\n",
      "Test R^2: -0.03286, test MAE: 0.58499\n",
      "Test R^2: -0.04266, test MAE: 0.56389\n",
      "Test R^2: -0.19093, test MAE: 0.63337\n",
      "\n",
      "Training XGB...\n",
      "Fitting 5 folds for each of 100 candidates, totalling 500 fits\n"
     ]
    },
    {
     "name": "stderr",
     "output_type": "stream",
     "text": [
      "/Users/utkarsh/miniconda3/lib/python3.11/site-packages/sklearn/utils/validation.py:1310: DataConversionWarning: A column-vector y was passed when a 1d array was expected. Please change the shape of y to (n_samples, ), for example using ravel().\n",
      "  y = column_or_1d(y, warn=True)\n",
      "/Users/utkarsh/miniconda3/lib/python3.11/site-packages/sklearn/utils/validation.py:1310: DataConversionWarning: A column-vector y was passed when a 1d array was expected. Please change the shape of y to (n_samples, ), for example using ravel().\n",
      "  y = column_or_1d(y, warn=True)\n",
      "/Users/utkarsh/miniconda3/lib/python3.11/site-packages/sklearn/utils/validation.py:1310: DataConversionWarning: A column-vector y was passed when a 1d array was expected. Please change the shape of y to (n_samples, ), for example using ravel().\n",
      "  y = column_or_1d(y, warn=True)\n",
      "/Users/utkarsh/miniconda3/lib/python3.11/site-packages/sklearn/utils/validation.py:1310: DataConversionWarning: A column-vector y was passed when a 1d array was expected. Please change the shape of y to (n_samples, ), for example using ravel().\n",
      "  y = column_or_1d(y, warn=True)\n",
      "/Users/utkarsh/miniconda3/lib/python3.11/site-packages/sklearn/utils/validation.py:1310: DataConversionWarning: A column-vector y was passed when a 1d array was expected. Please change the shape of y to (n_samples, ), for example using ravel().\n",
      "  y = column_or_1d(y, warn=True)\n",
      "/Users/utkarsh/miniconda3/lib/python3.11/site-packages/sklearn/utils/validation.py:1310: DataConversionWarning: A column-vector y was passed when a 1d array was expected. Please change the shape of y to (n_samples, ), for example using ravel().\n",
      "  y = column_or_1d(y, warn=True)\n",
      "/Users/utkarsh/miniconda3/lib/python3.11/site-packages/sklearn/utils/validation.py:1310: DataConversionWarning: A column-vector y was passed when a 1d array was expected. Please change the shape of y to (n_samples, ), for example using ravel().\n",
      "  y = column_or_1d(y, warn=True)\n",
      "/Users/utkarsh/miniconda3/lib/python3.11/site-packages/sklearn/utils/validation.py:1310: DataConversionWarning: A column-vector y was passed when a 1d array was expected. Please change the shape of y to (n_samples, ), for example using ravel().\n",
      "  y = column_or_1d(y, warn=True)\n",
      "/Users/utkarsh/miniconda3/lib/python3.11/site-packages/sklearn/utils/validation.py:1310: DataConversionWarning: A column-vector y was passed when a 1d array was expected. Please change the shape of y to (n_samples, ), for example using ravel().\n",
      "  y = column_or_1d(y, warn=True)\n",
      "/Users/utkarsh/miniconda3/lib/python3.11/site-packages/sklearn/utils/validation.py:1310: DataConversionWarning: A column-vector y was passed when a 1d array was expected. Please change the shape of y to (n_samples, ), for example using ravel().\n",
      "  y = column_or_1d(y, warn=True)\n",
      "/Users/utkarsh/miniconda3/lib/python3.11/site-packages/sklearn/utils/validation.py:1310: DataConversionWarning: A column-vector y was passed when a 1d array was expected. Please change the shape of y to (n_samples, ), for example using ravel().\n",
      "  y = column_or_1d(y, warn=True)\n",
      "/Users/utkarsh/miniconda3/lib/python3.11/site-packages/sklearn/utils/validation.py:1310: DataConversionWarning: A column-vector y was passed when a 1d array was expected. Please change the shape of y to (n_samples, ), for example using ravel().\n",
      "  y = column_or_1d(y, warn=True)\n",
      "/Users/utkarsh/miniconda3/lib/python3.11/site-packages/sklearn/utils/validation.py:1310: DataConversionWarning: A column-vector y was passed when a 1d array was expected. Please change the shape of y to (n_samples, ), for example using ravel().\n",
      "  y = column_or_1d(y, warn=True)\n",
      "/Users/utkarsh/miniconda3/lib/python3.11/site-packages/sklearn/utils/validation.py:1310: DataConversionWarning: A column-vector y was passed when a 1d array was expected. Please change the shape of y to (n_samples, ), for example using ravel().\n",
      "  y = column_or_1d(y, warn=True)\n",
      "/Users/utkarsh/miniconda3/lib/python3.11/site-packages/sklearn/utils/validation.py:1310: DataConversionWarning: A column-vector y was passed when a 1d array was expected. Please change the shape of y to (n_samples, ), for example using ravel().\n",
      "  y = column_or_1d(y, warn=True)\n",
      "/Users/utkarsh/miniconda3/lib/python3.11/site-packages/sklearn/utils/validation.py:1310: DataConversionWarning: A column-vector y was passed when a 1d array was expected. Please change the shape of y to (n_samples, ), for example using ravel().\n",
      "  y = column_or_1d(y, warn=True)\n",
      "/Users/utkarsh/miniconda3/lib/python3.11/site-packages/sklearn/utils/validation.py:1310: DataConversionWarning: A column-vector y was passed when a 1d array was expected. Please change the shape of y to (n_samples, ), for example using ravel().\n",
      "  y = column_or_1d(y, warn=True)\n",
      "/Users/utkarsh/miniconda3/lib/python3.11/site-packages/sklearn/utils/validation.py:1310: DataConversionWarning: A column-vector y was passed when a 1d array was expected. Please change the shape of y to (n_samples, ), for example using ravel().\n",
      "  y = column_or_1d(y, warn=True)\n",
      "/Users/utkarsh/miniconda3/lib/python3.11/site-packages/sklearn/utils/validation.py:1310: DataConversionWarning: A column-vector y was passed when a 1d array was expected. Please change the shape of y to (n_samples, ), for example using ravel().\n",
      "  y = column_or_1d(y, warn=True)\n",
      "/Users/utkarsh/miniconda3/lib/python3.11/site-packages/sklearn/utils/validation.py:1310: DataConversionWarning: A column-vector y was passed when a 1d array was expected. Please change the shape of y to (n_samples, ), for example using ravel().\n",
      "  y = column_or_1d(y, warn=True)\n",
      "/Users/utkarsh/miniconda3/lib/python3.11/site-packages/sklearn/utils/validation.py:1310: DataConversionWarning: A column-vector y was passed when a 1d array was expected. Please change the shape of y to (n_samples, ), for example using ravel().\n",
      "  y = column_or_1d(y, warn=True)\n",
      "/Users/utkarsh/miniconda3/lib/python3.11/site-packages/sklearn/utils/validation.py:1310: DataConversionWarning: A column-vector y was passed when a 1d array was expected. Please change the shape of y to (n_samples, ), for example using ravel().\n",
      "  y = column_or_1d(y, warn=True)\n",
      "/Users/utkarsh/miniconda3/lib/python3.11/site-packages/sklearn/utils/validation.py:1310: DataConversionWarning: A column-vector y was passed when a 1d array was expected. Please change the shape of y to (n_samples, ), for example using ravel().\n",
      "  y = column_or_1d(y, warn=True)\n",
      "/Users/utkarsh/miniconda3/lib/python3.11/site-packages/sklearn/utils/validation.py:1310: DataConversionWarning: A column-vector y was passed when a 1d array was expected. Please change the shape of y to (n_samples, ), for example using ravel().\n",
      "  y = column_or_1d(y, warn=True)\n",
      "/Users/utkarsh/miniconda3/lib/python3.11/site-packages/sklearn/utils/validation.py:1310: DataConversionWarning: A column-vector y was passed when a 1d array was expected. Please change the shape of y to (n_samples, ), for example using ravel().\n",
      "  y = column_or_1d(y, warn=True)\n"
     ]
    },
    {
     "name": "stdout",
     "output_type": "stream",
     "text": [
      "[CV 3/5] END model__colsample_bytree=0.8, model__gamma=0.4444444444444444, model__learning_rate=0.615848211066026, model__max_depth=None, model__min_child_weight=6.0, model__n_estimators=1000, model__subsample=1.0; neg_mean_absolute_error: (test=-0.640) r2: (test=-0.035) total time=  10.3s\n",
      "[CV 2/5] END model__colsample_bytree=0.8, model__gamma=0.4444444444444444, model__learning_rate=0.615848211066026, model__max_depth=None, model__min_child_weight=6.0, model__n_estimators=1000, model__subsample=1.0; neg_mean_absolute_error: (test=-0.607) r2: (test=-1.297) total time=   9.8s\n"
     ]
    },
    {
     "name": "stderr",
     "output_type": "stream",
     "text": [
      "/Users/utkarsh/miniconda3/lib/python3.11/site-packages/sklearn/utils/validation.py:1310: DataConversionWarning: A column-vector y was passed when a 1d array was expected. Please change the shape of y to (n_samples, ), for example using ravel().\n",
      "  y = column_or_1d(y, warn=True)\n",
      "/Users/utkarsh/miniconda3/lib/python3.11/site-packages/sklearn/utils/validation.py:1310: DataConversionWarning: A column-vector y was passed when a 1d array was expected. Please change the shape of y to (n_samples, ), for example using ravel().\n",
      "  y = column_or_1d(y, warn=True)\n"
     ]
    },
    {
     "name": "stdout",
     "output_type": "stream",
     "text": [
      "[CV 5/5] END model__colsample_bytree=1.0, model__gamma=0.8888888888888888, model__learning_rate=0.012742749857031334, model__max_depth=7, model__min_child_weight=3.0, model__n_estimators=1000, model__subsample=1.0; neg_mean_absolute_error: (test=-0.388) r2: (test=-0.157) total time=  12.6s\n"
     ]
    },
    {
     "name": "stderr",
     "output_type": "stream",
     "text": [
      "/Users/utkarsh/miniconda3/lib/python3.11/site-packages/sklearn/utils/validation.py:1310: DataConversionWarning: A column-vector y was passed when a 1d array was expected. Please change the shape of y to (n_samples, ), for example using ravel().\n",
      "  y = column_or_1d(y, warn=True)\n"
     ]
    },
    {
     "name": "stdout",
     "output_type": "stream",
     "text": [
      "[CV 2/5] END model__colsample_bytree=1.0, model__gamma=0.8888888888888888, model__learning_rate=0.012742749857031334, model__max_depth=7, model__min_child_weight=3.0, model__n_estimators=1000, model__subsample=1.0; neg_mean_absolute_error: (test=-0.559) r2: (test=-0.984) total time=  11.3s\n"
     ]
    },
    {
     "name": "stderr",
     "output_type": "stream",
     "text": [
      "/Users/utkarsh/miniconda3/lib/python3.11/site-packages/sklearn/utils/validation.py:1310: DataConversionWarning: A column-vector y was passed when a 1d array was expected. Please change the shape of y to (n_samples, ), for example using ravel().\n",
      "  y = column_or_1d(y, warn=True)\n"
     ]
    },
    {
     "name": "stdout",
     "output_type": "stream",
     "text": [
      "[CV 3/5] END model__colsample_bytree=1.0, model__gamma=0.8888888888888888, model__learning_rate=0.012742749857031334, model__max_depth=7, model__min_child_weight=3.0, model__n_estimators=1000, model__subsample=1.0; neg_mean_absolute_error: (test=-0.643) r2: (test=0.117) total time=  13.0s\n",
      "[CV 1/5] END model__colsample_bytree=1.0, model__gamma=0.8888888888888888, model__learning_rate=0.012742749857031334, model__max_depth=7, model__min_child_weight=3.0, model__n_estimators=1000, model__subsample=1.0; neg_mean_absolute_error: (test=-0.439) r2: (test=0.094) total time=  12.9s\n"
     ]
    },
    {
     "name": "stderr",
     "output_type": "stream",
     "text": [
      "/Users/utkarsh/miniconda3/lib/python3.11/site-packages/sklearn/utils/validation.py:1310: DataConversionWarning: A column-vector y was passed when a 1d array was expected. Please change the shape of y to (n_samples, ), for example using ravel().\n",
      "  y = column_or_1d(y, warn=True)\n",
      "/Users/utkarsh/miniconda3/lib/python3.11/site-packages/sklearn/utils/validation.py:1310: DataConversionWarning: A column-vector y was passed when a 1d array was expected. Please change the shape of y to (n_samples, ), for example using ravel().\n",
      "  y = column_or_1d(y, warn=True)\n"
     ]
    },
    {
     "name": "stdout",
     "output_type": "stream",
     "text": [
      "[CV 1/5] END model__colsample_bytree=0.8, model__gamma=0.4444444444444444, model__learning_rate=0.615848211066026, model__max_depth=None, model__min_child_weight=6.0, model__n_estimators=1000, model__subsample=1.0; neg_mean_absolute_error: (test=-0.506) r2: (test=-0.154) total time=  13.4s\n"
     ]
    },
    {
     "name": "stderr",
     "output_type": "stream",
     "text": [
      "/Users/utkarsh/miniconda3/lib/python3.11/site-packages/sklearn/utils/validation.py:1310: DataConversionWarning: A column-vector y was passed when a 1d array was expected. Please change the shape of y to (n_samples, ), for example using ravel().\n",
      "  y = column_or_1d(y, warn=True)\n"
     ]
    },
    {
     "name": "stdout",
     "output_type": "stream",
     "text": [
      "[CV 4/5] END model__colsample_bytree=1.0, model__gamma=0.8888888888888888, model__learning_rate=0.012742749857031334, model__max_depth=7, model__min_child_weight=3.0, model__n_estimators=1000, model__subsample=1.0; neg_mean_absolute_error: (test=-0.470) r2: (test=0.029) total time=  13.4s\n"
     ]
    },
    {
     "name": "stderr",
     "output_type": "stream",
     "text": [
      "/Users/utkarsh/miniconda3/lib/python3.11/site-packages/sklearn/utils/validation.py:1310: DataConversionWarning: A column-vector y was passed when a 1d array was expected. Please change the shape of y to (n_samples, ), for example using ravel().\n",
      "  y = column_or_1d(y, warn=True)\n",
      "/Users/utkarsh/miniconda3/lib/python3.11/site-packages/sklearn/utils/validation.py:1310: DataConversionWarning: A column-vector y was passed when a 1d array was expected. Please change the shape of y to (n_samples, ), for example using ravel().\n",
      "  y = column_or_1d(y, warn=True)\n",
      "/Users/utkarsh/miniconda3/lib/python3.11/site-packages/sklearn/utils/validation.py:1310: DataConversionWarning: A column-vector y was passed when a 1d array was expected. Please change the shape of y to (n_samples, ), for example using ravel().\n",
      "  y = column_or_1d(y, warn=True)\n",
      "/Users/utkarsh/miniconda3/lib/python3.11/site-packages/sklearn/utils/validation.py:1310: DataConversionWarning: A column-vector y was passed when a 1d array was expected. Please change the shape of y to (n_samples, ), for example using ravel().\n",
      "  y = column_or_1d(y, warn=True)\n",
      "/Users/utkarsh/miniconda3/lib/python3.11/site-packages/sklearn/utils/validation.py:1310: DataConversionWarning: A column-vector y was passed when a 1d array was expected. Please change the shape of y to (n_samples, ), for example using ravel().\n",
      "  y = column_or_1d(y, warn=True)\n",
      "/Users/utkarsh/miniconda3/lib/python3.11/site-packages/sklearn/utils/validation.py:1310: DataConversionWarning: A column-vector y was passed when a 1d array was expected. Please change the shape of y to (n_samples, ), for example using ravel().\n",
      "  y = column_or_1d(y, warn=True)\n",
      "/Users/utkarsh/miniconda3/lib/python3.11/site-packages/sklearn/utils/validation.py:1310: DataConversionWarning: A column-vector y was passed when a 1d array was expected. Please change the shape of y to (n_samples, ), for example using ravel().\n",
      "  y = column_or_1d(y, warn=True)\n",
      "/Users/utkarsh/miniconda3/lib/python3.11/site-packages/sklearn/utils/validation.py:1310: DataConversionWarning: A column-vector y was passed when a 1d array was expected. Please change the shape of y to (n_samples, ), for example using ravel().\n",
      "  y = column_or_1d(y, warn=True)\n",
      "/Users/utkarsh/miniconda3/lib/python3.11/site-packages/sklearn/utils/validation.py:1310: DataConversionWarning: A column-vector y was passed when a 1d array was expected. Please change the shape of y to (n_samples, ), for example using ravel().\n",
      "  y = column_or_1d(y, warn=True)\n",
      "/Users/utkarsh/miniconda3/lib/python3.11/site-packages/sklearn/utils/validation.py:1310: DataConversionWarning: A column-vector y was passed when a 1d array was expected. Please change the shape of y to (n_samples, ), for example using ravel().\n",
      "  y = column_or_1d(y, warn=True)\n",
      "/Users/utkarsh/miniconda3/lib/python3.11/site-packages/sklearn/utils/validation.py:1310: DataConversionWarning: A column-vector y was passed when a 1d array was expected. Please change the shape of y to (n_samples, ), for example using ravel().\n",
      "  y = column_or_1d(y, warn=True)\n",
      "/Users/utkarsh/miniconda3/lib/python3.11/site-packages/sklearn/utils/validation.py:1310: DataConversionWarning: A column-vector y was passed when a 1d array was expected. Please change the shape of y to (n_samples, ), for example using ravel().\n",
      "  y = column_or_1d(y, warn=True)\n",
      "/Users/utkarsh/miniconda3/lib/python3.11/site-packages/sklearn/utils/validation.py:1310: DataConversionWarning: A column-vector y was passed when a 1d array was expected. Please change the shape of y to (n_samples, ), for example using ravel().\n",
      "  y = column_or_1d(y, warn=True)\n",
      "/Users/utkarsh/miniconda3/lib/python3.11/site-packages/sklearn/utils/validation.py:1310: DataConversionWarning: A column-vector y was passed when a 1d array was expected. Please change the shape of y to (n_samples, ), for example using ravel().\n",
      "  y = column_or_1d(y, warn=True)\n",
      "/Users/utkarsh/miniconda3/lib/python3.11/site-packages/sklearn/utils/validation.py:1310: DataConversionWarning: A column-vector y was passed when a 1d array was expected. Please change the shape of y to (n_samples, ), for example using ravel().\n",
      "  y = column_or_1d(y, warn=True)\n",
      "/Users/utkarsh/miniconda3/lib/python3.11/site-packages/sklearn/utils/validation.py:1310: DataConversionWarning: A column-vector y was passed when a 1d array was expected. Please change the shape of y to (n_samples, ), for example using ravel().\n",
      "  y = column_or_1d(y, warn=True)\n",
      "/Users/utkarsh/miniconda3/lib/python3.11/site-packages/sklearn/utils/validation.py:1310: DataConversionWarning: A column-vector y was passed when a 1d array was expected. Please change the shape of y to (n_samples, ), for example using ravel().\n",
      "  y = column_or_1d(y, warn=True)\n",
      "/Users/utkarsh/miniconda3/lib/python3.11/site-packages/sklearn/utils/validation.py:1310: DataConversionWarning: A column-vector y was passed when a 1d array was expected. Please change the shape of y to (n_samples, ), for example using ravel().\n",
      "  y = column_or_1d(y, warn=True)\n",
      "/Users/utkarsh/miniconda3/lib/python3.11/site-packages/sklearn/utils/validation.py:1310: DataConversionWarning: A column-vector y was passed when a 1d array was expected. Please change the shape of y to (n_samples, ), for example using ravel().\n",
      "  y = column_or_1d(y, warn=True)\n",
      "/Users/utkarsh/miniconda3/lib/python3.11/site-packages/sklearn/utils/validation.py:1310: DataConversionWarning: A column-vector y was passed when a 1d array was expected. Please change the shape of y to (n_samples, ), for example using ravel().\n",
      "  y = column_or_1d(y, warn=True)\n",
      "/Users/utkarsh/miniconda3/lib/python3.11/site-packages/sklearn/utils/validation.py:1310: DataConversionWarning: A column-vector y was passed when a 1d array was expected. Please change the shape of y to (n_samples, ), for example using ravel().\n",
      "  y = column_or_1d(y, warn=True)\n",
      "/Users/utkarsh/miniconda3/lib/python3.11/site-packages/sklearn/utils/validation.py:1310: DataConversionWarning: A column-vector y was passed when a 1d array was expected. Please change the shape of y to (n_samples, ), for example using ravel().\n",
      "  y = column_or_1d(y, warn=True)\n",
      "/Users/utkarsh/miniconda3/lib/python3.11/site-packages/sklearn/utils/validation.py:1310: DataConversionWarning: A column-vector y was passed when a 1d array was expected. Please change the shape of y to (n_samples, ), for example using ravel().\n",
      "  y = column_or_1d(y, warn=True)\n",
      "/Users/utkarsh/miniconda3/lib/python3.11/site-packages/sklearn/utils/validation.py:1310: DataConversionWarning: A column-vector y was passed when a 1d array was expected. Please change the shape of y to (n_samples, ), for example using ravel().\n",
      "  y = column_or_1d(y, warn=True)\n",
      "/Users/utkarsh/miniconda3/lib/python3.11/site-packages/sklearn/utils/validation.py:1310: DataConversionWarning: A column-vector y was passed when a 1d array was expected. Please change the shape of y to (n_samples, ), for example using ravel().\n",
      "  y = column_or_1d(y, warn=True)\n",
      "/Users/utkarsh/miniconda3/lib/python3.11/site-packages/sklearn/utils/validation.py:1310: DataConversionWarning: A column-vector y was passed when a 1d array was expected. Please change the shape of y to (n_samples, ), for example using ravel().\n",
      "  y = column_or_1d(y, warn=True)\n",
      "/Users/utkarsh/miniconda3/lib/python3.11/site-packages/sklearn/utils/validation.py:1310: DataConversionWarning: A column-vector y was passed when a 1d array was expected. Please change the shape of y to (n_samples, ), for example using ravel().\n",
      "  y = column_or_1d(y, warn=True)\n",
      "/Users/utkarsh/miniconda3/lib/python3.11/site-packages/sklearn/utils/validation.py:1310: DataConversionWarning: A column-vector y was passed when a 1d array was expected. Please change the shape of y to (n_samples, ), for example using ravel().\n",
      "  y = column_or_1d(y, warn=True)\n",
      "/Users/utkarsh/miniconda3/lib/python3.11/site-packages/sklearn/utils/validation.py:1310: DataConversionWarning: A column-vector y was passed when a 1d array was expected. Please change the shape of y to (n_samples, ), for example using ravel().\n",
      "  y = column_or_1d(y, warn=True)\n",
      "/Users/utkarsh/miniconda3/lib/python3.11/site-packages/sklearn/utils/validation.py:1310: DataConversionWarning: A column-vector y was passed when a 1d array was expected. Please change the shape of y to (n_samples, ), for example using ravel().\n",
      "  y = column_or_1d(y, warn=True)\n",
      "/Users/utkarsh/miniconda3/lib/python3.11/site-packages/sklearn/utils/validation.py:1310: DataConversionWarning: A column-vector y was passed when a 1d array was expected. Please change the shape of y to (n_samples, ), for example using ravel().\n",
      "  y = column_or_1d(y, warn=True)\n",
      "/Users/utkarsh/miniconda3/lib/python3.11/site-packages/sklearn/utils/validation.py:1310: DataConversionWarning: A column-vector y was passed when a 1d array was expected. Please change the shape of y to (n_samples, ), for example using ravel().\n",
      "  y = column_or_1d(y, warn=True)\n",
      "/Users/utkarsh/miniconda3/lib/python3.11/site-packages/sklearn/utils/validation.py:1310: DataConversionWarning: A column-vector y was passed when a 1d array was expected. Please change the shape of y to (n_samples, ), for example using ravel().\n",
      "  y = column_or_1d(y, warn=True)\n",
      "/Users/utkarsh/miniconda3/lib/python3.11/site-packages/sklearn/utils/validation.py:1310: DataConversionWarning: A column-vector y was passed when a 1d array was expected. Please change the shape of y to (n_samples, ), for example using ravel().\n",
      "  y = column_or_1d(y, warn=True)\n",
      "/Users/utkarsh/miniconda3/lib/python3.11/site-packages/sklearn/utils/validation.py:1310: DataConversionWarning: A column-vector y was passed when a 1d array was expected. Please change the shape of y to (n_samples, ), for example using ravel().\n",
      "  y = column_or_1d(y, warn=True)\n",
      "/Users/utkarsh/miniconda3/lib/python3.11/site-packages/sklearn/utils/validation.py:1310: DataConversionWarning: A column-vector y was passed when a 1d array was expected. Please change the shape of y to (n_samples, ), for example using ravel().\n",
      "  y = column_or_1d(y, warn=True)\n",
      "/Users/utkarsh/miniconda3/lib/python3.11/site-packages/sklearn/utils/validation.py:1310: DataConversionWarning: A column-vector y was passed when a 1d array was expected. Please change the shape of y to (n_samples, ), for example using ravel().\n",
      "  y = column_or_1d(y, warn=True)\n"
     ]
    },
    {
     "name": "stdout",
     "output_type": "stream",
     "text": [
      "[CV 4/5] END model__colsample_bytree=0.8, model__gamma=0.4444444444444444, model__learning_rate=0.615848211066026, model__max_depth=None, model__min_child_weight=6.0, model__n_estimators=1000, model__subsample=1.0; neg_mean_absolute_error: (test=-0.616) r2: (test=-0.771) total time=  18.1s\n"
     ]
    },
    {
     "name": "stderr",
     "output_type": "stream",
     "text": [
      "/Users/utkarsh/miniconda3/lib/python3.11/site-packages/sklearn/utils/validation.py:1310: DataConversionWarning: A column-vector y was passed when a 1d array was expected. Please change the shape of y to (n_samples, ), for example using ravel().\n",
      "  y = column_or_1d(y, warn=True)\n",
      "/Users/utkarsh/miniconda3/lib/python3.11/site-packages/sklearn/utils/validation.py:1310: DataConversionWarning: A column-vector y was passed when a 1d array was expected. Please change the shape of y to (n_samples, ), for example using ravel().\n",
      "  y = column_or_1d(y, warn=True)\n",
      "/Users/utkarsh/miniconda3/lib/python3.11/site-packages/sklearn/utils/validation.py:1310: DataConversionWarning: A column-vector y was passed when a 1d array was expected. Please change the shape of y to (n_samples, ), for example using ravel().\n",
      "  y = column_or_1d(y, warn=True)\n",
      "/Users/utkarsh/miniconda3/lib/python3.11/site-packages/sklearn/utils/validation.py:1310: DataConversionWarning: A column-vector y was passed when a 1d array was expected. Please change the shape of y to (n_samples, ), for example using ravel().\n",
      "  y = column_or_1d(y, warn=True)\n"
     ]
    },
    {
     "name": "stdout",
     "output_type": "stream",
     "text": [
      "[CV 4/5] END model__colsample_bytree=0.8, model__gamma=0.6666666666666666, model__learning_rate=0.3792690190732246, model__max_depth=5, model__min_child_weight=9.0, model__n_estimators=200, model__subsample=0.7777777777777778; neg_mean_absolute_error: (test=-0.516) r2: (test=-0.254) total time=  18.2s\n",
      "[CV 1/5] END model__colsample_bytree=0.8, model__gamma=0.6666666666666666, model__learning_rate=0.3792690190732246, model__max_depth=5, model__min_child_weight=9.0, model__n_estimators=200, model__subsample=0.7777777777777778; neg_mean_absolute_error: (test=-0.560) r2: (test=-0.387) total time=  18.5s\n",
      "[CV 2/5] END model__colsample_bytree=0.8, model__gamma=0.6666666666666666, model__learning_rate=0.3792690190732246, model__max_depth=5, model__min_child_weight=9.0, model__n_estimators=200, model__subsample=0.7777777777777778; neg_mean_absolute_error: (test=-0.519) r2: (test=-0.794) total time=  18.5s\n",
      "[CV 5/5] END model__colsample_bytree=0.8, model__gamma=0.6666666666666666, model__learning_rate=0.3792690190732246, model__max_depth=5, model__min_child_weight=9.0, model__n_estimators=200, model__subsample=0.7777777777777778; neg_mean_absolute_error: (test=-0.419) r2: (test=-0.483) total time=  18.5s\n",
      "[CV 3/5] END model__colsample_bytree=0.8, model__gamma=0.6666666666666666, model__learning_rate=0.3792690190732246, model__max_depth=5, model__min_child_weight=9.0, model__n_estimators=200, model__subsample=0.7777777777777778; neg_mean_absolute_error: (test=-0.616) r2: (test=0.069) total time=  18.5s\n"
     ]
    },
    {
     "name": "stderr",
     "output_type": "stream",
     "text": [
      "/Users/utkarsh/miniconda3/lib/python3.11/site-packages/sklearn/utils/validation.py:1310: DataConversionWarning: A column-vector y was passed when a 1d array was expected. Please change the shape of y to (n_samples, ), for example using ravel().\n",
      "  y = column_or_1d(y, warn=True)\n",
      "/Users/utkarsh/miniconda3/lib/python3.11/site-packages/sklearn/utils/validation.py:1310: DataConversionWarning: A column-vector y was passed when a 1d array was expected. Please change the shape of y to (n_samples, ), for example using ravel().\n",
      "  y = column_or_1d(y, warn=True)\n",
      "/Users/utkarsh/miniconda3/lib/python3.11/site-packages/sklearn/utils/validation.py:1310: DataConversionWarning: A column-vector y was passed when a 1d array was expected. Please change the shape of y to (n_samples, ), for example using ravel().\n",
      "  y = column_or_1d(y, warn=True)\n",
      "/Users/utkarsh/miniconda3/lib/python3.11/site-packages/sklearn/utils/validation.py:1310: DataConversionWarning: A column-vector y was passed when a 1d array was expected. Please change the shape of y to (n_samples, ), for example using ravel().\n",
      "  y = column_or_1d(y, warn=True)\n"
     ]
    },
    {
     "name": "stdout",
     "output_type": "stream",
     "text": [
      "[CV 3/5] END model__colsample_bytree=0.2, model__gamma=0.3333333333333333, model__learning_rate=0.0018329807108324356, model__max_depth=8, model__min_child_weight=10.0, model__n_estimators=200, model__subsample=0.8888888888888888; neg_mean_absolute_error: (test=-0.684) r2: (test=0.048) total time=  18.9s\n"
     ]
    },
    {
     "name": "stderr",
     "output_type": "stream",
     "text": [
      "/Users/utkarsh/miniconda3/lib/python3.11/site-packages/sklearn/utils/validation.py:1310: DataConversionWarning: A column-vector y was passed when a 1d array was expected. Please change the shape of y to (n_samples, ), for example using ravel().\n",
      "  y = column_or_1d(y, warn=True)\n"
     ]
    },
    {
     "name": "stdout",
     "output_type": "stream",
     "text": [
      "[CV 1/5] END model__colsample_bytree=0.2, model__gamma=0.3333333333333333, model__learning_rate=0.0018329807108324356, model__max_depth=8, model__min_child_weight=10.0, model__n_estimators=200, model__subsample=0.8888888888888888; neg_mean_absolute_error: (test=-0.467) r2: (test=0.022) total time=  19.3s\n"
     ]
    },
    {
     "name": "stderr",
     "output_type": "stream",
     "text": [
      "/Users/utkarsh/miniconda3/lib/python3.11/site-packages/sklearn/utils/validation.py:1310: DataConversionWarning: A column-vector y was passed when a 1d array was expected. Please change the shape of y to (n_samples, ), for example using ravel().\n",
      "  y = column_or_1d(y, warn=True)\n"
     ]
    },
    {
     "name": "stdout",
     "output_type": "stream",
     "text": [
      "[CV 4/5] END model__colsample_bytree=0.2, model__gamma=0.3333333333333333, model__learning_rate=0.0018329807108324356, model__max_depth=8, model__min_child_weight=10.0, model__n_estimators=200, model__subsample=0.8888888888888888; neg_mean_absolute_error: (test=-0.598) r2: (test=-0.748) total time=  19.6s\n",
      "[CV 2/5] END model__colsample_bytree=0.2, model__gamma=0.3333333333333333, model__learning_rate=0.0018329807108324356, model__max_depth=8, model__min_child_weight=10.0, model__n_estimators=200, model__subsample=0.8888888888888888; neg_mean_absolute_error: (test=-0.616) r2: (test=-1.354) total time=  20.0s\n"
     ]
    },
    {
     "name": "stderr",
     "output_type": "stream",
     "text": [
      "/Users/utkarsh/miniconda3/lib/python3.11/site-packages/sklearn/utils/validation.py:1310: DataConversionWarning: A column-vector y was passed when a 1d array was expected. Please change the shape of y to (n_samples, ), for example using ravel().\n",
      "  y = column_or_1d(y, warn=True)\n",
      "/Users/utkarsh/miniconda3/lib/python3.11/site-packages/sklearn/utils/validation.py:1310: DataConversionWarning: A column-vector y was passed when a 1d array was expected. Please change the shape of y to (n_samples, ), for example using ravel().\n",
      "  y = column_or_1d(y, warn=True)\n"
     ]
    },
    {
     "name": "stdout",
     "output_type": "stream",
     "text": [
      "[CV 5/5] END model__colsample_bytree=0.2, model__gamma=0.3333333333333333, model__learning_rate=0.0018329807108324356, model__max_depth=8, model__min_child_weight=10.0, model__n_estimators=200, model__subsample=0.8888888888888888; neg_mean_absolute_error: (test=-0.365) r2: (test=0.012) total time=  20.3s\n"
     ]
    },
    {
     "name": "stderr",
     "output_type": "stream",
     "text": [
      "/Users/utkarsh/miniconda3/lib/python3.11/site-packages/sklearn/utils/validation.py:1310: DataConversionWarning: A column-vector y was passed when a 1d array was expected. Please change the shape of y to (n_samples, ), for example using ravel().\n",
      "  y = column_or_1d(y, warn=True)\n"
     ]
    },
    {
     "name": "stdout",
     "output_type": "stream",
     "text": [
      "[CV 5/5] END model__colsample_bytree=0.30000000000000004, model__gamma=0.4444444444444444, model__learning_rate=0.03359818286283781, model__max_depth=5, model__min_child_weight=3.0, model__n_estimators=700, model__subsample=0.8888888888888888; neg_mean_absolute_error: (test=-0.364) r2: (test=0.025) total time=  20.6s\n",
      "[CV 5/5] END model__colsample_bytree=0.8, model__gamma=0.4444444444444444, model__learning_rate=0.615848211066026, model__max_depth=None, model__min_child_weight=6.0, model__n_estimators=1000, model__subsample=1.0; neg_mean_absolute_error: (test=-0.410) r2: (test=-0.509) total time=  21.7s\n",
      "[CV 4/5] END model__colsample_bytree=0.30000000000000004, model__gamma=0.4444444444444444, model__learning_rate=0.03359818286283781, model__max_depth=5, model__min_child_weight=3.0, model__n_estimators=700, model__subsample=0.8888888888888888; neg_mean_absolute_error: (test=-0.519) r2: (test=-0.327) total time=  20.8s\n"
     ]
    },
    {
     "name": "stderr",
     "output_type": "stream",
     "text": [
      "/Users/utkarsh/miniconda3/lib/python3.11/site-packages/sklearn/utils/validation.py:1310: DataConversionWarning: A column-vector y was passed when a 1d array was expected. Please change the shape of y to (n_samples, ), for example using ravel().\n",
      "  y = column_or_1d(y, warn=True)\n"
     ]
    },
    {
     "name": "stdout",
     "output_type": "stream",
     "text": [
      "[CV 1/5] END model__colsample_bytree=0.30000000000000004, model__gamma=0.4444444444444444, model__learning_rate=0.03359818286283781, model__max_depth=5, model__min_child_weight=3.0, model__n_estimators=700, model__subsample=0.8888888888888888; neg_mean_absolute_error: (test=-0.456) r2: (test=0.059) total time=  21.2s\n"
     ]
    },
    {
     "name": "stderr",
     "output_type": "stream",
     "text": [
      "/Users/utkarsh/miniconda3/lib/python3.11/site-packages/sklearn/utils/validation.py:1310: DataConversionWarning: A column-vector y was passed when a 1d array was expected. Please change the shape of y to (n_samples, ), for example using ravel().\n",
      "  y = column_or_1d(y, warn=True)\n",
      "/Users/utkarsh/miniconda3/lib/python3.11/site-packages/sklearn/utils/validation.py:1310: DataConversionWarning: A column-vector y was passed when a 1d array was expected. Please change the shape of y to (n_samples, ), for example using ravel().\n",
      "  y = column_or_1d(y, warn=True)\n",
      "/Users/utkarsh/miniconda3/lib/python3.11/site-packages/sklearn/utils/validation.py:1310: DataConversionWarning: A column-vector y was passed when a 1d array was expected. Please change the shape of y to (n_samples, ), for example using ravel().\n",
      "  y = column_or_1d(y, warn=True)\n",
      "/Users/utkarsh/miniconda3/lib/python3.11/site-packages/sklearn/utils/validation.py:1310: DataConversionWarning: A column-vector y was passed when a 1d array was expected. Please change the shape of y to (n_samples, ), for example using ravel().\n",
      "  y = column_or_1d(y, warn=True)\n"
     ]
    },
    {
     "name": "stdout",
     "output_type": "stream",
     "text": [
      "[CV 2/5] END model__colsample_bytree=0.30000000000000004, model__gamma=0.4444444444444444, model__learning_rate=0.03359818286283781, model__max_depth=5, model__min_child_weight=3.0, model__n_estimators=700, model__subsample=0.8888888888888888; neg_mean_absolute_error: (test=-0.575) r2: (test=-1.172) total time=  21.7s\n"
     ]
    },
    {
     "name": "stderr",
     "output_type": "stream",
     "text": [
      "/Users/utkarsh/miniconda3/lib/python3.11/site-packages/sklearn/utils/validation.py:1310: DataConversionWarning: A column-vector y was passed when a 1d array was expected. Please change the shape of y to (n_samples, ), for example using ravel().\n",
      "  y = column_or_1d(y, warn=True)\n"
     ]
    },
    {
     "name": "stdout",
     "output_type": "stream",
     "text": [
      "[CV 3/5] END model__colsample_bytree=0.30000000000000004, model__gamma=0.4444444444444444, model__learning_rate=0.03359818286283781, model__max_depth=5, model__min_child_weight=3.0, model__n_estimators=700, model__subsample=0.8888888888888888; neg_mean_absolute_error: (test=-0.579) r2: (test=0.160) total time=  22.4s\n"
     ]
    },
    {
     "name": "stderr",
     "output_type": "stream",
     "text": [
      "/Users/utkarsh/miniconda3/lib/python3.11/site-packages/sklearn/utils/validation.py:1310: DataConversionWarning: A column-vector y was passed when a 1d array was expected. Please change the shape of y to (n_samples, ), for example using ravel().\n",
      "  y = column_or_1d(y, warn=True)\n"
     ]
    },
    {
     "name": "stdout",
     "output_type": "stream",
     "text": [
      "[CV 1/5] END model__colsample_bytree=0.4, model__gamma=0.8888888888888888, model__learning_rate=0.0006951927961775605, model__max_depth=4, model__min_child_weight=7.0, model__n_estimators=200, model__subsample=0.7222222222222222; neg_mean_absolute_error: (test=-0.482) r2: (test=-0.034) total time=  23.0s\n"
     ]
    },
    {
     "name": "stderr",
     "output_type": "stream",
     "text": [
      "/Users/utkarsh/miniconda3/lib/python3.11/site-packages/sklearn/utils/validation.py:1310: DataConversionWarning: A column-vector y was passed when a 1d array was expected. Please change the shape of y to (n_samples, ), for example using ravel().\n",
      "  y = column_or_1d(y, warn=True)\n"
     ]
    },
    {
     "name": "stdout",
     "output_type": "stream",
     "text": [
      "[CV 4/5] END model__colsample_bytree=0.4, model__gamma=0.8888888888888888, model__learning_rate=0.0006951927961775605, model__max_depth=4, model__min_child_weight=7.0, model__n_estimators=200, model__subsample=0.7222222222222222; neg_mean_absolute_error: (test=-0.615) r2: (test=-0.841) total time=  24.3s\n"
     ]
    },
    {
     "name": "stderr",
     "output_type": "stream",
     "text": [
      "/Users/utkarsh/miniconda3/lib/python3.11/site-packages/sklearn/utils/validation.py:1310: DataConversionWarning: A column-vector y was passed when a 1d array was expected. Please change the shape of y to (n_samples, ), for example using ravel().\n",
      "  y = column_or_1d(y, warn=True)\n"
     ]
    },
    {
     "name": "stdout",
     "output_type": "stream",
     "text": [
      "[CV 3/5] END model__colsample_bytree=0.1, model__gamma=1.0, model__learning_rate=0.0206913808111479, model__max_depth=8, model__min_child_weight=4.0, model__n_estimators=700, model__subsample=0.5; neg_mean_absolute_error: (test=-0.623) r2: (test=0.094) total time=  23.7s\n"
     ]
    },
    {
     "name": "stderr",
     "output_type": "stream",
     "text": [
      "/Users/utkarsh/miniconda3/lib/python3.11/site-packages/sklearn/utils/validation.py:1310: DataConversionWarning: A column-vector y was passed when a 1d array was expected. Please change the shape of y to (n_samples, ), for example using ravel().\n",
      "  y = column_or_1d(y, warn=True)\n"
     ]
    },
    {
     "name": "stdout",
     "output_type": "stream",
     "text": [
      "[CV 5/5] END model__colsample_bytree=0.5, model__gamma=0.4444444444444444, model__learning_rate=0.14384498882876628, model__max_depth=4, model__min_child_weight=6.0, model__n_estimators=800, model__subsample=0.5555555555555556; neg_mean_absolute_error: (test=-0.499) r2: (test=-1.067) total time=  24.3s\n"
     ]
    },
    {
     "name": "stderr",
     "output_type": "stream",
     "text": [
      "/Users/utkarsh/miniconda3/lib/python3.11/site-packages/sklearn/utils/validation.py:1310: DataConversionWarning: A column-vector y was passed when a 1d array was expected. Please change the shape of y to (n_samples, ), for example using ravel().\n",
      "  y = column_or_1d(y, warn=True)\n"
     ]
    },
    {
     "name": "stdout",
     "output_type": "stream",
     "text": [
      "[CV 5/5] END model__colsample_bytree=0.1, model__gamma=1.0, model__learning_rate=0.0206913808111479, model__max_depth=8, model__min_child_weight=4.0, model__n_estimators=700, model__subsample=0.5; neg_mean_absolute_error: (test=-0.366) r2: (test=-0.034) total time=  22.5s\n"
     ]
    },
    {
     "name": "stderr",
     "output_type": "stream",
     "text": [
      "/Users/utkarsh/miniconda3/lib/python3.11/site-packages/sklearn/utils/validation.py:1310: DataConversionWarning: A column-vector y was passed when a 1d array was expected. Please change the shape of y to (n_samples, ), for example using ravel().\n",
      "  y = column_or_1d(y, warn=True)\n"
     ]
    },
    {
     "name": "stdout",
     "output_type": "stream",
     "text": [
      "[CV 4/5] END model__colsample_bytree=0.1, model__gamma=1.0, model__learning_rate=0.0206913808111479, model__max_depth=8, model__min_child_weight=4.0, model__n_estimators=700, model__subsample=0.5; neg_mean_absolute_error: (test=-0.556) r2: (test=-0.501) total time=  22.9s\n"
     ]
    },
    {
     "name": "stderr",
     "output_type": "stream",
     "text": [
      "/Users/utkarsh/miniconda3/lib/python3.11/site-packages/sklearn/utils/validation.py:1310: DataConversionWarning: A column-vector y was passed when a 1d array was expected. Please change the shape of y to (n_samples, ), for example using ravel().\n",
      "  y = column_or_1d(y, warn=True)\n"
     ]
    },
    {
     "name": "stdout",
     "output_type": "stream",
     "text": [
      "[CV 3/5] END model__colsample_bytree=0.1, model__gamma=0.4444444444444444, model__learning_rate=0.3792690190732246, model__max_depth=10, model__min_child_weight=8.0, model__n_estimators=800, model__subsample=0.7777777777777778; neg_mean_absolute_error: (test=-0.555) r2: (test=0.107) total time=  19.2s\n",
      "[CV 2/5] END model__colsample_bytree=0.4, model__gamma=0.8888888888888888, model__learning_rate=0.0006951927961775605, model__max_depth=4, model__min_child_weight=7.0, model__n_estimators=200, model__subsample=0.7222222222222222; neg_mean_absolute_error: (test=-0.629) r2: (test=-1.409) total time=  15.9s\n"
     ]
    },
    {
     "name": "stderr",
     "output_type": "stream",
     "text": [
      "/Users/utkarsh/miniconda3/lib/python3.11/site-packages/sklearn/utils/validation.py:1310: DataConversionWarning: A column-vector y was passed when a 1d array was expected. Please change the shape of y to (n_samples, ), for example using ravel().\n",
      "  y = column_or_1d(y, warn=True)\n",
      "/Users/utkarsh/miniconda3/lib/python3.11/site-packages/sklearn/utils/validation.py:1310: DataConversionWarning: A column-vector y was passed when a 1d array was expected. Please change the shape of y to (n_samples, ), for example using ravel().\n",
      "  y = column_or_1d(y, warn=True)\n"
     ]
    },
    {
     "name": "stdout",
     "output_type": "stream",
     "text": [
      "[CV 4/5] END model__colsample_bytree=0.1, model__gamma=0.4444444444444444, model__learning_rate=0.3792690190732246, model__max_depth=10, model__min_child_weight=8.0, model__n_estimators=800, model__subsample=0.7777777777777778; neg_mean_absolute_error: (test=-0.521) r2: (test=-0.373) total time=  16.3s\n",
      "[CV 1/5] END model__colsample_bytree=0.1, model__gamma=0.4444444444444444, model__learning_rate=0.3792690190732246, model__max_depth=10, model__min_child_weight=8.0, model__n_estimators=800, model__subsample=0.7777777777777778; neg_mean_absolute_error: (test=-0.535) r2: (test=-0.382) total time=  18.5s\n",
      "[CV 4/5] END model__colsample_bytree=0.5, model__gamma=0.4444444444444444, model__learning_rate=0.14384498882876628, model__max_depth=4, model__min_child_weight=6.0, model__n_estimators=800, model__subsample=0.5555555555555556; neg_mean_absolute_error: (test=-0.511) r2: (test=-0.172) total time=  16.9s\n"
     ]
    },
    {
     "name": "stderr",
     "output_type": "stream",
     "text": [
      "/Users/utkarsh/miniconda3/lib/python3.11/site-packages/sklearn/utils/validation.py:1310: DataConversionWarning: A column-vector y was passed when a 1d array was expected. Please change the shape of y to (n_samples, ), for example using ravel().\n",
      "  y = column_or_1d(y, warn=True)\n",
      "/Users/utkarsh/miniconda3/lib/python3.11/site-packages/sklearn/utils/validation.py:1310: DataConversionWarning: A column-vector y was passed when a 1d array was expected. Please change the shape of y to (n_samples, ), for example using ravel().\n",
      "  y = column_or_1d(y, warn=True)\n",
      "/Users/utkarsh/miniconda3/lib/python3.11/site-packages/sklearn/utils/validation.py:1310: DataConversionWarning: A column-vector y was passed when a 1d array was expected. Please change the shape of y to (n_samples, ), for example using ravel().\n",
      "  y = column_or_1d(y, warn=True)\n"
     ]
    },
    {
     "name": "stdout",
     "output_type": "stream",
     "text": [
      "[CV 2/5] END model__colsample_bytree=0.1, model__gamma=0.4444444444444444, model__learning_rate=0.3792690190732246, model__max_depth=10, model__min_child_weight=8.0, model__n_estimators=800, model__subsample=0.7777777777777778; neg_mean_absolute_error: (test=-0.966) r2: (test=-5.424) total time=  17.1s\n",
      "[CV 1/5] END model__colsample_bytree=0.1, model__gamma=1.0, model__learning_rate=0.0206913808111479, model__max_depth=8, model__min_child_weight=4.0, model__n_estimators=700, model__subsample=0.5; neg_mean_absolute_error: (test=-0.441) r2: (test=0.170) total time=  18.2s\n"
     ]
    },
    {
     "name": "stderr",
     "output_type": "stream",
     "text": [
      "/Users/utkarsh/miniconda3/lib/python3.11/site-packages/sklearn/utils/validation.py:1310: DataConversionWarning: A column-vector y was passed when a 1d array was expected. Please change the shape of y to (n_samples, ), for example using ravel().\n",
      "  y = column_or_1d(y, warn=True)\n"
     ]
    },
    {
     "name": "stdout",
     "output_type": "stream",
     "text": [
      "[CV 2/5] END model__colsample_bytree=0.4, model__gamma=0.5555555555555556, model__learning_rate=0.0018329807108324356, model__max_depth=4, model__min_child_weight=2.0, model__n_estimators=700, model__subsample=0.8888888888888888; neg_mean_absolute_error: (test=-0.596) r2: (test=-1.296) total time=  19.8s\n",
      "[CV 5/5] END model__colsample_bytree=0.4, model__gamma=0.8888888888888888, model__learning_rate=0.0006951927961775605, model__max_depth=4, model__min_child_weight=7.0, model__n_estimators=200, model__subsample=0.7222222222222222; neg_mean_absolute_error: (test=-0.365) r2: (test=-0.007) total time=  18.3s\n",
      "[CV 1/5] END model__colsample_bytree=0.2, model__gamma=0.0, model__learning_rate=1.0, model__max_depth=8, model__min_child_weight=10.0, model__n_estimators=700, model__subsample=0.6666666666666666; neg_mean_absolute_error: (test=-1.055) r2: (test=-4.354) total time=  19.9s\n",
      "[CV 5/5] END model__colsample_bytree=0.1, model__gamma=0.4444444444444444, model__learning_rate=0.3792690190732246, model__max_depth=10, model__min_child_weight=8.0, model__n_estimators=800, model__subsample=0.7777777777777778; neg_mean_absolute_error: (test=-0.465) r2: (test=-0.906) total time=  18.5s\n",
      "[CV 1/5] END model__colsample_bytree=0.5, model__gamma=0.4444444444444444, model__learning_rate=0.14384498882876628, model__max_depth=4, model__min_child_weight=6.0, model__n_estimators=800, model__subsample=0.5555555555555556; neg_mean_absolute_error: (test=-0.458) r2: (test=0.083) total time=  19.3s\n",
      "[CV 3/5] END model__colsample_bytree=0.4, model__gamma=0.8888888888888888, model__learning_rate=0.0006951927961775605, model__max_depth=4, model__min_child_weight=7.0, model__n_estimators=200, model__subsample=0.7222222222222222; neg_mean_absolute_error: (test=-0.710) r2: (test=0.006) total time=  18.0s\n",
      "[CV 2/5] END model__colsample_bytree=0.1, model__gamma=1.0, model__learning_rate=0.0206913808111479, model__max_depth=8, model__min_child_weight=4.0, model__n_estimators=700, model__subsample=0.5; neg_mean_absolute_error: (test=-0.561) r2: (test=-1.089) total time=  17.8s\n"
     ]
    },
    {
     "name": "stderr",
     "output_type": "stream",
     "text": [
      "/Users/utkarsh/miniconda3/lib/python3.11/site-packages/sklearn/utils/validation.py:1310: DataConversionWarning: A column-vector y was passed when a 1d array was expected. Please change the shape of y to (n_samples, ), for example using ravel().\n",
      "  y = column_or_1d(y, warn=True)\n",
      "/Users/utkarsh/miniconda3/lib/python3.11/site-packages/sklearn/utils/validation.py:1310: DataConversionWarning: A column-vector y was passed when a 1d array was expected. Please change the shape of y to (n_samples, ), for example using ravel().\n",
      "  y = column_or_1d(y, warn=True)\n"
     ]
    },
    {
     "name": "stdout",
     "output_type": "stream",
     "text": [
      "[CV 3/5] END model__colsample_bytree=0.5, model__gamma=0.4444444444444444, model__learning_rate=0.14384498882876628, model__max_depth=4, model__min_child_weight=6.0, model__n_estimators=800, model__subsample=0.5555555555555556; neg_mean_absolute_error: (test=-0.500) r2: (test=0.265) total time=  18.1s\n",
      "[CV 1/5] END model__colsample_bytree=0.7000000000000001, model__gamma=0.7777777777777777, model__learning_rate=0.007847599703514606, model__max_depth=3, model__min_child_weight=3.0, model__n_estimators=1000, model__subsample=0.8888888888888888; neg_mean_absolute_error: (test=-0.426) r2: (test=0.163) total time=  18.9s\n"
     ]
    },
    {
     "name": "stderr",
     "output_type": "stream",
     "text": [
      "/Users/utkarsh/miniconda3/lib/python3.11/site-packages/sklearn/utils/validation.py:1310: DataConversionWarning: A column-vector y was passed when a 1d array was expected. Please change the shape of y to (n_samples, ), for example using ravel().\n",
      "  y = column_or_1d(y, warn=True)\n",
      "/Users/utkarsh/miniconda3/lib/python3.11/site-packages/sklearn/utils/validation.py:1310: DataConversionWarning: A column-vector y was passed when a 1d array was expected. Please change the shape of y to (n_samples, ), for example using ravel().\n",
      "  y = column_or_1d(y, warn=True)\n",
      "/Users/utkarsh/miniconda3/lib/python3.11/site-packages/sklearn/utils/validation.py:1310: DataConversionWarning: A column-vector y was passed when a 1d array was expected. Please change the shape of y to (n_samples, ), for example using ravel().\n",
      "  y = column_or_1d(y, warn=True)\n"
     ]
    },
    {
     "name": "stdout",
     "output_type": "stream",
     "text": [
      "[CV 4/5] END model__colsample_bytree=0.4, model__gamma=0.5555555555555556, model__learning_rate=0.0018329807108324356, model__max_depth=4, model__min_child_weight=2.0, model__n_estimators=700, model__subsample=0.8888888888888888; neg_mean_absolute_error: (test=-0.532) r2: (test=-0.406) total time=  19.7s\n",
      "[CV 2/5] END model__colsample_bytree=0.30000000000000004, model__gamma=0.7777777777777777, model__learning_rate=0.00042813323987193956, model__max_depth=4, model__min_child_weight=6.0, model__n_estimators=700, model__subsample=0.5; neg_mean_absolute_error: (test=-0.614) r2: (test=-1.321) total time=  18.3s\n"
     ]
    },
    {
     "name": "stderr",
     "output_type": "stream",
     "text": [
      "/Users/utkarsh/miniconda3/lib/python3.11/site-packages/sklearn/utils/validation.py:1310: DataConversionWarning: A column-vector y was passed when a 1d array was expected. Please change the shape of y to (n_samples, ), for example using ravel().\n",
      "  y = column_or_1d(y, warn=True)\n"
     ]
    },
    {
     "name": "stdout",
     "output_type": "stream",
     "text": [
      "[CV 5/5] END model__colsample_bytree=0.4, model__gamma=0.5555555555555556, model__learning_rate=0.0018329807108324356, model__max_depth=4, model__min_child_weight=2.0, model__n_estimators=700, model__subsample=0.8888888888888888; neg_mean_absolute_error: (test=-0.363) r2: (test=0.015) total time=  20.5s\n"
     ]
    },
    {
     "name": "stderr",
     "output_type": "stream",
     "text": [
      "/Users/utkarsh/miniconda3/lib/python3.11/site-packages/sklearn/utils/validation.py:1310: DataConversionWarning: A column-vector y was passed when a 1d array was expected. Please change the shape of y to (n_samples, ), for example using ravel().\n",
      "  y = column_or_1d(y, warn=True)\n",
      "/Users/utkarsh/miniconda3/lib/python3.11/site-packages/sklearn/utils/validation.py:1310: DataConversionWarning: A column-vector y was passed when a 1d array was expected. Please change the shape of y to (n_samples, ), for example using ravel().\n",
      "  y = column_or_1d(y, warn=True)\n",
      "/Users/utkarsh/miniconda3/lib/python3.11/site-packages/sklearn/utils/validation.py:1310: DataConversionWarning: A column-vector y was passed when a 1d array was expected. Please change the shape of y to (n_samples, ), for example using ravel().\n",
      "  y = column_or_1d(y, warn=True)\n",
      "/Users/utkarsh/miniconda3/lib/python3.11/site-packages/sklearn/utils/validation.py:1310: DataConversionWarning: A column-vector y was passed when a 1d array was expected. Please change the shape of y to (n_samples, ), for example using ravel().\n",
      "  y = column_or_1d(y, warn=True)\n"
     ]
    },
    {
     "name": "stdout",
     "output_type": "stream",
     "text": [
      "[CV 1/5] END model__colsample_bytree=0.4, model__gamma=0.5555555555555556, model__learning_rate=0.0018329807108324356, model__max_depth=4, model__min_child_weight=2.0, model__n_estimators=700, model__subsample=0.8888888888888888; neg_mean_absolute_error: (test=-0.449) r2: (test=0.075) total time=  21.9s\n",
      "[CV 3/5] END model__colsample_bytree=0.4, model__gamma=0.5555555555555556, model__learning_rate=0.0018329807108324356, model__max_depth=4, model__min_child_weight=2.0, model__n_estimators=700, model__subsample=0.8888888888888888; neg_mean_absolute_error: (test=-0.617) r2: (test=0.124) total time=  22.4s\n"
     ]
    },
    {
     "name": "stderr",
     "output_type": "stream",
     "text": [
      "/Users/utkarsh/miniconda3/lib/python3.11/site-packages/sklearn/utils/validation.py:1310: DataConversionWarning: A column-vector y was passed when a 1d array was expected. Please change the shape of y to (n_samples, ), for example using ravel().\n",
      "  y = column_or_1d(y, warn=True)\n",
      "/Users/utkarsh/miniconda3/lib/python3.11/site-packages/sklearn/utils/validation.py:1310: DataConversionWarning: A column-vector y was passed when a 1d array was expected. Please change the shape of y to (n_samples, ), for example using ravel().\n",
      "  y = column_or_1d(y, warn=True)\n",
      "/Users/utkarsh/miniconda3/lib/python3.11/site-packages/sklearn/utils/validation.py:1310: DataConversionWarning: A column-vector y was passed when a 1d array was expected. Please change the shape of y to (n_samples, ), for example using ravel().\n",
      "  y = column_or_1d(y, warn=True)\n"
     ]
    },
    {
     "name": "stdout",
     "output_type": "stream",
     "text": [
      "[CV 5/5] END model__colsample_bytree=0.30000000000000004, model__gamma=0.7777777777777777, model__learning_rate=0.00042813323987193956, model__max_depth=4, model__min_child_weight=6.0, model__n_estimators=700, model__subsample=0.5; neg_mean_absolute_error: (test=-0.365) r2: (test=0.005) total time=  21.0s\n",
      "[CV 1/5] END model__colsample_bytree=0.4, model__gamma=0.0, model__learning_rate=0.05455594781168514, model__max_depth=9, model__min_child_weight=6.0, model__n_estimators=900, model__subsample=0.7777777777777778; neg_mean_absolute_error: (test=-0.491) r2: (test=-0.087) total time=  32.0s\n",
      "[CV 3/5] END model__colsample_bytree=0.30000000000000004, model__gamma=0.7777777777777777, model__learning_rate=0.00042813323987193956, model__max_depth=4, model__min_child_weight=6.0, model__n_estimators=700, model__subsample=0.5; neg_mean_absolute_error: (test=-0.700) r2: (test=0.021) total time=  22.0s\n",
      "[CV 3/5] END model__colsample_bytree=0.7000000000000001, model__gamma=0.7777777777777777, model__learning_rate=0.007847599703514606, model__max_depth=3, model__min_child_weight=3.0, model__n_estimators=1000, model__subsample=0.8888888888888888; neg_mean_absolute_error: (test=-0.616) r2: (test=0.119) total time=  21.8s\n",
      "[CV 3/5] END model__colsample_bytree=0.2, model__gamma=0.0, model__learning_rate=1.0, model__max_depth=8, model__min_child_weight=10.0, model__n_estimators=700, model__subsample=0.6666666666666666; neg_mean_absolute_error: (test=-1.457) r2: (test=-4.211) total time=  22.2s\n"
     ]
    },
    {
     "name": "stderr",
     "output_type": "stream",
     "text": [
      "/Users/utkarsh/miniconda3/lib/python3.11/site-packages/sklearn/utils/validation.py:1310: DataConversionWarning: A column-vector y was passed when a 1d array was expected. Please change the shape of y to (n_samples, ), for example using ravel().\n",
      "  y = column_or_1d(y, warn=True)\n"
     ]
    },
    {
     "name": "stdout",
     "output_type": "stream",
     "text": [
      "[CV 1/5] END model__colsample_bytree=0.5, model__gamma=0.5555555555555556, model__learning_rate=0.002976351441631319, model__max_depth=9, model__min_child_weight=5.0, model__n_estimators=700, model__subsample=0.7777777777777778; neg_mean_absolute_error: (test=-0.454) r2: (test=0.057) total time=  21.6s\n",
      "[CV 3/5] END model__colsample_bytree=0.5, model__gamma=0.5555555555555556, model__learning_rate=0.002976351441631319, model__max_depth=9, model__min_child_weight=5.0, model__n_estimators=700, model__subsample=0.7777777777777778; neg_mean_absolute_error: (test=-0.632) r2: (test=0.089) total time=  22.0s\n",
      "[CV 1/5] END model__colsample_bytree=0.2, model__gamma=0.3333333333333333, model__learning_rate=1.0, model__max_depth=8, model__min_child_weight=2.0, model__n_estimators=600, model__subsample=0.8333333333333333; neg_mean_absolute_error: (test=-0.860) r2: (test=-2.052) total time=  19.4s\n",
      "[CV 2/5] END model__colsample_bytree=0.2, model__gamma=0.3333333333333333, model__learning_rate=1.0, model__max_depth=8, model__min_child_weight=2.0, model__n_estimators=600, model__subsample=0.8333333333333333; neg_mean_absolute_error: (test=-1.310) r2: (test=-14.273) total time=  19.5s\n"
     ]
    },
    {
     "name": "stderr",
     "output_type": "stream",
     "text": [
      "/Users/utkarsh/miniconda3/lib/python3.11/site-packages/sklearn/utils/validation.py:1310: DataConversionWarning: A column-vector y was passed when a 1d array was expected. Please change the shape of y to (n_samples, ), for example using ravel().\n",
      "  y = column_or_1d(y, warn=True)\n",
      "/Users/utkarsh/miniconda3/lib/python3.11/site-packages/sklearn/utils/validation.py:1310: DataConversionWarning: A column-vector y was passed when a 1d array was expected. Please change the shape of y to (n_samples, ), for example using ravel().\n",
      "  y = column_or_1d(y, warn=True)\n"
     ]
    },
    {
     "name": "stdout",
     "output_type": "stream",
     "text": [
      "[CV 5/5] END model__colsample_bytree=0.2, model__gamma=0.0, model__learning_rate=1.0, model__max_depth=8, model__min_child_weight=10.0, model__n_estimators=700, model__subsample=0.6666666666666666; neg_mean_absolute_error: (test=-2.270) r2: (test=-45.288) total time=  22.1s\n",
      "[CV 3/5] END model__colsample_bytree=0.2, model__gamma=0.3333333333333333, model__learning_rate=1.0, model__max_depth=8, model__min_child_weight=2.0, model__n_estimators=600, model__subsample=0.8333333333333333; neg_mean_absolute_error: (test=-1.268) r2: (test=-2.373) total time=  19.6s\n"
     ]
    },
    {
     "name": "stderr",
     "output_type": "stream",
     "text": [
      "/Users/utkarsh/miniconda3/lib/python3.11/site-packages/sklearn/utils/validation.py:1310: DataConversionWarning: A column-vector y was passed when a 1d array was expected. Please change the shape of y to (n_samples, ), for example using ravel().\n",
      "  y = column_or_1d(y, warn=True)\n",
      "/Users/utkarsh/miniconda3/lib/python3.11/site-packages/sklearn/utils/validation.py:1310: DataConversionWarning: A column-vector y was passed when a 1d array was expected. Please change the shape of y to (n_samples, ), for example using ravel().\n",
      "  y = column_or_1d(y, warn=True)\n",
      "/Users/utkarsh/miniconda3/lib/python3.11/site-packages/sklearn/utils/validation.py:1310: DataConversionWarning: A column-vector y was passed when a 1d array was expected. Please change the shape of y to (n_samples, ), for example using ravel().\n",
      "  y = column_or_1d(y, warn=True)\n",
      "/Users/utkarsh/miniconda3/lib/python3.11/site-packages/sklearn/utils/validation.py:1310: DataConversionWarning: A column-vector y was passed when a 1d array was expected. Please change the shape of y to (n_samples, ), for example using ravel().\n",
      "  y = column_or_1d(y, warn=True)\n",
      "/Users/utkarsh/miniconda3/lib/python3.11/site-packages/sklearn/utils/validation.py:1310: DataConversionWarning: A column-vector y was passed when a 1d array was expected. Please change the shape of y to (n_samples, ), for example using ravel().\n",
      "  y = column_or_1d(y, warn=True)\n",
      "/Users/utkarsh/miniconda3/lib/python3.11/site-packages/sklearn/utils/validation.py:1310: DataConversionWarning: A column-vector y was passed when a 1d array was expected. Please change the shape of y to (n_samples, ), for example using ravel().\n",
      "  y = column_or_1d(y, warn=True)\n",
      "/Users/utkarsh/miniconda3/lib/python3.11/site-packages/sklearn/utils/validation.py:1310: DataConversionWarning: A column-vector y was passed when a 1d array was expected. Please change the shape of y to (n_samples, ), for example using ravel().\n",
      "  y = column_or_1d(y, warn=True)\n",
      "/Users/utkarsh/miniconda3/lib/python3.11/site-packages/sklearn/utils/validation.py:1310: DataConversionWarning: A column-vector y was passed when a 1d array was expected. Please change the shape of y to (n_samples, ), for example using ravel().\n",
      "  y = column_or_1d(y, warn=True)\n"
     ]
    },
    {
     "name": "stdout",
     "output_type": "stream",
     "text": [
      "[CV 1/5] END model__colsample_bytree=0.9, model__gamma=0.3333333333333333, model__learning_rate=0.0001623776739188721, model__max_depth=3, model__min_child_weight=9.0, model__n_estimators=100, model__subsample=1.0; neg_mean_absolute_error: (test=-0.493) r2: (test=-0.074) total time=  18.5s\n",
      "[CV 4/5] END model__colsample_bytree=0.2, model__gamma=0.0, model__learning_rate=1.0, model__max_depth=8, model__min_child_weight=10.0, model__n_estimators=700, model__subsample=0.6666666666666666; neg_mean_absolute_error: (test=-1.765) r2: (test=-12.095) total time=  24.1s\n",
      "[CV 5/5] END model__colsample_bytree=0.7000000000000001, model__gamma=0.7777777777777777, model__learning_rate=0.007847599703514606, model__max_depth=3, model__min_child_weight=3.0, model__n_estimators=1000, model__subsample=0.8888888888888888; neg_mean_absolute_error: (test=-0.362) r2: (test=0.031) total time=  22.3s\n",
      "[CV 4/5] END model__colsample_bytree=0.9, model__gamma=0.3333333333333333, model__learning_rate=0.0001623776739188721, model__max_depth=3, model__min_child_weight=9.0, model__n_estimators=100, model__subsample=1.0; neg_mean_absolute_error: (test=-0.633) r2: (test=-0.934) total time=  17.5s\n"
     ]
    },
    {
     "name": "stderr",
     "output_type": "stream",
     "text": [
      "/Users/utkarsh/miniconda3/lib/python3.11/site-packages/sklearn/utils/validation.py:1310: DataConversionWarning: A column-vector y was passed when a 1d array was expected. Please change the shape of y to (n_samples, ), for example using ravel().\n",
      "  y = column_or_1d(y, warn=True)\n",
      "/Users/utkarsh/miniconda3/lib/python3.11/site-packages/sklearn/utils/validation.py:1310: DataConversionWarning: A column-vector y was passed when a 1d array was expected. Please change the shape of y to (n_samples, ), for example using ravel().\n",
      "  y = column_or_1d(y, warn=True)\n",
      "/Users/utkarsh/miniconda3/lib/python3.11/site-packages/sklearn/utils/validation.py:1310: DataConversionWarning: A column-vector y was passed when a 1d array was expected. Please change the shape of y to (n_samples, ), for example using ravel().\n",
      "  y = column_or_1d(y, warn=True)\n"
     ]
    },
    {
     "name": "stdout",
     "output_type": "stream",
     "text": [
      "[CV 4/5] END model__colsample_bytree=0.30000000000000004, model__gamma=0.7777777777777777, model__learning_rate=0.00042813323987193956, model__max_depth=4, model__min_child_weight=6.0, model__n_estimators=700, model__subsample=0.5; neg_mean_absolute_error: (test=-0.604) r2: (test=-0.790) total time=  23.0s\n",
      "[CV 4/5] END model__colsample_bytree=0.5, model__gamma=0.5555555555555556, model__learning_rate=0.002976351441631319, model__max_depth=9, model__min_child_weight=5.0, model__n_estimators=700, model__subsample=0.7777777777777778; neg_mean_absolute_error: (test=-0.524) r2: (test=-0.354) total time=  24.4s\n",
      "[CV 1/5] END model__colsample_bytree=0.30000000000000004, model__gamma=0.7777777777777777, model__learning_rate=0.00042813323987193956, model__max_depth=4, model__min_child_weight=6.0, model__n_estimators=700, model__subsample=0.5; neg_mean_absolute_error: (test=-0.473) r2: (test=-0.002) total time=  23.0s\n",
      "[CV 2/5] END model__colsample_bytree=0.2, model__gamma=0.0, model__learning_rate=1.0, model__max_depth=8, model__min_child_weight=10.0, model__n_estimators=700, model__subsample=0.6666666666666666; neg_mean_absolute_error: (test=-1.789) r2: (test=-20.933) total time=  23.8s\n",
      "[CV 2/5] END model__colsample_bytree=0.4, model__gamma=0.0, model__learning_rate=0.05455594781168514, model__max_depth=9, model__min_child_weight=6.0, model__n_estimators=900, model__subsample=0.7777777777777778; neg_mean_absolute_error: (test=-0.507) r2: (test=-0.688) total time=  29.5s\n",
      "[CV 4/5] END model__colsample_bytree=0.7000000000000001, model__gamma=0.7777777777777777, model__learning_rate=0.007847599703514606, model__max_depth=3, model__min_child_weight=3.0, model__n_estimators=1000, model__subsample=0.8888888888888888; neg_mean_absolute_error: (test=-0.481) r2: (test=-0.080) total time=  23.5s\n",
      "[CV 5/5] END model__colsample_bytree=0.9, model__gamma=0.3333333333333333, model__learning_rate=0.0001623776739188721, model__max_depth=3, model__min_child_weight=9.0, model__n_estimators=100, model__subsample=1.0; neg_mean_absolute_error: (test=-0.366) r2: (test=-0.020) total time=  18.2s\n",
      "[CV 2/5] END model__colsample_bytree=0.9, model__gamma=0.3333333333333333, model__learning_rate=0.0001623776739188721, model__max_depth=3, model__min_child_weight=9.0, model__n_estimators=100, model__subsample=1.0; neg_mean_absolute_error: (test=-0.640) r2: (test=-1.480) total time=  19.4s\n"
     ]
    },
    {
     "name": "stderr",
     "output_type": "stream",
     "text": [
      "/Users/utkarsh/miniconda3/lib/python3.11/site-packages/sklearn/utils/validation.py:1310: DataConversionWarning: A column-vector y was passed when a 1d array was expected. Please change the shape of y to (n_samples, ), for example using ravel().\n",
      "  y = column_or_1d(y, warn=True)\n",
      "/Users/utkarsh/miniconda3/lib/python3.11/site-packages/sklearn/utils/validation.py:1310: DataConversionWarning: A column-vector y was passed when a 1d array was expected. Please change the shape of y to (n_samples, ), for example using ravel().\n",
      "  y = column_or_1d(y, warn=True)\n",
      "/Users/utkarsh/miniconda3/lib/python3.11/site-packages/sklearn/utils/validation.py:1310: DataConversionWarning: A column-vector y was passed when a 1d array was expected. Please change the shape of y to (n_samples, ), for example using ravel().\n",
      "  y = column_or_1d(y, warn=True)\n",
      "/Users/utkarsh/miniconda3/lib/python3.11/site-packages/sklearn/utils/validation.py:1310: DataConversionWarning: A column-vector y was passed when a 1d array was expected. Please change the shape of y to (n_samples, ), for example using ravel().\n",
      "  y = column_or_1d(y, warn=True)\n",
      "/Users/utkarsh/miniconda3/lib/python3.11/site-packages/sklearn/utils/validation.py:1310: DataConversionWarning: A column-vector y was passed when a 1d array was expected. Please change the shape of y to (n_samples, ), for example using ravel().\n",
      "  y = column_or_1d(y, warn=True)\n"
     ]
    },
    {
     "name": "stdout",
     "output_type": "stream",
     "text": [
      "[CV 5/5] END model__colsample_bytree=0.2, model__gamma=0.3333333333333333, model__learning_rate=1.0, model__max_depth=8, model__min_child_weight=2.0, model__n_estimators=600, model__subsample=0.8333333333333333; neg_mean_absolute_error: (test=-1.142) r2: (test=-9.297) total time=  20.1s\n",
      "[CV 5/5] END model__colsample_bytree=0.5, model__gamma=0.5555555555555556, model__learning_rate=0.002976351441631319, model__max_depth=9, model__min_child_weight=5.0, model__n_estimators=700, model__subsample=0.7777777777777778; neg_mean_absolute_error: (test=-0.363) r2: (test=0.031) total time=  23.9s\n",
      "[CV 2/5] END model__colsample_bytree=0.5, model__gamma=0.4444444444444444, model__learning_rate=0.14384498882876628, model__max_depth=4, model__min_child_weight=6.0, model__n_estimators=800, model__subsample=0.5555555555555556; neg_mean_absolute_error: (test=-0.626) r2: (test=-1.809) total time=  23.1s\n",
      "[CV 4/5] END model__colsample_bytree=0.2, model__gamma=0.3333333333333333, model__learning_rate=1.0, model__max_depth=8, model__min_child_weight=2.0, model__n_estimators=600, model__subsample=0.8333333333333333; neg_mean_absolute_error: (test=-0.823) r2: (test=-2.528) total time=  20.8s\n"
     ]
    },
    {
     "name": "stderr",
     "output_type": "stream",
     "text": [
      "/Users/utkarsh/miniconda3/lib/python3.11/site-packages/sklearn/utils/validation.py:1310: DataConversionWarning: A column-vector y was passed when a 1d array was expected. Please change the shape of y to (n_samples, ), for example using ravel().\n",
      "  y = column_or_1d(y, warn=True)\n",
      "/Users/utkarsh/miniconda3/lib/python3.11/site-packages/sklearn/utils/validation.py:1310: DataConversionWarning: A column-vector y was passed when a 1d array was expected. Please change the shape of y to (n_samples, ), for example using ravel().\n",
      "  y = column_or_1d(y, warn=True)\n",
      "/Users/utkarsh/miniconda3/lib/python3.11/site-packages/sklearn/utils/validation.py:1310: DataConversionWarning: A column-vector y was passed when a 1d array was expected. Please change the shape of y to (n_samples, ), for example using ravel().\n",
      "  y = column_or_1d(y, warn=True)\n",
      "/Users/utkarsh/miniconda3/lib/python3.11/site-packages/sklearn/utils/validation.py:1310: DataConversionWarning: A column-vector y was passed when a 1d array was expected. Please change the shape of y to (n_samples, ), for example using ravel().\n",
      "  y = column_or_1d(y, warn=True)\n",
      "/Users/utkarsh/miniconda3/lib/python3.11/site-packages/sklearn/utils/validation.py:1310: DataConversionWarning: A column-vector y was passed when a 1d array was expected. Please change the shape of y to (n_samples, ), for example using ravel().\n",
      "  y = column_or_1d(y, warn=True)\n"
     ]
    },
    {
     "name": "stdout",
     "output_type": "stream",
     "text": [
      "[CV 2/5] END model__colsample_bytree=0.5, model__gamma=0.5555555555555556, model__learning_rate=0.002976351441631319, model__max_depth=9, model__min_child_weight=5.0, model__n_estimators=700, model__subsample=0.7777777777777778; neg_mean_absolute_error: (test=-0.577) r2: (test=-1.170) total time=  24.2s\n",
      "[CV 2/5] END model__colsample_bytree=0.7000000000000001, model__gamma=0.7777777777777777, model__learning_rate=0.007847599703514606, model__max_depth=3, model__min_child_weight=3.0, model__n_estimators=1000, model__subsample=0.8888888888888888; neg_mean_absolute_error: (test=-0.585) r2: (test=-1.254) total time=  23.6s\n"
     ]
    },
    {
     "name": "stderr",
     "output_type": "stream",
     "text": [
      "/Users/utkarsh/miniconda3/lib/python3.11/site-packages/sklearn/utils/validation.py:1310: DataConversionWarning: A column-vector y was passed when a 1d array was expected. Please change the shape of y to (n_samples, ), for example using ravel().\n",
      "  y = column_or_1d(y, warn=True)\n",
      "/Users/utkarsh/miniconda3/lib/python3.11/site-packages/sklearn/utils/validation.py:1310: DataConversionWarning: A column-vector y was passed when a 1d array was expected. Please change the shape of y to (n_samples, ), for example using ravel().\n",
      "  y = column_or_1d(y, warn=True)\n",
      "/Users/utkarsh/miniconda3/lib/python3.11/site-packages/sklearn/utils/validation.py:1310: DataConversionWarning: A column-vector y was passed when a 1d array was expected. Please change the shape of y to (n_samples, ), for example using ravel().\n",
      "  y = column_or_1d(y, warn=True)\n",
      "/Users/utkarsh/miniconda3/lib/python3.11/site-packages/sklearn/utils/validation.py:1310: DataConversionWarning: A column-vector y was passed when a 1d array was expected. Please change the shape of y to (n_samples, ), for example using ravel().\n",
      "  y = column_or_1d(y, warn=True)\n",
      "/Users/utkarsh/miniconda3/lib/python3.11/site-packages/sklearn/utils/validation.py:1310: DataConversionWarning: A column-vector y was passed when a 1d array was expected. Please change the shape of y to (n_samples, ), for example using ravel().\n",
      "  y = column_or_1d(y, warn=True)\n"
     ]
    },
    {
     "name": "stdout",
     "output_type": "stream",
     "text": [
      "[CV 3/5] END model__colsample_bytree=0.9, model__gamma=0.3333333333333333, model__learning_rate=0.0001623776739188721, model__max_depth=3, model__min_child_weight=9.0, model__n_estimators=100, model__subsample=1.0; neg_mean_absolute_error: (test=-0.720) r2: (test=-0.009) total time=  20.1s\n"
     ]
    },
    {
     "name": "stderr",
     "output_type": "stream",
     "text": [
      "/Users/utkarsh/miniconda3/lib/python3.11/site-packages/sklearn/utils/validation.py:1310: DataConversionWarning: A column-vector y was passed when a 1d array was expected. Please change the shape of y to (n_samples, ), for example using ravel().\n",
      "  y = column_or_1d(y, warn=True)\n",
      "/Users/utkarsh/miniconda3/lib/python3.11/site-packages/sklearn/utils/validation.py:1310: DataConversionWarning: A column-vector y was passed when a 1d array was expected. Please change the shape of y to (n_samples, ), for example using ravel().\n",
      "  y = column_or_1d(y, warn=True)\n",
      "/Users/utkarsh/miniconda3/lib/python3.11/site-packages/sklearn/utils/validation.py:1310: DataConversionWarning: A column-vector y was passed when a 1d array was expected. Please change the shape of y to (n_samples, ), for example using ravel().\n",
      "  y = column_or_1d(y, warn=True)\n"
     ]
    },
    {
     "name": "stdout",
     "output_type": "stream",
     "text": [
      "[CV 3/5] END model__colsample_bytree=0.4, model__gamma=0.0, model__learning_rate=0.05455594781168514, model__max_depth=9, model__min_child_weight=6.0, model__n_estimators=900, model__subsample=0.7777777777777778; neg_mean_absolute_error: (test=-0.556) r2: (test=0.121) total time=  29.4s\n"
     ]
    },
    {
     "name": "stderr",
     "output_type": "stream",
     "text": [
      "/Users/utkarsh/miniconda3/lib/python3.11/site-packages/sklearn/utils/validation.py:1310: DataConversionWarning: A column-vector y was passed when a 1d array was expected. Please change the shape of y to (n_samples, ), for example using ravel().\n",
      "  y = column_or_1d(y, warn=True)\n"
     ]
    },
    {
     "name": "stdout",
     "output_type": "stream",
     "text": [
      "[CV 2/5] END model__colsample_bytree=1.0, model__gamma=0.8888888888888888, model__learning_rate=0.00042813323987193956, model__max_depth=7, model__min_child_weight=6.0, model__n_estimators=400, model__subsample=0.7222222222222222; neg_mean_absolute_error: (test=-0.635) r2: (test=-1.458) total time=  25.2s\n",
      "[CV 1/5] END model__colsample_bytree=1.0, model__gamma=0.8888888888888888, model__learning_rate=0.00042813323987193956, model__max_depth=7, model__min_child_weight=6.0, model__n_estimators=400, model__subsample=0.7222222222222222; neg_mean_absolute_error: (test=-0.467) r2: (test=0.014) total time=  25.6s\n"
     ]
    },
    {
     "name": "stderr",
     "output_type": "stream",
     "text": [
      "/Users/utkarsh/miniconda3/lib/python3.11/site-packages/sklearn/utils/validation.py:1310: DataConversionWarning: A column-vector y was passed when a 1d array was expected. Please change the shape of y to (n_samples, ), for example using ravel().\n",
      "  y = column_or_1d(y, warn=True)\n",
      "/Users/utkarsh/miniconda3/lib/python3.11/site-packages/sklearn/utils/validation.py:1310: DataConversionWarning: A column-vector y was passed when a 1d array was expected. Please change the shape of y to (n_samples, ), for example using ravel().\n",
      "  y = column_or_1d(y, warn=True)\n"
     ]
    },
    {
     "name": "stdout",
     "output_type": "stream",
     "text": [
      "[CV 5/5] END model__colsample_bytree=0.4, model__gamma=0.0, model__learning_rate=0.05455594781168514, model__max_depth=9, model__min_child_weight=6.0, model__n_estimators=900, model__subsample=0.7777777777777778; neg_mean_absolute_error: (test=-0.373) r2: (test=-0.110) total time=  29.3s\n"
     ]
    },
    {
     "name": "stderr",
     "output_type": "stream",
     "text": [
      "/Users/utkarsh/miniconda3/lib/python3.11/site-packages/sklearn/utils/validation.py:1310: DataConversionWarning: A column-vector y was passed when a 1d array was expected. Please change the shape of y to (n_samples, ), for example using ravel().\n",
      "  y = column_or_1d(y, warn=True)\n"
     ]
    },
    {
     "name": "stdout",
     "output_type": "stream",
     "text": [
      "[CV 4/5] END model__colsample_bytree=0.4, model__gamma=0.0, model__learning_rate=0.05455594781168514, model__max_depth=9, model__min_child_weight=6.0, model__n_estimators=900, model__subsample=0.7777777777777778; neg_mean_absolute_error: (test=-0.587) r2: (test=-0.674) total time=  30.2s\n",
      "[CV 3/5] END model__colsample_bytree=1.0, model__gamma=0.8888888888888888, model__learning_rate=0.00042813323987193956, model__max_depth=7, model__min_child_weight=6.0, model__n_estimators=400, model__subsample=0.7222222222222222; neg_mean_absolute_error: (test=-0.705) r2: (test=0.022) total time=  26.4s\n"
     ]
    },
    {
     "name": "stderr",
     "output_type": "stream",
     "text": [
      "/Users/utkarsh/miniconda3/lib/python3.11/site-packages/sklearn/utils/validation.py:1310: DataConversionWarning: A column-vector y was passed when a 1d array was expected. Please change the shape of y to (n_samples, ), for example using ravel().\n",
      "  y = column_or_1d(y, warn=True)\n",
      "/Users/utkarsh/miniconda3/lib/python3.11/site-packages/sklearn/utils/validation.py:1310: DataConversionWarning: A column-vector y was passed when a 1d array was expected. Please change the shape of y to (n_samples, ), for example using ravel().\n",
      "  y = column_or_1d(y, warn=True)\n"
     ]
    },
    {
     "name": "stdout",
     "output_type": "stream",
     "text": [
      "[CV 2/5] END model__colsample_bytree=0.30000000000000004, model__gamma=1.0, model__learning_rate=0.08858667904100823, model__max_depth=3, model__min_child_weight=6.0, model__n_estimators=400, model__subsample=0.5555555555555556; neg_mean_absolute_error: (test=-0.554) r2: (test=-1.055) total time=  23.3s\n",
      "[CV 1/5] END model__colsample_bytree=0.30000000000000004, model__gamma=1.0, model__learning_rate=0.08858667904100823, model__max_depth=3, model__min_child_weight=6.0, model__n_estimators=400, model__subsample=0.5555555555555556; neg_mean_absolute_error: (test=-0.432) r2: (test=0.172) total time=  23.6s\n",
      "[CV 4/5] END model__colsample_bytree=1.0, model__gamma=0.8888888888888888, model__learning_rate=0.00042813323987193956, model__max_depth=7, model__min_child_weight=6.0, model__n_estimators=400, model__subsample=0.7222222222222222; neg_mean_absolute_error: (test=-0.603) r2: (test=-0.784) total time=  26.5s\n"
     ]
    },
    {
     "name": "stderr",
     "output_type": "stream",
     "text": [
      "/Users/utkarsh/miniconda3/lib/python3.11/site-packages/sklearn/utils/validation.py:1310: DataConversionWarning: A column-vector y was passed when a 1d array was expected. Please change the shape of y to (n_samples, ), for example using ravel().\n",
      "  y = column_or_1d(y, warn=True)\n",
      "/Users/utkarsh/miniconda3/lib/python3.11/site-packages/sklearn/utils/validation.py:1310: DataConversionWarning: A column-vector y was passed when a 1d array was expected. Please change the shape of y to (n_samples, ), for example using ravel().\n",
      "  y = column_or_1d(y, warn=True)\n",
      "/Users/utkarsh/miniconda3/lib/python3.11/site-packages/sklearn/utils/validation.py:1310: DataConversionWarning: A column-vector y was passed when a 1d array was expected. Please change the shape of y to (n_samples, ), for example using ravel().\n",
      "  y = column_or_1d(y, warn=True)\n"
     ]
    },
    {
     "name": "stdout",
     "output_type": "stream",
     "text": [
      "[CV 3/5] END model__colsample_bytree=0.30000000000000004, model__gamma=1.0, model__learning_rate=0.08858667904100823, model__max_depth=3, model__min_child_weight=6.0, model__n_estimators=400, model__subsample=0.5555555555555556; neg_mean_absolute_error: (test=-0.582) r2: (test=0.141) total time=  24.7s\n",
      "[CV 5/5] END model__colsample_bytree=1.0, model__gamma=0.8888888888888888, model__learning_rate=0.00042813323987193956, model__max_depth=7, model__min_child_weight=6.0, model__n_estimators=400, model__subsample=0.7222222222222222; neg_mean_absolute_error: (test=-0.365) r2: (test=-0.016) total time=  26.7s\n"
     ]
    },
    {
     "name": "stderr",
     "output_type": "stream",
     "text": [
      "/Users/utkarsh/miniconda3/lib/python3.11/site-packages/sklearn/utils/validation.py:1310: DataConversionWarning: A column-vector y was passed when a 1d array was expected. Please change the shape of y to (n_samples, ), for example using ravel().\n",
      "  y = column_or_1d(y, warn=True)\n",
      "/Users/utkarsh/miniconda3/lib/python3.11/site-packages/sklearn/utils/validation.py:1310: DataConversionWarning: A column-vector y was passed when a 1d array was expected. Please change the shape of y to (n_samples, ), for example using ravel().\n",
      "  y = column_or_1d(y, warn=True)\n"
     ]
    },
    {
     "name": "stdout",
     "output_type": "stream",
     "text": [
      "[CV 4/5] END model__colsample_bytree=0.30000000000000004, model__gamma=1.0, model__learning_rate=0.08858667904100823, model__max_depth=3, model__min_child_weight=6.0, model__n_estimators=400, model__subsample=0.5555555555555556; neg_mean_absolute_error: (test=-0.514) r2: (test=-0.304) total time=  25.6s\n"
     ]
    },
    {
     "name": "stderr",
     "output_type": "stream",
     "text": [
      "/Users/utkarsh/miniconda3/lib/python3.11/site-packages/sklearn/utils/validation.py:1310: DataConversionWarning: A column-vector y was passed when a 1d array was expected. Please change the shape of y to (n_samples, ), for example using ravel().\n",
      "  y = column_or_1d(y, warn=True)\n"
     ]
    },
    {
     "name": "stdout",
     "output_type": "stream",
     "text": [
      "[CV 5/5] END model__colsample_bytree=0.30000000000000004, model__gamma=1.0, model__learning_rate=0.08858667904100823, model__max_depth=3, model__min_child_weight=6.0, model__n_estimators=400, model__subsample=0.5555555555555556; neg_mean_absolute_error: (test=-0.397) r2: (test=-0.318) total time=  27.7s\n"
     ]
    },
    {
     "name": "stderr",
     "output_type": "stream",
     "text": [
      "/Users/utkarsh/miniconda3/lib/python3.11/site-packages/sklearn/utils/validation.py:1310: DataConversionWarning: A column-vector y was passed when a 1d array was expected. Please change the shape of y to (n_samples, ), for example using ravel().\n",
      "  y = column_or_1d(y, warn=True)\n"
     ]
    },
    {
     "name": "stdout",
     "output_type": "stream",
     "text": [
      "[CV 1/5] END model__colsample_bytree=0.2, model__gamma=0.5555555555555556, model__learning_rate=0.03359818286283781, model__max_depth=3, model__min_child_weight=3.0, model__n_estimators=100, model__subsample=0.5; neg_mean_absolute_error: (test=-0.473) r2: (test=0.000) total time=  22.1s\n"
     ]
    },
    {
     "name": "stderr",
     "output_type": "stream",
     "text": [
      "/Users/utkarsh/miniconda3/lib/python3.11/site-packages/sklearn/utils/validation.py:1310: DataConversionWarning: A column-vector y was passed when a 1d array was expected. Please change the shape of y to (n_samples, ), for example using ravel().\n",
      "  y = column_or_1d(y, warn=True)\n"
     ]
    },
    {
     "name": "stdout",
     "output_type": "stream",
     "text": [
      "[CV 2/5] END model__colsample_bytree=0.2, model__gamma=0.5555555555555556, model__learning_rate=0.03359818286283781, model__max_depth=3, model__min_child_weight=3.0, model__n_estimators=100, model__subsample=0.5; neg_mean_absolute_error: (test=-0.548) r2: (test=-0.989) total time=  23.8s\n"
     ]
    },
    {
     "name": "stderr",
     "output_type": "stream",
     "text": [
      "/Users/utkarsh/miniconda3/lib/python3.11/site-packages/sklearn/utils/validation.py:1310: DataConversionWarning: A column-vector y was passed when a 1d array was expected. Please change the shape of y to (n_samples, ), for example using ravel().\n",
      "  y = column_or_1d(y, warn=True)\n"
     ]
    },
    {
     "name": "stdout",
     "output_type": "stream",
     "text": [
      "[CV 4/5] END model__colsample_bytree=0.2, model__gamma=0.5555555555555556, model__learning_rate=0.03359818286283781, model__max_depth=3, model__min_child_weight=3.0, model__n_estimators=100, model__subsample=0.5; neg_mean_absolute_error: (test=-0.545) r2: (test=-0.453) total time=  24.9s\n",
      "[CV 2/5] END model__colsample_bytree=0.30000000000000004, model__gamma=0.4444444444444444, model__learning_rate=0.00026366508987303583, model__max_depth=10, model__min_child_weight=3.0, model__n_estimators=200, model__subsample=0.5; neg_mean_absolute_error: (test=-0.635) r2: (test=-1.450) total time=  25.8s\n",
      "[CV 1/5] END model__colsample_bytree=0.30000000000000004, model__gamma=0.4444444444444444, model__learning_rate=0.00026366508987303583, model__max_depth=10, model__min_child_weight=3.0, model__n_estimators=200, model__subsample=0.5; neg_mean_absolute_error: (test=-0.491) r2: (test=-0.064) total time=  26.5s\n"
     ]
    },
    {
     "name": "stderr",
     "output_type": "stream",
     "text": [
      "/Users/utkarsh/miniconda3/lib/python3.11/site-packages/sklearn/utils/validation.py:1310: DataConversionWarning: A column-vector y was passed when a 1d array was expected. Please change the shape of y to (n_samples, ), for example using ravel().\n",
      "  y = column_or_1d(y, warn=True)\n",
      "/Users/utkarsh/miniconda3/lib/python3.11/site-packages/sklearn/utils/validation.py:1310: DataConversionWarning: A column-vector y was passed when a 1d array was expected. Please change the shape of y to (n_samples, ), for example using ravel().\n",
      "  y = column_or_1d(y, warn=True)\n",
      "/Users/utkarsh/miniconda3/lib/python3.11/site-packages/sklearn/utils/validation.py:1310: DataConversionWarning: A column-vector y was passed when a 1d array was expected. Please change the shape of y to (n_samples, ), for example using ravel().\n",
      "  y = column_or_1d(y, warn=True)\n",
      "/Users/utkarsh/miniconda3/lib/python3.11/site-packages/sklearn/utils/validation.py:1310: DataConversionWarning: A column-vector y was passed when a 1d array was expected. Please change the shape of y to (n_samples, ), for example using ravel().\n",
      "  y = column_or_1d(y, warn=True)\n"
     ]
    },
    {
     "name": "stdout",
     "output_type": "stream",
     "text": [
      "[CV 2/5] END model__colsample_bytree=1.0, model__gamma=0.1111111111111111, model__learning_rate=0.615848211066026, model__max_depth=4, model__min_child_weight=3.0, model__n_estimators=100, model__subsample=0.9444444444444444; neg_mean_absolute_error: (test=-0.574) r2: (test=-1.272) total time=  23.3s\n",
      "[CV 5/5] END model__colsample_bytree=0.30000000000000004, model__gamma=0.4444444444444444, model__learning_rate=0.00026366508987303583, model__max_depth=10, model__min_child_weight=3.0, model__n_estimators=200, model__subsample=0.5; neg_mean_absolute_error: (test=-0.365) r2: (test=-0.013) total time=  25.8s\n"
     ]
    },
    {
     "name": "stderr",
     "output_type": "stream",
     "text": [
      "/Users/utkarsh/miniconda3/lib/python3.11/site-packages/sklearn/utils/validation.py:1310: DataConversionWarning: A column-vector y was passed when a 1d array was expected. Please change the shape of y to (n_samples, ), for example using ravel().\n",
      "  y = column_or_1d(y, warn=True)\n"
     ]
    },
    {
     "name": "stdout",
     "output_type": "stream",
     "text": [
      "[CV 3/5] END model__colsample_bytree=0.2, model__gamma=0.5555555555555556, model__learning_rate=0.03359818286283781, model__max_depth=3, model__min_child_weight=3.0, model__n_estimators=100, model__subsample=0.5; neg_mean_absolute_error: (test=-0.606) r2: (test=0.115) total time=  25.7s\n",
      "[CV 3/5] END model__colsample_bytree=0.30000000000000004, model__gamma=0.4444444444444444, model__learning_rate=0.00026366508987303583, model__max_depth=10, model__min_child_weight=3.0, model__n_estimators=200, model__subsample=0.5; neg_mean_absolute_error: (test=-0.714) r2: (test=0.001) total time=  26.2s\n",
      "[CV 3/5] END model__colsample_bytree=1.0, model__gamma=0.1111111111111111, model__learning_rate=0.615848211066026, model__max_depth=4, model__min_child_weight=3.0, model__n_estimators=100, model__subsample=0.9444444444444444; neg_mean_absolute_error: (test=-0.688) r2: (test=-0.202) total time=  23.2s\n"
     ]
    },
    {
     "name": "stderr",
     "output_type": "stream",
     "text": [
      "/Users/utkarsh/miniconda3/lib/python3.11/site-packages/sklearn/utils/validation.py:1310: DataConversionWarning: A column-vector y was passed when a 1d array was expected. Please change the shape of y to (n_samples, ), for example using ravel().\n",
      "  y = column_or_1d(y, warn=True)\n",
      "/Users/utkarsh/miniconda3/lib/python3.11/site-packages/sklearn/utils/validation.py:1310: DataConversionWarning: A column-vector y was passed when a 1d array was expected. Please change the shape of y to (n_samples, ), for example using ravel().\n",
      "  y = column_or_1d(y, warn=True)\n",
      "/Users/utkarsh/miniconda3/lib/python3.11/site-packages/sklearn/utils/validation.py:1310: DataConversionWarning: A column-vector y was passed when a 1d array was expected. Please change the shape of y to (n_samples, ), for example using ravel().\n",
      "  y = column_or_1d(y, warn=True)\n",
      "/Users/utkarsh/miniconda3/lib/python3.11/site-packages/sklearn/utils/validation.py:1310: DataConversionWarning: A column-vector y was passed when a 1d array was expected. Please change the shape of y to (n_samples, ), for example using ravel().\n",
      "  y = column_or_1d(y, warn=True)\n"
     ]
    },
    {
     "name": "stdout",
     "output_type": "stream",
     "text": [
      "[CV 1/5] END model__colsample_bytree=1.0, model__gamma=0.1111111111111111, model__learning_rate=0.615848211066026, model__max_depth=4, model__min_child_weight=3.0, model__n_estimators=100, model__subsample=0.9444444444444444; neg_mean_absolute_error: (test=-0.449) r2: (test=0.021) total time=  25.2s\n",
      "[CV 5/5] END model__colsample_bytree=0.2, model__gamma=0.5555555555555556, model__learning_rate=0.03359818286283781, model__max_depth=3, model__min_child_weight=3.0, model__n_estimators=100, model__subsample=0.5; neg_mean_absolute_error: (test=-0.381) r2: (test=-0.191) total time=  25.8s\n"
     ]
    },
    {
     "name": "stderr",
     "output_type": "stream",
     "text": [
      "/Users/utkarsh/miniconda3/lib/python3.11/site-packages/sklearn/utils/validation.py:1310: DataConversionWarning: A column-vector y was passed when a 1d array was expected. Please change the shape of y to (n_samples, ), for example using ravel().\n",
      "  y = column_or_1d(y, warn=True)\n",
      "/Users/utkarsh/miniconda3/lib/python3.11/site-packages/sklearn/utils/validation.py:1310: DataConversionWarning: A column-vector y was passed when a 1d array was expected. Please change the shape of y to (n_samples, ), for example using ravel().\n",
      "  y = column_or_1d(y, warn=True)\n",
      "/Users/utkarsh/miniconda3/lib/python3.11/site-packages/sklearn/utils/validation.py:1310: DataConversionWarning: A column-vector y was passed when a 1d array was expected. Please change the shape of y to (n_samples, ), for example using ravel().\n",
      "  y = column_or_1d(y, warn=True)\n"
     ]
    },
    {
     "name": "stdout",
     "output_type": "stream",
     "text": [
      "[CV 4/5] END model__colsample_bytree=0.30000000000000004, model__gamma=0.4444444444444444, model__learning_rate=0.00026366508987303583, model__max_depth=10, model__min_child_weight=3.0, model__n_estimators=200, model__subsample=0.5; neg_mean_absolute_error: (test=-0.628) r2: (test=-0.909) total time=  26.5s\n",
      "[CV 4/5] END model__colsample_bytree=1.0, model__gamma=0.1111111111111111, model__learning_rate=0.615848211066026, model__max_depth=4, model__min_child_weight=3.0, model__n_estimators=100, model__subsample=0.9444444444444444; neg_mean_absolute_error: (test=-0.617) r2: (test=-0.662) total time=  23.6s\n",
      "[CV 5/5] END model__colsample_bytree=1.0, model__gamma=0.1111111111111111, model__learning_rate=0.615848211066026, model__max_depth=4, model__min_child_weight=3.0, model__n_estimators=100, model__subsample=0.9444444444444444; neg_mean_absolute_error: (test=-0.419) r2: (test=-0.584) total time=  24.1s\n"
     ]
    },
    {
     "name": "stderr",
     "output_type": "stream",
     "text": [
      "/Users/utkarsh/miniconda3/lib/python3.11/site-packages/sklearn/utils/validation.py:1310: DataConversionWarning: A column-vector y was passed when a 1d array was expected. Please change the shape of y to (n_samples, ), for example using ravel().\n",
      "  y = column_or_1d(y, warn=True)\n"
     ]
    },
    {
     "name": "stdout",
     "output_type": "stream",
     "text": [
      "[CV 2/5] END model__colsample_bytree=0.7000000000000001, model__gamma=0.7777777777777777, model__learning_rate=0.002976351441631319, model__max_depth=5, model__min_child_weight=10.0, model__n_estimators=900, model__subsample=0.8333333333333333; neg_mean_absolute_error: (test=-0.593) r2: (test=-1.294) total time=  31.8s\n",
      "[CV 1/5] END model__colsample_bytree=0.7000000000000001, model__gamma=0.7777777777777777, model__learning_rate=0.002976351441631319, model__max_depth=5, model__min_child_weight=10.0, model__n_estimators=900, model__subsample=0.8333333333333333; neg_mean_absolute_error: (test=-0.450) r2: (test=0.065) total time=  32.3s\n"
     ]
    },
    {
     "name": "stderr",
     "output_type": "stream",
     "text": [
      "/Users/utkarsh/miniconda3/lib/python3.11/site-packages/sklearn/utils/validation.py:1310: DataConversionWarning: A column-vector y was passed when a 1d array was expected. Please change the shape of y to (n_samples, ), for example using ravel().\n",
      "  y = column_or_1d(y, warn=True)\n",
      "/Users/utkarsh/miniconda3/lib/python3.11/site-packages/sklearn/utils/validation.py:1310: DataConversionWarning: A column-vector y was passed when a 1d array was expected. Please change the shape of y to (n_samples, ), for example using ravel().\n",
      "  y = column_or_1d(y, warn=True)\n"
     ]
    },
    {
     "name": "stdout",
     "output_type": "stream",
     "text": [
      "[CV 5/5] END model__colsample_bytree=0.4, model__gamma=0.7777777777777777, model__learning_rate=0.0001, model__max_depth=7, model__min_child_weight=5.0, model__n_estimators=500, model__subsample=0.5555555555555556; neg_mean_absolute_error: (test=-0.365) r2: (test=-0.015) total time=  25.1s\n",
      "[CV 3/5] END model__colsample_bytree=0.6, model__gamma=0.5555555555555556, model__learning_rate=0.14384498882876628, model__max_depth=10, model__min_child_weight=5.0, model__n_estimators=1000, model__subsample=0.5; neg_mean_absolute_error: (test=-0.483) r2: (test=0.306) total time=  24.9s\n"
     ]
    },
    {
     "name": "stderr",
     "output_type": "stream",
     "text": [
      "/Users/utkarsh/miniconda3/lib/python3.11/site-packages/sklearn/utils/validation.py:1310: DataConversionWarning: A column-vector y was passed when a 1d array was expected. Please change the shape of y to (n_samples, ), for example using ravel().\n",
      "  y = column_or_1d(y, warn=True)\n"
     ]
    },
    {
     "name": "stdout",
     "output_type": "stream",
     "text": [
      "[CV 4/5] END model__colsample_bytree=0.4, model__gamma=0.1111111111111111, model__learning_rate=0.03359818286283781, model__max_depth=6, model__min_child_weight=8.0, model__n_estimators=500, model__subsample=0.6111111111111112; neg_mean_absolute_error: (test=-0.555) r2: (test=-0.492) total time=  24.0s\n",
      "[CV 3/5] END model__colsample_bytree=0.7000000000000001, model__gamma=0.7777777777777777, model__learning_rate=0.002976351441631319, model__max_depth=5, model__min_child_weight=10.0, model__n_estimators=900, model__subsample=0.8333333333333333; neg_mean_absolute_error: (test=-0.649) r2: (test=0.097) total time=  31.6s\n",
      "[CV 3/5] END model__colsample_bytree=0.30000000000000004, model__gamma=0.0, model__learning_rate=0.615848211066026, model__max_depth=5, model__min_child_weight=7.0, model__n_estimators=200, model__subsample=0.8333333333333333; neg_mean_absolute_error: (test=-0.930) r2: (test=-1.503) total time=  23.8s\n",
      "[CV 2/5] END model__colsample_bytree=0.30000000000000004, model__gamma=0.0, model__learning_rate=0.615848211066026, model__max_depth=5, model__min_child_weight=7.0, model__n_estimators=200, model__subsample=0.8333333333333333; neg_mean_absolute_error: (test=-0.484) r2: (test=-0.689) total time=  23.6s\n"
     ]
    },
    {
     "name": "stderr",
     "output_type": "stream",
     "text": [
      "/Users/utkarsh/miniconda3/lib/python3.11/site-packages/sklearn/utils/validation.py:1310: DataConversionWarning: A column-vector y was passed when a 1d array was expected. Please change the shape of y to (n_samples, ), for example using ravel().\n",
      "  y = column_or_1d(y, warn=True)\n",
      "/Users/utkarsh/miniconda3/lib/python3.11/site-packages/sklearn/utils/validation.py:1310: DataConversionWarning: A column-vector y was passed when a 1d array was expected. Please change the shape of y to (n_samples, ), for example using ravel().\n",
      "  y = column_or_1d(y, warn=True)\n",
      "/Users/utkarsh/miniconda3/lib/python3.11/site-packages/sklearn/utils/validation.py:1310: DataConversionWarning: A column-vector y was passed when a 1d array was expected. Please change the shape of y to (n_samples, ), for example using ravel().\n",
      "  y = column_or_1d(y, warn=True)\n",
      "/Users/utkarsh/miniconda3/lib/python3.11/site-packages/sklearn/utils/validation.py:1310: DataConversionWarning: A column-vector y was passed when a 1d array was expected. Please change the shape of y to (n_samples, ), for example using ravel().\n",
      "  y = column_or_1d(y, warn=True)\n",
      "/Users/utkarsh/miniconda3/lib/python3.11/site-packages/sklearn/utils/validation.py:1310: DataConversionWarning: A column-vector y was passed when a 1d array was expected. Please change the shape of y to (n_samples, ), for example using ravel().\n",
      "  y = column_or_1d(y, warn=True)\n"
     ]
    },
    {
     "name": "stdout",
     "output_type": "stream",
     "text": [
      "[CV 4/5] END model__colsample_bytree=0.7000000000000001, model__gamma=0.7777777777777777, model__learning_rate=0.002976351441631319, model__max_depth=5, model__min_child_weight=10.0, model__n_estimators=900, model__subsample=0.8333333333333333; neg_mean_absolute_error: (test=-0.493) r2: (test=-0.172) total time=  31.8s\n",
      "[CV 4/5] END model__colsample_bytree=0.4, model__gamma=0.7777777777777777, model__learning_rate=0.0001, model__max_depth=7, model__min_child_weight=5.0, model__n_estimators=500, model__subsample=0.5555555555555556; neg_mean_absolute_error: (test=-0.628) r2: (test=-0.910) total time=  26.2s\n",
      "[CV 5/5] END model__colsample_bytree=0.30000000000000004, model__gamma=0.0, model__learning_rate=0.615848211066026, model__max_depth=5, model__min_child_weight=7.0, model__n_estimators=200, model__subsample=0.8333333333333333; neg_mean_absolute_error: (test=-0.363) r2: (test=-0.059) total time=  24.1s\n"
     ]
    },
    {
     "name": "stderr",
     "output_type": "stream",
     "text": [
      "/Users/utkarsh/miniconda3/lib/python3.11/site-packages/sklearn/utils/validation.py:1310: DataConversionWarning: A column-vector y was passed when a 1d array was expected. Please change the shape of y to (n_samples, ), for example using ravel().\n",
      "  y = column_or_1d(y, warn=True)\n"
     ]
    },
    {
     "name": "stdout",
     "output_type": "stream",
     "text": [
      "[CV 2/5] END model__colsample_bytree=0.4, model__gamma=0.7777777777777777, model__learning_rate=0.0001, model__max_depth=7, model__min_child_weight=5.0, model__n_estimators=500, model__subsample=0.5555555555555556; neg_mean_absolute_error: (test=-0.636) r2: (test=-1.454) total time=  26.6s\n",
      "[CV 2/5] END model__colsample_bytree=0.4, model__gamma=0.1111111111111111, model__learning_rate=0.03359818286283781, model__max_depth=6, model__min_child_weight=8.0, model__n_estimators=500, model__subsample=0.6111111111111112; neg_mean_absolute_error: (test=-0.579) r2: (test=-1.230) total time=  25.1s\n"
     ]
    },
    {
     "name": "stderr",
     "output_type": "stream",
     "text": [
      "/Users/utkarsh/miniconda3/lib/python3.11/site-packages/sklearn/utils/validation.py:1310: DataConversionWarning: A column-vector y was passed when a 1d array was expected. Please change the shape of y to (n_samples, ), for example using ravel().\n",
      "  y = column_or_1d(y, warn=True)\n",
      "/Users/utkarsh/miniconda3/lib/python3.11/site-packages/sklearn/utils/validation.py:1310: DataConversionWarning: A column-vector y was passed when a 1d array was expected. Please change the shape of y to (n_samples, ), for example using ravel().\n",
      "  y = column_or_1d(y, warn=True)\n",
      "/Users/utkarsh/miniconda3/lib/python3.11/site-packages/sklearn/utils/validation.py:1310: DataConversionWarning: A column-vector y was passed when a 1d array was expected. Please change the shape of y to (n_samples, ), for example using ravel().\n",
      "  y = column_or_1d(y, warn=True)\n"
     ]
    },
    {
     "name": "stdout",
     "output_type": "stream",
     "text": [
      "[CV 3/5] END model__colsample_bytree=0.4, model__gamma=0.7777777777777777, model__learning_rate=0.0001, model__max_depth=7, model__min_child_weight=5.0, model__n_estimators=500, model__subsample=0.5555555555555556; neg_mean_absolute_error: (test=-0.716) r2: (test=-0.002) total time=  26.6s\n",
      "[CV 3/5] END model__colsample_bytree=0.4, model__gamma=0.1111111111111111, model__learning_rate=0.03359818286283781, model__max_depth=6, model__min_child_weight=8.0, model__n_estimators=500, model__subsample=0.6111111111111112; neg_mean_absolute_error: (test=-0.564) r2: (test=0.105) total time=  25.4s\n",
      "[CV 1/5] END model__colsample_bytree=0.4, model__gamma=0.7777777777777777, model__learning_rate=0.0001, model__max_depth=7, model__min_child_weight=5.0, model__n_estimators=500, model__subsample=0.5555555555555556; neg_mean_absolute_error: (test=-0.490) r2: (test=-0.063) total time=  27.2s\n",
      "[CV 1/5] END model__colsample_bytree=0.30000000000000004, model__gamma=0.0, model__learning_rate=0.615848211066026, model__max_depth=5, model__min_child_weight=7.0, model__n_estimators=200, model__subsample=0.8333333333333333; neg_mean_absolute_error: (test=-0.743) r2: (test=-1.440) total time=  24.9s\n"
     ]
    },
    {
     "name": "stderr",
     "output_type": "stream",
     "text": [
      "/Users/utkarsh/miniconda3/lib/python3.11/site-packages/sklearn/utils/validation.py:1310: DataConversionWarning: A column-vector y was passed when a 1d array was expected. Please change the shape of y to (n_samples, ), for example using ravel().\n",
      "  y = column_or_1d(y, warn=True)\n",
      "/Users/utkarsh/miniconda3/lib/python3.11/site-packages/sklearn/utils/validation.py:1310: DataConversionWarning: A column-vector y was passed when a 1d array was expected. Please change the shape of y to (n_samples, ), for example using ravel().\n",
      "  y = column_or_1d(y, warn=True)\n",
      "/Users/utkarsh/miniconda3/lib/python3.11/site-packages/sklearn/utils/validation.py:1310: DataConversionWarning: A column-vector y was passed when a 1d array was expected. Please change the shape of y to (n_samples, ), for example using ravel().\n",
      "  y = column_or_1d(y, warn=True)\n",
      "/Users/utkarsh/miniconda3/lib/python3.11/site-packages/sklearn/utils/validation.py:1310: DataConversionWarning: A column-vector y was passed when a 1d array was expected. Please change the shape of y to (n_samples, ), for example using ravel().\n",
      "  y = column_or_1d(y, warn=True)\n",
      "/Users/utkarsh/miniconda3/lib/python3.11/site-packages/sklearn/utils/validation.py:1310: DataConversionWarning: A column-vector y was passed when a 1d array was expected. Please change the shape of y to (n_samples, ), for example using ravel().\n",
      "  y = column_or_1d(y, warn=True)\n"
     ]
    },
    {
     "name": "stdout",
     "output_type": "stream",
     "text": [
      "[CV 4/5] END model__colsample_bytree=0.9, model__gamma=0.5555555555555556, model__learning_rate=0.004832930238571752, model__max_depth=6, model__min_child_weight=8.0, model__n_estimators=600, model__subsample=0.8333333333333333; neg_mean_absolute_error: (test=-0.496) r2: (test=-0.184) total time=  26.6s\n",
      "[CV 1/5] END model__colsample_bytree=0.4, model__gamma=0.1111111111111111, model__learning_rate=0.03359818286283781, model__max_depth=6, model__min_child_weight=8.0, model__n_estimators=500, model__subsample=0.6111111111111112; neg_mean_absolute_error: (test=-0.435) r2: (test=0.166) total time=  26.3s\n",
      "[CV 5/5] END model__colsample_bytree=0.6, model__gamma=0.5555555555555556, model__learning_rate=0.14384498882876628, model__max_depth=10, model__min_child_weight=5.0, model__n_estimators=1000, model__subsample=0.5; neg_mean_absolute_error: (test=-0.432) r2: (test=-0.578) total time=  27.5s\n",
      "[CV 4/5] END model__colsample_bytree=0.6, model__gamma=0.5555555555555556, model__learning_rate=0.14384498882876628, model__max_depth=10, model__min_child_weight=5.0, model__n_estimators=1000, model__subsample=0.5; neg_mean_absolute_error: (test=-0.773) r2: (test=-1.579) total time=  27.8s\n",
      "[CV 4/5] END model__colsample_bytree=0.30000000000000004, model__gamma=0.0, model__learning_rate=0.615848211066026, model__max_depth=5, model__min_child_weight=7.0, model__n_estimators=200, model__subsample=0.8333333333333333; neg_mean_absolute_error: (test=-0.803) r2: (test=-1.719) total time=  26.0s\n"
     ]
    },
    {
     "name": "stderr",
     "output_type": "stream",
     "text": [
      "/Users/utkarsh/miniconda3/lib/python3.11/site-packages/sklearn/utils/validation.py:1310: DataConversionWarning: A column-vector y was passed when a 1d array was expected. Please change the shape of y to (n_samples, ), for example using ravel().\n",
      "  y = column_or_1d(y, warn=True)\n",
      "/Users/utkarsh/miniconda3/lib/python3.11/site-packages/sklearn/utils/validation.py:1310: DataConversionWarning: A column-vector y was passed when a 1d array was expected. Please change the shape of y to (n_samples, ), for example using ravel().\n",
      "  y = column_or_1d(y, warn=True)\n",
      "/Users/utkarsh/miniconda3/lib/python3.11/site-packages/sklearn/utils/validation.py:1310: DataConversionWarning: A column-vector y was passed when a 1d array was expected. Please change the shape of y to (n_samples, ), for example using ravel().\n",
      "  y = column_or_1d(y, warn=True)\n",
      "/Users/utkarsh/miniconda3/lib/python3.11/site-packages/sklearn/utils/validation.py:1310: DataConversionWarning: A column-vector y was passed when a 1d array was expected. Please change the shape of y to (n_samples, ), for example using ravel().\n",
      "  y = column_or_1d(y, warn=True)\n"
     ]
    },
    {
     "name": "stdout",
     "output_type": "stream",
     "text": [
      "[CV 5/5] END model__colsample_bytree=0.7000000000000001, model__gamma=0.7777777777777777, model__learning_rate=0.002976351441631319, model__max_depth=5, model__min_child_weight=10.0, model__n_estimators=900, model__subsample=0.8333333333333333; neg_mean_absolute_error: (test=-0.362) r2: (test=0.037) total time=  34.0s\n"
     ]
    },
    {
     "name": "stderr",
     "output_type": "stream",
     "text": [
      "/Users/utkarsh/miniconda3/lib/python3.11/site-packages/sklearn/utils/validation.py:1310: DataConversionWarning: A column-vector y was passed when a 1d array was expected. Please change the shape of y to (n_samples, ), for example using ravel().\n",
      "  y = column_or_1d(y, warn=True)\n",
      "/Users/utkarsh/miniconda3/lib/python3.11/site-packages/sklearn/utils/validation.py:1310: DataConversionWarning: A column-vector y was passed when a 1d array was expected. Please change the shape of y to (n_samples, ), for example using ravel().\n",
      "  y = column_or_1d(y, warn=True)\n"
     ]
    },
    {
     "name": "stdout",
     "output_type": "stream",
     "text": [
      "[CV 2/5] END model__colsample_bytree=0.9, model__gamma=0.5555555555555556, model__learning_rate=0.004832930238571752, model__max_depth=6, model__min_child_weight=8.0, model__n_estimators=600, model__subsample=0.8333333333333333; neg_mean_absolute_error: (test=-0.608) r2: (test=-1.398) total time=  28.4s\n",
      "[CV 5/5] END model__colsample_bytree=0.9, model__gamma=0.5555555555555556, model__learning_rate=0.004832930238571752, model__max_depth=6, model__min_child_weight=8.0, model__n_estimators=600, model__subsample=0.8333333333333333; neg_mean_absolute_error: (test=-0.362) r2: (test=0.025) total time=  27.9s\n"
     ]
    },
    {
     "name": "stderr",
     "output_type": "stream",
     "text": [
      "/Users/utkarsh/miniconda3/lib/python3.11/site-packages/sklearn/utils/validation.py:1310: DataConversionWarning: A column-vector y was passed when a 1d array was expected. Please change the shape of y to (n_samples, ), for example using ravel().\n",
      "  y = column_or_1d(y, warn=True)\n"
     ]
    },
    {
     "name": "stdout",
     "output_type": "stream",
     "text": [
      "[CV 2/5] END model__colsample_bytree=1.0, model__gamma=0.4444444444444444, model__learning_rate=0.00026366508987303583, model__max_depth=9, model__min_child_weight=9.0, model__n_estimators=400, model__subsample=1.0; neg_mean_absolute_error: (test=-0.637) r2: (test=-1.464) total time=  26.8s\n",
      "[CV 1/5] END model__colsample_bytree=0.6, model__gamma=0.5555555555555556, model__learning_rate=0.14384498882876628, model__max_depth=10, model__min_child_weight=5.0, model__n_estimators=1000, model__subsample=0.5; neg_mean_absolute_error: (test=-0.390) r2: (test=0.309) total time=  29.2s\n"
     ]
    },
    {
     "name": "stderr",
     "output_type": "stream",
     "text": [
      "/Users/utkarsh/miniconda3/lib/python3.11/site-packages/sklearn/utils/validation.py:1310: DataConversionWarning: A column-vector y was passed when a 1d array was expected. Please change the shape of y to (n_samples, ), for example using ravel().\n",
      "  y = column_or_1d(y, warn=True)\n",
      "/Users/utkarsh/miniconda3/lib/python3.11/site-packages/sklearn/utils/validation.py:1310: DataConversionWarning: A column-vector y was passed when a 1d array was expected. Please change the shape of y to (n_samples, ), for example using ravel().\n",
      "  y = column_or_1d(y, warn=True)\n",
      "/Users/utkarsh/miniconda3/lib/python3.11/site-packages/sklearn/utils/validation.py:1310: DataConversionWarning: A column-vector y was passed when a 1d array was expected. Please change the shape of y to (n_samples, ), for example using ravel().\n",
      "  y = column_or_1d(y, warn=True)\n"
     ]
    },
    {
     "name": "stdout",
     "output_type": "stream",
     "text": [
      "[CV 2/5] END model__colsample_bytree=0.6, model__gamma=0.5555555555555556, model__learning_rate=0.14384498882876628, model__max_depth=10, model__min_child_weight=5.0, model__n_estimators=1000, model__subsample=0.5; neg_mean_absolute_error: (test=-0.476) r2: (test=-0.554) total time=  29.6s\n",
      "[CV 5/5] END model__colsample_bytree=0.4, model__gamma=0.1111111111111111, model__learning_rate=0.03359818286283781, model__max_depth=6, model__min_child_weight=8.0, model__n_estimators=500, model__subsample=0.6111111111111112; neg_mean_absolute_error: (test=-0.362) r2: (test=0.033) total time=  28.4s\n"
     ]
    },
    {
     "name": "stderr",
     "output_type": "stream",
     "text": [
      "/Users/utkarsh/miniconda3/lib/python3.11/site-packages/sklearn/utils/validation.py:1310: DataConversionWarning: A column-vector y was passed when a 1d array was expected. Please change the shape of y to (n_samples, ), for example using ravel().\n",
      "  y = column_or_1d(y, warn=True)\n",
      "/Users/utkarsh/miniconda3/lib/python3.11/site-packages/sklearn/utils/validation.py:1310: DataConversionWarning: A column-vector y was passed when a 1d array was expected. Please change the shape of y to (n_samples, ), for example using ravel().\n",
      "  y = column_or_1d(y, warn=True)\n"
     ]
    },
    {
     "name": "stdout",
     "output_type": "stream",
     "text": [
      "[CV 3/5] END model__colsample_bytree=0.9, model__gamma=0.5555555555555556, model__learning_rate=0.004832930238571752, model__max_depth=6, model__min_child_weight=8.0, model__n_estimators=600, model__subsample=0.8333333333333333; neg_mean_absolute_error: (test=-0.660) r2: (test=0.092) total time=  29.8s\n",
      "[CV 1/5] END model__colsample_bytree=0.8, model__gamma=0.3333333333333333, model__learning_rate=0.03359818286283781, model__max_depth=None, model__min_child_weight=7.0, model__n_estimators=1000, model__subsample=0.8888888888888888; neg_mean_absolute_error: (test=-0.459) r2: (test=0.020) total time=  27.4s\n"
     ]
    },
    {
     "name": "stderr",
     "output_type": "stream",
     "text": [
      "/Users/utkarsh/miniconda3/lib/python3.11/site-packages/sklearn/utils/validation.py:1310: DataConversionWarning: A column-vector y was passed when a 1d array was expected. Please change the shape of y to (n_samples, ), for example using ravel().\n",
      "  y = column_or_1d(y, warn=True)\n"
     ]
    },
    {
     "name": "stdout",
     "output_type": "stream",
     "text": [
      "[CV 3/5] END model__colsample_bytree=1.0, model__gamma=0.4444444444444444, model__learning_rate=0.00026366508987303583, model__max_depth=9, model__min_child_weight=9.0, model__n_estimators=400, model__subsample=1.0; neg_mean_absolute_error: (test=-0.713) r2: (test=0.003) total time=  28.1s\n"
     ]
    },
    {
     "name": "stderr",
     "output_type": "stream",
     "text": [
      "/Users/utkarsh/miniconda3/lib/python3.11/site-packages/sklearn/utils/validation.py:1310: DataConversionWarning: A column-vector y was passed when a 1d array was expected. Please change the shape of y to (n_samples, ), for example using ravel().\n",
      "  y = column_or_1d(y, warn=True)\n",
      "/Users/utkarsh/miniconda3/lib/python3.11/site-packages/sklearn/utils/validation.py:1310: DataConversionWarning: A column-vector y was passed when a 1d array was expected. Please change the shape of y to (n_samples, ), for example using ravel().\n",
      "  y = column_or_1d(y, warn=True)\n"
     ]
    },
    {
     "name": "stdout",
     "output_type": "stream",
     "text": [
      "[CV 1/5] END model__colsample_bytree=1.0, model__gamma=0.4444444444444444, model__learning_rate=0.00026366508987303583, model__max_depth=9, model__min_child_weight=9.0, model__n_estimators=400, model__subsample=1.0; neg_mean_absolute_error: (test=-0.475) r2: (test=-0.014) total time=  28.8s\n",
      "[CV 4/5] END model__colsample_bytree=1.0, model__gamma=0.4444444444444444, model__learning_rate=0.00026366508987303583, model__max_depth=9, model__min_child_weight=9.0, model__n_estimators=400, model__subsample=1.0; neg_mean_absolute_error: (test=-0.628) r2: (test=-0.916) total time=  28.1s\n"
     ]
    },
    {
     "name": "stderr",
     "output_type": "stream",
     "text": [
      "/Users/utkarsh/miniconda3/lib/python3.11/site-packages/sklearn/utils/validation.py:1310: DataConversionWarning: A column-vector y was passed when a 1d array was expected. Please change the shape of y to (n_samples, ), for example using ravel().\n",
      "  y = column_or_1d(y, warn=True)\n",
      "/Users/utkarsh/miniconda3/lib/python3.11/site-packages/sklearn/utils/validation.py:1310: DataConversionWarning: A column-vector y was passed when a 1d array was expected. Please change the shape of y to (n_samples, ), for example using ravel().\n",
      "  y = column_or_1d(y, warn=True)\n"
     ]
    },
    {
     "name": "stdout",
     "output_type": "stream",
     "text": [
      "[CV 1/5] END model__colsample_bytree=0.9, model__gamma=0.5555555555555556, model__learning_rate=0.004832930238571752, model__max_depth=6, model__min_child_weight=8.0, model__n_estimators=600, model__subsample=0.8333333333333333; neg_mean_absolute_error: (test=-0.449) r2: (test=0.064) total time=  31.2s\n",
      "[CV 5/5] END model__colsample_bytree=1.0, model__gamma=0.4444444444444444, model__learning_rate=0.00026366508987303583, model__max_depth=9, model__min_child_weight=9.0, model__n_estimators=400, model__subsample=1.0; neg_mean_absolute_error: (test=-0.365) r2: (test=-0.017) total time=  29.4s\n"
     ]
    },
    {
     "name": "stderr",
     "output_type": "stream",
     "text": [
      "/Users/utkarsh/miniconda3/lib/python3.11/site-packages/sklearn/utils/validation.py:1310: DataConversionWarning: A column-vector y was passed when a 1d array was expected. Please change the shape of y to (n_samples, ), for example using ravel().\n",
      "  y = column_or_1d(y, warn=True)\n",
      "/Users/utkarsh/miniconda3/lib/python3.11/site-packages/sklearn/utils/validation.py:1310: DataConversionWarning: A column-vector y was passed when a 1d array was expected. Please change the shape of y to (n_samples, ), for example using ravel().\n",
      "  y = column_or_1d(y, warn=True)\n"
     ]
    },
    {
     "name": "stdout",
     "output_type": "stream",
     "text": [
      "[CV 3/5] END model__colsample_bytree=0.8, model__gamma=0.3333333333333333, model__learning_rate=0.03359818286283781, model__max_depth=None, model__min_child_weight=7.0, model__n_estimators=1000, model__subsample=0.8888888888888888; neg_mean_absolute_error: (test=-0.608) r2: (test=0.104) total time=  23.7s\n"
     ]
    },
    {
     "name": "stderr",
     "output_type": "stream",
     "text": [
      "/Users/utkarsh/miniconda3/lib/python3.11/site-packages/sklearn/utils/validation.py:1310: DataConversionWarning: A column-vector y was passed when a 1d array was expected. Please change the shape of y to (n_samples, ), for example using ravel().\n",
      "  y = column_or_1d(y, warn=True)\n"
     ]
    },
    {
     "name": "stdout",
     "output_type": "stream",
     "text": [
      "[CV 2/5] END model__colsample_bytree=0.8, model__gamma=0.3333333333333333, model__learning_rate=0.03359818286283781, model__max_depth=None, model__min_child_weight=7.0, model__n_estimators=1000, model__subsample=0.8888888888888888; neg_mean_absolute_error: (test=-0.579) r2: (test=-1.260) total time=  26.0s\n"
     ]
    },
    {
     "name": "stderr",
     "output_type": "stream",
     "text": [
      "/Users/utkarsh/miniconda3/lib/python3.11/site-packages/sklearn/utils/validation.py:1310: DataConversionWarning: A column-vector y was passed when a 1d array was expected. Please change the shape of y to (n_samples, ), for example using ravel().\n",
      "  y = column_or_1d(y, warn=True)\n"
     ]
    },
    {
     "name": "stdout",
     "output_type": "stream",
     "text": [
      "[CV 5/5] END model__colsample_bytree=0.8, model__gamma=0.3333333333333333, model__learning_rate=0.03359818286283781, model__max_depth=None, model__min_child_weight=7.0, model__n_estimators=1000, model__subsample=0.8888888888888888; neg_mean_absolute_error: (test=-0.367) r2: (test=-0.048) total time=  25.6s\n"
     ]
    },
    {
     "name": "stderr",
     "output_type": "stream",
     "text": [
      "/Users/utkarsh/miniconda3/lib/python3.11/site-packages/sklearn/utils/validation.py:1310: DataConversionWarning: A column-vector y was passed when a 1d array was expected. Please change the shape of y to (n_samples, ), for example using ravel().\n",
      "  y = column_or_1d(y, warn=True)\n"
     ]
    },
    {
     "name": "stdout",
     "output_type": "stream",
     "text": [
      "[CV 4/5] END model__colsample_bytree=0.8, model__gamma=0.3333333333333333, model__learning_rate=0.03359818286283781, model__max_depth=None, model__min_child_weight=7.0, model__n_estimators=1000, model__subsample=0.8888888888888888; neg_mean_absolute_error: (test=-0.499) r2: (test=-0.174) total time=  26.6s\n"
     ]
    },
    {
     "name": "stderr",
     "output_type": "stream",
     "text": [
      "/Users/utkarsh/miniconda3/lib/python3.11/site-packages/sklearn/utils/validation.py:1310: DataConversionWarning: A column-vector y was passed when a 1d array was expected. Please change the shape of y to (n_samples, ), for example using ravel().\n",
      "  y = column_or_1d(y, warn=True)\n"
     ]
    },
    {
     "name": "stdout",
     "output_type": "stream",
     "text": [
      "[CV 2/5] END model__colsample_bytree=0.7000000000000001, model__gamma=0.3333333333333333, model__learning_rate=0.00042813323987193956, model__max_depth=7, model__min_child_weight=2.0, model__n_estimators=500, model__subsample=0.6666666666666666; neg_mean_absolute_error: (test=-0.627) r2: (test=-1.409) total time=  25.9s\n"
     ]
    },
    {
     "name": "stderr",
     "output_type": "stream",
     "text": [
      "/Users/utkarsh/miniconda3/lib/python3.11/site-packages/sklearn/utils/validation.py:1310: DataConversionWarning: A column-vector y was passed when a 1d array was expected. Please change the shape of y to (n_samples, ), for example using ravel().\n",
      "  y = column_or_1d(y, warn=True)\n"
     ]
    },
    {
     "name": "stdout",
     "output_type": "stream",
     "text": [
      "[CV 1/5] END model__colsample_bytree=0.7000000000000001, model__gamma=0.3333333333333333, model__learning_rate=0.00042813323987193956, model__max_depth=7, model__min_child_weight=2.0, model__n_estimators=500, model__subsample=0.6666666666666666; neg_mean_absolute_error: (test=-0.470) r2: (test=0.005) total time=  26.4s\n"
     ]
    },
    {
     "name": "stderr",
     "output_type": "stream",
     "text": [
      "/Users/utkarsh/miniconda3/lib/python3.11/site-packages/sklearn/utils/validation.py:1310: DataConversionWarning: A column-vector y was passed when a 1d array was expected. Please change the shape of y to (n_samples, ), for example using ravel().\n",
      "  y = column_or_1d(y, warn=True)\n"
     ]
    },
    {
     "name": "stdout",
     "output_type": "stream",
     "text": [
      "[CV 2/5] END model__colsample_bytree=0.9, model__gamma=0.6666666666666666, model__learning_rate=0.00042813323987193956, model__max_depth=10, model__min_child_weight=3.0, model__n_estimators=300, model__subsample=0.7777777777777778; neg_mean_absolute_error: (test=-0.636) r2: (test=-1.461) total time=  24.2s\n"
     ]
    },
    {
     "name": "stderr",
     "output_type": "stream",
     "text": [
      "/Users/utkarsh/miniconda3/lib/python3.11/site-packages/sklearn/utils/validation.py:1310: DataConversionWarning: A column-vector y was passed when a 1d array was expected. Please change the shape of y to (n_samples, ), for example using ravel().\n",
      "  y = column_or_1d(y, warn=True)\n"
     ]
    },
    {
     "name": "stdout",
     "output_type": "stream",
     "text": [
      "[CV 1/5] END model__colsample_bytree=0.9, model__gamma=0.6666666666666666, model__learning_rate=0.00042813323987193956, model__max_depth=10, model__min_child_weight=3.0, model__n_estimators=300, model__subsample=0.7777777777777778; neg_mean_absolute_error: (test=-0.474) r2: (test=-0.008) total time=  24.7s\n"
     ]
    },
    {
     "name": "stderr",
     "output_type": "stream",
     "text": [
      "/Users/utkarsh/miniconda3/lib/python3.11/site-packages/sklearn/utils/validation.py:1310: DataConversionWarning: A column-vector y was passed when a 1d array was expected. Please change the shape of y to (n_samples, ), for example using ravel().\n",
      "  y = column_or_1d(y, warn=True)\n"
     ]
    },
    {
     "name": "stdout",
     "output_type": "stream",
     "text": [
      "[CV 5/5] END model__colsample_bytree=0.7000000000000001, model__gamma=0.3333333333333333, model__learning_rate=0.00042813323987193956, model__max_depth=7, model__min_child_weight=2.0, model__n_estimators=500, model__subsample=0.6666666666666666; neg_mean_absolute_error: (test=-0.365) r2: (test=-0.001) total time=  27.3s\n",
      "[CV 4/5] END model__colsample_bytree=0.7000000000000001, model__gamma=0.3333333333333333, model__learning_rate=0.00042813323987193956, model__max_depth=7, model__min_child_weight=2.0, model__n_estimators=500, model__subsample=0.6666666666666666; neg_mean_absolute_error: (test=-0.601) r2: (test=-0.773) total time=  27.4s\n"
     ]
    },
    {
     "name": "stderr",
     "output_type": "stream",
     "text": [
      "/Users/utkarsh/miniconda3/lib/python3.11/site-packages/sklearn/utils/validation.py:1310: DataConversionWarning: A column-vector y was passed when a 1d array was expected. Please change the shape of y to (n_samples, ), for example using ravel().\n",
      "  y = column_or_1d(y, warn=True)\n",
      "/Users/utkarsh/miniconda3/lib/python3.11/site-packages/sklearn/utils/validation.py:1310: DataConversionWarning: A column-vector y was passed when a 1d array was expected. Please change the shape of y to (n_samples, ), for example using ravel().\n",
      "  y = column_or_1d(y, warn=True)\n"
     ]
    },
    {
     "name": "stdout",
     "output_type": "stream",
     "text": [
      "[CV 3/5] END model__colsample_bytree=0.7000000000000001, model__gamma=0.3333333333333333, model__learning_rate=0.00042813323987193956, model__max_depth=7, model__min_child_weight=2.0, model__n_estimators=500, model__subsample=0.6666666666666666; neg_mean_absolute_error: (test=-0.687) r2: (test=0.050) total time=  28.2s\n"
     ]
    },
    {
     "name": "stderr",
     "output_type": "stream",
     "text": [
      "/Users/utkarsh/miniconda3/lib/python3.11/site-packages/sklearn/utils/validation.py:1310: DataConversionWarning: A column-vector y was passed when a 1d array was expected. Please change the shape of y to (n_samples, ), for example using ravel().\n",
      "  y = column_or_1d(y, warn=True)\n"
     ]
    },
    {
     "name": "stdout",
     "output_type": "stream",
     "text": [
      "[CV 4/5] END model__colsample_bytree=0.9, model__gamma=0.6666666666666666, model__learning_rate=0.00042813323987193956, model__max_depth=10, model__min_child_weight=3.0, model__n_estimators=300, model__subsample=0.7777777777777778; neg_mean_absolute_error: (test=-0.613) r2: (test=-0.833) total time=  23.4s\n"
     ]
    },
    {
     "name": "stderr",
     "output_type": "stream",
     "text": [
      "/Users/utkarsh/miniconda3/lib/python3.11/site-packages/sklearn/utils/validation.py:1310: DataConversionWarning: A column-vector y was passed when a 1d array was expected. Please change the shape of y to (n_samples, ), for example using ravel().\n",
      "  y = column_or_1d(y, warn=True)\n"
     ]
    },
    {
     "name": "stdout",
     "output_type": "stream",
     "text": [
      "[CV 3/5] END model__colsample_bytree=0.9, model__gamma=0.6666666666666666, model__learning_rate=0.00042813323987193956, model__max_depth=10, model__min_child_weight=3.0, model__n_estimators=300, model__subsample=0.7777777777777778; neg_mean_absolute_error: (test=-0.694) r2: (test=0.040) total time=  26.2s\n",
      "[CV 5/5] END model__colsample_bytree=0.9, model__gamma=0.6666666666666666, model__learning_rate=0.00042813323987193956, model__max_depth=10, model__min_child_weight=3.0, model__n_estimators=300, model__subsample=0.7777777777777778; neg_mean_absolute_error: (test=-0.365) r2: (test=-0.016) total time=  22.7s\n"
     ]
    },
    {
     "name": "stderr",
     "output_type": "stream",
     "text": [
      "/Users/utkarsh/miniconda3/lib/python3.11/site-packages/sklearn/utils/validation.py:1310: DataConversionWarning: A column-vector y was passed when a 1d array was expected. Please change the shape of y to (n_samples, ), for example using ravel().\n",
      "  y = column_or_1d(y, warn=True)\n",
      "/Users/utkarsh/miniconda3/lib/python3.11/site-packages/sklearn/utils/validation.py:1310: DataConversionWarning: A column-vector y was passed when a 1d array was expected. Please change the shape of y to (n_samples, ), for example using ravel().\n",
      "  y = column_or_1d(y, warn=True)\n"
     ]
    },
    {
     "name": "stdout",
     "output_type": "stream",
     "text": [
      "[CV 1/5] END model__colsample_bytree=0.30000000000000004, model__gamma=0.0, model__learning_rate=0.14384498882876628, model__max_depth=None, model__min_child_weight=6.0, model__n_estimators=300, model__subsample=0.7222222222222222; neg_mean_absolute_error: (test=-0.474) r2: (test=-0.038) total time=  20.8s\n"
     ]
    },
    {
     "name": "stderr",
     "output_type": "stream",
     "text": [
      "/Users/utkarsh/miniconda3/lib/python3.11/site-packages/sklearn/utils/validation.py:1310: DataConversionWarning: A column-vector y was passed when a 1d array was expected. Please change the shape of y to (n_samples, ), for example using ravel().\n",
      "  y = column_or_1d(y, warn=True)\n"
     ]
    },
    {
     "name": "stdout",
     "output_type": "stream",
     "text": [
      "[CV 1/5] END model__colsample_bytree=0.5, model__gamma=0.6666666666666666, model__learning_rate=0.0001623776739188721, model__max_depth=5, model__min_child_weight=5.0, model__n_estimators=500, model__subsample=0.7222222222222222; neg_mean_absolute_error: (test=-0.487) r2: (test=-0.051) total time=  23.8s\n",
      "[CV 2/5] END model__colsample_bytree=0.30000000000000004, model__gamma=0.0, model__learning_rate=0.14384498882876628, model__max_depth=None, model__min_child_weight=6.0, model__n_estimators=300, model__subsample=0.7222222222222222; neg_mean_absolute_error: (test=-0.671) r2: (test=-2.125) total time=  21.3s\n",
      "[CV 5/5] END model__colsample_bytree=0.5, model__gamma=0.6666666666666666, model__learning_rate=0.0001623776739188721, model__max_depth=5, model__min_child_weight=5.0, model__n_estimators=500, model__subsample=0.7222222222222222; neg_mean_absolute_error: (test=-0.365) r2: (test=-0.013) total time=  22.2s\n"
     ]
    },
    {
     "name": "stderr",
     "output_type": "stream",
     "text": [
      "/Users/utkarsh/miniconda3/lib/python3.11/site-packages/sklearn/utils/validation.py:1310: DataConversionWarning: A column-vector y was passed when a 1d array was expected. Please change the shape of y to (n_samples, ), for example using ravel().\n",
      "  y = column_or_1d(y, warn=True)\n",
      "/Users/utkarsh/miniconda3/lib/python3.11/site-packages/sklearn/utils/validation.py:1310: DataConversionWarning: A column-vector y was passed when a 1d array was expected. Please change the shape of y to (n_samples, ), for example using ravel().\n",
      "  y = column_or_1d(y, warn=True)\n",
      "/Users/utkarsh/miniconda3/lib/python3.11/site-packages/sklearn/utils/validation.py:1310: DataConversionWarning: A column-vector y was passed when a 1d array was expected. Please change the shape of y to (n_samples, ), for example using ravel().\n",
      "  y = column_or_1d(y, warn=True)\n"
     ]
    },
    {
     "name": "stdout",
     "output_type": "stream",
     "text": [
      "[CV 4/5] END model__colsample_bytree=0.5, model__gamma=0.6666666666666666, model__learning_rate=0.0001623776739188721, model__max_depth=5, model__min_child_weight=5.0, model__n_estimators=500, model__subsample=0.7222222222222222; neg_mean_absolute_error: (test=-0.623) r2: (test=-0.882) total time=  22.9s\n",
      "[CV 5/5] END model__colsample_bytree=0.30000000000000004, model__gamma=0.0, model__learning_rate=0.14384498882876628, model__max_depth=None, model__min_child_weight=6.0, model__n_estimators=300, model__subsample=0.7222222222222222; neg_mean_absolute_error: (test=-0.408) r2: (test=-0.516) total time=  20.2s\n"
     ]
    },
    {
     "name": "stderr",
     "output_type": "stream",
     "text": [
      "/Users/utkarsh/miniconda3/lib/python3.11/site-packages/sklearn/utils/validation.py:1310: DataConversionWarning: A column-vector y was passed when a 1d array was expected. Please change the shape of y to (n_samples, ), for example using ravel().\n",
      "  y = column_or_1d(y, warn=True)\n",
      "/Users/utkarsh/miniconda3/lib/python3.11/site-packages/sklearn/utils/validation.py:1310: DataConversionWarning: A column-vector y was passed when a 1d array was expected. Please change the shape of y to (n_samples, ), for example using ravel().\n",
      "  y = column_or_1d(y, warn=True)\n"
     ]
    },
    {
     "name": "stdout",
     "output_type": "stream",
     "text": [
      "[CV 3/5] END model__colsample_bytree=0.30000000000000004, model__gamma=0.0, model__learning_rate=0.14384498882876628, model__max_depth=None, model__min_child_weight=6.0, model__n_estimators=300, model__subsample=0.7222222222222222; neg_mean_absolute_error: (test=-0.557) r2: (test=0.144) total time=  21.9s\n"
     ]
    },
    {
     "name": "stderr",
     "output_type": "stream",
     "text": [
      "/Users/utkarsh/miniconda3/lib/python3.11/site-packages/sklearn/utils/validation.py:1310: DataConversionWarning: A column-vector y was passed when a 1d array was expected. Please change the shape of y to (n_samples, ), for example using ravel().\n",
      "  y = column_or_1d(y, warn=True)\n"
     ]
    },
    {
     "name": "stdout",
     "output_type": "stream",
     "text": [
      "[CV 2/5] END model__colsample_bytree=0.5, model__gamma=0.6666666666666666, model__learning_rate=0.0001623776739188721, model__max_depth=5, model__min_child_weight=5.0, model__n_estimators=500, model__subsample=0.7222222222222222; neg_mean_absolute_error: (test=-0.634) r2: (test=-1.440) total time=  23.7s\n",
      "[CV 5/5] END model__colsample_bytree=0.6, model__gamma=0.3333333333333333, model__learning_rate=0.615848211066026, model__max_depth=6, model__min_child_weight=6.0, model__n_estimators=200, model__subsample=0.7777777777777778; neg_mean_absolute_error: (test=-0.429) r2: (test=-0.721) total time=  16.9s\n",
      "[CV 2/5] END model__colsample_bytree=0.6, model__gamma=0.3333333333333333, model__learning_rate=0.615848211066026, model__max_depth=6, model__min_child_weight=6.0, model__n_estimators=200, model__subsample=0.7777777777777778; neg_mean_absolute_error: (test=-0.466) r2: (test=-0.496) total time=  17.5s\n"
     ]
    },
    {
     "name": "stderr",
     "output_type": "stream",
     "text": [
      "/Users/utkarsh/miniconda3/lib/python3.11/site-packages/sklearn/utils/validation.py:1310: DataConversionWarning: A column-vector y was passed when a 1d array was expected. Please change the shape of y to (n_samples, ), for example using ravel().\n",
      "  y = column_or_1d(y, warn=True)\n",
      "/Users/utkarsh/miniconda3/lib/python3.11/site-packages/sklearn/utils/validation.py:1310: DataConversionWarning: A column-vector y was passed when a 1d array was expected. Please change the shape of y to (n_samples, ), for example using ravel().\n",
      "  y = column_or_1d(y, warn=True)\n",
      "/Users/utkarsh/miniconda3/lib/python3.11/site-packages/sklearn/utils/validation.py:1310: DataConversionWarning: A column-vector y was passed when a 1d array was expected. Please change the shape of y to (n_samples, ), for example using ravel().\n",
      "  y = column_or_1d(y, warn=True)\n"
     ]
    },
    {
     "name": "stdout",
     "output_type": "stream",
     "text": [
      "[CV 3/5] END model__colsample_bytree=0.5, model__gamma=0.6666666666666666, model__learning_rate=0.0001623776739188721, model__max_depth=5, model__min_child_weight=5.0, model__n_estimators=500, model__subsample=0.7222222222222222; neg_mean_absolute_error: (test=-0.711) r2: (test=0.006) total time=  24.2s\n",
      "[CV 4/5] END model__colsample_bytree=0.9, model__gamma=1.0, model__learning_rate=0.23357214690901212, model__max_depth=5, model__min_child_weight=1.0, model__n_estimators=600, model__subsample=0.5555555555555556; neg_mean_absolute_error: (test=-0.529) r2: (test=-0.203) total time=  18.9s\n"
     ]
    },
    {
     "name": "stderr",
     "output_type": "stream",
     "text": [
      "/Users/utkarsh/miniconda3/lib/python3.11/site-packages/sklearn/utils/validation.py:1310: DataConversionWarning: A column-vector y was passed when a 1d array was expected. Please change the shape of y to (n_samples, ), for example using ravel().\n",
      "  y = column_or_1d(y, warn=True)\n",
      "/Users/utkarsh/miniconda3/lib/python3.11/site-packages/sklearn/utils/validation.py:1310: DataConversionWarning: A column-vector y was passed when a 1d array was expected. Please change the shape of y to (n_samples, ), for example using ravel().\n",
      "  y = column_or_1d(y, warn=True)\n"
     ]
    },
    {
     "name": "stdout",
     "output_type": "stream",
     "text": [
      "[CV 4/5] END model__colsample_bytree=0.30000000000000004, model__gamma=0.0, model__learning_rate=0.14384498882876628, model__max_depth=None, model__min_child_weight=6.0, model__n_estimators=300, model__subsample=0.7222222222222222; neg_mean_absolute_error: (test=-0.619) r2: (test=-0.804) total time=  22.6s\n",
      "[CV 3/5] END model__colsample_bytree=0.9, model__gamma=1.0, model__learning_rate=0.23357214690901212, model__max_depth=5, model__min_child_weight=1.0, model__n_estimators=600, model__subsample=0.5555555555555556; neg_mean_absolute_error: (test=-0.507) r2: (test=0.286) total time=  19.2s\n"
     ]
    },
    {
     "name": "stderr",
     "output_type": "stream",
     "text": [
      "/Users/utkarsh/miniconda3/lib/python3.11/site-packages/sklearn/utils/validation.py:1310: DataConversionWarning: A column-vector y was passed when a 1d array was expected. Please change the shape of y to (n_samples, ), for example using ravel().\n",
      "  y = column_or_1d(y, warn=True)\n",
      "/Users/utkarsh/miniconda3/lib/python3.11/site-packages/sklearn/utils/validation.py:1310: DataConversionWarning: A column-vector y was passed when a 1d array was expected. Please change the shape of y to (n_samples, ), for example using ravel().\n",
      "  y = column_or_1d(y, warn=True)\n"
     ]
    },
    {
     "name": "stdout",
     "output_type": "stream",
     "text": [
      "[CV 3/5] END model__colsample_bytree=0.4, model__gamma=0.8888888888888888, model__learning_rate=0.0018329807108324356, model__max_depth=10, model__min_child_weight=7.0, model__n_estimators=900, model__subsample=0.9444444444444444; neg_mean_absolute_error: (test=-0.645) r2: (test=0.110) total time=  24.1s\n",
      "[CV 1/5] END model__colsample_bytree=0.4, model__gamma=0.8888888888888888, model__learning_rate=0.0018329807108324356, model__max_depth=10, model__min_child_weight=7.0, model__n_estimators=900, model__subsample=0.9444444444444444; neg_mean_absolute_error: (test=-0.452) r2: (test=0.058) total time=  24.4s\n",
      "[CV 1/5] END model__colsample_bytree=0.9, model__gamma=1.0, model__learning_rate=0.23357214690901212, model__max_depth=5, model__min_child_weight=1.0, model__n_estimators=600, model__subsample=0.5555555555555556; neg_mean_absolute_error: (test=-0.417) r2: (test=0.248) total time=  20.0s\n",
      "[CV 1/5] END model__colsample_bytree=0.6, model__gamma=0.3333333333333333, model__learning_rate=0.615848211066026, model__max_depth=6, model__min_child_weight=6.0, model__n_estimators=200, model__subsample=0.7777777777777778; neg_mean_absolute_error: (test=-0.453) r2: (test=0.142) total time=  19.4s\n"
     ]
    },
    {
     "name": "stderr",
     "output_type": "stream",
     "text": [
      "/Users/utkarsh/miniconda3/lib/python3.11/site-packages/sklearn/utils/validation.py:1310: DataConversionWarning: A column-vector y was passed when a 1d array was expected. Please change the shape of y to (n_samples, ), for example using ravel().\n",
      "  y = column_or_1d(y, warn=True)\n",
      "/Users/utkarsh/miniconda3/lib/python3.11/site-packages/sklearn/utils/validation.py:1310: DataConversionWarning: A column-vector y was passed when a 1d array was expected. Please change the shape of y to (n_samples, ), for example using ravel().\n",
      "  y = column_or_1d(y, warn=True)\n",
      "/Users/utkarsh/miniconda3/lib/python3.11/site-packages/sklearn/utils/validation.py:1310: DataConversionWarning: A column-vector y was passed when a 1d array was expected. Please change the shape of y to (n_samples, ), for example using ravel().\n",
      "  y = column_or_1d(y, warn=True)\n"
     ]
    },
    {
     "name": "stdout",
     "output_type": "stream",
     "text": [
      "[CV 3/5] END model__colsample_bytree=0.6, model__gamma=0.3333333333333333, model__learning_rate=0.615848211066026, model__max_depth=6, model__min_child_weight=6.0, model__n_estimators=200, model__subsample=0.7777777777777778; neg_mean_absolute_error: (test=-0.715) r2: (test=-0.326) total time=  18.4s\n",
      "[CV 5/5] END model__colsample_bytree=0.4, model__gamma=0.8888888888888888, model__learning_rate=0.0018329807108324356, model__max_depth=10, model__min_child_weight=7.0, model__n_estimators=900, model__subsample=0.9444444444444444; neg_mean_absolute_error: (test=-0.363) r2: (test=-0.005) total time=  24.2s\n",
      "[CV 2/5] END model__colsample_bytree=0.4, model__gamma=0.8888888888888888, model__learning_rate=0.0018329807108324356, model__max_depth=10, model__min_child_weight=7.0, model__n_estimators=900, model__subsample=0.9444444444444444; neg_mean_absolute_error: (test=-0.600) r2: (test=-1.342) total time=  24.7s\n"
     ]
    },
    {
     "name": "stderr",
     "output_type": "stream",
     "text": [
      "/Users/utkarsh/miniconda3/lib/python3.11/site-packages/sklearn/utils/validation.py:1310: DataConversionWarning: A column-vector y was passed when a 1d array was expected. Please change the shape of y to (n_samples, ), for example using ravel().\n",
      "  y = column_or_1d(y, warn=True)\n",
      "/Users/utkarsh/miniconda3/lib/python3.11/site-packages/sklearn/utils/validation.py:1310: DataConversionWarning: A column-vector y was passed when a 1d array was expected. Please change the shape of y to (n_samples, ), for example using ravel().\n",
      "  y = column_or_1d(y, warn=True)\n"
     ]
    },
    {
     "name": "stdout",
     "output_type": "stream",
     "text": [
      "[CV 1/5] END model__colsample_bytree=0.9, model__gamma=0.5555555555555556, model__learning_rate=0.03359818286283781, model__max_depth=None, model__min_child_weight=5.0, model__n_estimators=900, model__subsample=0.8333333333333333; neg_mean_absolute_error: (test=-0.449) r2: (test=0.066) total time=  22.4s\n"
     ]
    },
    {
     "name": "stderr",
     "output_type": "stream",
     "text": [
      "/Users/utkarsh/miniconda3/lib/python3.11/site-packages/sklearn/utils/validation.py:1310: DataConversionWarning: A column-vector y was passed when a 1d array was expected. Please change the shape of y to (n_samples, ), for example using ravel().\n",
      "  y = column_or_1d(y, warn=True)\n",
      "/Users/utkarsh/miniconda3/lib/python3.11/site-packages/sklearn/utils/validation.py:1310: DataConversionWarning: A column-vector y was passed when a 1d array was expected. Please change the shape of y to (n_samples, ), for example using ravel().\n",
      "  y = column_or_1d(y, warn=True)\n",
      "/Users/utkarsh/miniconda3/lib/python3.11/site-packages/sklearn/utils/validation.py:1310: DataConversionWarning: A column-vector y was passed when a 1d array was expected. Please change the shape of y to (n_samples, ), for example using ravel().\n",
      "  y = column_or_1d(y, warn=True)\n"
     ]
    },
    {
     "name": "stdout",
     "output_type": "stream",
     "text": [
      "[CV 4/5] END model__colsample_bytree=0.4, model__gamma=0.8888888888888888, model__learning_rate=0.0018329807108324356, model__max_depth=10, model__min_child_weight=7.0, model__n_estimators=900, model__subsample=0.9444444444444444; neg_mean_absolute_error: (test=-0.514) r2: (test=-0.284) total time=  24.9s\n",
      "[CV 3/5] END model__colsample_bytree=0.9, model__gamma=0.5555555555555556, model__learning_rate=0.03359818286283781, model__max_depth=None, model__min_child_weight=5.0, model__n_estimators=900, model__subsample=0.8333333333333333; neg_mean_absolute_error: (test=-0.591) r2: (test=0.154) total time=  21.8s\n",
      "[CV 3/5] END model__colsample_bytree=0.8, model__gamma=0.6666666666666666, model__learning_rate=0.004832930238571752, model__max_depth=5, model__min_child_weight=4.0, model__n_estimators=500, model__subsample=0.6666666666666666; neg_mean_absolute_error: (test=-0.636) r2: (test=0.096) total time=  21.4s\n",
      "[CV 4/5] END model__colsample_bytree=0.30000000000000004, model__gamma=0.4444444444444444, model__learning_rate=0.012742749857031334, model__max_depth=7, model__min_child_weight=6.0, model__n_estimators=300, model__subsample=0.9444444444444444; neg_mean_absolute_error: (test=-0.525) r2: (test=-0.357) total time=  18.3s\n",
      "[CV 5/5] END model__colsample_bytree=0.9, model__gamma=0.5555555555555556, model__learning_rate=0.03359818286283781, model__max_depth=None, model__min_child_weight=5.0, model__n_estimators=900, model__subsample=0.8333333333333333; neg_mean_absolute_error: (test=-0.363) r2: (test=-0.019) total time=  21.8s\n",
      "[CV 2/5] END model__colsample_bytree=0.9, model__gamma=0.5555555555555556, model__learning_rate=0.03359818286283781, model__max_depth=None, model__min_child_weight=5.0, model__n_estimators=900, model__subsample=0.8333333333333333; neg_mean_absolute_error: (test=-0.574) r2: (test=-1.169) total time=  22.3s\n",
      "[CV 1/5] END model__colsample_bytree=0.30000000000000004, model__gamma=0.4444444444444444, model__learning_rate=0.012742749857031334, model__max_depth=7, model__min_child_weight=6.0, model__n_estimators=300, model__subsample=0.9444444444444444; neg_mean_absolute_error: (test=-0.455) r2: (test=0.065) total time=  19.3s\n",
      "[CV 4/5] END model__colsample_bytree=0.6, model__gamma=0.3333333333333333, model__learning_rate=0.615848211066026, model__max_depth=6, model__min_child_weight=6.0, model__n_estimators=200, model__subsample=0.7777777777777778; neg_mean_absolute_error: (test=-0.858) r2: (test=-2.390) total time=  19.5s\n"
     ]
    },
    {
     "name": "stderr",
     "output_type": "stream",
     "text": [
      "/Users/utkarsh/miniconda3/lib/python3.11/site-packages/sklearn/utils/validation.py:1310: DataConversionWarning: A column-vector y was passed when a 1d array was expected. Please change the shape of y to (n_samples, ), for example using ravel().\n",
      "  y = column_or_1d(y, warn=True)\n",
      "/Users/utkarsh/miniconda3/lib/python3.11/site-packages/sklearn/utils/validation.py:1310: DataConversionWarning: A column-vector y was passed when a 1d array was expected. Please change the shape of y to (n_samples, ), for example using ravel().\n",
      "  y = column_or_1d(y, warn=True)\n",
      "/Users/utkarsh/miniconda3/lib/python3.11/site-packages/sklearn/utils/validation.py:1310: DataConversionWarning: A column-vector y was passed when a 1d array was expected. Please change the shape of y to (n_samples, ), for example using ravel().\n",
      "  y = column_or_1d(y, warn=True)\n",
      "/Users/utkarsh/miniconda3/lib/python3.11/site-packages/sklearn/utils/validation.py:1310: DataConversionWarning: A column-vector y was passed when a 1d array was expected. Please change the shape of y to (n_samples, ), for example using ravel().\n",
      "  y = column_or_1d(y, warn=True)\n",
      "/Users/utkarsh/miniconda3/lib/python3.11/site-packages/sklearn/utils/validation.py:1310: DataConversionWarning: A column-vector y was passed when a 1d array was expected. Please change the shape of y to (n_samples, ), for example using ravel().\n",
      "  y = column_or_1d(y, warn=True)\n",
      "/Users/utkarsh/miniconda3/lib/python3.11/site-packages/sklearn/utils/validation.py:1310: DataConversionWarning: A column-vector y was passed when a 1d array was expected. Please change the shape of y to (n_samples, ), for example using ravel().\n",
      "  y = column_or_1d(y, warn=True)\n",
      "/Users/utkarsh/miniconda3/lib/python3.11/site-packages/sklearn/utils/validation.py:1310: DataConversionWarning: A column-vector y was passed when a 1d array was expected. Please change the shape of y to (n_samples, ), for example using ravel().\n",
      "  y = column_or_1d(y, warn=True)\n",
      "/Users/utkarsh/miniconda3/lib/python3.11/site-packages/sklearn/utils/validation.py:1310: DataConversionWarning: A column-vector y was passed when a 1d array was expected. Please change the shape of y to (n_samples, ), for example using ravel().\n",
      "  y = column_or_1d(y, warn=True)\n",
      "/Users/utkarsh/miniconda3/lib/python3.11/site-packages/sklearn/utils/validation.py:1310: DataConversionWarning: A column-vector y was passed when a 1d array was expected. Please change the shape of y to (n_samples, ), for example using ravel().\n",
      "  y = column_or_1d(y, warn=True)\n",
      "/Users/utkarsh/miniconda3/lib/python3.11/site-packages/sklearn/utils/validation.py:1310: DataConversionWarning: A column-vector y was passed when a 1d array was expected. Please change the shape of y to (n_samples, ), for example using ravel().\n",
      "  y = column_or_1d(y, warn=True)\n"
     ]
    },
    {
     "name": "stdout",
     "output_type": "stream",
     "text": [
      "[CV 4/5] END model__colsample_bytree=0.8, model__gamma=0.6666666666666666, model__learning_rate=0.004832930238571752, model__max_depth=5, model__min_child_weight=4.0, model__n_estimators=500, model__subsample=0.6666666666666666; neg_mean_absolute_error: (test=-0.512) r2: (test=-0.285) total time=  21.6s\n",
      "[CV 2/5] END model__colsample_bytree=0.30000000000000004, model__gamma=0.4444444444444444, model__learning_rate=0.012742749857031334, model__max_depth=7, model__min_child_weight=6.0, model__n_estimators=300, model__subsample=0.9444444444444444; neg_mean_absolute_error: (test=-0.604) r2: (test=-1.418) total time=  19.1s\n",
      "[CV 5/5] END model__colsample_bytree=0.9, model__gamma=1.0, model__learning_rate=0.23357214690901212, model__max_depth=5, model__min_child_weight=1.0, model__n_estimators=600, model__subsample=0.5555555555555556; neg_mean_absolute_error: (test=-0.588) r2: (test=-1.848) total time=  21.0s\n",
      "[CV 5/5] END model__colsample_bytree=0.30000000000000004, model__gamma=0.4444444444444444, model__learning_rate=0.012742749857031334, model__max_depth=7, model__min_child_weight=6.0, model__n_estimators=300, model__subsample=0.9444444444444444; neg_mean_absolute_error: (test=-0.365) r2: (test=0.013) total time=  19.0s\n"
     ]
    },
    {
     "name": "stderr",
     "output_type": "stream",
     "text": [
      "/Users/utkarsh/miniconda3/lib/python3.11/site-packages/sklearn/utils/validation.py:1310: DataConversionWarning: A column-vector y was passed when a 1d array was expected. Please change the shape of y to (n_samples, ), for example using ravel().\n",
      "  y = column_or_1d(y, warn=True)\n",
      "/Users/utkarsh/miniconda3/lib/python3.11/site-packages/sklearn/utils/validation.py:1310: DataConversionWarning: A column-vector y was passed when a 1d array was expected. Please change the shape of y to (n_samples, ), for example using ravel().\n",
      "  y = column_or_1d(y, warn=True)\n"
     ]
    },
    {
     "name": "stdout",
     "output_type": "stream",
     "text": [
      "[CV 3/5] END model__colsample_bytree=0.30000000000000004, model__gamma=0.4444444444444444, model__learning_rate=0.012742749857031334, model__max_depth=7, model__min_child_weight=6.0, model__n_estimators=300, model__subsample=0.9444444444444444; neg_mean_absolute_error: (test=-0.611) r2: (test=0.099) total time=  19.7s\n",
      "[CV 2/5] END model__colsample_bytree=0.9, model__gamma=1.0, model__learning_rate=0.23357214690901212, model__max_depth=5, model__min_child_weight=1.0, model__n_estimators=600, model__subsample=0.5555555555555556; neg_mean_absolute_error: (test=-0.609) r2: (test=-1.344) total time=  22.3s\n"
     ]
    },
    {
     "name": "stderr",
     "output_type": "stream",
     "text": [
      "/Users/utkarsh/miniconda3/lib/python3.11/site-packages/sklearn/utils/validation.py:1310: DataConversionWarning: A column-vector y was passed when a 1d array was expected. Please change the shape of y to (n_samples, ), for example using ravel().\n",
      "  y = column_or_1d(y, warn=True)\n",
      "/Users/utkarsh/miniconda3/lib/python3.11/site-packages/sklearn/utils/validation.py:1310: DataConversionWarning: A column-vector y was passed when a 1d array was expected. Please change the shape of y to (n_samples, ), for example using ravel().\n",
      "  y = column_or_1d(y, warn=True)\n"
     ]
    },
    {
     "name": "stdout",
     "output_type": "stream",
     "text": [
      "[CV 4/5] END model__colsample_bytree=0.9, model__gamma=0.5555555555555556, model__learning_rate=0.03359818286283781, model__max_depth=None, model__min_child_weight=5.0, model__n_estimators=900, model__subsample=0.8333333333333333; neg_mean_absolute_error: (test=-0.501) r2: (test=-0.236) total time=  23.8s\n",
      "[CV 5/5] END model__colsample_bytree=0.8, model__gamma=0.6666666666666666, model__learning_rate=0.004832930238571752, model__max_depth=5, model__min_child_weight=4.0, model__n_estimators=500, model__subsample=0.6666666666666666; neg_mean_absolute_error: (test=-0.363) r2: (test=0.050) total time=  23.6s\n",
      "[CV 1/5] END model__colsample_bytree=0.8, model__gamma=0.6666666666666666, model__learning_rate=0.004832930238571752, model__max_depth=5, model__min_child_weight=4.0, model__n_estimators=500, model__subsample=0.6666666666666666; neg_mean_absolute_error: (test=-0.444) r2: (test=0.092) total time=  24.3s\n"
     ]
    },
    {
     "name": "stderr",
     "output_type": "stream",
     "text": [
      "/Users/utkarsh/miniconda3/lib/python3.11/site-packages/sklearn/utils/validation.py:1310: DataConversionWarning: A column-vector y was passed when a 1d array was expected. Please change the shape of y to (n_samples, ), for example using ravel().\n",
      "  y = column_or_1d(y, warn=True)\n",
      "/Users/utkarsh/miniconda3/lib/python3.11/site-packages/sklearn/utils/validation.py:1310: DataConversionWarning: A column-vector y was passed when a 1d array was expected. Please change the shape of y to (n_samples, ), for example using ravel().\n",
      "  y = column_or_1d(y, warn=True)\n"
     ]
    },
    {
     "name": "stdout",
     "output_type": "stream",
     "text": [
      "[CV 2/5] END model__colsample_bytree=0.8, model__gamma=0.6666666666666666, model__learning_rate=0.004832930238571752, model__max_depth=5, model__min_child_weight=4.0, model__n_estimators=500, model__subsample=0.6666666666666666; neg_mean_absolute_error: (test=-0.591) r2: (test=-1.269) total time=  24.4s\n"
     ]
    },
    {
     "name": "stderr",
     "output_type": "stream",
     "text": [
      "/Users/utkarsh/miniconda3/lib/python3.11/site-packages/sklearn/utils/validation.py:1310: DataConversionWarning: A column-vector y was passed when a 1d array was expected. Please change the shape of y to (n_samples, ), for example using ravel().\n",
      "  y = column_or_1d(y, warn=True)\n",
      "/Users/utkarsh/miniconda3/lib/python3.11/site-packages/sklearn/utils/validation.py:1310: DataConversionWarning: A column-vector y was passed when a 1d array was expected. Please change the shape of y to (n_samples, ), for example using ravel().\n",
      "  y = column_or_1d(y, warn=True)\n"
     ]
    },
    {
     "name": "stdout",
     "output_type": "stream",
     "text": [
      "[CV 4/5] END model__colsample_bytree=1.0, model__gamma=0.6666666666666666, model__learning_rate=0.00026366508987303583, model__max_depth=3, model__min_child_weight=9.0, model__n_estimators=600, model__subsample=0.5; neg_mean_absolute_error: (test=-0.605) r2: (test=-0.797) total time=  20.4s\n",
      "[CV 1/5] END model__colsample_bytree=0.8, model__gamma=0.6666666666666666, model__learning_rate=0.00026366508987303583, model__max_depth=4, model__min_child_weight=2.0, model__n_estimators=400, model__subsample=0.5555555555555556; neg_mean_absolute_error: (test=-0.482) r2: (test=-0.033) total time=  20.3s\n",
      "[CV 2/5] END model__colsample_bytree=1.0, model__gamma=0.6666666666666666, model__learning_rate=0.00026366508987303583, model__max_depth=3, model__min_child_weight=9.0, model__n_estimators=600, model__subsample=0.5; neg_mean_absolute_error: (test=-0.633) r2: (test=-1.437) total time=  21.1s\n",
      "[CV 1/5] END model__colsample_bytree=1.0, model__gamma=0.6666666666666666, model__learning_rate=0.00026366508987303583, model__max_depth=3, model__min_child_weight=9.0, model__n_estimators=600, model__subsample=0.5; neg_mean_absolute_error: (test=-0.474) r2: (test=-0.004) total time=  21.7s\n"
     ]
    },
    {
     "name": "stderr",
     "output_type": "stream",
     "text": [
      "/Users/utkarsh/miniconda3/lib/python3.11/site-packages/sklearn/utils/validation.py:1310: DataConversionWarning: A column-vector y was passed when a 1d array was expected. Please change the shape of y to (n_samples, ), for example using ravel().\n",
      "  y = column_or_1d(y, warn=True)\n",
      "/Users/utkarsh/miniconda3/lib/python3.11/site-packages/sklearn/utils/validation.py:1310: DataConversionWarning: A column-vector y was passed when a 1d array was expected. Please change the shape of y to (n_samples, ), for example using ravel().\n",
      "  y = column_or_1d(y, warn=True)\n",
      "/Users/utkarsh/miniconda3/lib/python3.11/site-packages/sklearn/utils/validation.py:1310: DataConversionWarning: A column-vector y was passed when a 1d array was expected. Please change the shape of y to (n_samples, ), for example using ravel().\n",
      "  y = column_or_1d(y, warn=True)\n",
      "/Users/utkarsh/miniconda3/lib/python3.11/site-packages/sklearn/utils/validation.py:1310: DataConversionWarning: A column-vector y was passed when a 1d array was expected. Please change the shape of y to (n_samples, ), for example using ravel().\n",
      "  y = column_or_1d(y, warn=True)\n"
     ]
    },
    {
     "name": "stdout",
     "output_type": "stream",
     "text": [
      "[CV 1/5] END model__colsample_bytree=0.30000000000000004, model__gamma=0.2222222222222222, model__learning_rate=0.08858667904100823, model__max_depth=5, model__min_child_weight=9.0, model__n_estimators=700, model__subsample=0.8333333333333333; neg_mean_absolute_error: (test=-0.499) r2: (test=-0.156) total time=  19.0s\n",
      "[CV 2/5] END model__colsample_bytree=0.8, model__gamma=0.6666666666666666, model__learning_rate=0.00026366508987303583, model__max_depth=4, model__min_child_weight=2.0, model__n_estimators=400, model__subsample=0.5555555555555556; neg_mean_absolute_error: (test=-0.632) r2: (test=-1.434) total time=  20.9s\n",
      "[CV 3/5] END model__colsample_bytree=1.0, model__gamma=0.6666666666666666, model__learning_rate=0.00026366508987303583, model__max_depth=3, model__min_child_weight=9.0, model__n_estimators=600, model__subsample=0.5; neg_mean_absolute_error: (test=-0.711) r2: (test=0.009) total time=  21.8s\n",
      "[CV 5/5] END model__colsample_bytree=1.0, model__gamma=0.6666666666666666, model__learning_rate=0.00026366508987303583, model__max_depth=3, model__min_child_weight=9.0, model__n_estimators=600, model__subsample=0.5; neg_mean_absolute_error: (test=-0.365) r2: (test=-0.009) total time=  21.4s\n"
     ]
    },
    {
     "name": "stderr",
     "output_type": "stream",
     "text": [
      "/Users/utkarsh/miniconda3/lib/python3.11/site-packages/sklearn/utils/validation.py:1310: DataConversionWarning: A column-vector y was passed when a 1d array was expected. Please change the shape of y to (n_samples, ), for example using ravel().\n",
      "  y = column_or_1d(y, warn=True)\n",
      "/Users/utkarsh/miniconda3/lib/python3.11/site-packages/sklearn/utils/validation.py:1310: DataConversionWarning: A column-vector y was passed when a 1d array was expected. Please change the shape of y to (n_samples, ), for example using ravel().\n",
      "  y = column_or_1d(y, warn=True)\n"
     ]
    },
    {
     "name": "stdout",
     "output_type": "stream",
     "text": [
      "[CV 3/5] END model__colsample_bytree=0.30000000000000004, model__gamma=0.2222222222222222, model__learning_rate=0.08858667904100823, model__max_depth=5, model__min_child_weight=9.0, model__n_estimators=700, model__subsample=0.8333333333333333; neg_mean_absolute_error: (test=-0.524) r2: (test=0.197) total time=  16.9s\n"
     ]
    },
    {
     "name": "stderr",
     "output_type": "stream",
     "text": [
      "/Users/utkarsh/miniconda3/lib/python3.11/site-packages/sklearn/utils/validation.py:1310: DataConversionWarning: A column-vector y was passed when a 1d array was expected. Please change the shape of y to (n_samples, ), for example using ravel().\n",
      "  y = column_or_1d(y, warn=True)\n",
      "/Users/utkarsh/miniconda3/lib/python3.11/site-packages/sklearn/utils/validation.py:1310: DataConversionWarning: A column-vector y was passed when a 1d array was expected. Please change the shape of y to (n_samples, ), for example using ravel().\n",
      "  y = column_or_1d(y, warn=True)\n"
     ]
    },
    {
     "name": "stdout",
     "output_type": "stream",
     "text": [
      "[CV 5/5] END model__colsample_bytree=0.8, model__gamma=0.6666666666666666, model__learning_rate=0.00026366508987303583, model__max_depth=4, model__min_child_weight=2.0, model__n_estimators=400, model__subsample=0.5555555555555556; neg_mean_absolute_error: (test=-0.365) r2: (test=-0.009) total time=  20.1s\n"
     ]
    },
    {
     "name": "stderr",
     "output_type": "stream",
     "text": [
      "/Users/utkarsh/miniconda3/lib/python3.11/site-packages/sklearn/utils/validation.py:1310: DataConversionWarning: A column-vector y was passed when a 1d array was expected. Please change the shape of y to (n_samples, ), for example using ravel().\n",
      "  y = column_or_1d(y, warn=True)\n",
      "/Users/utkarsh/miniconda3/lib/python3.11/site-packages/sklearn/utils/validation.py:1310: DataConversionWarning: A column-vector y was passed when a 1d array was expected. Please change the shape of y to (n_samples, ), for example using ravel().\n",
      "  y = column_or_1d(y, warn=True)\n"
     ]
    },
    {
     "name": "stdout",
     "output_type": "stream",
     "text": [
      "[CV 3/5] END model__colsample_bytree=0.8, model__gamma=0.6666666666666666, model__learning_rate=0.00026366508987303583, model__max_depth=4, model__min_child_weight=2.0, model__n_estimators=400, model__subsample=0.5555555555555556; neg_mean_absolute_error: (test=-0.705) r2: (test=0.020) total time=  21.8s\n",
      "[CV 2/5] END model__colsample_bytree=0.30000000000000004, model__gamma=0.5555555555555556, model__learning_rate=0.05455594781168514, model__max_depth=None, model__min_child_weight=7.0, model__n_estimators=400, model__subsample=0.5555555555555556; neg_mean_absolute_error: (test=-0.551) r2: (test=-0.935) total time=  15.8s\n"
     ]
    },
    {
     "name": "stderr",
     "output_type": "stream",
     "text": [
      "/Users/utkarsh/miniconda3/lib/python3.11/site-packages/sklearn/utils/validation.py:1310: DataConversionWarning: A column-vector y was passed when a 1d array was expected. Please change the shape of y to (n_samples, ), for example using ravel().\n",
      "  y = column_or_1d(y, warn=True)\n",
      "/Users/utkarsh/miniconda3/lib/python3.11/site-packages/sklearn/utils/validation.py:1310: DataConversionWarning: A column-vector y was passed when a 1d array was expected. Please change the shape of y to (n_samples, ), for example using ravel().\n",
      "  y = column_or_1d(y, warn=True)\n"
     ]
    },
    {
     "name": "stdout",
     "output_type": "stream",
     "text": [
      "[CV 4/5] END model__colsample_bytree=0.8, model__gamma=0.6666666666666666, model__learning_rate=0.00026366508987303583, model__max_depth=4, model__min_child_weight=2.0, model__n_estimators=400, model__subsample=0.5555555555555556; neg_mean_absolute_error: (test=-0.617) r2: (test=-0.853) total time=  21.5s\n",
      "[CV 2/5] END model__colsample_bytree=0.30000000000000004, model__gamma=0.2222222222222222, model__learning_rate=0.08858667904100823, model__max_depth=5, model__min_child_weight=9.0, model__n_estimators=700, model__subsample=0.8333333333333333; neg_mean_absolute_error: (test=-0.535) r2: (test=-0.966) total time=  18.9s\n"
     ]
    },
    {
     "name": "stderr",
     "output_type": "stream",
     "text": [
      "/Users/utkarsh/miniconda3/lib/python3.11/site-packages/sklearn/utils/validation.py:1310: DataConversionWarning: A column-vector y was passed when a 1d array was expected. Please change the shape of y to (n_samples, ), for example using ravel().\n",
      "  y = column_or_1d(y, warn=True)\n",
      "/Users/utkarsh/miniconda3/lib/python3.11/site-packages/sklearn/utils/validation.py:1310: DataConversionWarning: A column-vector y was passed when a 1d array was expected. Please change the shape of y to (n_samples, ), for example using ravel().\n",
      "  y = column_or_1d(y, warn=True)\n"
     ]
    },
    {
     "name": "stdout",
     "output_type": "stream",
     "text": [
      "[CV 1/5] END model__colsample_bytree=0.30000000000000004, model__gamma=0.5555555555555556, model__learning_rate=0.05455594781168514, model__max_depth=None, model__min_child_weight=7.0, model__n_estimators=400, model__subsample=0.5555555555555556; neg_mean_absolute_error: (test=-0.447) r2: (test=0.159) total time=  17.6s\n"
     ]
    },
    {
     "name": "stderr",
     "output_type": "stream",
     "text": [
      "/Users/utkarsh/miniconda3/lib/python3.11/site-packages/sklearn/utils/validation.py:1310: DataConversionWarning: A column-vector y was passed when a 1d array was expected. Please change the shape of y to (n_samples, ), for example using ravel().\n",
      "  y = column_or_1d(y, warn=True)\n",
      "/Users/utkarsh/miniconda3/lib/python3.11/site-packages/sklearn/utils/validation.py:1310: DataConversionWarning: A column-vector y was passed when a 1d array was expected. Please change the shape of y to (n_samples, ), for example using ravel().\n",
      "  y = column_or_1d(y, warn=True)\n"
     ]
    },
    {
     "name": "stdout",
     "output_type": "stream",
     "text": [
      "[CV 4/5] END model__colsample_bytree=0.30000000000000004, model__gamma=0.2222222222222222, model__learning_rate=0.08858667904100823, model__max_depth=5, model__min_child_weight=9.0, model__n_estimators=700, model__subsample=0.8333333333333333; neg_mean_absolute_error: (test=-0.529) r2: (test=-0.397) total time=  18.9s\n",
      "[CV 5/5] END model__colsample_bytree=0.30000000000000004, model__gamma=0.2222222222222222, model__learning_rate=0.08858667904100823, model__max_depth=5, model__min_child_weight=9.0, model__n_estimators=700, model__subsample=0.8333333333333333; neg_mean_absolute_error: (test=-0.369) r2: (test=-0.060) total time=  18.8s\n"
     ]
    },
    {
     "name": "stderr",
     "output_type": "stream",
     "text": [
      "/Users/utkarsh/miniconda3/lib/python3.11/site-packages/sklearn/utils/validation.py:1310: DataConversionWarning: A column-vector y was passed when a 1d array was expected. Please change the shape of y to (n_samples, ), for example using ravel().\n",
      "  y = column_or_1d(y, warn=True)\n"
     ]
    },
    {
     "name": "stdout",
     "output_type": "stream",
     "text": [
      "[CV 4/5] END model__colsample_bytree=0.30000000000000004, model__gamma=0.5555555555555556, model__learning_rate=0.05455594781168514, model__max_depth=None, model__min_child_weight=7.0, model__n_estimators=400, model__subsample=0.5555555555555556; neg_mean_absolute_error: (test=-0.560) r2: (test=-0.521) total time=  17.1s\n"
     ]
    },
    {
     "name": "stderr",
     "output_type": "stream",
     "text": [
      "/Users/utkarsh/miniconda3/lib/python3.11/site-packages/sklearn/utils/validation.py:1310: DataConversionWarning: A column-vector y was passed when a 1d array was expected. Please change the shape of y to (n_samples, ), for example using ravel().\n",
      "  y = column_or_1d(y, warn=True)\n",
      "/Users/utkarsh/miniconda3/lib/python3.11/site-packages/sklearn/utils/validation.py:1310: DataConversionWarning: A column-vector y was passed when a 1d array was expected. Please change the shape of y to (n_samples, ), for example using ravel().\n",
      "  y = column_or_1d(y, warn=True)\n"
     ]
    },
    {
     "name": "stdout",
     "output_type": "stream",
     "text": [
      "[CV 3/5] END model__colsample_bytree=0.30000000000000004, model__gamma=0.5555555555555556, model__learning_rate=0.05455594781168514, model__max_depth=None, model__min_child_weight=7.0, model__n_estimators=400, model__subsample=0.5555555555555556; neg_mean_absolute_error: (test=-0.584) r2: (test=0.077) total time=  19.0s\n",
      "[CV 5/5] END model__colsample_bytree=0.30000000000000004, model__gamma=0.5555555555555556, model__learning_rate=0.05455594781168514, model__max_depth=None, model__min_child_weight=7.0, model__n_estimators=400, model__subsample=0.5555555555555556; neg_mean_absolute_error: (test=-0.381) r2: (test=-0.192) total time=  18.7s\n"
     ]
    },
    {
     "name": "stderr",
     "output_type": "stream",
     "text": [
      "/Users/utkarsh/miniconda3/lib/python3.11/site-packages/sklearn/utils/validation.py:1310: DataConversionWarning: A column-vector y was passed when a 1d array was expected. Please change the shape of y to (n_samples, ), for example using ravel().\n",
      "  y = column_or_1d(y, warn=True)\n"
     ]
    },
    {
     "name": "stdout",
     "output_type": "stream",
     "text": [
      "[CV 3/5] END model__colsample_bytree=0.9, model__gamma=0.2222222222222222, model__learning_rate=0.0001623776739188721, model__max_depth=9, model__min_child_weight=7.0, model__n_estimators=300, model__subsample=0.7222222222222222; neg_mean_absolute_error: (test=-0.715) r2: (test=0.000) total time=  19.5s\n",
      "[CV 2/5] END model__colsample_bytree=0.9, model__gamma=0.2222222222222222, model__learning_rate=0.0001623776739188721, model__max_depth=9, model__min_child_weight=7.0, model__n_estimators=300, model__subsample=0.7222222222222222; neg_mean_absolute_error: (test=-0.638) r2: (test=-1.468) total time=  20.2s\n"
     ]
    },
    {
     "name": "stderr",
     "output_type": "stream",
     "text": [
      "/Users/utkarsh/miniconda3/lib/python3.11/site-packages/sklearn/utils/validation.py:1310: DataConversionWarning: A column-vector y was passed when a 1d array was expected. Please change the shape of y to (n_samples, ), for example using ravel().\n",
      "  y = column_or_1d(y, warn=True)\n",
      "/Users/utkarsh/miniconda3/lib/python3.11/site-packages/sklearn/utils/validation.py:1310: DataConversionWarning: A column-vector y was passed when a 1d array was expected. Please change the shape of y to (n_samples, ), for example using ravel().\n",
      "  y = column_or_1d(y, warn=True)\n"
     ]
    },
    {
     "name": "stdout",
     "output_type": "stream",
     "text": [
      "[CV 1/5] END model__colsample_bytree=0.9, model__gamma=0.2222222222222222, model__learning_rate=0.0001623776739188721, model__max_depth=9, model__min_child_weight=7.0, model__n_estimators=300, model__subsample=0.7222222222222222; neg_mean_absolute_error: (test=-0.487) r2: (test=-0.054) total time=  21.3s\n"
     ]
    },
    {
     "name": "stderr",
     "output_type": "stream",
     "text": [
      "/Users/utkarsh/miniconda3/lib/python3.11/site-packages/sklearn/utils/validation.py:1310: DataConversionWarning: A column-vector y was passed when a 1d array was expected. Please change the shape of y to (n_samples, ), for example using ravel().\n",
      "  y = column_or_1d(y, warn=True)\n"
     ]
    },
    {
     "name": "stdout",
     "output_type": "stream",
     "text": [
      "[CV 4/5] END model__colsample_bytree=0.9, model__gamma=0.2222222222222222, model__learning_rate=0.0001623776739188721, model__max_depth=9, model__min_child_weight=7.0, model__n_estimators=300, model__subsample=0.7222222222222222; neg_mean_absolute_error: (test=-0.626) r2: (test=-0.899) total time=  20.5s\n"
     ]
    },
    {
     "name": "stderr",
     "output_type": "stream",
     "text": [
      "/Users/utkarsh/miniconda3/lib/python3.11/site-packages/sklearn/utils/validation.py:1310: DataConversionWarning: A column-vector y was passed when a 1d array was expected. Please change the shape of y to (n_samples, ), for example using ravel().\n",
      "  y = column_or_1d(y, warn=True)\n"
     ]
    },
    {
     "name": "stdout",
     "output_type": "stream",
     "text": [
      "[CV 3/5] END model__colsample_bytree=0.1, model__gamma=0.3333333333333333, model__learning_rate=0.03359818286283781, model__max_depth=5, model__min_child_weight=6.0, model__n_estimators=300, model__subsample=0.6666666666666666; neg_mean_absolute_error: (test=-0.554) r2: (test=0.172) total time=  16.1s\n",
      "[CV 5/5] END model__colsample_bytree=0.1, model__gamma=0.3333333333333333, model__learning_rate=0.03359818286283781, model__max_depth=5, model__min_child_weight=6.0, model__n_estimators=300, model__subsample=0.6666666666666666; neg_mean_absolute_error: (test=-0.363) r2: (test=0.002) total time=  16.0s\n"
     ]
    },
    {
     "name": "stderr",
     "output_type": "stream",
     "text": [
      "/Users/utkarsh/miniconda3/lib/python3.11/site-packages/sklearn/utils/validation.py:1310: DataConversionWarning: A column-vector y was passed when a 1d array was expected. Please change the shape of y to (n_samples, ), for example using ravel().\n",
      "  y = column_or_1d(y, warn=True)\n",
      "/Users/utkarsh/miniconda3/lib/python3.11/site-packages/sklearn/utils/validation.py:1310: DataConversionWarning: A column-vector y was passed when a 1d array was expected. Please change the shape of y to (n_samples, ), for example using ravel().\n",
      "  y = column_or_1d(y, warn=True)\n"
     ]
    },
    {
     "name": "stdout",
     "output_type": "stream",
     "text": [
      "[CV 4/5] END model__colsample_bytree=0.1, model__gamma=0.3333333333333333, model__learning_rate=0.03359818286283781, model__max_depth=5, model__min_child_weight=6.0, model__n_estimators=300, model__subsample=0.6666666666666666; neg_mean_absolute_error: (test=-0.550) r2: (test=-0.476) total time=  16.5s\n",
      "[CV 1/5] END model__colsample_bytree=0.1, model__gamma=0.3333333333333333, model__learning_rate=0.03359818286283781, model__max_depth=5, model__min_child_weight=6.0, model__n_estimators=300, model__subsample=0.6666666666666666; neg_mean_absolute_error: (test=-0.480) r2: (test=-0.062) total time=  17.3s\n",
      "[CV 3/5] END model__colsample_bytree=0.7000000000000001, model__gamma=0.4444444444444444, model__learning_rate=0.03359818286283781, model__max_depth=4, model__min_child_weight=8.0, model__n_estimators=800, model__subsample=0.5555555555555556; neg_mean_absolute_error: (test=-0.540) r2: (test=0.195) total time=  19.0s\n"
     ]
    },
    {
     "name": "stderr",
     "output_type": "stream",
     "text": [
      "/Users/utkarsh/miniconda3/lib/python3.11/site-packages/sklearn/utils/validation.py:1310: DataConversionWarning: A column-vector y was passed when a 1d array was expected. Please change the shape of y to (n_samples, ), for example using ravel().\n",
      "  y = column_or_1d(y, warn=True)\n",
      "/Users/utkarsh/miniconda3/lib/python3.11/site-packages/sklearn/utils/validation.py:1310: DataConversionWarning: A column-vector y was passed when a 1d array was expected. Please change the shape of y to (n_samples, ), for example using ravel().\n",
      "  y = column_or_1d(y, warn=True)\n",
      "/Users/utkarsh/miniconda3/lib/python3.11/site-packages/sklearn/utils/validation.py:1310: DataConversionWarning: A column-vector y was passed when a 1d array was expected. Please change the shape of y to (n_samples, ), for example using ravel().\n",
      "  y = column_or_1d(y, warn=True)\n"
     ]
    },
    {
     "name": "stdout",
     "output_type": "stream",
     "text": [
      "[CV 5/5] END model__colsample_bytree=0.9, model__gamma=0.2222222222222222, model__learning_rate=0.0001623776739188721, model__max_depth=9, model__min_child_weight=7.0, model__n_estimators=300, model__subsample=0.7222222222222222; neg_mean_absolute_error: (test=-0.365) r2: (test=-0.017) total time=  20.3s\n",
      "[CV 2/5] END model__colsample_bytree=0.7000000000000001, model__gamma=0.4444444444444444, model__learning_rate=0.03359818286283781, model__max_depth=4, model__min_child_weight=8.0, model__n_estimators=800, model__subsample=0.5555555555555556; neg_mean_absolute_error: (test=-0.513) r2: (test=-0.761) total time=  19.7s\n",
      "[CV 1/5] END model__colsample_bytree=0.7000000000000001, model__gamma=0.5555555555555556, model__learning_rate=0.002976351441631319, model__max_depth=7, model__min_child_weight=10.0, model__n_estimators=100, model__subsample=0.9444444444444444; neg_mean_absolute_error: (test=-0.460) r2: (test=0.032) total time=  16.8s\n"
     ]
    },
    {
     "name": "stderr",
     "output_type": "stream",
     "text": [
      "/Users/utkarsh/miniconda3/lib/python3.11/site-packages/sklearn/utils/validation.py:1310: DataConversionWarning: A column-vector y was passed when a 1d array was expected. Please change the shape of y to (n_samples, ), for example using ravel().\n",
      "  y = column_or_1d(y, warn=True)\n",
      "/Users/utkarsh/miniconda3/lib/python3.11/site-packages/sklearn/utils/validation.py:1310: DataConversionWarning: A column-vector y was passed when a 1d array was expected. Please change the shape of y to (n_samples, ), for example using ravel().\n",
      "  y = column_or_1d(y, warn=True)\n",
      "/Users/utkarsh/miniconda3/lib/python3.11/site-packages/sklearn/utils/validation.py:1310: DataConversionWarning: A column-vector y was passed when a 1d array was expected. Please change the shape of y to (n_samples, ), for example using ravel().\n",
      "  y = column_or_1d(y, warn=True)\n"
     ]
    },
    {
     "name": "stdout",
     "output_type": "stream",
     "text": [
      "[CV 2/5] END model__colsample_bytree=0.1, model__gamma=0.3333333333333333, model__learning_rate=0.03359818286283781, model__max_depth=5, model__min_child_weight=6.0, model__n_estimators=300, model__subsample=0.6666666666666666; neg_mean_absolute_error: (test=-0.572) r2: (test=-1.173) total time=  17.8s\n",
      "[CV 1/5] END model__colsample_bytree=0.30000000000000004, model__gamma=0.6666666666666666, model__learning_rate=0.0001623776739188721, model__max_depth=7, model__min_child_weight=3.0, model__n_estimators=600, model__subsample=0.5555555555555556; neg_mean_absolute_error: (test=-0.487) r2: (test=-0.048) total time=  19.3s\n",
      "[CV 4/5] END model__colsample_bytree=0.7000000000000001, model__gamma=0.4444444444444444, model__learning_rate=0.03359818286283781, model__max_depth=4, model__min_child_weight=8.0, model__n_estimators=800, model__subsample=0.5555555555555556; neg_mean_absolute_error: (test=-0.502) r2: (test=-0.192) total time=  19.7s\n"
     ]
    },
    {
     "name": "stderr",
     "output_type": "stream",
     "text": [
      "/Users/utkarsh/miniconda3/lib/python3.11/site-packages/sklearn/utils/validation.py:1310: DataConversionWarning: A column-vector y was passed when a 1d array was expected. Please change the shape of y to (n_samples, ), for example using ravel().\n",
      "  y = column_or_1d(y, warn=True)\n",
      "/Users/utkarsh/miniconda3/lib/python3.11/site-packages/sklearn/utils/validation.py:1310: DataConversionWarning: A column-vector y was passed when a 1d array was expected. Please change the shape of y to (n_samples, ), for example using ravel().\n",
      "  y = column_or_1d(y, warn=True)\n",
      "/Users/utkarsh/miniconda3/lib/python3.11/site-packages/sklearn/utils/validation.py:1310: DataConversionWarning: A column-vector y was passed when a 1d array was expected. Please change the shape of y to (n_samples, ), for example using ravel().\n",
      "  y = column_or_1d(y, warn=True)\n"
     ]
    },
    {
     "name": "stdout",
     "output_type": "stream",
     "text": [
      "[CV 5/5] END model__colsample_bytree=0.7000000000000001, model__gamma=0.4444444444444444, model__learning_rate=0.03359818286283781, model__max_depth=4, model__min_child_weight=8.0, model__n_estimators=800, model__subsample=0.5555555555555556; neg_mean_absolute_error: (test=-0.362) r2: (test=0.038) total time=  19.8s\n",
      "[CV 2/5] END model__colsample_bytree=0.7000000000000001, model__gamma=0.5555555555555556, model__learning_rate=0.002976351441631319, model__max_depth=7, model__min_child_weight=10.0, model__n_estimators=100, model__subsample=0.9444444444444444; neg_mean_absolute_error: (test=-0.625) r2: (test=-1.411) total time=  17.2s\n"
     ]
    },
    {
     "name": "stderr",
     "output_type": "stream",
     "text": [
      "/Users/utkarsh/miniconda3/lib/python3.11/site-packages/sklearn/utils/validation.py:1310: DataConversionWarning: A column-vector y was passed when a 1d array was expected. Please change the shape of y to (n_samples, ), for example using ravel().\n",
      "  y = column_or_1d(y, warn=True)\n",
      "/Users/utkarsh/miniconda3/lib/python3.11/site-packages/sklearn/utils/validation.py:1310: DataConversionWarning: A column-vector y was passed when a 1d array was expected. Please change the shape of y to (n_samples, ), for example using ravel().\n",
      "  y = column_or_1d(y, warn=True)\n"
     ]
    },
    {
     "name": "stdout",
     "output_type": "stream",
     "text": [
      "[CV 3/5] END model__colsample_bytree=0.30000000000000004, model__gamma=0.2222222222222222, model__learning_rate=0.3792690190732246, model__max_depth=8, model__min_child_weight=8.0, model__n_estimators=600, model__subsample=0.6666666666666666; neg_mean_absolute_error: (test=-0.584) r2: (test=0.156) total time=  18.3s\n",
      "[CV 2/5] END model__colsample_bytree=0.30000000000000004, model__gamma=0.6666666666666666, model__learning_rate=0.0001623776739188721, model__max_depth=7, model__min_child_weight=3.0, model__n_estimators=600, model__subsample=0.5555555555555556; neg_mean_absolute_error: (test=-0.630) r2: (test=-1.417) total time=  19.9s\n",
      "[CV 5/5] END model__colsample_bytree=0.30000000000000004, model__gamma=0.2222222222222222, model__learning_rate=0.3792690190732246, model__max_depth=8, model__min_child_weight=8.0, model__n_estimators=600, model__subsample=0.6666666666666666; neg_mean_absolute_error: (test=-0.437) r2: (test=-0.672) total time=  18.2s\n"
     ]
    },
    {
     "name": "stderr",
     "output_type": "stream",
     "text": [
      "/Users/utkarsh/miniconda3/lib/python3.11/site-packages/sklearn/utils/validation.py:1310: DataConversionWarning: A column-vector y was passed when a 1d array was expected. Please change the shape of y to (n_samples, ), for example using ravel().\n",
      "  y = column_or_1d(y, warn=True)\n",
      "/Users/utkarsh/miniconda3/lib/python3.11/site-packages/sklearn/utils/validation.py:1310: DataConversionWarning: A column-vector y was passed when a 1d array was expected. Please change the shape of y to (n_samples, ), for example using ravel().\n",
      "  y = column_or_1d(y, warn=True)\n",
      "/Users/utkarsh/miniconda3/lib/python3.11/site-packages/sklearn/utils/validation.py:1310: DataConversionWarning: A column-vector y was passed when a 1d array was expected. Please change the shape of y to (n_samples, ), for example using ravel().\n",
      "  y = column_or_1d(y, warn=True)\n"
     ]
    },
    {
     "name": "stdout",
     "output_type": "stream",
     "text": [
      "[CV 3/5] END model__colsample_bytree=0.30000000000000004, model__gamma=0.6666666666666666, model__learning_rate=0.0001623776739188721, model__max_depth=7, model__min_child_weight=3.0, model__n_estimators=600, model__subsample=0.5555555555555556; neg_mean_absolute_error: (test=-0.710) r2: (test=0.007) total time=  20.0s\n",
      "[CV 5/5] END model__colsample_bytree=0.30000000000000004, model__gamma=0.6666666666666666, model__learning_rate=0.0001623776739188721, model__max_depth=7, model__min_child_weight=3.0, model__n_estimators=600, model__subsample=0.5555555555555556; neg_mean_absolute_error: (test=-0.365) r2: (test=-0.009) total time=  19.7s\n",
      "[CV 1/5] END model__colsample_bytree=0.30000000000000004, model__gamma=0.2222222222222222, model__learning_rate=0.3792690190732246, model__max_depth=8, model__min_child_weight=8.0, model__n_estimators=600, model__subsample=0.6666666666666666; neg_mean_absolute_error: (test=-0.759) r2: (test=-1.309) total time=  19.0s\n"
     ]
    },
    {
     "name": "stderr",
     "output_type": "stream",
     "text": [
      "/Users/utkarsh/miniconda3/lib/python3.11/site-packages/sklearn/utils/validation.py:1310: DataConversionWarning: A column-vector y was passed when a 1d array was expected. Please change the shape of y to (n_samples, ), for example using ravel().\n",
      "  y = column_or_1d(y, warn=True)\n",
      "/Users/utkarsh/miniconda3/lib/python3.11/site-packages/sklearn/utils/validation.py:1310: DataConversionWarning: A column-vector y was passed when a 1d array was expected. Please change the shape of y to (n_samples, ), for example using ravel().\n",
      "  y = column_or_1d(y, warn=True)\n",
      "/Users/utkarsh/miniconda3/lib/python3.11/site-packages/sklearn/utils/validation.py:1310: DataConversionWarning: A column-vector y was passed when a 1d array was expected. Please change the shape of y to (n_samples, ), for example using ravel().\n",
      "  y = column_or_1d(y, warn=True)\n",
      "/Users/utkarsh/miniconda3/lib/python3.11/site-packages/sklearn/utils/validation.py:1310: DataConversionWarning: A column-vector y was passed when a 1d array was expected. Please change the shape of y to (n_samples, ), for example using ravel().\n",
      "  y = column_or_1d(y, warn=True)\n"
     ]
    },
    {
     "name": "stdout",
     "output_type": "stream",
     "text": [
      "[CV 4/5] END model__colsample_bytree=0.7000000000000001, model__gamma=0.5555555555555556, model__learning_rate=0.002976351441631319, model__max_depth=7, model__min_child_weight=10.0, model__n_estimators=100, model__subsample=0.9444444444444444; neg_mean_absolute_error: (test=-0.587) r2: (test=-0.706) total time=  18.0s\n",
      "[CV 3/5] END model__colsample_bytree=0.7000000000000001, model__gamma=0.5555555555555556, model__learning_rate=0.002976351441631319, model__max_depth=7, model__min_child_weight=10.0, model__n_estimators=100, model__subsample=0.9444444444444444; neg_mean_absolute_error: (test=-0.699) r2: (test=0.031) total time=  18.4s\n",
      "[CV 4/5] END model__colsample_bytree=0.30000000000000004, model__gamma=0.6666666666666666, model__learning_rate=0.0001623776739188721, model__max_depth=7, model__min_child_weight=3.0, model__n_estimators=600, model__subsample=0.5555555555555556; neg_mean_absolute_error: (test=-0.623) r2: (test=-0.884) total time=  20.4s\n"
     ]
    },
    {
     "name": "stderr",
     "output_type": "stream",
     "text": [
      "/Users/utkarsh/miniconda3/lib/python3.11/site-packages/sklearn/utils/validation.py:1310: DataConversionWarning: A column-vector y was passed when a 1d array was expected. Please change the shape of y to (n_samples, ), for example using ravel().\n",
      "  y = column_or_1d(y, warn=True)\n",
      "/Users/utkarsh/miniconda3/lib/python3.11/site-packages/sklearn/utils/validation.py:1310: DataConversionWarning: A column-vector y was passed when a 1d array was expected. Please change the shape of y to (n_samples, ), for example using ravel().\n",
      "  y = column_or_1d(y, warn=True)\n",
      "/Users/utkarsh/miniconda3/lib/python3.11/site-packages/sklearn/utils/validation.py:1310: DataConversionWarning: A column-vector y was passed when a 1d array was expected. Please change the shape of y to (n_samples, ), for example using ravel().\n",
      "  y = column_or_1d(y, warn=True)\n"
     ]
    },
    {
     "name": "stdout",
     "output_type": "stream",
     "text": [
      "[CV 5/5] END model__colsample_bytree=0.7000000000000001, model__gamma=0.5555555555555556, model__learning_rate=0.002976351441631319, model__max_depth=7, model__min_child_weight=10.0, model__n_estimators=100, model__subsample=0.9444444444444444; neg_mean_absolute_error: (test=-0.365) r2: (test=-0.013) total time=  18.2s\n",
      "[CV 1/5] END model__colsample_bytree=0.7000000000000001, model__gamma=0.4444444444444444, model__learning_rate=0.03359818286283781, model__max_depth=4, model__min_child_weight=8.0, model__n_estimators=800, model__subsample=0.5555555555555556; neg_mean_absolute_error: (test=-0.451) r2: (test=0.092) total time=  21.9s\n",
      "[CV 2/5] END model__colsample_bytree=0.30000000000000004, model__gamma=0.2222222222222222, model__learning_rate=0.3792690190732246, model__max_depth=8, model__min_child_weight=8.0, model__n_estimators=600, model__subsample=0.6666666666666666; neg_mean_absolute_error: (test=-0.735) r2: (test=-3.844) total time=  19.4s\n"
     ]
    },
    {
     "name": "stderr",
     "output_type": "stream",
     "text": [
      "/Users/utkarsh/miniconda3/lib/python3.11/site-packages/sklearn/utils/validation.py:1310: DataConversionWarning: A column-vector y was passed when a 1d array was expected. Please change the shape of y to (n_samples, ), for example using ravel().\n",
      "  y = column_or_1d(y, warn=True)\n",
      "/Users/utkarsh/miniconda3/lib/python3.11/site-packages/sklearn/utils/validation.py:1310: DataConversionWarning: A column-vector y was passed when a 1d array was expected. Please change the shape of y to (n_samples, ), for example using ravel().\n",
      "  y = column_or_1d(y, warn=True)\n"
     ]
    },
    {
     "name": "stdout",
     "output_type": "stream",
     "text": [
      "[CV 4/5] END model__colsample_bytree=0.30000000000000004, model__gamma=0.2222222222222222, model__learning_rate=0.3792690190732246, model__max_depth=8, model__min_child_weight=8.0, model__n_estimators=600, model__subsample=0.6666666666666666; neg_mean_absolute_error: (test=-0.780) r2: (test=-1.546) total time=  19.9s\n"
     ]
    },
    {
     "name": "stderr",
     "output_type": "stream",
     "text": [
      "/Users/utkarsh/miniconda3/lib/python3.11/site-packages/sklearn/utils/validation.py:1310: DataConversionWarning: A column-vector y was passed when a 1d array was expected. Please change the shape of y to (n_samples, ), for example using ravel().\n",
      "  y = column_or_1d(y, warn=True)\n"
     ]
    },
    {
     "name": "stdout",
     "output_type": "stream",
     "text": [
      "[CV 2/5] END model__colsample_bytree=1.0, model__gamma=0.5555555555555556, model__learning_rate=0.012742749857031334, model__max_depth=10, model__min_child_weight=8.0, model__n_estimators=500, model__subsample=0.9444444444444444; neg_mean_absolute_error: (test=-0.608) r2: (test=-1.407) total time=  20.2s\n",
      "[CV 2/5] END model__colsample_bytree=0.4, model__gamma=0.8888888888888888, model__learning_rate=0.14384498882876628, model__max_depth=10, model__min_child_weight=9.0, model__n_estimators=900, model__subsample=0.5555555555555556; neg_mean_absolute_error: (test=-0.449) r2: (test=-0.367) total time=  18.6s\n",
      "[CV 1/5] END model__colsample_bytree=1.0, model__gamma=0.5555555555555556, model__learning_rate=0.012742749857031334, model__max_depth=10, model__min_child_weight=8.0, model__n_estimators=500, model__subsample=0.9444444444444444; neg_mean_absolute_error: (test=-0.454) r2: (test=0.045) total time=  20.9s\n"
     ]
    },
    {
     "name": "stderr",
     "output_type": "stream",
     "text": [
      "/Users/utkarsh/miniconda3/lib/python3.11/site-packages/sklearn/utils/validation.py:1310: DataConversionWarning: A column-vector y was passed when a 1d array was expected. Please change the shape of y to (n_samples, ), for example using ravel().\n",
      "  y = column_or_1d(y, warn=True)\n",
      "/Users/utkarsh/miniconda3/lib/python3.11/site-packages/sklearn/utils/validation.py:1310: DataConversionWarning: A column-vector y was passed when a 1d array was expected. Please change the shape of y to (n_samples, ), for example using ravel().\n",
      "  y = column_or_1d(y, warn=True)\n",
      "/Users/utkarsh/miniconda3/lib/python3.11/site-packages/sklearn/utils/validation.py:1310: DataConversionWarning: A column-vector y was passed when a 1d array was expected. Please change the shape of y to (n_samples, ), for example using ravel().\n",
      "  y = column_or_1d(y, warn=True)\n"
     ]
    },
    {
     "name": "stdout",
     "output_type": "stream",
     "text": [
      "[CV 3/5] END model__colsample_bytree=0.1, model__gamma=1.0, model__learning_rate=0.00042813323987193956, model__max_depth=6, model__min_child_weight=6.0, model__n_estimators=300, model__subsample=0.8888888888888888; neg_mean_absolute_error: (test=-0.707) r2: (test=0.014) total time=  17.8s\n",
      "[CV 1/5] END model__colsample_bytree=0.4, model__gamma=0.8888888888888888, model__learning_rate=0.14384498882876628, model__max_depth=10, model__min_child_weight=9.0, model__n_estimators=900, model__subsample=0.5555555555555556; neg_mean_absolute_error: (test=-0.456) r2: (test=0.059) total time=  19.6s\n",
      "[CV 3/5] END model__colsample_bytree=1.0, model__gamma=0.5555555555555556, model__learning_rate=0.012742749857031334, model__max_depth=10, model__min_child_weight=8.0, model__n_estimators=500, model__subsample=0.9444444444444444; neg_mean_absolute_error: (test=-0.661) r2: (test=0.114) total time=  20.4s\n",
      "[CV 4/5] END model__colsample_bytree=1.0, model__gamma=0.5555555555555556, model__learning_rate=0.012742749857031334, model__max_depth=10, model__min_child_weight=8.0, model__n_estimators=500, model__subsample=0.9444444444444444; neg_mean_absolute_error: (test=-0.480) r2: (test=-0.018) total time=  20.5s\n"
     ]
    },
    {
     "name": "stderr",
     "output_type": "stream",
     "text": [
      "/Users/utkarsh/miniconda3/lib/python3.11/site-packages/sklearn/utils/validation.py:1310: DataConversionWarning: A column-vector y was passed when a 1d array was expected. Please change the shape of y to (n_samples, ), for example using ravel().\n",
      "  y = column_or_1d(y, warn=True)\n"
     ]
    },
    {
     "name": "stdout",
     "output_type": "stream",
     "text": [
      "[CV 2/5] END model__colsample_bytree=0.1, model__gamma=1.0, model__learning_rate=0.00042813323987193956, model__max_depth=6, model__min_child_weight=6.0, model__n_estimators=300, model__subsample=0.8888888888888888; neg_mean_absolute_error: (test=-0.628) r2: (test=-1.398) total time=  18.2s\n"
     ]
    },
    {
     "name": "stderr",
     "output_type": "stream",
     "text": [
      "/Users/utkarsh/miniconda3/lib/python3.11/site-packages/sklearn/utils/validation.py:1310: DataConversionWarning: A column-vector y was passed when a 1d array was expected. Please change the shape of y to (n_samples, ), for example using ravel().\n",
      "  y = column_or_1d(y, warn=True)\n",
      "/Users/utkarsh/miniconda3/lib/python3.11/site-packages/sklearn/utils/validation.py:1310: DataConversionWarning: A column-vector y was passed when a 1d array was expected. Please change the shape of y to (n_samples, ), for example using ravel().\n",
      "  y = column_or_1d(y, warn=True)\n",
      "/Users/utkarsh/miniconda3/lib/python3.11/site-packages/sklearn/utils/validation.py:1310: DataConversionWarning: A column-vector y was passed when a 1d array was expected. Please change the shape of y to (n_samples, ), for example using ravel().\n",
      "  y = column_or_1d(y, warn=True)\n",
      "/Users/utkarsh/miniconda3/lib/python3.11/site-packages/sklearn/utils/validation.py:1310: DataConversionWarning: A column-vector y was passed when a 1d array was expected. Please change the shape of y to (n_samples, ), for example using ravel().\n",
      "  y = column_or_1d(y, warn=True)\n"
     ]
    },
    {
     "name": "stdout",
     "output_type": "stream",
     "text": [
      "[CV 5/5] END model__colsample_bytree=1.0, model__gamma=0.5555555555555556, model__learning_rate=0.012742749857031334, model__max_depth=10, model__min_child_weight=8.0, model__n_estimators=500, model__subsample=0.9444444444444444; neg_mean_absolute_error: (test=-0.379) r2: (test=-0.107) total time=  20.9s\n",
      "[CV 3/5] END model__colsample_bytree=0.4, model__gamma=0.8888888888888888, model__learning_rate=0.14384498882876628, model__max_depth=10, model__min_child_weight=9.0, model__n_estimators=900, model__subsample=0.5555555555555556; neg_mean_absolute_error: (test=-0.534) r2: (test=0.143) total time=  20.1s\n",
      "[CV 4/5] END model__colsample_bytree=0.1, model__gamma=1.0, model__learning_rate=0.00042813323987193956, model__max_depth=6, model__min_child_weight=6.0, model__n_estimators=300, model__subsample=0.8888888888888888; neg_mean_absolute_error: (test=-0.622) r2: (test=-0.880) total time=  18.4s\n"
     ]
    },
    {
     "name": "stderr",
     "output_type": "stream",
     "text": [
      "/Users/utkarsh/miniconda3/lib/python3.11/site-packages/sklearn/utils/validation.py:1310: DataConversionWarning: A column-vector y was passed when a 1d array was expected. Please change the shape of y to (n_samples, ), for example using ravel().\n",
      "  y = column_or_1d(y, warn=True)\n",
      "/Users/utkarsh/miniconda3/lib/python3.11/site-packages/sklearn/utils/validation.py:1310: DataConversionWarning: A column-vector y was passed when a 1d array was expected. Please change the shape of y to (n_samples, ), for example using ravel().\n",
      "  y = column_or_1d(y, warn=True)\n",
      "/Users/utkarsh/miniconda3/lib/python3.11/site-packages/sklearn/utils/validation.py:1310: DataConversionWarning: A column-vector y was passed when a 1d array was expected. Please change the shape of y to (n_samples, ), for example using ravel().\n",
      "  y = column_or_1d(y, warn=True)\n"
     ]
    },
    {
     "name": "stdout",
     "output_type": "stream",
     "text": [
      "[CV 1/5] END model__colsample_bytree=0.1, model__gamma=1.0, model__learning_rate=0.00042813323987193956, model__max_depth=6, model__min_child_weight=6.0, model__n_estimators=300, model__subsample=0.8888888888888888; neg_mean_absolute_error: (test=-0.486) r2: (test=-0.046) total time=  19.4s\n"
     ]
    },
    {
     "name": "stderr",
     "output_type": "stream",
     "text": [
      "/Users/utkarsh/miniconda3/lib/python3.11/site-packages/sklearn/utils/validation.py:1310: DataConversionWarning: A column-vector y was passed when a 1d array was expected. Please change the shape of y to (n_samples, ), for example using ravel().\n",
      "  y = column_or_1d(y, warn=True)\n"
     ]
    },
    {
     "name": "stdout",
     "output_type": "stream",
     "text": [
      "[CV 5/5] END model__colsample_bytree=0.1, model__gamma=1.0, model__learning_rate=0.00042813323987193956, model__max_depth=6, model__min_child_weight=6.0, model__n_estimators=300, model__subsample=0.8888888888888888; neg_mean_absolute_error: (test=-0.365) r2: (test=-0.005) total time=  18.9s\n"
     ]
    },
    {
     "name": "stderr",
     "output_type": "stream",
     "text": [
      "/Users/utkarsh/miniconda3/lib/python3.11/site-packages/sklearn/utils/validation.py:1310: DataConversionWarning: A column-vector y was passed when a 1d array was expected. Please change the shape of y to (n_samples, ), for example using ravel().\n",
      "  y = column_or_1d(y, warn=True)\n"
     ]
    },
    {
     "name": "stdout",
     "output_type": "stream",
     "text": [
      "[CV 4/5] END model__colsample_bytree=0.4, model__gamma=0.8888888888888888, model__learning_rate=0.14384498882876628, model__max_depth=10, model__min_child_weight=9.0, model__n_estimators=900, model__subsample=0.5555555555555556; neg_mean_absolute_error: (test=-0.652) r2: (test=-0.978) total time=  21.2s\n"
     ]
    },
    {
     "name": "stderr",
     "output_type": "stream",
     "text": [
      "/Users/utkarsh/miniconda3/lib/python3.11/site-packages/sklearn/utils/validation.py:1310: DataConversionWarning: A column-vector y was passed when a 1d array was expected. Please change the shape of y to (n_samples, ), for example using ravel().\n",
      "  y = column_or_1d(y, warn=True)\n"
     ]
    },
    {
     "name": "stdout",
     "output_type": "stream",
     "text": [
      "[CV 5/5] END model__colsample_bytree=0.4, model__gamma=0.8888888888888888, model__learning_rate=0.14384498882876628, model__max_depth=10, model__min_child_weight=9.0, model__n_estimators=900, model__subsample=0.5555555555555556; neg_mean_absolute_error: (test=-0.406) r2: (test=-0.449) total time=  20.8s\n"
     ]
    },
    {
     "name": "stderr",
     "output_type": "stream",
     "text": [
      "/Users/utkarsh/miniconda3/lib/python3.11/site-packages/sklearn/utils/validation.py:1310: DataConversionWarning: A column-vector y was passed when a 1d array was expected. Please change the shape of y to (n_samples, ), for example using ravel().\n",
      "  y = column_or_1d(y, warn=True)\n"
     ]
    },
    {
     "name": "stdout",
     "output_type": "stream",
     "text": [
      "[CV 1/5] END model__colsample_bytree=0.6, model__gamma=0.2222222222222222, model__learning_rate=0.007847599703514606, model__max_depth=10, model__min_child_weight=5.0, model__n_estimators=300, model__subsample=0.8333333333333333; neg_mean_absolute_error: (test=-0.451) r2: (test=0.063) total time=  20.1s\n"
     ]
    },
    {
     "name": "stderr",
     "output_type": "stream",
     "text": [
      "/Users/utkarsh/miniconda3/lib/python3.11/site-packages/sklearn/utils/validation.py:1310: DataConversionWarning: A column-vector y was passed when a 1d array was expected. Please change the shape of y to (n_samples, ), for example using ravel().\n",
      "  y = column_or_1d(y, warn=True)\n"
     ]
    },
    {
     "name": "stdout",
     "output_type": "stream",
     "text": [
      "[CV 5/5] END model__colsample_bytree=0.6, model__gamma=0.2222222222222222, model__learning_rate=0.007847599703514606, model__max_depth=10, model__min_child_weight=5.0, model__n_estimators=300, model__subsample=0.8333333333333333; neg_mean_absolute_error: (test=-0.362) r2: (test=0.037) total time=  19.6s\n"
     ]
    },
    {
     "name": "stderr",
     "output_type": "stream",
     "text": [
      "/Users/utkarsh/miniconda3/lib/python3.11/site-packages/sklearn/utils/validation.py:1310: DataConversionWarning: A column-vector y was passed when a 1d array was expected. Please change the shape of y to (n_samples, ), for example using ravel().\n",
      "  y = column_or_1d(y, warn=True)\n"
     ]
    },
    {
     "name": "stdout",
     "output_type": "stream",
     "text": [
      "[CV 3/5] END model__colsample_bytree=0.6, model__gamma=0.2222222222222222, model__learning_rate=0.007847599703514606, model__max_depth=10, model__min_child_weight=5.0, model__n_estimators=300, model__subsample=0.8333333333333333; neg_mean_absolute_error: (test=-0.599) r2: (test=0.135) total time=  20.6s\n",
      "[CV 4/5] END model__colsample_bytree=0.6, model__gamma=0.2222222222222222, model__learning_rate=0.007847599703514606, model__max_depth=10, model__min_child_weight=5.0, model__n_estimators=300, model__subsample=0.8333333333333333; neg_mean_absolute_error: (test=-0.512) r2: (test=-0.292) total time=  20.4s\n"
     ]
    },
    {
     "name": "stderr",
     "output_type": "stream",
     "text": [
      "/Users/utkarsh/miniconda3/lib/python3.11/site-packages/sklearn/utils/validation.py:1310: DataConversionWarning: A column-vector y was passed when a 1d array was expected. Please change the shape of y to (n_samples, ), for example using ravel().\n",
      "  y = column_or_1d(y, warn=True)\n",
      "/Users/utkarsh/miniconda3/lib/python3.11/site-packages/sklearn/utils/validation.py:1310: DataConversionWarning: A column-vector y was passed when a 1d array was expected. Please change the shape of y to (n_samples, ), for example using ravel().\n",
      "  y = column_or_1d(y, warn=True)\n"
     ]
    },
    {
     "name": "stdout",
     "output_type": "stream",
     "text": [
      "[CV 4/5] END model__colsample_bytree=0.8, model__gamma=0.0, model__learning_rate=0.0006951927961775605, model__max_depth=10, model__min_child_weight=9.0, model__n_estimators=700, model__subsample=0.6111111111111112; neg_mean_absolute_error: (test=-0.571) r2: (test=-0.615) total time=  25.4s\n",
      "[CV 5/5] END model__colsample_bytree=0.8, model__gamma=0.0, model__learning_rate=0.0006951927961775605, model__max_depth=10, model__min_child_weight=9.0, model__n_estimators=700, model__subsample=0.6111111111111112; neg_mean_absolute_error: (test=-0.365) r2: (test=0.017) total time=  25.5s\n",
      "[CV 2/5] END model__colsample_bytree=0.6, model__gamma=0.2222222222222222, model__learning_rate=0.007847599703514606, model__max_depth=10, model__min_child_weight=5.0, model__n_estimators=300, model__subsample=0.8333333333333333; neg_mean_absolute_error: (test=-0.581) r2: (test=-1.216) total time=  21.3s\n"
     ]
    },
    {
     "name": "stderr",
     "output_type": "stream",
     "text": [
      "/Users/utkarsh/miniconda3/lib/python3.11/site-packages/sklearn/utils/validation.py:1310: DataConversionWarning: A column-vector y was passed when a 1d array was expected. Please change the shape of y to (n_samples, ), for example using ravel().\n",
      "  y = column_or_1d(y, warn=True)\n",
      "/Users/utkarsh/miniconda3/lib/python3.11/site-packages/sklearn/utils/validation.py:1310: DataConversionWarning: A column-vector y was passed when a 1d array was expected. Please change the shape of y to (n_samples, ), for example using ravel().\n",
      "  y = column_or_1d(y, warn=True)\n"
     ]
    },
    {
     "name": "stdout",
     "output_type": "stream",
     "text": [
      "[CV 1/5] END model__colsample_bytree=0.6, model__gamma=0.7777777777777777, model__learning_rate=0.615848211066026, model__max_depth=5, model__min_child_weight=1.0, model__n_estimators=800, model__subsample=0.6111111111111112; neg_mean_absolute_error: (test=-1.481) r2: (test=-8.433) total time=  20.4s\n"
     ]
    },
    {
     "name": "stderr",
     "output_type": "stream",
     "text": [
      "/Users/utkarsh/miniconda3/lib/python3.11/site-packages/sklearn/utils/validation.py:1310: DataConversionWarning: A column-vector y was passed when a 1d array was expected. Please change the shape of y to (n_samples, ), for example using ravel().\n",
      "  y = column_or_1d(y, warn=True)\n",
      "/Users/utkarsh/miniconda3/lib/python3.11/site-packages/sklearn/utils/validation.py:1310: DataConversionWarning: A column-vector y was passed when a 1d array was expected. Please change the shape of y to (n_samples, ), for example using ravel().\n",
      "  y = column_or_1d(y, warn=True)\n"
     ]
    },
    {
     "name": "stdout",
     "output_type": "stream",
     "text": [
      "[CV 2/5] END model__colsample_bytree=0.8, model__gamma=0.0, model__learning_rate=0.0006951927961775605, model__max_depth=10, model__min_child_weight=9.0, model__n_estimators=700, model__subsample=0.6111111111111112; neg_mean_absolute_error: (test=-0.607) r2: (test=-1.314) total time=  26.0s\n"
     ]
    },
    {
     "name": "stderr",
     "output_type": "stream",
     "text": [
      "/Users/utkarsh/miniconda3/lib/python3.11/site-packages/sklearn/utils/validation.py:1310: DataConversionWarning: A column-vector y was passed when a 1d array was expected. Please change the shape of y to (n_samples, ), for example using ravel().\n",
      "  y = column_or_1d(y, warn=True)\n"
     ]
    },
    {
     "name": "stdout",
     "output_type": "stream",
     "text": [
      "[CV 3/5] END model__colsample_bytree=0.8, model__gamma=0.0, model__learning_rate=0.0006951927961775605, model__max_depth=10, model__min_child_weight=9.0, model__n_estimators=700, model__subsample=0.6111111111111112; neg_mean_absolute_error: (test=-0.689) r2: (test=0.049) total time=  26.3s\n"
     ]
    },
    {
     "name": "stderr",
     "output_type": "stream",
     "text": [
      "/Users/utkarsh/miniconda3/lib/python3.11/site-packages/sklearn/utils/validation.py:1310: DataConversionWarning: A column-vector y was passed when a 1d array was expected. Please change the shape of y to (n_samples, ), for example using ravel().\n",
      "  y = column_or_1d(y, warn=True)\n"
     ]
    },
    {
     "name": "stdout",
     "output_type": "stream",
     "text": [
      "[CV 2/5] END model__colsample_bytree=0.6, model__gamma=0.7777777777777777, model__learning_rate=0.615848211066026, model__max_depth=5, model__min_child_weight=1.0, model__n_estimators=800, model__subsample=0.6111111111111112; neg_mean_absolute_error: (test=-0.784) r2: (test=-3.459) total time=  21.1s\n",
      "[CV 5/5] END model__colsample_bytree=0.6, model__gamma=0.7777777777777777, model__learning_rate=0.615848211066026, model__max_depth=5, model__min_child_weight=1.0, model__n_estimators=800, model__subsample=0.6111111111111112; neg_mean_absolute_error: (test=-0.789) r2: (test=-5.338) total time=  19.8s\n",
      "[CV 4/5] END model__colsample_bytree=0.6, model__gamma=0.7777777777777777, model__learning_rate=0.615848211066026, model__max_depth=5, model__min_child_weight=1.0, model__n_estimators=800, model__subsample=0.6111111111111112; neg_mean_absolute_error: (test=-1.149) r2: (test=-4.265) total time=  20.0s\n",
      "[CV 3/5] END model__colsample_bytree=0.6, model__gamma=0.7777777777777777, model__learning_rate=0.615848211066026, model__max_depth=5, model__min_child_weight=1.0, model__n_estimators=800, model__subsample=0.6111111111111112; neg_mean_absolute_error: (test=-0.594) r2: (test=0.234) total time=  21.2s\n"
     ]
    },
    {
     "name": "stderr",
     "output_type": "stream",
     "text": [
      "/Users/utkarsh/miniconda3/lib/python3.11/site-packages/sklearn/utils/validation.py:1310: DataConversionWarning: A column-vector y was passed when a 1d array was expected. Please change the shape of y to (n_samples, ), for example using ravel().\n",
      "  y = column_or_1d(y, warn=True)\n",
      "/Users/utkarsh/miniconda3/lib/python3.11/site-packages/sklearn/utils/validation.py:1310: DataConversionWarning: A column-vector y was passed when a 1d array was expected. Please change the shape of y to (n_samples, ), for example using ravel().\n",
      "  y = column_or_1d(y, warn=True)\n",
      "/Users/utkarsh/miniconda3/lib/python3.11/site-packages/sklearn/utils/validation.py:1310: DataConversionWarning: A column-vector y was passed when a 1d array was expected. Please change the shape of y to (n_samples, ), for example using ravel().\n",
      "  y = column_or_1d(y, warn=True)\n"
     ]
    },
    {
     "name": "stdout",
     "output_type": "stream",
     "text": [
      "[CV 1/5] END model__colsample_bytree=0.8, model__gamma=0.0, model__learning_rate=0.0006951927961775605, model__max_depth=10, model__min_child_weight=9.0, model__n_estimators=700, model__subsample=0.6111111111111112; neg_mean_absolute_error: (test=-0.448) r2: (test=0.069) total time=  27.2s\n"
     ]
    },
    {
     "name": "stderr",
     "output_type": "stream",
     "text": [
      "/Users/utkarsh/miniconda3/lib/python3.11/site-packages/sklearn/utils/validation.py:1310: DataConversionWarning: A column-vector y was passed when a 1d array was expected. Please change the shape of y to (n_samples, ), for example using ravel().\n",
      "  y = column_or_1d(y, warn=True)\n",
      "/Users/utkarsh/miniconda3/lib/python3.11/site-packages/sklearn/utils/validation.py:1310: DataConversionWarning: A column-vector y was passed when a 1d array was expected. Please change the shape of y to (n_samples, ), for example using ravel().\n",
      "  y = column_or_1d(y, warn=True)\n"
     ]
    },
    {
     "name": "stdout",
     "output_type": "stream",
     "text": [
      "[CV 1/5] END model__colsample_bytree=0.6, model__gamma=0.8888888888888888, model__learning_rate=0.0006951927961775605, model__max_depth=9, model__min_child_weight=2.0, model__n_estimators=200, model__subsample=0.6111111111111112; neg_mean_absolute_error: (test=-0.479) r2: (test=-0.023) total time=  18.1s\n",
      "[CV 2/5] END model__colsample_bytree=0.6, model__gamma=0.8888888888888888, model__learning_rate=0.0006951927961775605, model__max_depth=9, model__min_child_weight=2.0, model__n_estimators=200, model__subsample=0.6111111111111112; neg_mean_absolute_error: (test=-0.632) r2: (test=-1.435) total time=  18.1s\n"
     ]
    },
    {
     "name": "stderr",
     "output_type": "stream",
     "text": [
      "/Users/utkarsh/miniconda3/lib/python3.11/site-packages/sklearn/utils/validation.py:1310: DataConversionWarning: A column-vector y was passed when a 1d array was expected. Please change the shape of y to (n_samples, ), for example using ravel().\n",
      "  y = column_or_1d(y, warn=True)\n",
      "/Users/utkarsh/miniconda3/lib/python3.11/site-packages/sklearn/utils/validation.py:1310: DataConversionWarning: A column-vector y was passed when a 1d array was expected. Please change the shape of y to (n_samples, ), for example using ravel().\n",
      "  y = column_or_1d(y, warn=True)\n"
     ]
    },
    {
     "name": "stdout",
     "output_type": "stream",
     "text": [
      "[CV 5/5] END model__colsample_bytree=0.6, model__gamma=0.8888888888888888, model__learning_rate=0.0006951927961775605, model__max_depth=9, model__min_child_weight=2.0, model__n_estimators=200, model__subsample=0.6111111111111112; neg_mean_absolute_error: (test=-0.365) r2: (test=-0.007) total time=  17.3s\n",
      "[CV 3/5] END model__colsample_bytree=0.6, model__gamma=0.8888888888888888, model__learning_rate=0.0006951927961775605, model__max_depth=9, model__min_child_weight=2.0, model__n_estimators=200, model__subsample=0.6111111111111112; neg_mean_absolute_error: (test=-0.703) r2: (test=0.021) total time=  18.2s\n",
      "[CV 4/5] END model__colsample_bytree=0.8, model__gamma=0.0, model__learning_rate=0.00042813323987193956, model__max_depth=7, model__min_child_weight=7.0, model__n_estimators=600, model__subsample=0.7777777777777778; neg_mean_absolute_error: (test=-0.595) r2: (test=-0.742) total time=  22.4s\n"
     ]
    },
    {
     "name": "stderr",
     "output_type": "stream",
     "text": [
      "/Users/utkarsh/miniconda3/lib/python3.11/site-packages/sklearn/utils/validation.py:1310: DataConversionWarning: A column-vector y was passed when a 1d array was expected. Please change the shape of y to (n_samples, ), for example using ravel().\n",
      "  y = column_or_1d(y, warn=True)\n",
      "/Users/utkarsh/miniconda3/lib/python3.11/site-packages/sklearn/utils/validation.py:1310: DataConversionWarning: A column-vector y was passed when a 1d array was expected. Please change the shape of y to (n_samples, ), for example using ravel().\n",
      "  y = column_or_1d(y, warn=True)\n",
      "/Users/utkarsh/miniconda3/lib/python3.11/site-packages/sklearn/utils/validation.py:1310: DataConversionWarning: A column-vector y was passed when a 1d array was expected. Please change the shape of y to (n_samples, ), for example using ravel().\n",
      "  y = column_or_1d(y, warn=True)\n"
     ]
    },
    {
     "name": "stdout",
     "output_type": "stream",
     "text": [
      "[CV 1/5] END model__colsample_bytree=0.8, model__gamma=0.0, model__learning_rate=0.00042813323987193956, model__max_depth=7, model__min_child_weight=7.0, model__n_estimators=600, model__subsample=0.7777777777777778; neg_mean_absolute_error: (test=-0.460) r2: (test=0.034) total time=  25.2s\n",
      "[CV 3/5] END model__colsample_bytree=0.8, model__gamma=0.0, model__learning_rate=0.00042813323987193956, model__max_depth=7, model__min_child_weight=7.0, model__n_estimators=600, model__subsample=0.7777777777777778; neg_mean_absolute_error: (test=-0.700) r2: (test=0.032) total time=  23.9s\n",
      "[CV 4/5] END model__colsample_bytree=0.6, model__gamma=0.8888888888888888, model__learning_rate=0.0006951927961775605, model__max_depth=9, model__min_child_weight=2.0, model__n_estimators=200, model__subsample=0.6111111111111112; neg_mean_absolute_error: (test=-0.615) r2: (test=-0.841) total time=  18.4s\n"
     ]
    },
    {
     "name": "stderr",
     "output_type": "stream",
     "text": [
      "/Users/utkarsh/miniconda3/lib/python3.11/site-packages/sklearn/utils/validation.py:1310: DataConversionWarning: A column-vector y was passed when a 1d array was expected. Please change the shape of y to (n_samples, ), for example using ravel().\n",
      "  y = column_or_1d(y, warn=True)\n",
      "/Users/utkarsh/miniconda3/lib/python3.11/site-packages/sklearn/utils/validation.py:1310: DataConversionWarning: A column-vector y was passed when a 1d array was expected. Please change the shape of y to (n_samples, ), for example using ravel().\n",
      "  y = column_or_1d(y, warn=True)\n",
      "/Users/utkarsh/miniconda3/lib/python3.11/site-packages/sklearn/utils/validation.py:1310: DataConversionWarning: A column-vector y was passed when a 1d array was expected. Please change the shape of y to (n_samples, ), for example using ravel().\n",
      "  y = column_or_1d(y, warn=True)\n"
     ]
    },
    {
     "name": "stdout",
     "output_type": "stream",
     "text": [
      "[CV 2/5] END model__colsample_bytree=0.8, model__gamma=0.0, model__learning_rate=0.00042813323987193956, model__max_depth=7, model__min_child_weight=7.0, model__n_estimators=600, model__subsample=0.7777777777777778; neg_mean_absolute_error: (test=-0.630) r2: (test=-1.434) total time=  24.9s\n",
      "[CV 3/5] END model__colsample_bytree=0.8, model__gamma=0.7777777777777777, model__learning_rate=0.012742749857031334, model__max_depth=10, model__min_child_weight=7.0, model__n_estimators=200, model__subsample=1.0; neg_mean_absolute_error: (test=-0.647) r2: (test=0.130) total time=  16.5s\n"
     ]
    },
    {
     "name": "stderr",
     "output_type": "stream",
     "text": [
      "/Users/utkarsh/miniconda3/lib/python3.11/site-packages/sklearn/utils/validation.py:1310: DataConversionWarning: A column-vector y was passed when a 1d array was expected. Please change the shape of y to (n_samples, ), for example using ravel().\n",
      "  y = column_or_1d(y, warn=True)\n",
      "/Users/utkarsh/miniconda3/lib/python3.11/site-packages/sklearn/utils/validation.py:1310: DataConversionWarning: A column-vector y was passed when a 1d array was expected. Please change the shape of y to (n_samples, ), for example using ravel().\n",
      "  y = column_or_1d(y, warn=True)\n"
     ]
    },
    {
     "name": "stdout",
     "output_type": "stream",
     "text": [
      "[CV 1/5] END model__colsample_bytree=0.8, model__gamma=0.7777777777777777, model__learning_rate=0.012742749857031334, model__max_depth=10, model__min_child_weight=7.0, model__n_estimators=200, model__subsample=1.0; neg_mean_absolute_error: (test=-0.472) r2: (test=-0.029) total time=  17.6s\n",
      "[CV 2/5] END model__colsample_bytree=0.8, model__gamma=0.7777777777777777, model__learning_rate=0.012742749857031334, model__max_depth=10, model__min_child_weight=7.0, model__n_estimators=200, model__subsample=1.0; neg_mean_absolute_error: (test=-0.580) r2: (test=-1.143) total time=  17.4s\n",
      "[CV 4/5] END model__colsample_bytree=0.8, model__gamma=0.7777777777777777, model__learning_rate=0.012742749857031334, model__max_depth=10, model__min_child_weight=7.0, model__n_estimators=200, model__subsample=1.0; neg_mean_absolute_error: (test=-0.482) r2: (test=-0.018) total time=  17.3s\n"
     ]
    },
    {
     "name": "stderr",
     "output_type": "stream",
     "text": [
      "/Users/utkarsh/miniconda3/lib/python3.11/site-packages/sklearn/utils/validation.py:1310: DataConversionWarning: A column-vector y was passed when a 1d array was expected. Please change the shape of y to (n_samples, ), for example using ravel().\n",
      "  y = column_or_1d(y, warn=True)\n"
     ]
    },
    {
     "name": "stdout",
     "output_type": "stream",
     "text": [
      "[CV 5/5] END model__colsample_bytree=0.8, model__gamma=0.7777777777777777, model__learning_rate=0.012742749857031334, model__max_depth=10, model__min_child_weight=7.0, model__n_estimators=200, model__subsample=1.0; neg_mean_absolute_error: (test=-0.377) r2: (test=-0.110) total time=  17.1s\n"
     ]
    },
    {
     "name": "stderr",
     "output_type": "stream",
     "text": [
      "/Users/utkarsh/miniconda3/lib/python3.11/site-packages/sklearn/utils/validation.py:1310: DataConversionWarning: A column-vector y was passed when a 1d array was expected. Please change the shape of y to (n_samples, ), for example using ravel().\n",
      "  y = column_or_1d(y, warn=True)\n",
      "/Users/utkarsh/miniconda3/lib/python3.11/site-packages/sklearn/utils/validation.py:1310: DataConversionWarning: A column-vector y was passed when a 1d array was expected. Please change the shape of y to (n_samples, ), for example using ravel().\n",
      "  y = column_or_1d(y, warn=True)\n",
      "/Users/utkarsh/miniconda3/lib/python3.11/site-packages/sklearn/utils/validation.py:1310: DataConversionWarning: A column-vector y was passed when a 1d array was expected. Please change the shape of y to (n_samples, ), for example using ravel().\n",
      "  y = column_or_1d(y, warn=True)\n",
      "/Users/utkarsh/miniconda3/lib/python3.11/site-packages/sklearn/utils/validation.py:1310: DataConversionWarning: A column-vector y was passed when a 1d array was expected. Please change the shape of y to (n_samples, ), for example using ravel().\n",
      "  y = column_or_1d(y, warn=True)\n"
     ]
    },
    {
     "name": "stdout",
     "output_type": "stream",
     "text": [
      "[CV 4/5] END model__colsample_bytree=0.1, model__gamma=0.3333333333333333, model__learning_rate=0.0001, model__max_depth=5, model__min_child_weight=6.0, model__n_estimators=600, model__subsample=1.0; neg_mean_absolute_error: (test=-0.629) r2: (test=-0.917) total time=  17.1s\n",
      "[CV 1/5] END model__colsample_bytree=0.1, model__gamma=0.3333333333333333, model__learning_rate=0.0001, model__max_depth=5, model__min_child_weight=6.0, model__n_estimators=600, model__subsample=1.0; neg_mean_absolute_error: (test=-0.491) r2: (test=-0.065) total time=  17.7s\n"
     ]
    },
    {
     "name": "stderr",
     "output_type": "stream",
     "text": [
      "/Users/utkarsh/miniconda3/lib/python3.11/site-packages/sklearn/utils/validation.py:1310: DataConversionWarning: A column-vector y was passed when a 1d array was expected. Please change the shape of y to (n_samples, ), for example using ravel().\n",
      "  y = column_or_1d(y, warn=True)\n",
      "/Users/utkarsh/miniconda3/lib/python3.11/site-packages/sklearn/utils/validation.py:1310: DataConversionWarning: A column-vector y was passed when a 1d array was expected. Please change the shape of y to (n_samples, ), for example using ravel().\n",
      "  y = column_or_1d(y, warn=True)\n"
     ]
    },
    {
     "name": "stdout",
     "output_type": "stream",
     "text": [
      "[CV 3/5] END model__colsample_bytree=0.1, model__gamma=0.3333333333333333, model__learning_rate=0.0001, model__max_depth=5, model__min_child_weight=6.0, model__n_estimators=600, model__subsample=1.0; neg_mean_absolute_error: (test=-0.713) r2: (test=0.003) total time=  17.9s\n",
      "[CV 5/5] END model__colsample_bytree=0.1, model__gamma=0.3333333333333333, model__learning_rate=0.0001, model__max_depth=5, model__min_child_weight=6.0, model__n_estimators=600, model__subsample=1.0; neg_mean_absolute_error: (test=-0.365) r2: (test=-0.011) total time=  17.8s\n",
      "[CV 2/5] END model__colsample_bytree=0.1, model__gamma=0.3333333333333333, model__learning_rate=0.0001, model__max_depth=5, model__min_child_weight=6.0, model__n_estimators=600, model__subsample=1.0; neg_mean_absolute_error: (test=-0.635) r2: (test=-1.444) total time=  18.1s\n"
     ]
    },
    {
     "name": "stderr",
     "output_type": "stream",
     "text": [
      "/Users/utkarsh/miniconda3/lib/python3.11/site-packages/sklearn/utils/validation.py:1310: DataConversionWarning: A column-vector y was passed when a 1d array was expected. Please change the shape of y to (n_samples, ), for example using ravel().\n",
      "  y = column_or_1d(y, warn=True)\n",
      "/Users/utkarsh/miniconda3/lib/python3.11/site-packages/sklearn/utils/validation.py:1310: DataConversionWarning: A column-vector y was passed when a 1d array was expected. Please change the shape of y to (n_samples, ), for example using ravel().\n",
      "  y = column_or_1d(y, warn=True)\n"
     ]
    },
    {
     "name": "stdout",
     "output_type": "stream",
     "text": [
      "[CV 1/5] END model__colsample_bytree=1.0, model__gamma=0.8888888888888888, model__learning_rate=0.0006951927961775605, model__max_depth=5, model__min_child_weight=1.0, model__n_estimators=200, model__subsample=0.9444444444444444; neg_mean_absolute_error: (test=-0.470) r2: (test=0.002) total time=  15.4s\n",
      "[CV 4/5] END model__colsample_bytree=0.6, model__gamma=0.6666666666666666, model__learning_rate=0.004832930238571752, model__max_depth=10, model__min_child_weight=10.0, model__n_estimators=100, model__subsample=0.6666666666666666; neg_mean_absolute_error: (test=-0.571) r2: (test=-0.625) total time=  13.9s\n"
     ]
    },
    {
     "name": "stderr",
     "output_type": "stream",
     "text": [
      "/Users/utkarsh/miniconda3/lib/python3.11/site-packages/sklearn/utils/validation.py:1310: DataConversionWarning: A column-vector y was passed when a 1d array was expected. Please change the shape of y to (n_samples, ), for example using ravel().\n",
      "  y = column_or_1d(y, warn=True)\n",
      "/Users/utkarsh/miniconda3/lib/python3.11/site-packages/sklearn/utils/validation.py:1310: DataConversionWarning: A column-vector y was passed when a 1d array was expected. Please change the shape of y to (n_samples, ), for example using ravel().\n",
      "  y = column_or_1d(y, warn=True)\n",
      "/Users/utkarsh/miniconda3/lib/python3.11/site-packages/sklearn/utils/validation.py:1310: DataConversionWarning: A column-vector y was passed when a 1d array was expected. Please change the shape of y to (n_samples, ), for example using ravel().\n",
      "  y = column_or_1d(y, warn=True)\n"
     ]
    },
    {
     "name": "stdout",
     "output_type": "stream",
     "text": [
      "[CV 5/5] END model__colsample_bytree=0.8, model__gamma=0.0, model__learning_rate=0.00042813323987193956, model__max_depth=7, model__min_child_weight=7.0, model__n_estimators=600, model__subsample=0.7777777777777778; neg_mean_absolute_error: (test=-0.365) r2: (test=-0.008) total time=  23.8s\n",
      "[CV 2/5] END model__colsample_bytree=0.6, model__gamma=0.6666666666666666, model__learning_rate=0.004832930238571752, model__max_depth=10, model__min_child_weight=10.0, model__n_estimators=100, model__subsample=0.6666666666666666; neg_mean_absolute_error: (test=-0.608) r2: (test=-1.299) total time=  15.1s\n"
     ]
    },
    {
     "name": "stderr",
     "output_type": "stream",
     "text": [
      "/Users/utkarsh/miniconda3/lib/python3.11/site-packages/sklearn/utils/validation.py:1310: DataConversionWarning: A column-vector y was passed when a 1d array was expected. Please change the shape of y to (n_samples, ), for example using ravel().\n",
      "  y = column_or_1d(y, warn=True)\n"
     ]
    },
    {
     "name": "stdout",
     "output_type": "stream",
     "text": [
      "[CV 1/5] END model__colsample_bytree=0.6, model__gamma=0.6666666666666666, model__learning_rate=0.004832930238571752, model__max_depth=10, model__min_child_weight=10.0, model__n_estimators=100, model__subsample=0.6666666666666666; neg_mean_absolute_error: (test=-0.453) r2: (test=0.050) total time=  16.0s\n",
      "[CV 3/5] END model__colsample_bytree=0.6, model__gamma=0.6666666666666666, model__learning_rate=0.004832930238571752, model__max_depth=10, model__min_child_weight=10.0, model__n_estimators=100, model__subsample=0.6666666666666666; neg_mean_absolute_error: (test=-0.694) r2: (test=0.043) total time=  15.3s\n",
      "[CV 2/5] END model__colsample_bytree=1.0, model__gamma=0.8888888888888888, model__learning_rate=0.0006951927961775605, model__max_depth=5, model__min_child_weight=1.0, model__n_estimators=200, model__subsample=0.9444444444444444; neg_mean_absolute_error: (test=-0.639) r2: (test=-1.482) total time=  16.7s\n",
      "[CV 4/5] END model__colsample_bytree=1.0, model__gamma=0.8888888888888888, model__learning_rate=0.0006951927961775605, model__max_depth=5, model__min_child_weight=1.0, model__n_estimators=200, model__subsample=0.9444444444444444; neg_mean_absolute_error: (test=-0.613) r2: (test=-0.834) total time=  16.3s\n"
     ]
    },
    {
     "name": "stderr",
     "output_type": "stream",
     "text": [
      "/Users/utkarsh/miniconda3/lib/python3.11/site-packages/sklearn/utils/validation.py:1310: DataConversionWarning: A column-vector y was passed when a 1d array was expected. Please change the shape of y to (n_samples, ), for example using ravel().\n",
      "  y = column_or_1d(y, warn=True)\n",
      "/Users/utkarsh/miniconda3/lib/python3.11/site-packages/sklearn/utils/validation.py:1310: DataConversionWarning: A column-vector y was passed when a 1d array was expected. Please change the shape of y to (n_samples, ), for example using ravel().\n",
      "  y = column_or_1d(y, warn=True)\n",
      "/Users/utkarsh/miniconda3/lib/python3.11/site-packages/sklearn/utils/validation.py:1310: DataConversionWarning: A column-vector y was passed when a 1d array was expected. Please change the shape of y to (n_samples, ), for example using ravel().\n",
      "  y = column_or_1d(y, warn=True)\n",
      "/Users/utkarsh/miniconda3/lib/python3.11/site-packages/sklearn/utils/validation.py:1310: DataConversionWarning: A column-vector y was passed when a 1d array was expected. Please change the shape of y to (n_samples, ), for example using ravel().\n",
      "  y = column_or_1d(y, warn=True)\n"
     ]
    },
    {
     "name": "stdout",
     "output_type": "stream",
     "text": [
      "[CV 5/5] END model__colsample_bytree=0.6, model__gamma=0.6666666666666666, model__learning_rate=0.004832930238571752, model__max_depth=10, model__min_child_weight=10.0, model__n_estimators=100, model__subsample=0.6666666666666666; neg_mean_absolute_error: (test=-0.365) r2: (test=0.007) total time=  15.5s\n"
     ]
    },
    {
     "name": "stderr",
     "output_type": "stream",
     "text": [
      "/Users/utkarsh/miniconda3/lib/python3.11/site-packages/sklearn/utils/validation.py:1310: DataConversionWarning: A column-vector y was passed when a 1d array was expected. Please change the shape of y to (n_samples, ), for example using ravel().\n",
      "  y = column_or_1d(y, warn=True)\n"
     ]
    },
    {
     "name": "stdout",
     "output_type": "stream",
     "text": [
      "[CV 2/5] END model__colsample_bytree=0.8, model__gamma=0.1111111111111111, model__learning_rate=0.0206913808111479, model__max_depth=4, model__min_child_weight=4.0, model__n_estimators=900, model__subsample=0.6666666666666666; neg_mean_absolute_error: (test=-0.543) r2: (test=-0.982) total time=  22.2s\n",
      "[CV 3/5] END model__colsample_bytree=0.8, model__gamma=0.1111111111111111, model__learning_rate=0.0206913808111479, model__max_depth=4, model__min_child_weight=4.0, model__n_estimators=900, model__subsample=0.6666666666666666; neg_mean_absolute_error: (test=-0.575) r2: (test=0.110) total time=  22.3s\n"
     ]
    },
    {
     "name": "stderr",
     "output_type": "stream",
     "text": [
      "/Users/utkarsh/miniconda3/lib/python3.11/site-packages/sklearn/utils/validation.py:1310: DataConversionWarning: A column-vector y was passed when a 1d array was expected. Please change the shape of y to (n_samples, ), for example using ravel().\n",
      "  y = column_or_1d(y, warn=True)\n"
     ]
    },
    {
     "name": "stdout",
     "output_type": "stream",
     "text": [
      "[CV 5/5] END model__colsample_bytree=1.0, model__gamma=0.8888888888888888, model__learning_rate=0.0006951927961775605, model__max_depth=5, model__min_child_weight=1.0, model__n_estimators=200, model__subsample=0.9444444444444444; neg_mean_absolute_error: (test=-0.365) r2: (test=-0.031) total time=  17.1s\n"
     ]
    },
    {
     "name": "stderr",
     "output_type": "stream",
     "text": [
      "/Users/utkarsh/miniconda3/lib/python3.11/site-packages/sklearn/utils/validation.py:1310: DataConversionWarning: A column-vector y was passed when a 1d array was expected. Please change the shape of y to (n_samples, ), for example using ravel().\n",
      "  y = column_or_1d(y, warn=True)\n"
     ]
    },
    {
     "name": "stdout",
     "output_type": "stream",
     "text": [
      "[CV 3/5] END model__colsample_bytree=1.0, model__gamma=0.8888888888888888, model__learning_rate=0.0006951927961775605, model__max_depth=5, model__min_child_weight=1.0, model__n_estimators=200, model__subsample=0.9444444444444444; neg_mean_absolute_error: (test=-0.689) r2: (test=0.048) total time=  17.4s\n",
      "[CV 4/5] END model__colsample_bytree=0.8, model__gamma=0.1111111111111111, model__learning_rate=0.0206913808111479, model__max_depth=4, model__min_child_weight=4.0, model__n_estimators=900, model__subsample=0.6666666666666666; neg_mean_absolute_error: (test=-0.541) r2: (test=-0.452) total time=  22.6s\n",
      "[CV 3/5] END model__colsample_bytree=0.7000000000000001, model__gamma=0.0, model__learning_rate=0.0018329807108324356, model__max_depth=4, model__min_child_weight=2.0, model__n_estimators=900, model__subsample=0.7777777777777778; neg_mean_absolute_error: (test=-0.602) r2: (test=0.128) total time=  23.8s\n"
     ]
    },
    {
     "name": "stderr",
     "output_type": "stream",
     "text": [
      "/Users/utkarsh/miniconda3/lib/python3.11/site-packages/sklearn/utils/validation.py:1310: DataConversionWarning: A column-vector y was passed when a 1d array was expected. Please change the shape of y to (n_samples, ), for example using ravel().\n",
      "  y = column_or_1d(y, warn=True)\n",
      "/Users/utkarsh/miniconda3/lib/python3.11/site-packages/sklearn/utils/validation.py:1310: DataConversionWarning: A column-vector y was passed when a 1d array was expected. Please change the shape of y to (n_samples, ), for example using ravel().\n",
      "  y = column_or_1d(y, warn=True)\n",
      "/Users/utkarsh/miniconda3/lib/python3.11/site-packages/sklearn/utils/validation.py:1310: DataConversionWarning: A column-vector y was passed when a 1d array was expected. Please change the shape of y to (n_samples, ), for example using ravel().\n",
      "  y = column_or_1d(y, warn=True)\n"
     ]
    },
    {
     "name": "stdout",
     "output_type": "stream",
     "text": [
      "[CV 5/5] END model__colsample_bytree=0.7000000000000001, model__gamma=0.0, model__learning_rate=0.0018329807108324356, model__max_depth=4, model__min_child_weight=2.0, model__n_estimators=900, model__subsample=0.7777777777777778; neg_mean_absolute_error: (test=-0.363) r2: (test=0.048) total time=  23.2s\n",
      "[CV 5/5] END model__colsample_bytree=0.8, model__gamma=0.1111111111111111, model__learning_rate=0.0206913808111479, model__max_depth=4, model__min_child_weight=4.0, model__n_estimators=900, model__subsample=0.6666666666666666; neg_mean_absolute_error: (test=-0.363) r2: (test=-0.018) total time=  22.4s\n"
     ]
    },
    {
     "name": "stderr",
     "output_type": "stream",
     "text": [
      "/Users/utkarsh/miniconda3/lib/python3.11/site-packages/sklearn/utils/validation.py:1310: DataConversionWarning: A column-vector y was passed when a 1d array was expected. Please change the shape of y to (n_samples, ), for example using ravel().\n",
      "  y = column_or_1d(y, warn=True)\n",
      "/Users/utkarsh/miniconda3/lib/python3.11/site-packages/sklearn/utils/validation.py:1310: DataConversionWarning: A column-vector y was passed when a 1d array was expected. Please change the shape of y to (n_samples, ), for example using ravel().\n",
      "  y = column_or_1d(y, warn=True)\n",
      "/Users/utkarsh/miniconda3/lib/python3.11/site-packages/sklearn/utils/validation.py:1310: DataConversionWarning: A column-vector y was passed when a 1d array was expected. Please change the shape of y to (n_samples, ), for example using ravel().\n",
      "  y = column_or_1d(y, warn=True)\n"
     ]
    },
    {
     "name": "stdout",
     "output_type": "stream",
     "text": [
      "[CV 1/5] END model__colsample_bytree=0.8, model__gamma=0.1111111111111111, model__learning_rate=0.0206913808111479, model__max_depth=4, model__min_child_weight=4.0, model__n_estimators=900, model__subsample=0.6666666666666666; neg_mean_absolute_error: (test=-0.440) r2: (test=0.119) total time=  23.5s\n"
     ]
    },
    {
     "name": "stderr",
     "output_type": "stream",
     "text": [
      "/Users/utkarsh/miniconda3/lib/python3.11/site-packages/sklearn/utils/validation.py:1310: DataConversionWarning: A column-vector y was passed when a 1d array was expected. Please change the shape of y to (n_samples, ), for example using ravel().\n",
      "  y = column_or_1d(y, warn=True)\n",
      "/Users/utkarsh/miniconda3/lib/python3.11/site-packages/sklearn/utils/validation.py:1310: DataConversionWarning: A column-vector y was passed when a 1d array was expected. Please change the shape of y to (n_samples, ), for example using ravel().\n",
      "  y = column_or_1d(y, warn=True)\n"
     ]
    },
    {
     "name": "stdout",
     "output_type": "stream",
     "text": [
      "[CV 1/5] END model__colsample_bytree=0.7000000000000001, model__gamma=0.0, model__learning_rate=0.0018329807108324356, model__max_depth=4, model__min_child_weight=2.0, model__n_estimators=900, model__subsample=0.7777777777777778; neg_mean_absolute_error: (test=-0.443) r2: (test=0.097) total time=  24.6s\n",
      "[CV 4/5] END model__colsample_bytree=0.7000000000000001, model__gamma=0.0, model__learning_rate=0.0018329807108324356, model__max_depth=4, model__min_child_weight=2.0, model__n_estimators=900, model__subsample=0.7777777777777778; neg_mean_absolute_error: (test=-0.527) r2: (test=-0.373) total time=  24.0s\n",
      "[CV 2/5] END model__colsample_bytree=0.1, model__gamma=0.5555555555555556, model__learning_rate=0.08858667904100823, model__max_depth=8, model__min_child_weight=4.0, model__n_estimators=500, model__subsample=0.8888888888888888; neg_mean_absolute_error: (test=-0.650) r2: (test=-1.861) total time=  14.8s\n"
     ]
    },
    {
     "name": "stderr",
     "output_type": "stream",
     "text": [
      "/Users/utkarsh/miniconda3/lib/python3.11/site-packages/sklearn/utils/validation.py:1310: DataConversionWarning: A column-vector y was passed when a 1d array was expected. Please change the shape of y to (n_samples, ), for example using ravel().\n",
      "  y = column_or_1d(y, warn=True)\n",
      "/Users/utkarsh/miniconda3/lib/python3.11/site-packages/sklearn/utils/validation.py:1310: DataConversionWarning: A column-vector y was passed when a 1d array was expected. Please change the shape of y to (n_samples, ), for example using ravel().\n",
      "  y = column_or_1d(y, warn=True)\n",
      "/Users/utkarsh/miniconda3/lib/python3.11/site-packages/sklearn/utils/validation.py:1310: DataConversionWarning: A column-vector y was passed when a 1d array was expected. Please change the shape of y to (n_samples, ), for example using ravel().\n",
      "  y = column_or_1d(y, warn=True)\n",
      "/Users/utkarsh/miniconda3/lib/python3.11/site-packages/sklearn/utils/validation.py:1310: DataConversionWarning: A column-vector y was passed when a 1d array was expected. Please change the shape of y to (n_samples, ), for example using ravel().\n",
      "  y = column_or_1d(y, warn=True)\n"
     ]
    },
    {
     "name": "stdout",
     "output_type": "stream",
     "text": [
      "[CV 2/5] END model__colsample_bytree=0.7000000000000001, model__gamma=0.0, model__learning_rate=0.0018329807108324356, model__max_depth=4, model__min_child_weight=2.0, model__n_estimators=900, model__subsample=0.7777777777777778; neg_mean_absolute_error: (test=-0.603) r2: (test=-1.378) total time=  24.7s\n",
      "[CV 4/5] END model__colsample_bytree=0.1, model__gamma=0.5555555555555556, model__learning_rate=0.08858667904100823, model__max_depth=8, model__min_child_weight=4.0, model__n_estimators=500, model__subsample=0.8888888888888888; neg_mean_absolute_error: (test=-0.546) r2: (test=-0.462) total time=  14.6s\n",
      "[CV 5/5] END model__colsample_bytree=0.1, model__gamma=0.5555555555555556, model__learning_rate=0.08858667904100823, model__max_depth=8, model__min_child_weight=4.0, model__n_estimators=500, model__subsample=0.8888888888888888; neg_mean_absolute_error: (test=-0.374) r2: (test=-0.087) total time=  14.7s\n"
     ]
    },
    {
     "name": "stderr",
     "output_type": "stream",
     "text": [
      "/Users/utkarsh/miniconda3/lib/python3.11/site-packages/sklearn/utils/validation.py:1310: DataConversionWarning: A column-vector y was passed when a 1d array was expected. Please change the shape of y to (n_samples, ), for example using ravel().\n",
      "  y = column_or_1d(y, warn=True)\n",
      "/Users/utkarsh/miniconda3/lib/python3.11/site-packages/sklearn/utils/validation.py:1310: DataConversionWarning: A column-vector y was passed when a 1d array was expected. Please change the shape of y to (n_samples, ), for example using ravel().\n",
      "  y = column_or_1d(y, warn=True)\n"
     ]
    },
    {
     "name": "stdout",
     "output_type": "stream",
     "text": [
      "[CV 3/5] END model__colsample_bytree=0.1, model__gamma=0.5555555555555556, model__learning_rate=0.08858667904100823, model__max_depth=8, model__min_child_weight=4.0, model__n_estimators=500, model__subsample=0.8888888888888888; neg_mean_absolute_error: (test=-0.564) r2: (test=0.200) total time=  15.2s\n",
      "[CV 1/5] END model__colsample_bytree=0.1, model__gamma=0.5555555555555556, model__learning_rate=0.08858667904100823, model__max_depth=8, model__min_child_weight=4.0, model__n_estimators=500, model__subsample=0.8888888888888888; neg_mean_absolute_error: (test=-0.485) r2: (test=-0.061) total time=  15.6s\n",
      "[CV 2/5] END model__colsample_bytree=0.2, model__gamma=0.5555555555555556, model__learning_rate=0.002976351441631319, model__max_depth=5, model__min_child_weight=9.0, model__n_estimators=800, model__subsample=0.8888888888888888; neg_mean_absolute_error: (test=-0.599) r2: (test=-1.377) total time=  17.4s\n",
      "[CV 1/5] END model__colsample_bytree=0.2, model__gamma=0.5555555555555556, model__learning_rate=0.002976351441631319, model__max_depth=5, model__min_child_weight=9.0, model__n_estimators=800, model__subsample=0.8888888888888888; neg_mean_absolute_error: (test=-0.447) r2: (test=0.106) total time=  17.8s\n"
     ]
    },
    {
     "name": "stderr",
     "output_type": "stream",
     "text": [
      "/Users/utkarsh/miniconda3/lib/python3.11/site-packages/sklearn/utils/validation.py:1310: DataConversionWarning: A column-vector y was passed when a 1d array was expected. Please change the shape of y to (n_samples, ), for example using ravel().\n",
      "  y = column_or_1d(y, warn=True)\n",
      "/Users/utkarsh/miniconda3/lib/python3.11/site-packages/sklearn/utils/validation.py:1310: DataConversionWarning: A column-vector y was passed when a 1d array was expected. Please change the shape of y to (n_samples, ), for example using ravel().\n",
      "  y = column_or_1d(y, warn=True)\n",
      "/Users/utkarsh/miniconda3/lib/python3.11/site-packages/sklearn/utils/validation.py:1310: DataConversionWarning: A column-vector y was passed when a 1d array was expected. Please change the shape of y to (n_samples, ), for example using ravel().\n",
      "  y = column_or_1d(y, warn=True)\n"
     ]
    },
    {
     "name": "stdout",
     "output_type": "stream",
     "text": [
      "[CV 2/5] END model__colsample_bytree=1.0, model__gamma=0.1111111111111111, model__learning_rate=0.0001623776739188721, model__max_depth=9, model__min_child_weight=3.0, model__n_estimators=600, model__subsample=0.7222222222222222; neg_mean_absolute_error: (test=-0.636) r2: (test=-1.462) total time=  23.9s\n",
      "[CV 1/5] END model__colsample_bytree=0.5, model__gamma=0.6666666666666666, model__learning_rate=0.007847599703514606, model__max_depth=None, model__min_child_weight=1.0, model__n_estimators=200, model__subsample=0.5555555555555556; neg_mean_absolute_error: (test=-0.437) r2: (test=0.132) total time=  16.6s\n"
     ]
    },
    {
     "name": "stderr",
     "output_type": "stream",
     "text": [
      "/Users/utkarsh/miniconda3/lib/python3.11/site-packages/sklearn/utils/validation.py:1310: DataConversionWarning: A column-vector y was passed when a 1d array was expected. Please change the shape of y to (n_samples, ), for example using ravel().\n",
      "  y = column_or_1d(y, warn=True)\n",
      "/Users/utkarsh/miniconda3/lib/python3.11/site-packages/sklearn/utils/validation.py:1310: DataConversionWarning: A column-vector y was passed when a 1d array was expected. Please change the shape of y to (n_samples, ), for example using ravel().\n",
      "  y = column_or_1d(y, warn=True)\n",
      "/Users/utkarsh/miniconda3/lib/python3.11/site-packages/sklearn/utils/validation.py:1310: DataConversionWarning: A column-vector y was passed when a 1d array was expected. Please change the shape of y to (n_samples, ), for example using ravel().\n",
      "  y = column_or_1d(y, warn=True)\n",
      "/Users/utkarsh/miniconda3/lib/python3.11/site-packages/sklearn/utils/validation.py:1310: DataConversionWarning: A column-vector y was passed when a 1d array was expected. Please change the shape of y to (n_samples, ), for example using ravel().\n",
      "  y = column_or_1d(y, warn=True)\n"
     ]
    },
    {
     "name": "stdout",
     "output_type": "stream",
     "text": [
      "[CV 4/5] END model__colsample_bytree=0.2, model__gamma=0.5555555555555556, model__learning_rate=0.002976351441631319, model__max_depth=5, model__min_child_weight=9.0, model__n_estimators=800, model__subsample=0.8888888888888888; neg_mean_absolute_error: (test=-0.540) r2: (test=-0.433) total time=  18.4s\n",
      "[CV 2/5] END model__colsample_bytree=0.5, model__gamma=0.6666666666666666, model__learning_rate=0.007847599703514606, model__max_depth=None, model__min_child_weight=1.0, model__n_estimators=200, model__subsample=0.5555555555555556; neg_mean_absolute_error: (test=-0.557) r2: (test=-1.021) total time=  16.8s\n",
      "[CV 3/5] END model__colsample_bytree=0.5, model__gamma=0.6666666666666666, model__learning_rate=0.007847599703514606, model__max_depth=None, model__min_child_weight=1.0, model__n_estimators=200, model__subsample=0.5555555555555556; neg_mean_absolute_error: (test=-0.639) r2: (test=0.094) total time=  16.5s\n",
      "[CV 3/5] END model__colsample_bytree=1.0, model__gamma=0.1111111111111111, model__learning_rate=0.0001623776739188721, model__max_depth=9, model__min_child_weight=3.0, model__n_estimators=600, model__subsample=0.7222222222222222; neg_mean_absolute_error: (test=-0.699) r2: (test=0.031) total time=  24.4s\n"
     ]
    },
    {
     "name": "stderr",
     "output_type": "stream",
     "text": [
      "/Users/utkarsh/miniconda3/lib/python3.11/site-packages/sklearn/utils/validation.py:1310: DataConversionWarning: A column-vector y was passed when a 1d array was expected. Please change the shape of y to (n_samples, ), for example using ravel().\n",
      "  y = column_or_1d(y, warn=True)\n",
      "/Users/utkarsh/miniconda3/lib/python3.11/site-packages/sklearn/utils/validation.py:1310: DataConversionWarning: A column-vector y was passed when a 1d array was expected. Please change the shape of y to (n_samples, ), for example using ravel().\n",
      "  y = column_or_1d(y, warn=True)\n",
      "/Users/utkarsh/miniconda3/lib/python3.11/site-packages/sklearn/utils/validation.py:1310: DataConversionWarning: A column-vector y was passed when a 1d array was expected. Please change the shape of y to (n_samples, ), for example using ravel().\n",
      "  y = column_or_1d(y, warn=True)\n"
     ]
    },
    {
     "name": "stdout",
     "output_type": "stream",
     "text": [
      "[CV 3/5] END model__colsample_bytree=0.30000000000000004, model__gamma=0.8888888888888888, model__learning_rate=0.05455594781168514, model__max_depth=10, model__min_child_weight=5.0, model__n_estimators=700, model__subsample=0.9444444444444444; neg_mean_absolute_error: (test=-0.574) r2: (test=0.239) total time=  16.1s\n",
      "[CV 4/5] END model__colsample_bytree=1.0, model__gamma=0.1111111111111111, model__learning_rate=0.0001623776739188721, model__max_depth=9, model__min_child_weight=3.0, model__n_estimators=600, model__subsample=0.7222222222222222; neg_mean_absolute_error: (test=-0.617) r2: (test=-0.851) total time=  24.2s\n",
      "[CV 3/5] END model__colsample_bytree=0.2, model__gamma=0.5555555555555556, model__learning_rate=0.002976351441631319, model__max_depth=5, model__min_child_weight=9.0, model__n_estimators=800, model__subsample=0.8888888888888888; neg_mean_absolute_error: (test=-0.620) r2: (test=0.120) total time=  19.4s\n",
      "[CV 5/5] END model__colsample_bytree=0.5, model__gamma=0.6666666666666666, model__learning_rate=0.007847599703514606, model__max_depth=None, model__min_child_weight=1.0, model__n_estimators=200, model__subsample=0.5555555555555556; neg_mean_absolute_error: (test=-0.363) r2: (test=0.049) total time=  16.6s\n"
     ]
    },
    {
     "name": "stderr",
     "output_type": "stream",
     "text": [
      "/Users/utkarsh/miniconda3/lib/python3.11/site-packages/sklearn/utils/validation.py:1310: DataConversionWarning: A column-vector y was passed when a 1d array was expected. Please change the shape of y to (n_samples, ), for example using ravel().\n",
      "  y = column_or_1d(y, warn=True)\n",
      "/Users/utkarsh/miniconda3/lib/python3.11/site-packages/sklearn/utils/validation.py:1310: DataConversionWarning: A column-vector y was passed when a 1d array was expected. Please change the shape of y to (n_samples, ), for example using ravel().\n",
      "  y = column_or_1d(y, warn=True)\n",
      "/Users/utkarsh/miniconda3/lib/python3.11/site-packages/sklearn/utils/validation.py:1310: DataConversionWarning: A column-vector y was passed when a 1d array was expected. Please change the shape of y to (n_samples, ), for example using ravel().\n",
      "  y = column_or_1d(y, warn=True)\n"
     ]
    },
    {
     "name": "stdout",
     "output_type": "stream",
     "text": [
      "[CV 4/5] END model__colsample_bytree=0.5, model__gamma=0.6666666666666666, model__learning_rate=0.007847599703514606, model__max_depth=None, model__min_child_weight=1.0, model__n_estimators=200, model__subsample=0.5555555555555556; neg_mean_absolute_error: (test=-0.535) r2: (test=-0.425) total time=  17.8s\n",
      "[CV 5/5] END model__colsample_bytree=0.2, model__gamma=0.5555555555555556, model__learning_rate=0.002976351441631319, model__max_depth=5, model__min_child_weight=9.0, model__n_estimators=800, model__subsample=0.8888888888888888; neg_mean_absolute_error: (test=-0.364) r2: (test=0.012) total time=  19.7s\n",
      "[CV 1/5] END model__colsample_bytree=1.0, model__gamma=0.1111111111111111, model__learning_rate=0.0001623776739188721, model__max_depth=9, model__min_child_weight=3.0, model__n_estimators=600, model__subsample=0.7222222222222222; neg_mean_absolute_error: (test=-0.478) r2: (test=-0.020) total time=  26.1s\n"
     ]
    },
    {
     "name": "stderr",
     "output_type": "stream",
     "text": [
      "/Users/utkarsh/miniconda3/lib/python3.11/site-packages/sklearn/utils/validation.py:1310: DataConversionWarning: A column-vector y was passed when a 1d array was expected. Please change the shape of y to (n_samples, ), for example using ravel().\n",
      "  y = column_or_1d(y, warn=True)\n",
      "/Users/utkarsh/miniconda3/lib/python3.11/site-packages/sklearn/utils/validation.py:1310: DataConversionWarning: A column-vector y was passed when a 1d array was expected. Please change the shape of y to (n_samples, ), for example using ravel().\n",
      "  y = column_or_1d(y, warn=True)\n",
      "/Users/utkarsh/miniconda3/lib/python3.11/site-packages/sklearn/utils/validation.py:1310: DataConversionWarning: A column-vector y was passed when a 1d array was expected. Please change the shape of y to (n_samples, ), for example using ravel().\n",
      "  y = column_or_1d(y, warn=True)\n"
     ]
    },
    {
     "name": "stdout",
     "output_type": "stream",
     "text": [
      "[CV 1/5] END model__colsample_bytree=0.30000000000000004, model__gamma=0.8888888888888888, model__learning_rate=0.05455594781168514, model__max_depth=10, model__min_child_weight=5.0, model__n_estimators=700, model__subsample=0.9444444444444444; neg_mean_absolute_error: (test=-0.459) r2: (test=0.035) total time=  18.0s\n",
      "[CV 4/5] END model__colsample_bytree=0.30000000000000004, model__gamma=0.8888888888888888, model__learning_rate=0.05455594781168514, model__max_depth=10, model__min_child_weight=5.0, model__n_estimators=700, model__subsample=0.9444444444444444; neg_mean_absolute_error: (test=-0.509) r2: (test=-0.274) total time=  17.7s\n"
     ]
    },
    {
     "name": "stderr",
     "output_type": "stream",
     "text": [
      "/Users/utkarsh/miniconda3/lib/python3.11/site-packages/sklearn/utils/validation.py:1310: DataConversionWarning: A column-vector y was passed when a 1d array was expected. Please change the shape of y to (n_samples, ), for example using ravel().\n",
      "  y = column_or_1d(y, warn=True)\n",
      "/Users/utkarsh/miniconda3/lib/python3.11/site-packages/sklearn/utils/validation.py:1310: DataConversionWarning: A column-vector y was passed when a 1d array was expected. Please change the shape of y to (n_samples, ), for example using ravel().\n",
      "  y = column_or_1d(y, warn=True)\n"
     ]
    },
    {
     "name": "stdout",
     "output_type": "stream",
     "text": [
      "[CV 2/5] END model__colsample_bytree=0.30000000000000004, model__gamma=0.8888888888888888, model__learning_rate=0.05455594781168514, model__max_depth=10, model__min_child_weight=5.0, model__n_estimators=700, model__subsample=0.9444444444444444; neg_mean_absolute_error: (test=-0.554) r2: (test=-0.988) total time=  18.3s\n",
      "[CV 5/5] END model__colsample_bytree=1.0, model__gamma=0.1111111111111111, model__learning_rate=0.0001623776739188721, model__max_depth=9, model__min_child_weight=3.0, model__n_estimators=600, model__subsample=0.7222222222222222; neg_mean_absolute_error: (test=-0.365) r2: (test=-0.012) total time=  24.8s\n"
     ]
    },
    {
     "name": "stderr",
     "output_type": "stream",
     "text": [
      "/Users/utkarsh/miniconda3/lib/python3.11/site-packages/sklearn/utils/validation.py:1310: DataConversionWarning: A column-vector y was passed when a 1d array was expected. Please change the shape of y to (n_samples, ), for example using ravel().\n",
      "  y = column_or_1d(y, warn=True)\n",
      "/Users/utkarsh/miniconda3/lib/python3.11/site-packages/sklearn/utils/validation.py:1310: DataConversionWarning: A column-vector y was passed when a 1d array was expected. Please change the shape of y to (n_samples, ), for example using ravel().\n",
      "  y = column_or_1d(y, warn=True)\n"
     ]
    },
    {
     "name": "stdout",
     "output_type": "stream",
     "text": [
      "[CV 5/5] END model__colsample_bytree=0.30000000000000004, model__gamma=0.8888888888888888, model__learning_rate=0.05455594781168514, model__max_depth=10, model__min_child_weight=5.0, model__n_estimators=700, model__subsample=0.9444444444444444; neg_mean_absolute_error: (test=-0.370) r2: (test=-0.104) total time=  18.8s\n"
     ]
    },
    {
     "name": "stderr",
     "output_type": "stream",
     "text": [
      "/Users/utkarsh/miniconda3/lib/python3.11/site-packages/sklearn/utils/validation.py:1310: DataConversionWarning: A column-vector y was passed when a 1d array was expected. Please change the shape of y to (n_samples, ), for example using ravel().\n",
      "  y = column_or_1d(y, warn=True)\n"
     ]
    },
    {
     "name": "stdout",
     "output_type": "stream",
     "text": [
      "[CV 1/5] END model__colsample_bytree=0.1, model__gamma=0.8888888888888888, model__learning_rate=0.00026366508987303583, model__max_depth=4, model__min_child_weight=8.0, model__n_estimators=1000, model__subsample=0.6666666666666666; neg_mean_absolute_error: (test=-0.478) r2: (test=-0.011) total time=  19.8s\n"
     ]
    },
    {
     "name": "stderr",
     "output_type": "stream",
     "text": [
      "/Users/utkarsh/miniconda3/lib/python3.11/site-packages/sklearn/utils/validation.py:1310: DataConversionWarning: A column-vector y was passed when a 1d array was expected. Please change the shape of y to (n_samples, ), for example using ravel().\n",
      "  y = column_or_1d(y, warn=True)\n"
     ]
    },
    {
     "name": "stdout",
     "output_type": "stream",
     "text": [
      "[CV 2/5] END model__colsample_bytree=0.2, model__gamma=0.3333333333333333, model__learning_rate=0.14384498882876628, model__max_depth=4, model__min_child_weight=8.0, model__n_estimators=900, model__subsample=0.8333333333333333; neg_mean_absolute_error: (test=-0.565) r2: (test=-1.190) total time=  18.4s\n",
      "[CV 2/5] END model__colsample_bytree=0.1, model__gamma=0.8888888888888888, model__learning_rate=0.00026366508987303583, model__max_depth=4, model__min_child_weight=8.0, model__n_estimators=1000, model__subsample=0.6666666666666666; neg_mean_absolute_error: (test=-0.617) r2: (test=-1.336) total time=  19.4s\n"
     ]
    },
    {
     "name": "stderr",
     "output_type": "stream",
     "text": [
      "/Users/utkarsh/miniconda3/lib/python3.11/site-packages/sklearn/utils/validation.py:1310: DataConversionWarning: A column-vector y was passed when a 1d array was expected. Please change the shape of y to (n_samples, ), for example using ravel().\n",
      "  y = column_or_1d(y, warn=True)\n",
      "/Users/utkarsh/miniconda3/lib/python3.11/site-packages/sklearn/utils/validation.py:1310: DataConversionWarning: A column-vector y was passed when a 1d array was expected. Please change the shape of y to (n_samples, ), for example using ravel().\n",
      "  y = column_or_1d(y, warn=True)\n"
     ]
    },
    {
     "name": "stdout",
     "output_type": "stream",
     "text": [
      "[CV 4/5] END model__colsample_bytree=0.2, model__gamma=0.3333333333333333, model__learning_rate=0.14384498882876628, model__max_depth=4, model__min_child_weight=8.0, model__n_estimators=900, model__subsample=0.8333333333333333; neg_mean_absolute_error: (test=-0.515) r2: (test=-0.322) total time=  17.9s\n"
     ]
    },
    {
     "name": "stderr",
     "output_type": "stream",
     "text": [
      "/Users/utkarsh/miniconda3/lib/python3.11/site-packages/sklearn/utils/validation.py:1310: DataConversionWarning: A column-vector y was passed when a 1d array was expected. Please change the shape of y to (n_samples, ), for example using ravel().\n",
      "  y = column_or_1d(y, warn=True)\n"
     ]
    },
    {
     "name": "stdout",
     "output_type": "stream",
     "text": [
      "[CV 4/5] END model__colsample_bytree=0.1, model__gamma=0.8888888888888888, model__learning_rate=0.00026366508987303583, model__max_depth=4, model__min_child_weight=8.0, model__n_estimators=1000, model__subsample=0.6666666666666666; neg_mean_absolute_error: (test=-0.611) r2: (test=-0.828) total time=  20.1s\n",
      "[CV 3/5] END model__colsample_bytree=0.2, model__gamma=0.3333333333333333, model__learning_rate=0.14384498882876628, model__max_depth=4, model__min_child_weight=8.0, model__n_estimators=900, model__subsample=0.8333333333333333; neg_mean_absolute_error: (test=-0.611) r2: (test=-0.045) total time=  18.9s\n",
      "[CV 1/5] END model__colsample_bytree=0.2, model__gamma=0.3333333333333333, model__learning_rate=0.14384498882876628, model__max_depth=4, model__min_child_weight=8.0, model__n_estimators=900, model__subsample=0.8333333333333333; neg_mean_absolute_error: (test=-0.526) r2: (test=-0.282) total time=  19.5s\n"
     ]
    },
    {
     "name": "stderr",
     "output_type": "stream",
     "text": [
      "/Users/utkarsh/miniconda3/lib/python3.11/site-packages/sklearn/utils/validation.py:1310: DataConversionWarning: A column-vector y was passed when a 1d array was expected. Please change the shape of y to (n_samples, ), for example using ravel().\n",
      "  y = column_or_1d(y, warn=True)\n",
      "/Users/utkarsh/miniconda3/lib/python3.11/site-packages/sklearn/utils/validation.py:1310: DataConversionWarning: A column-vector y was passed when a 1d array was expected. Please change the shape of y to (n_samples, ), for example using ravel().\n",
      "  y = column_or_1d(y, warn=True)\n",
      "/Users/utkarsh/miniconda3/lib/python3.11/site-packages/sklearn/utils/validation.py:1310: DataConversionWarning: A column-vector y was passed when a 1d array was expected. Please change the shape of y to (n_samples, ), for example using ravel().\n",
      "  y = column_or_1d(y, warn=True)\n"
     ]
    },
    {
     "name": "stdout",
     "output_type": "stream",
     "text": [
      "[CV 3/5] END model__colsample_bytree=0.1, model__gamma=0.8888888888888888, model__learning_rate=0.00026366508987303583, model__max_depth=4, model__min_child_weight=8.0, model__n_estimators=1000, model__subsample=0.6666666666666666; neg_mean_absolute_error: (test=-0.698) r2: (test=0.028) total time=  20.8s\n"
     ]
    },
    {
     "name": "stderr",
     "output_type": "stream",
     "text": [
      "/Users/utkarsh/miniconda3/lib/python3.11/site-packages/sklearn/utils/validation.py:1310: DataConversionWarning: A column-vector y was passed when a 1d array was expected. Please change the shape of y to (n_samples, ), for example using ravel().\n",
      "  y = column_or_1d(y, warn=True)\n"
     ]
    },
    {
     "name": "stdout",
     "output_type": "stream",
     "text": [
      "[CV 5/5] END model__colsample_bytree=0.2, model__gamma=0.3333333333333333, model__learning_rate=0.14384498882876628, model__max_depth=4, model__min_child_weight=8.0, model__n_estimators=900, model__subsample=0.8333333333333333; neg_mean_absolute_error: (test=-0.378) r2: (test=-0.177) total time=  19.4s\n",
      "[CV 5/5] END model__colsample_bytree=0.1, model__gamma=0.8888888888888888, model__learning_rate=0.00026366508987303583, model__max_depth=4, model__min_child_weight=8.0, model__n_estimators=1000, model__subsample=0.6666666666666666; neg_mean_absolute_error: (test=-0.365) r2: (test=0.004) total time=  21.3s\n"
     ]
    },
    {
     "name": "stderr",
     "output_type": "stream",
     "text": [
      "/Users/utkarsh/miniconda3/lib/python3.11/site-packages/sklearn/utils/validation.py:1310: DataConversionWarning: A column-vector y was passed when a 1d array was expected. Please change the shape of y to (n_samples, ), for example using ravel().\n",
      "  y = column_or_1d(y, warn=True)\n",
      "/Users/utkarsh/miniconda3/lib/python3.11/site-packages/sklearn/utils/validation.py:1310: DataConversionWarning: A column-vector y was passed when a 1d array was expected. Please change the shape of y to (n_samples, ), for example using ravel().\n",
      "  y = column_or_1d(y, warn=True)\n"
     ]
    },
    {
     "name": "stdout",
     "output_type": "stream",
     "text": [
      "[CV 1/5] END model__colsample_bytree=0.1, model__gamma=0.1111111111111111, model__learning_rate=0.23357214690901212, model__max_depth=6, model__min_child_weight=3.0, model__n_estimators=900, model__subsample=0.7777777777777778; neg_mean_absolute_error: (test=-0.559) r2: (test=-0.332) total time=  19.2s\n",
      "[CV 3/5] END model__colsample_bytree=0.1, model__gamma=0.1111111111111111, model__learning_rate=0.23357214690901212, model__max_depth=6, model__min_child_weight=3.0, model__n_estimators=900, model__subsample=0.7777777777777778; neg_mean_absolute_error: (test=-0.419) r2: (test=0.452) total time=  19.3s\n",
      "[CV 5/5] END model__colsample_bytree=0.1, model__gamma=0.1111111111111111, model__learning_rate=0.23357214690901212, model__max_depth=6, model__min_child_weight=3.0, model__n_estimators=900, model__subsample=0.7777777777777778; neg_mean_absolute_error: (test=-0.476) r2: (test=-0.981) total time=  19.0s\n"
     ]
    },
    {
     "name": "stderr",
     "output_type": "stream",
     "text": [
      "/Users/utkarsh/miniconda3/lib/python3.11/site-packages/sklearn/utils/validation.py:1310: DataConversionWarning: A column-vector y was passed when a 1d array was expected. Please change the shape of y to (n_samples, ), for example using ravel().\n",
      "  y = column_or_1d(y, warn=True)\n",
      "/Users/utkarsh/miniconda3/lib/python3.11/site-packages/sklearn/utils/validation.py:1310: DataConversionWarning: A column-vector y was passed when a 1d array was expected. Please change the shape of y to (n_samples, ), for example using ravel().\n",
      "  y = column_or_1d(y, warn=True)\n",
      "/Users/utkarsh/miniconda3/lib/python3.11/site-packages/sklearn/utils/validation.py:1310: DataConversionWarning: A column-vector y was passed when a 1d array was expected. Please change the shape of y to (n_samples, ), for example using ravel().\n",
      "  y = column_or_1d(y, warn=True)\n"
     ]
    },
    {
     "name": "stdout",
     "output_type": "stream",
     "text": [
      "[CV 4/5] END model__colsample_bytree=0.1, model__gamma=0.1111111111111111, model__learning_rate=0.23357214690901212, model__max_depth=6, model__min_child_weight=3.0, model__n_estimators=900, model__subsample=0.7777777777777778; neg_mean_absolute_error: (test=-0.579) r2: (test=-0.566) total time=  19.5s\n",
      "[CV 2/5] END model__colsample_bytree=0.8, model__gamma=0.8888888888888888, model__learning_rate=0.00026366508987303583, model__max_depth=5, model__min_child_weight=4.0, model__n_estimators=100, model__subsample=0.5; neg_mean_absolute_error: (test=-0.639) r2: (test=-1.474) total time=  16.7s\n"
     ]
    },
    {
     "name": "stderr",
     "output_type": "stream",
     "text": [
      "/Users/utkarsh/miniconda3/lib/python3.11/site-packages/sklearn/utils/validation.py:1310: DataConversionWarning: A column-vector y was passed when a 1d array was expected. Please change the shape of y to (n_samples, ), for example using ravel().\n",
      "  y = column_or_1d(y, warn=True)\n",
      "/Users/utkarsh/miniconda3/lib/python3.11/site-packages/sklearn/utils/validation.py:1310: DataConversionWarning: A column-vector y was passed when a 1d array was expected. Please change the shape of y to (n_samples, ), for example using ravel().\n",
      "  y = column_or_1d(y, warn=True)\n"
     ]
    },
    {
     "name": "stdout",
     "output_type": "stream",
     "text": [
      "[CV 2/5] END model__colsample_bytree=0.1, model__gamma=0.1111111111111111, model__learning_rate=0.23357214690901212, model__max_depth=6, model__min_child_weight=3.0, model__n_estimators=900, model__subsample=0.7777777777777778; neg_mean_absolute_error: (test=-0.606) r2: (test=-1.390) total time=  20.3s\n",
      "[CV 4/5] END model__colsample_bytree=0.2, model__gamma=0.7777777777777777, model__learning_rate=0.00026366508987303583, model__max_depth=3, model__min_child_weight=1.0, model__n_estimators=100, model__subsample=1.0; neg_mean_absolute_error: (test=-0.632) r2: (test=-0.924) total time=  16.2s\n"
     ]
    },
    {
     "name": "stderr",
     "output_type": "stream",
     "text": [
      "/Users/utkarsh/miniconda3/lib/python3.11/site-packages/sklearn/utils/validation.py:1310: DataConversionWarning: A column-vector y was passed when a 1d array was expected. Please change the shape of y to (n_samples, ), for example using ravel().\n",
      "  y = column_or_1d(y, warn=True)\n",
      "/Users/utkarsh/miniconda3/lib/python3.11/site-packages/sklearn/utils/validation.py:1310: DataConversionWarning: A column-vector y was passed when a 1d array was expected. Please change the shape of y to (n_samples, ), for example using ravel().\n",
      "  y = column_or_1d(y, warn=True)\n"
     ]
    },
    {
     "name": "stdout",
     "output_type": "stream",
     "text": [
      "[CV 4/5] END model__colsample_bytree=0.8, model__gamma=0.8888888888888888, model__learning_rate=0.00026366508987303583, model__max_depth=5, model__min_child_weight=4.0, model__n_estimators=100, model__subsample=0.5; neg_mean_absolute_error: (test=-0.631) r2: (test=-0.921) total time=  17.2s\n"
     ]
    },
    {
     "name": "stderr",
     "output_type": "stream",
     "text": [
      "/Users/utkarsh/miniconda3/lib/python3.11/site-packages/sklearn/utils/validation.py:1310: DataConversionWarning: A column-vector y was passed when a 1d array was expected. Please change the shape of y to (n_samples, ), for example using ravel().\n",
      "  y = column_or_1d(y, warn=True)\n"
     ]
    },
    {
     "name": "stdout",
     "output_type": "stream",
     "text": [
      "[CV 5/5] END model__colsample_bytree=0.8, model__gamma=0.8888888888888888, model__learning_rate=0.00026366508987303583, model__max_depth=5, model__min_child_weight=4.0, model__n_estimators=100, model__subsample=0.5; neg_mean_absolute_error: (test=-0.366) r2: (test=-0.018) total time=  17.7s\n",
      "[CV 1/5] END model__colsample_bytree=0.2, model__gamma=0.7777777777777777, model__learning_rate=0.00026366508987303583, model__max_depth=3, model__min_child_weight=1.0, model__n_estimators=100, model__subsample=1.0; neg_mean_absolute_error: (test=-0.493) r2: (test=-0.075) total time=  17.4s\n",
      "[CV 2/5] END model__colsample_bytree=0.2, model__gamma=0.7777777777777777, model__learning_rate=0.00026366508987303583, model__max_depth=3, model__min_child_weight=1.0, model__n_estimators=100, model__subsample=1.0; neg_mean_absolute_error: (test=-0.638) r2: (test=-1.466) total time=  17.3s\n"
     ]
    },
    {
     "name": "stderr",
     "output_type": "stream",
     "text": [
      "/Users/utkarsh/miniconda3/lib/python3.11/site-packages/sklearn/utils/validation.py:1310: DataConversionWarning: A column-vector y was passed when a 1d array was expected. Please change the shape of y to (n_samples, ), for example using ravel().\n",
      "  y = column_or_1d(y, warn=True)\n",
      "/Users/utkarsh/miniconda3/lib/python3.11/site-packages/sklearn/utils/validation.py:1310: DataConversionWarning: A column-vector y was passed when a 1d array was expected. Please change the shape of y to (n_samples, ), for example using ravel().\n",
      "  y = column_or_1d(y, warn=True)\n",
      "/Users/utkarsh/miniconda3/lib/python3.11/site-packages/sklearn/utils/validation.py:1310: DataConversionWarning: A column-vector y was passed when a 1d array was expected. Please change the shape of y to (n_samples, ), for example using ravel().\n",
      "  y = column_or_1d(y, warn=True)\n"
     ]
    },
    {
     "name": "stdout",
     "output_type": "stream",
     "text": [
      "[CV 5/5] END model__colsample_bytree=0.2, model__gamma=0.7777777777777777, model__learning_rate=0.00026366508987303583, model__max_depth=3, model__min_child_weight=1.0, model__n_estimators=100, model__subsample=1.0; neg_mean_absolute_error: (test=-0.366) r2: (test=-0.018) total time=  17.1s\n",
      "[CV 3/5] END model__colsample_bytree=0.8, model__gamma=0.8888888888888888, model__learning_rate=0.00026366508987303583, model__max_depth=5, model__min_child_weight=4.0, model__n_estimators=100, model__subsample=0.5; neg_mean_absolute_error: (test=-0.718) r2: (test=-0.006) total time=  18.1s\n",
      "[CV 3/5] END model__colsample_bytree=0.2, model__gamma=0.7777777777777777, model__learning_rate=0.00026366508987303583, model__max_depth=3, model__min_child_weight=1.0, model__n_estimators=100, model__subsample=1.0; neg_mean_absolute_error: (test=-0.718) r2: (test=-0.005) total time=  17.5s\n",
      "[CV 2/5] END model__colsample_bytree=0.5, model__gamma=0.5555555555555556, model__learning_rate=0.0006951927961775605, model__max_depth=3, model__min_child_weight=8.0, model__n_estimators=700, model__subsample=0.7777777777777778; neg_mean_absolute_error: (test=-0.608) r2: (test=-1.333) total time=  19.3s\n",
      "[CV 1/5] END model__colsample_bytree=0.8, model__gamma=0.8888888888888888, model__learning_rate=0.00026366508987303583, model__max_depth=5, model__min_child_weight=4.0, model__n_estimators=100, model__subsample=0.5; neg_mean_absolute_error: (test=-0.492) r2: (test=-0.071) total time=  18.5s\n"
     ]
    },
    {
     "name": "stderr",
     "output_type": "stream",
     "text": [
      "/Users/utkarsh/miniconda3/lib/python3.11/site-packages/sklearn/utils/validation.py:1310: DataConversionWarning: A column-vector y was passed when a 1d array was expected. Please change the shape of y to (n_samples, ), for example using ravel().\n",
      "  y = column_or_1d(y, warn=True)\n",
      "/Users/utkarsh/miniconda3/lib/python3.11/site-packages/sklearn/utils/validation.py:1310: DataConversionWarning: A column-vector y was passed when a 1d array was expected. Please change the shape of y to (n_samples, ), for example using ravel().\n",
      "  y = column_or_1d(y, warn=True)\n",
      "/Users/utkarsh/miniconda3/lib/python3.11/site-packages/sklearn/utils/validation.py:1310: DataConversionWarning: A column-vector y was passed when a 1d array was expected. Please change the shape of y to (n_samples, ), for example using ravel().\n",
      "  y = column_or_1d(y, warn=True)\n",
      "/Users/utkarsh/miniconda3/lib/python3.11/site-packages/sklearn/utils/validation.py:1310: DataConversionWarning: A column-vector y was passed when a 1d array was expected. Please change the shape of y to (n_samples, ), for example using ravel().\n",
      "  y = column_or_1d(y, warn=True)\n",
      "/Users/utkarsh/miniconda3/lib/python3.11/site-packages/sklearn/utils/validation.py:1310: DataConversionWarning: A column-vector y was passed when a 1d array was expected. Please change the shape of y to (n_samples, ), for example using ravel().\n",
      "  y = column_or_1d(y, warn=True)\n"
     ]
    },
    {
     "name": "stdout",
     "output_type": "stream",
     "text": [
      "[CV 3/5] END model__colsample_bytree=0.4, model__gamma=0.8888888888888888, model__learning_rate=0.0001, model__max_depth=4, model__min_child_weight=4.0, model__n_estimators=300, model__subsample=0.9444444444444444; neg_mean_absolute_error: (test=-0.716) r2: (test=-0.002) total time=  17.7s\n"
     ]
    },
    {
     "name": "stderr",
     "output_type": "stream",
     "text": [
      "/Users/utkarsh/miniconda3/lib/python3.11/site-packages/sklearn/utils/validation.py:1310: DataConversionWarning: A column-vector y was passed when a 1d array was expected. Please change the shape of y to (n_samples, ), for example using ravel().\n",
      "  y = column_or_1d(y, warn=True)\n"
     ]
    },
    {
     "name": "stdout",
     "output_type": "stream",
     "text": [
      "[CV 4/5] END model__colsample_bytree=0.8, model__gamma=0.8888888888888888, model__learning_rate=0.00042813323987193956, model__max_depth=7, model__min_child_weight=9.0, model__n_estimators=800, model__subsample=0.7222222222222222; neg_mean_absolute_error: (test=-0.578) r2: (test=-0.664) total time=  23.6s\n",
      "[CV 1/5] END model__colsample_bytree=0.5, model__gamma=0.5555555555555556, model__learning_rate=0.0006951927961775605, model__max_depth=3, model__min_child_weight=8.0, model__n_estimators=700, model__subsample=0.7777777777777778; neg_mean_absolute_error: (test=-0.455) r2: (test=0.046) total time=  20.9s\n",
      "[CV 1/5] END model__colsample_bytree=0.4, model__gamma=0.8888888888888888, model__learning_rate=0.0001, model__max_depth=4, model__min_child_weight=4.0, model__n_estimators=300, model__subsample=0.9444444444444444; neg_mean_absolute_error: (test=-0.492) r2: (test=-0.071) total time=  18.7s\n"
     ]
    },
    {
     "name": "stderr",
     "output_type": "stream",
     "text": [
      "/Users/utkarsh/miniconda3/lib/python3.11/site-packages/sklearn/utils/validation.py:1310: DataConversionWarning: A column-vector y was passed when a 1d array was expected. Please change the shape of y to (n_samples, ), for example using ravel().\n",
      "  y = column_or_1d(y, warn=True)\n",
      "/Users/utkarsh/miniconda3/lib/python3.11/site-packages/sklearn/utils/validation.py:1310: DataConversionWarning: A column-vector y was passed when a 1d array was expected. Please change the shape of y to (n_samples, ), for example using ravel().\n",
      "  y = column_or_1d(y, warn=True)\n",
      "/Users/utkarsh/miniconda3/lib/python3.11/site-packages/sklearn/utils/validation.py:1310: DataConversionWarning: A column-vector y was passed when a 1d array was expected. Please change the shape of y to (n_samples, ), for example using ravel().\n",
      "  y = column_or_1d(y, warn=True)\n"
     ]
    },
    {
     "name": "stdout",
     "output_type": "stream",
     "text": [
      "[CV 5/5] END model__colsample_bytree=0.4, model__gamma=0.8888888888888888, model__learning_rate=0.0001, model__max_depth=4, model__min_child_weight=4.0, model__n_estimators=300, model__subsample=0.9444444444444444; neg_mean_absolute_error: (test=-0.366) r2: (test=-0.017) total time=  18.4s\n"
     ]
    },
    {
     "name": "stderr",
     "output_type": "stream",
     "text": [
      "/Users/utkarsh/miniconda3/lib/python3.11/site-packages/sklearn/utils/validation.py:1310: DataConversionWarning: A column-vector y was passed when a 1d array was expected. Please change the shape of y to (n_samples, ), for example using ravel().\n",
      "  y = column_or_1d(y, warn=True)\n",
      "/Users/utkarsh/miniconda3/lib/python3.11/site-packages/sklearn/utils/validation.py:1310: DataConversionWarning: A column-vector y was passed when a 1d array was expected. Please change the shape of y to (n_samples, ), for example using ravel().\n",
      "  y = column_or_1d(y, warn=True)\n"
     ]
    },
    {
     "name": "stdout",
     "output_type": "stream",
     "text": [
      "[CV 1/5] END model__colsample_bytree=0.8, model__gamma=0.8888888888888888, model__learning_rate=0.00042813323987193956, model__max_depth=7, model__min_child_weight=9.0, model__n_estimators=800, model__subsample=0.7222222222222222; neg_mean_absolute_error: (test=-0.454) r2: (test=0.049) total time=  24.7s\n",
      "[CV 5/5] END model__colsample_bytree=0.8, model__gamma=0.8888888888888888, model__learning_rate=0.00042813323987193956, model__max_depth=7, model__min_child_weight=9.0, model__n_estimators=800, model__subsample=0.7222222222222222; neg_mean_absolute_error: (test=-0.365) r2: (test=-0.007) total time=  24.1s\n",
      "[CV 4/5] END model__colsample_bytree=0.5, model__gamma=0.5555555555555556, model__learning_rate=0.0006951927961775605, model__max_depth=3, model__min_child_weight=8.0, model__n_estimators=700, model__subsample=0.7777777777777778; neg_mean_absolute_error: (test=-0.574) r2: (test=-0.633) total time=  21.1s\n",
      "[CV 1/5] END model__colsample_bytree=0.2, model__gamma=1.0, model__learning_rate=0.03359818286283781, model__max_depth=4, model__min_child_weight=1.0, model__n_estimators=1000, model__subsample=0.8888888888888888; neg_mean_absolute_error: (test=-0.477) r2: (test=-0.008) total time=  17.4s\n"
     ]
    },
    {
     "name": "stderr",
     "output_type": "stream",
     "text": [
      "/Users/utkarsh/miniconda3/lib/python3.11/site-packages/sklearn/utils/validation.py:1310: DataConversionWarning: A column-vector y was passed when a 1d array was expected. Please change the shape of y to (n_samples, ), for example using ravel().\n",
      "  y = column_or_1d(y, warn=True)\n",
      "/Users/utkarsh/miniconda3/lib/python3.11/site-packages/sklearn/utils/validation.py:1310: DataConversionWarning: A column-vector y was passed when a 1d array was expected. Please change the shape of y to (n_samples, ), for example using ravel().\n",
      "  y = column_or_1d(y, warn=True)\n",
      "/Users/utkarsh/miniconda3/lib/python3.11/site-packages/sklearn/utils/validation.py:1310: DataConversionWarning: A column-vector y was passed when a 1d array was expected. Please change the shape of y to (n_samples, ), for example using ravel().\n",
      "  y = column_or_1d(y, warn=True)\n"
     ]
    },
    {
     "name": "stdout",
     "output_type": "stream",
     "text": [
      "[CV 4/5] END model__colsample_bytree=0.4, model__gamma=0.8888888888888888, model__learning_rate=0.0001, model__max_depth=4, model__min_child_weight=4.0, model__n_estimators=300, model__subsample=0.9444444444444444; neg_mean_absolute_error: (test=-0.630) r2: (test=-0.918) total time=  19.5s\n",
      "[CV 1/5] END model__colsample_bytree=0.6, model__gamma=0.3333333333333333, model__learning_rate=0.14384498882876628, model__max_depth=4, model__min_child_weight=10.0, model__n_estimators=600, model__subsample=0.5; neg_mean_absolute_error: (test=-0.520) r2: (test=-0.144) total time=  19.4s\n"
     ]
    },
    {
     "name": "stderr",
     "output_type": "stream",
     "text": [
      "/Users/utkarsh/miniconda3/lib/python3.11/site-packages/sklearn/utils/validation.py:1310: DataConversionWarning: A column-vector y was passed when a 1d array was expected. Please change the shape of y to (n_samples, ), for example using ravel().\n",
      "  y = column_or_1d(y, warn=True)\n"
     ]
    },
    {
     "name": "stdout",
     "output_type": "stream",
     "text": [
      "[CV 2/5] END model__colsample_bytree=0.4, model__gamma=0.8888888888888888, model__learning_rate=0.0001, model__max_depth=4, model__min_child_weight=4.0, model__n_estimators=300, model__subsample=0.9444444444444444; neg_mean_absolute_error: (test=-0.638) r2: (test=-1.468) total time=  20.2s\n",
      "[CV 1/5] END model__colsample_bytree=0.1, model__gamma=1.0, model__learning_rate=0.0206913808111479, model__max_depth=7, model__min_child_weight=2.0, model__n_estimators=400, model__subsample=0.5; neg_mean_absolute_error: (test=-0.452) r2: (test=0.123) total time=  17.1s\n",
      "[CV 2/5] END model__colsample_bytree=0.8, model__gamma=0.8888888888888888, model__learning_rate=0.00042813323987193956, model__max_depth=7, model__min_child_weight=9.0, model__n_estimators=800, model__subsample=0.7222222222222222; neg_mean_absolute_error: (test=-0.623) r2: (test=-1.398) total time=  25.7s\n",
      "[CV 3/5] END model__colsample_bytree=0.1, model__gamma=1.0, model__learning_rate=0.0206913808111479, model__max_depth=7, model__min_child_weight=2.0, model__n_estimators=400, model__subsample=0.5; neg_mean_absolute_error: (test=-0.631) r2: (test=0.092) total time=  16.4s\n",
      "[CV 4/5] END model__colsample_bytree=0.6, model__gamma=0.3333333333333333, model__learning_rate=0.0001623776739188721, model__max_depth=10, model__min_child_weight=2.0, model__n_estimators=800, model__subsample=0.6111111111111112; neg_mean_absolute_error: (test=-0.615) r2: (test=-0.842) total time=  23.0s\n"
     ]
    },
    {
     "name": "stderr",
     "output_type": "stream",
     "text": [
      "/Users/utkarsh/miniconda3/lib/python3.11/site-packages/sklearn/utils/validation.py:1310: DataConversionWarning: A column-vector y was passed when a 1d array was expected. Please change the shape of y to (n_samples, ), for example using ravel().\n",
      "  y = column_or_1d(y, warn=True)\n",
      "/Users/utkarsh/miniconda3/lib/python3.11/site-packages/sklearn/utils/validation.py:1310: DataConversionWarning: A column-vector y was passed when a 1d array was expected. Please change the shape of y to (n_samples, ), for example using ravel().\n",
      "  y = column_or_1d(y, warn=True)\n",
      "/Users/utkarsh/miniconda3/lib/python3.11/site-packages/sklearn/utils/validation.py:1310: DataConversionWarning: A column-vector y was passed when a 1d array was expected. Please change the shape of y to (n_samples, ), for example using ravel().\n",
      "  y = column_or_1d(y, warn=True)\n",
      "/Users/utkarsh/miniconda3/lib/python3.11/site-packages/sklearn/utils/validation.py:1310: DataConversionWarning: A column-vector y was passed when a 1d array was expected. Please change the shape of y to (n_samples, ), for example using ravel().\n",
      "  y = column_or_1d(y, warn=True)\n",
      "/Users/utkarsh/miniconda3/lib/python3.11/site-packages/sklearn/utils/validation.py:1310: DataConversionWarning: A column-vector y was passed when a 1d array was expected. Please change the shape of y to (n_samples, ), for example using ravel().\n",
      "  y = column_or_1d(y, warn=True)\n"
     ]
    },
    {
     "name": "stdout",
     "output_type": "stream",
     "text": [
      "[CV 3/5] END model__colsample_bytree=0.5, model__gamma=0.5555555555555556, model__learning_rate=0.0006951927961775605, model__max_depth=3, model__min_child_weight=8.0, model__n_estimators=700, model__subsample=0.7777777777777778; neg_mean_absolute_error: (test=-0.692) r2: (test=0.039) total time=  22.3s\n",
      "[CV 5/5] END model__colsample_bytree=0.5, model__gamma=0.5555555555555556, model__learning_rate=0.0006951927961775605, model__max_depth=3, model__min_child_weight=8.0, model__n_estimators=700, model__subsample=0.7777777777777778; neg_mean_absolute_error: (test=-0.365) r2: (test=0.000) total time=  22.0s\n"
     ]
    },
    {
     "name": "stderr",
     "output_type": "stream",
     "text": [
      "/Users/utkarsh/miniconda3/lib/python3.11/site-packages/sklearn/utils/validation.py:1310: DataConversionWarning: A column-vector y was passed when a 1d array was expected. Please change the shape of y to (n_samples, ), for example using ravel().\n",
      "  y = column_or_1d(y, warn=True)\n",
      "/Users/utkarsh/miniconda3/lib/python3.11/site-packages/sklearn/utils/validation.py:1310: DataConversionWarning: A column-vector y was passed when a 1d array was expected. Please change the shape of y to (n_samples, ), for example using ravel().\n",
      "  y = column_or_1d(y, warn=True)\n"
     ]
    },
    {
     "name": "stdout",
     "output_type": "stream",
     "text": [
      "[CV 2/5] END model__colsample_bytree=0.6, model__gamma=0.3333333333333333, model__learning_rate=0.0001623776739188721, model__max_depth=10, model__min_child_weight=2.0, model__n_estimators=800, model__subsample=0.6111111111111112; neg_mean_absolute_error: (test=-0.630) r2: (test=-1.423) total time=  24.3s\n",
      "[CV 4/5] END model__colsample_bytree=0.2, model__gamma=1.0, model__learning_rate=0.03359818286283781, model__max_depth=4, model__min_child_weight=1.0, model__n_estimators=1000, model__subsample=0.8888888888888888; neg_mean_absolute_error: (test=-0.520) r2: (test=-0.303) total time=  17.9s\n",
      "[CV 5/5] END model__colsample_bytree=0.2, model__gamma=1.0, model__learning_rate=0.03359818286283781, model__max_depth=4, model__min_child_weight=1.0, model__n_estimators=1000, model__subsample=0.8888888888888888; neg_mean_absolute_error: (test=-0.363) r2: (test=-0.006) total time=  18.0s\n",
      "[CV 3/5] END model__colsample_bytree=0.8, model__gamma=0.8888888888888888, model__learning_rate=0.00042813323987193956, model__max_depth=7, model__min_child_weight=9.0, model__n_estimators=800, model__subsample=0.7222222222222222; neg_mean_absolute_error: (test=-0.702) r2: (test=0.027) total time=  26.3s\n"
     ]
    },
    {
     "name": "stderr",
     "output_type": "stream",
     "text": [
      "/Users/utkarsh/miniconda3/lib/python3.11/site-packages/sklearn/utils/validation.py:1310: DataConversionWarning: A column-vector y was passed when a 1d array was expected. Please change the shape of y to (n_samples, ), for example using ravel().\n",
      "  y = column_or_1d(y, warn=True)\n",
      "/Users/utkarsh/miniconda3/lib/python3.11/site-packages/sklearn/utils/validation.py:1310: DataConversionWarning: A column-vector y was passed when a 1d array was expected. Please change the shape of y to (n_samples, ), for example using ravel().\n",
      "  y = column_or_1d(y, warn=True)\n",
      "/Users/utkarsh/miniconda3/lib/python3.11/site-packages/sklearn/utils/validation.py:1310: DataConversionWarning: A column-vector y was passed when a 1d array was expected. Please change the shape of y to (n_samples, ), for example using ravel().\n",
      "  y = column_or_1d(y, warn=True)\n",
      "/Users/utkarsh/miniconda3/lib/python3.11/site-packages/sklearn/utils/validation.py:1310: DataConversionWarning: A column-vector y was passed when a 1d array was expected. Please change the shape of y to (n_samples, ), for example using ravel().\n",
      "  y = column_or_1d(y, warn=True)\n",
      "/Users/utkarsh/miniconda3/lib/python3.11/site-packages/sklearn/utils/validation.py:1310: DataConversionWarning: A column-vector y was passed when a 1d array was expected. Please change the shape of y to (n_samples, ), for example using ravel().\n",
      "  y = column_or_1d(y, warn=True)\n"
     ]
    },
    {
     "name": "stdout",
     "output_type": "stream",
     "text": [
      "[CV 1/5] END model__colsample_bytree=0.6, model__gamma=0.3333333333333333, model__learning_rate=0.0001623776739188721, model__max_depth=10, model__min_child_weight=2.0, model__n_estimators=800, model__subsample=0.6111111111111112; neg_mean_absolute_error: (test=-0.480) r2: (test=-0.026) total time=  25.1s\n",
      "[CV 2/5] END model__colsample_bytree=0.2, model__gamma=1.0, model__learning_rate=0.03359818286283781, model__max_depth=4, model__min_child_weight=1.0, model__n_estimators=1000, model__subsample=0.8888888888888888; neg_mean_absolute_error: (test=-0.574) r2: (test=-1.182) total time=  19.1s\n",
      "[CV 3/5] END model__colsample_bytree=0.6, model__gamma=0.3333333333333333, model__learning_rate=0.14384498882876628, model__max_depth=4, model__min_child_weight=10.0, model__n_estimators=600, model__subsample=0.5; neg_mean_absolute_error: (test=-0.535) r2: (test=0.174) total time=  19.6s\n"
     ]
    },
    {
     "name": "stderr",
     "output_type": "stream",
     "text": [
      "/Users/utkarsh/miniconda3/lib/python3.11/site-packages/sklearn/utils/validation.py:1310: DataConversionWarning: A column-vector y was passed when a 1d array was expected. Please change the shape of y to (n_samples, ), for example using ravel().\n",
      "  y = column_or_1d(y, warn=True)\n",
      "/Users/utkarsh/miniconda3/lib/python3.11/site-packages/sklearn/utils/validation.py:1310: DataConversionWarning: A column-vector y was passed when a 1d array was expected. Please change the shape of y to (n_samples, ), for example using ravel().\n",
      "  y = column_or_1d(y, warn=True)\n",
      "/Users/utkarsh/miniconda3/lib/python3.11/site-packages/sklearn/utils/validation.py:1310: DataConversionWarning: A column-vector y was passed when a 1d array was expected. Please change the shape of y to (n_samples, ), for example using ravel().\n",
      "  y = column_or_1d(y, warn=True)\n"
     ]
    },
    {
     "name": "stdout",
     "output_type": "stream",
     "text": [
      "[CV 2/5] END model__colsample_bytree=0.1, model__gamma=1.0, model__learning_rate=0.0206913808111479, model__max_depth=7, model__min_child_weight=2.0, model__n_estimators=400, model__subsample=0.5; neg_mean_absolute_error: (test=-0.569) r2: (test=-1.141) total time=  17.9s\n",
      "[CV 4/5] END model__colsample_bytree=0.6, model__gamma=0.3333333333333333, model__learning_rate=0.14384498882876628, model__max_depth=4, model__min_child_weight=10.0, model__n_estimators=600, model__subsample=0.5; neg_mean_absolute_error: (test=-0.700) r2: (test=-1.034) total time=  19.5s\n",
      "[CV 3/5] END model__colsample_bytree=0.6, model__gamma=0.3333333333333333, model__learning_rate=0.0001623776739188721, model__max_depth=10, model__min_child_weight=2.0, model__n_estimators=800, model__subsample=0.6111111111111112; neg_mean_absolute_error: (test=-0.702) r2: (test=0.022) total time=  24.5s\n",
      "[CV 4/5] END model__colsample_bytree=0.1, model__gamma=1.0, model__learning_rate=0.0206913808111479, model__max_depth=7, model__min_child_weight=2.0, model__n_estimators=400, model__subsample=0.5; neg_mean_absolute_error: (test=-0.553) r2: (test=-0.490) total time=  17.9s\n"
     ]
    },
    {
     "name": "stderr",
     "output_type": "stream",
     "text": [
      "/Users/utkarsh/miniconda3/lib/python3.11/site-packages/sklearn/utils/validation.py:1310: DataConversionWarning: A column-vector y was passed when a 1d array was expected. Please change the shape of y to (n_samples, ), for example using ravel().\n",
      "  y = column_or_1d(y, warn=True)\n",
      "/Users/utkarsh/miniconda3/lib/python3.11/site-packages/sklearn/utils/validation.py:1310: DataConversionWarning: A column-vector y was passed when a 1d array was expected. Please change the shape of y to (n_samples, ), for example using ravel().\n",
      "  y = column_or_1d(y, warn=True)\n",
      "/Users/utkarsh/miniconda3/lib/python3.11/site-packages/sklearn/utils/validation.py:1310: DataConversionWarning: A column-vector y was passed when a 1d array was expected. Please change the shape of y to (n_samples, ), for example using ravel().\n",
      "  y = column_or_1d(y, warn=True)\n"
     ]
    },
    {
     "name": "stdout",
     "output_type": "stream",
     "text": [
      "[CV 5/5] END model__colsample_bytree=0.6, model__gamma=0.3333333333333333, model__learning_rate=0.14384498882876628, model__max_depth=4, model__min_child_weight=10.0, model__n_estimators=600, model__subsample=0.5; neg_mean_absolute_error: (test=-0.368) r2: (test=-0.164) total time=  19.8s\n",
      "[CV 2/5] END model__colsample_bytree=0.6, model__gamma=0.3333333333333333, model__learning_rate=0.14384498882876628, model__max_depth=4, model__min_child_weight=10.0, model__n_estimators=600, model__subsample=0.5; neg_mean_absolute_error: (test=-0.422) r2: (test=-0.418) total time=  20.3s\n"
     ]
    },
    {
     "name": "stderr",
     "output_type": "stream",
     "text": [
      "/Users/utkarsh/miniconda3/lib/python3.11/site-packages/sklearn/utils/validation.py:1310: DataConversionWarning: A column-vector y was passed when a 1d array was expected. Please change the shape of y to (n_samples, ), for example using ravel().\n",
      "  y = column_or_1d(y, warn=True)\n",
      "/Users/utkarsh/miniconda3/lib/python3.11/site-packages/sklearn/utils/validation.py:1310: DataConversionWarning: A column-vector y was passed when a 1d array was expected. Please change the shape of y to (n_samples, ), for example using ravel().\n",
      "  y = column_or_1d(y, warn=True)\n",
      "/Users/utkarsh/miniconda3/lib/python3.11/site-packages/sklearn/utils/validation.py:1310: DataConversionWarning: A column-vector y was passed when a 1d array was expected. Please change the shape of y to (n_samples, ), for example using ravel().\n",
      "  y = column_or_1d(y, warn=True)\n"
     ]
    },
    {
     "name": "stdout",
     "output_type": "stream",
     "text": [
      "[CV 3/5] END model__colsample_bytree=0.2, model__gamma=1.0, model__learning_rate=0.03359818286283781, model__max_depth=4, model__min_child_weight=1.0, model__n_estimators=1000, model__subsample=0.8888888888888888; neg_mean_absolute_error: (test=-0.595) r2: (test=0.178) total time=  19.9s\n"
     ]
    },
    {
     "name": "stderr",
     "output_type": "stream",
     "text": [
      "/Users/utkarsh/miniconda3/lib/python3.11/site-packages/sklearn/utils/validation.py:1310: DataConversionWarning: A column-vector y was passed when a 1d array was expected. Please change the shape of y to (n_samples, ), for example using ravel().\n",
      "  y = column_or_1d(y, warn=True)\n"
     ]
    },
    {
     "name": "stdout",
     "output_type": "stream",
     "text": [
      "[CV 5/5] END model__colsample_bytree=0.6, model__gamma=0.3333333333333333, model__learning_rate=0.0001623776739188721, model__max_depth=10, model__min_child_weight=2.0, model__n_estimators=800, model__subsample=0.6111111111111112; neg_mean_absolute_error: (test=-0.365) r2: (test=-0.006) total time=  25.6s\n"
     ]
    },
    {
     "name": "stderr",
     "output_type": "stream",
     "text": [
      "/Users/utkarsh/miniconda3/lib/python3.11/site-packages/sklearn/utils/validation.py:1310: DataConversionWarning: A column-vector y was passed when a 1d array was expected. Please change the shape of y to (n_samples, ), for example using ravel().\n",
      "  y = column_or_1d(y, warn=True)\n"
     ]
    },
    {
     "name": "stdout",
     "output_type": "stream",
     "text": [
      "[CV 5/5] END model__colsample_bytree=0.1, model__gamma=1.0, model__learning_rate=0.0206913808111479, model__max_depth=7, model__min_child_weight=2.0, model__n_estimators=400, model__subsample=0.5; neg_mean_absolute_error: (test=-0.365) r2: (test=-0.022) total time=  19.5s\n"
     ]
    },
    {
     "name": "stderr",
     "output_type": "stream",
     "text": [
      "/Users/utkarsh/miniconda3/lib/python3.11/site-packages/sklearn/utils/validation.py:1310: DataConversionWarning: A column-vector y was passed when a 1d array was expected. Please change the shape of y to (n_samples, ), for example using ravel().\n",
      "  y = column_or_1d(y, warn=True)\n"
     ]
    },
    {
     "name": "stdout",
     "output_type": "stream",
     "text": [
      "[CV 3/5] END model__colsample_bytree=0.7000000000000001, model__gamma=0.8888888888888888, model__learning_rate=0.004832930238571752, model__max_depth=7, model__min_child_weight=2.0, model__n_estimators=500, model__subsample=0.9444444444444444; neg_mean_absolute_error: (test=-0.622) r2: (test=0.113) total time=  20.4s\n",
      "[CV 2/5] END model__colsample_bytree=0.7000000000000001, model__gamma=0.8888888888888888, model__learning_rate=0.004832930238571752, model__max_depth=7, model__min_child_weight=2.0, model__n_estimators=500, model__subsample=0.9444444444444444; neg_mean_absolute_error: (test=-0.601) r2: (test=-1.345) total time=  20.6s\n"
     ]
    },
    {
     "name": "stderr",
     "output_type": "stream",
     "text": [
      "/Users/utkarsh/miniconda3/lib/python3.11/site-packages/sklearn/utils/validation.py:1310: DataConversionWarning: A column-vector y was passed when a 1d array was expected. Please change the shape of y to (n_samples, ), for example using ravel().\n",
      "  y = column_or_1d(y, warn=True)\n",
      "/Users/utkarsh/miniconda3/lib/python3.11/site-packages/sklearn/utils/validation.py:1310: DataConversionWarning: A column-vector y was passed when a 1d array was expected. Please change the shape of y to (n_samples, ), for example using ravel().\n",
      "  y = column_or_1d(y, warn=True)\n"
     ]
    },
    {
     "name": "stdout",
     "output_type": "stream",
     "text": [
      "[CV 1/5] END model__colsample_bytree=0.7000000000000001, model__gamma=0.8888888888888888, model__learning_rate=0.004832930238571752, model__max_depth=7, model__min_child_weight=2.0, model__n_estimators=500, model__subsample=0.9444444444444444; neg_mean_absolute_error: (test=-0.452) r2: (test=0.060) total time=  21.6s\n"
     ]
    },
    {
     "name": "stderr",
     "output_type": "stream",
     "text": [
      "/Users/utkarsh/miniconda3/lib/python3.11/site-packages/sklearn/utils/validation.py:1310: DataConversionWarning: A column-vector y was passed when a 1d array was expected. Please change the shape of y to (n_samples, ), for example using ravel().\n",
      "  y = column_or_1d(y, warn=True)\n"
     ]
    },
    {
     "name": "stdout",
     "output_type": "stream",
     "text": [
      "[CV 4/5] END model__colsample_bytree=0.7000000000000001, model__gamma=0.8888888888888888, model__learning_rate=0.004832930238571752, model__max_depth=7, model__min_child_weight=2.0, model__n_estimators=500, model__subsample=0.9444444444444444; neg_mean_absolute_error: (test=-0.481) r2: (test=-0.068) total time=  19.6s\n"
     ]
    },
    {
     "name": "stderr",
     "output_type": "stream",
     "text": [
      "/Users/utkarsh/miniconda3/lib/python3.11/site-packages/sklearn/utils/validation.py:1310: DataConversionWarning: A column-vector y was passed when a 1d array was expected. Please change the shape of y to (n_samples, ), for example using ravel().\n",
      "  y = column_or_1d(y, warn=True)\n"
     ]
    },
    {
     "name": "stdout",
     "output_type": "stream",
     "text": [
      "[CV 3/5] END model__colsample_bytree=0.6, model__gamma=0.2222222222222222, model__learning_rate=0.03359818286283781, model__max_depth=5, model__min_child_weight=10.0, model__n_estimators=600, model__subsample=0.6666666666666666; neg_mean_absolute_error: (test=-0.543) r2: (test=0.192) total time=  18.7s\n",
      "[CV 1/5] END model__colsample_bytree=0.6, model__gamma=0.0, model__learning_rate=0.00026366508987303583, model__max_depth=10, model__min_child_weight=1.0, model__n_estimators=100, model__subsample=0.7222222222222222; neg_mean_absolute_error: (test=-0.492) r2: (test=-0.072) total time=  18.1s\n"
     ]
    },
    {
     "name": "stderr",
     "output_type": "stream",
     "text": [
      "/Users/utkarsh/miniconda3/lib/python3.11/site-packages/sklearn/utils/validation.py:1310: DataConversionWarning: A column-vector y was passed when a 1d array was expected. Please change the shape of y to (n_samples, ), for example using ravel().\n",
      "  y = column_or_1d(y, warn=True)\n"
     ]
    },
    {
     "name": "stdout",
     "output_type": "stream",
     "text": [
      "[CV 5/5] END model__colsample_bytree=0.7000000000000001, model__gamma=0.8888888888888888, model__learning_rate=0.004832930238571752, model__max_depth=7, model__min_child_weight=2.0, model__n_estimators=500, model__subsample=0.9444444444444444; neg_mean_absolute_error: (test=-0.363) r2: (test=-0.022) total time=  19.6s\n"
     ]
    },
    {
     "name": "stderr",
     "output_type": "stream",
     "text": [
      "/Users/utkarsh/miniconda3/lib/python3.11/site-packages/sklearn/utils/validation.py:1310: DataConversionWarning: A column-vector y was passed when a 1d array was expected. Please change the shape of y to (n_samples, ), for example using ravel().\n",
      "  y = column_or_1d(y, warn=True)\n",
      "/Users/utkarsh/miniconda3/lib/python3.11/site-packages/sklearn/utils/validation.py:1310: DataConversionWarning: A column-vector y was passed when a 1d array was expected. Please change the shape of y to (n_samples, ), for example using ravel().\n",
      "  y = column_or_1d(y, warn=True)\n"
     ]
    },
    {
     "name": "stdout",
     "output_type": "stream",
     "text": [
      "[CV 1/5] END model__colsample_bytree=0.6, model__gamma=0.2222222222222222, model__learning_rate=0.03359818286283781, model__max_depth=5, model__min_child_weight=10.0, model__n_estimators=600, model__subsample=0.6666666666666666; neg_mean_absolute_error: (test=-0.459) r2: (test=0.037) total time=  19.6s\n"
     ]
    },
    {
     "name": "stderr",
     "output_type": "stream",
     "text": [
      "/Users/utkarsh/miniconda3/lib/python3.11/site-packages/sklearn/utils/validation.py:1310: DataConversionWarning: A column-vector y was passed when a 1d array was expected. Please change the shape of y to (n_samples, ), for example using ravel().\n",
      "  y = column_or_1d(y, warn=True)\n"
     ]
    },
    {
     "name": "stdout",
     "output_type": "stream",
     "text": [
      "[CV 2/5] END model__colsample_bytree=0.6, model__gamma=0.0, model__learning_rate=0.00026366508987303583, model__max_depth=10, model__min_child_weight=1.0, model__n_estimators=100, model__subsample=0.7222222222222222; neg_mean_absolute_error: (test=-0.638) r2: (test=-1.469) total time=  18.6s\n",
      "[CV 4/5] END model__colsample_bytree=0.6, model__gamma=0.2222222222222222, model__learning_rate=0.03359818286283781, model__max_depth=5, model__min_child_weight=10.0, model__n_estimators=600, model__subsample=0.6666666666666666; neg_mean_absolute_error: (test=-0.517) r2: (test=-0.331) total time=  19.4s\n"
     ]
    },
    {
     "name": "stderr",
     "output_type": "stream",
     "text": [
      "/Users/utkarsh/miniconda3/lib/python3.11/site-packages/sklearn/utils/validation.py:1310: DataConversionWarning: A column-vector y was passed when a 1d array was expected. Please change the shape of y to (n_samples, ), for example using ravel().\n",
      "  y = column_or_1d(y, warn=True)\n",
      "/Users/utkarsh/miniconda3/lib/python3.11/site-packages/sklearn/utils/validation.py:1310: DataConversionWarning: A column-vector y was passed when a 1d array was expected. Please change the shape of y to (n_samples, ), for example using ravel().\n",
      "  y = column_or_1d(y, warn=True)\n"
     ]
    },
    {
     "name": "stdout",
     "output_type": "stream",
     "text": [
      "[CV 4/5] END model__colsample_bytree=0.6, model__gamma=0.0, model__learning_rate=0.00026366508987303583, model__max_depth=10, model__min_child_weight=1.0, model__n_estimators=100, model__subsample=0.7222222222222222; neg_mean_absolute_error: (test=-0.631) r2: (test=-0.923) total time=  17.9s\n",
      "[CV 2/5] END model__colsample_bytree=0.6, model__gamma=0.2222222222222222, model__learning_rate=0.03359818286283781, model__max_depth=5, model__min_child_weight=10.0, model__n_estimators=600, model__subsample=0.6666666666666666; neg_mean_absolute_error: (test=-0.542) r2: (test=-0.974) total time=  20.5s\n"
     ]
    },
    {
     "name": "stderr",
     "output_type": "stream",
     "text": [
      "/Users/utkarsh/miniconda3/lib/python3.11/site-packages/sklearn/utils/validation.py:1310: DataConversionWarning: A column-vector y was passed when a 1d array was expected. Please change the shape of y to (n_samples, ), for example using ravel().\n",
      "  y = column_or_1d(y, warn=True)\n",
      "/Users/utkarsh/miniconda3/lib/python3.11/site-packages/sklearn/utils/validation.py:1310: DataConversionWarning: A column-vector y was passed when a 1d array was expected. Please change the shape of y to (n_samples, ), for example using ravel().\n",
      "  y = column_or_1d(y, warn=True)\n"
     ]
    },
    {
     "name": "stdout",
     "output_type": "stream",
     "text": [
      "[CV 3/5] END model__colsample_bytree=0.6, model__gamma=0.0, model__learning_rate=0.00026366508987303583, model__max_depth=10, model__min_child_weight=1.0, model__n_estimators=100, model__subsample=0.7222222222222222; neg_mean_absolute_error: (test=-0.716) r2: (test=-0.001) total time=  18.8s\n",
      "[CV 1/5] END model__colsample_bytree=0.1, model__gamma=0.2222222222222222, model__learning_rate=0.002976351441631319, model__max_depth=7, model__min_child_weight=7.0, model__n_estimators=100, model__subsample=0.5555555555555556; neg_mean_absolute_error: (test=-0.473) r2: (test=0.001) total time=  16.6s\n"
     ]
    },
    {
     "name": "stderr",
     "output_type": "stream",
     "text": [
      "/Users/utkarsh/miniconda3/lib/python3.11/site-packages/sklearn/utils/validation.py:1310: DataConversionWarning: A column-vector y was passed when a 1d array was expected. Please change the shape of y to (n_samples, ), for example using ravel().\n",
      "  y = column_or_1d(y, warn=True)\n"
     ]
    },
    {
     "name": "stdout",
     "output_type": "stream",
     "text": [
      "[CV 5/5] END model__colsample_bytree=0.6, model__gamma=0.2222222222222222, model__learning_rate=0.03359818286283781, model__max_depth=5, model__min_child_weight=10.0, model__n_estimators=600, model__subsample=0.6666666666666666; neg_mean_absolute_error: (test=-0.365) r2: (test=-0.065) total time=  20.7s\n"
     ]
    },
    {
     "name": "stderr",
     "output_type": "stream",
     "text": [
      "/Users/utkarsh/miniconda3/lib/python3.11/site-packages/sklearn/utils/validation.py:1310: DataConversionWarning: A column-vector y was passed when a 1d array was expected. Please change the shape of y to (n_samples, ), for example using ravel().\n",
      "  y = column_or_1d(y, warn=True)\n",
      "/Users/utkarsh/miniconda3/lib/python3.11/site-packages/sklearn/utils/validation.py:1310: DataConversionWarning: A column-vector y was passed when a 1d array was expected. Please change the shape of y to (n_samples, ), for example using ravel().\n",
      "  y = column_or_1d(y, warn=True)\n"
     ]
    },
    {
     "name": "stdout",
     "output_type": "stream",
     "text": [
      "[CV 2/5] END model__colsample_bytree=0.1, model__gamma=0.2222222222222222, model__learning_rate=0.002976351441631319, model__max_depth=7, model__min_child_weight=7.0, model__n_estimators=100, model__subsample=0.5555555555555556; neg_mean_absolute_error: (test=-0.615) r2: (test=-1.325) total time=  17.5s\n",
      "[CV 5/5] END model__colsample_bytree=0.6, model__gamma=0.0, model__learning_rate=0.00026366508987303583, model__max_depth=10, model__min_child_weight=1.0, model__n_estimators=100, model__subsample=0.7222222222222222; neg_mean_absolute_error: (test=-0.366) r2: (test=-0.017) total time=  19.1s\n",
      "[CV 3/5] END model__colsample_bytree=0.1, model__gamma=0.2222222222222222, model__learning_rate=0.002976351441631319, model__max_depth=7, model__min_child_weight=7.0, model__n_estimators=100, model__subsample=0.5555555555555556; neg_mean_absolute_error: (test=-0.690) r2: (test=0.040) total time=  17.2s\n"
     ]
    },
    {
     "name": "stderr",
     "output_type": "stream",
     "text": [
      "/Users/utkarsh/miniconda3/lib/python3.11/site-packages/sklearn/utils/validation.py:1310: DataConversionWarning: A column-vector y was passed when a 1d array was expected. Please change the shape of y to (n_samples, ), for example using ravel().\n",
      "  y = column_or_1d(y, warn=True)\n",
      "/Users/utkarsh/miniconda3/lib/python3.11/site-packages/sklearn/utils/validation.py:1310: DataConversionWarning: A column-vector y was passed when a 1d array was expected. Please change the shape of y to (n_samples, ), for example using ravel().\n",
      "  y = column_or_1d(y, warn=True)\n",
      "/Users/utkarsh/miniconda3/lib/python3.11/site-packages/sklearn/utils/validation.py:1310: DataConversionWarning: A column-vector y was passed when a 1d array was expected. Please change the shape of y to (n_samples, ), for example using ravel().\n",
      "  y = column_or_1d(y, warn=True)\n"
     ]
    },
    {
     "name": "stdout",
     "output_type": "stream",
     "text": [
      "[CV 5/5] END model__colsample_bytree=0.1, model__gamma=0.2222222222222222, model__learning_rate=0.002976351441631319, model__max_depth=7, model__min_child_weight=7.0, model__n_estimators=100, model__subsample=0.5555555555555556; neg_mean_absolute_error: (test=-0.365) r2: (test=0.009) total time=  17.2s\n"
     ]
    },
    {
     "name": "stderr",
     "output_type": "stream",
     "text": [
      "/Users/utkarsh/miniconda3/lib/python3.11/site-packages/sklearn/utils/validation.py:1310: DataConversionWarning: A column-vector y was passed when a 1d array was expected. Please change the shape of y to (n_samples, ), for example using ravel().\n",
      "  y = column_or_1d(y, warn=True)\n",
      "/Users/utkarsh/miniconda3/lib/python3.11/site-packages/sklearn/utils/validation.py:1310: DataConversionWarning: A column-vector y was passed when a 1d array was expected. Please change the shape of y to (n_samples, ), for example using ravel().\n",
      "  y = column_or_1d(y, warn=True)\n"
     ]
    },
    {
     "name": "stdout",
     "output_type": "stream",
     "text": [
      "[CV 1/5] END model__colsample_bytree=0.7000000000000001, model__gamma=0.1111111111111111, model__learning_rate=0.0018329807108324356, model__max_depth=None, model__min_child_weight=10.0, model__n_estimators=300, model__subsample=0.8333333333333333; neg_mean_absolute_error: (test=-0.445) r2: (test=0.076) total time=  19.4s\n",
      "[CV 4/5] END model__colsample_bytree=0.1, model__gamma=0.2222222222222222, model__learning_rate=0.002976351441631319, model__max_depth=7, model__min_child_weight=7.0, model__n_estimators=100, model__subsample=0.5555555555555556; neg_mean_absolute_error: (test=-0.605) r2: (test=-0.799) total time=  17.8s\n"
     ]
    },
    {
     "name": "stderr",
     "output_type": "stream",
     "text": [
      "/Users/utkarsh/miniconda3/lib/python3.11/site-packages/sklearn/utils/validation.py:1310: DataConversionWarning: A column-vector y was passed when a 1d array was expected. Please change the shape of y to (n_samples, ), for example using ravel().\n",
      "  y = column_or_1d(y, warn=True)\n"
     ]
    },
    {
     "name": "stdout",
     "output_type": "stream",
     "text": [
      "[CV 5/5] END model__colsample_bytree=0.7000000000000001, model__gamma=0.1111111111111111, model__learning_rate=0.0018329807108324356, model__max_depth=None, model__min_child_weight=10.0, model__n_estimators=300, model__subsample=0.8333333333333333; neg_mean_absolute_error: (test=-0.364) r2: (test=-0.004) total time=  19.1s\n"
     ]
    },
    {
     "name": "stderr",
     "output_type": "stream",
     "text": [
      "/Users/utkarsh/miniconda3/lib/python3.11/site-packages/sklearn/utils/validation.py:1310: DataConversionWarning: A column-vector y was passed when a 1d array was expected. Please change the shape of y to (n_samples, ), for example using ravel().\n",
      "  y = column_or_1d(y, warn=True)\n",
      "/Users/utkarsh/miniconda3/lib/python3.11/site-packages/sklearn/utils/validation.py:1310: DataConversionWarning: A column-vector y was passed when a 1d array was expected. Please change the shape of y to (n_samples, ), for example using ravel().\n",
      "  y = column_or_1d(y, warn=True)\n"
     ]
    },
    {
     "name": "stdout",
     "output_type": "stream",
     "text": [
      "[CV 4/5] END model__colsample_bytree=0.7000000000000001, model__gamma=0.1111111111111111, model__learning_rate=0.0018329807108324356, model__max_depth=None, model__min_child_weight=10.0, model__n_estimators=300, model__subsample=0.8333333333333333; neg_mean_absolute_error: (test=-0.562) r2: (test=-0.575) total time=  19.8s\n",
      "[CV 2/5] END model__colsample_bytree=0.7000000000000001, model__gamma=0.1111111111111111, model__learning_rate=0.0018329807108324356, model__max_depth=None, model__min_child_weight=10.0, model__n_estimators=300, model__subsample=0.8333333333333333; neg_mean_absolute_error: (test=-0.614) r2: (test=-1.380) total time=  20.6s\n",
      "[CV 3/5] END model__colsample_bytree=0.7000000000000001, model__gamma=0.1111111111111111, model__learning_rate=0.0018329807108324356, model__max_depth=None, model__min_child_weight=10.0, model__n_estimators=300, model__subsample=0.8333333333333333; neg_mean_absolute_error: (test=-0.683) r2: (test=0.056) total time=  20.3s\n"
     ]
    },
    {
     "name": "stderr",
     "output_type": "stream",
     "text": [
      "/Users/utkarsh/miniconda3/lib/python3.11/site-packages/sklearn/utils/validation.py:1310: DataConversionWarning: A column-vector y was passed when a 1d array was expected. Please change the shape of y to (n_samples, ), for example using ravel().\n",
      "  y = column_or_1d(y, warn=True)\n",
      "/Users/utkarsh/miniconda3/lib/python3.11/site-packages/sklearn/utils/validation.py:1310: DataConversionWarning: A column-vector y was passed when a 1d array was expected. Please change the shape of y to (n_samples, ), for example using ravel().\n",
      "  y = column_or_1d(y, warn=True)\n"
     ]
    },
    {
     "name": "stdout",
     "output_type": "stream",
     "text": [
      "[CV 2/5] END model__colsample_bytree=0.7000000000000001, model__gamma=0.1111111111111111, model__learning_rate=0.23357214690901212, model__max_depth=5, model__min_child_weight=2.0, model__n_estimators=400, model__subsample=0.8333333333333333; neg_mean_absolute_error: (test=-0.520) r2: (test=-0.707) total time=  18.3s\n"
     ]
    },
    {
     "name": "stderr",
     "output_type": "stream",
     "text": [
      "/Users/utkarsh/miniconda3/lib/python3.11/site-packages/sklearn/utils/validation.py:1310: DataConversionWarning: A column-vector y was passed when a 1d array was expected. Please change the shape of y to (n_samples, ), for example using ravel().\n",
      "  y = column_or_1d(y, warn=True)\n"
     ]
    },
    {
     "name": "stdout",
     "output_type": "stream",
     "text": [
      "[CV 1/5] END model__colsample_bytree=0.7000000000000001, model__gamma=0.1111111111111111, model__learning_rate=0.23357214690901212, model__max_depth=5, model__min_child_weight=2.0, model__n_estimators=400, model__subsample=0.8333333333333333; neg_mean_absolute_error: (test=-0.569) r2: (test=-0.497) total time=  19.7s\n",
      "[CV 5/5] END model__colsample_bytree=0.7000000000000001, model__gamma=0.1111111111111111, model__learning_rate=0.23357214690901212, model__max_depth=5, model__min_child_weight=2.0, model__n_estimators=400, model__subsample=0.8333333333333333; neg_mean_absolute_error: (test=-0.362) r2: (test=-0.013) total time=  18.6s\n",
      "[CV 4/5] END model__colsample_bytree=0.7000000000000001, model__gamma=0.1111111111111111, model__learning_rate=0.23357214690901212, model__max_depth=5, model__min_child_weight=2.0, model__n_estimators=400, model__subsample=0.8333333333333333; neg_mean_absolute_error: (test=-0.541) r2: (test=-0.426) total time=  19.0s\n"
     ]
    },
    {
     "name": "stderr",
     "output_type": "stream",
     "text": [
      "/Users/utkarsh/miniconda3/lib/python3.11/site-packages/sklearn/utils/validation.py:1310: DataConversionWarning: A column-vector y was passed when a 1d array was expected. Please change the shape of y to (n_samples, ), for example using ravel().\n",
      "  y = column_or_1d(y, warn=True)\n",
      "/Users/utkarsh/miniconda3/lib/python3.11/site-packages/sklearn/utils/validation.py:1310: DataConversionWarning: A column-vector y was passed when a 1d array was expected. Please change the shape of y to (n_samples, ), for example using ravel().\n",
      "  y = column_or_1d(y, warn=True)\n",
      "/Users/utkarsh/miniconda3/lib/python3.11/site-packages/sklearn/utils/validation.py:1310: DataConversionWarning: A column-vector y was passed when a 1d array was expected. Please change the shape of y to (n_samples, ), for example using ravel().\n",
      "  y = column_or_1d(y, warn=True)\n"
     ]
    },
    {
     "name": "stdout",
     "output_type": "stream",
     "text": [
      "[CV 3/5] END model__colsample_bytree=0.8, model__gamma=0.1111111111111111, model__learning_rate=0.0001, model__max_depth=3, model__min_child_weight=5.0, model__n_estimators=600, model__subsample=0.8888888888888888; neg_mean_absolute_error: (test=-0.710) r2: (test=0.010) total time=  20.9s\n",
      "[CV 1/5] END model__colsample_bytree=0.8, model__gamma=0.1111111111111111, model__learning_rate=0.0001, model__max_depth=3, model__min_child_weight=5.0, model__n_estimators=600, model__subsample=0.8888888888888888; neg_mean_absolute_error: (test=-0.486) r2: (test=-0.051) total time=  21.3s\n"
     ]
    },
    {
     "name": "stderr",
     "output_type": "stream",
     "text": [
      "/Users/utkarsh/miniconda3/lib/python3.11/site-packages/sklearn/utils/validation.py:1310: DataConversionWarning: A column-vector y was passed when a 1d array was expected. Please change the shape of y to (n_samples, ), for example using ravel().\n",
      "  y = column_or_1d(y, warn=True)\n",
      "/Users/utkarsh/miniconda3/lib/python3.11/site-packages/sklearn/utils/validation.py:1310: DataConversionWarning: A column-vector y was passed when a 1d array was expected. Please change the shape of y to (n_samples, ), for example using ravel().\n",
      "  y = column_or_1d(y, warn=True)\n"
     ]
    },
    {
     "name": "stdout",
     "output_type": "stream",
     "text": [
      "[CV 2/5] END model__colsample_bytree=0.5, model__gamma=0.6666666666666666, model__learning_rate=0.3792690190732246, model__max_depth=None, model__min_child_weight=8.0, model__n_estimators=900, model__subsample=1.0; neg_mean_absolute_error: (test=-0.618) r2: (test=-1.456) total time=  18.0s\n",
      "[CV 1/5] END model__colsample_bytree=0.5, model__gamma=0.6666666666666666, model__learning_rate=0.3792690190732246, model__max_depth=None, model__min_child_weight=8.0, model__n_estimators=900, model__subsample=1.0; neg_mean_absolute_error: (test=-0.573) r2: (test=-0.486) total time=  18.5s\n",
      "[CV 4/5] END model__colsample_bytree=0.8, model__gamma=0.1111111111111111, model__learning_rate=0.0001, model__max_depth=3, model__min_child_weight=5.0, model__n_estimators=600, model__subsample=0.8888888888888888; neg_mean_absolute_error: (test=-0.625) r2: (test=-0.891) total time=  21.7s\n",
      "[CV 3/5] END model__colsample_bytree=0.7000000000000001, model__gamma=0.1111111111111111, model__learning_rate=0.23357214690901212, model__max_depth=5, model__min_child_weight=2.0, model__n_estimators=400, model__subsample=0.8333333333333333; neg_mean_absolute_error: (test=-0.611) r2: (test=-0.077) total time=  20.6s\n",
      "[CV 5/5] END model__colsample_bytree=0.5, model__gamma=0.6666666666666666, model__learning_rate=0.3792690190732246, model__max_depth=None, model__min_child_weight=8.0, model__n_estimators=900, model__subsample=1.0; neg_mean_absolute_error: (test=-0.366) r2: (test=-0.026) total time=  18.5s\n",
      "[CV 2/5] END model__colsample_bytree=0.8, model__gamma=0.1111111111111111, model__learning_rate=0.0001, model__max_depth=3, model__min_child_weight=5.0, model__n_estimators=600, model__subsample=0.8888888888888888; neg_mean_absolute_error: (test=-0.638) r2: (test=-1.471) total time=  22.5s\n",
      "[CV 5/5] END model__colsample_bytree=0.8, model__gamma=0.1111111111111111, model__learning_rate=0.0001, model__max_depth=3, model__min_child_weight=5.0, model__n_estimators=600, model__subsample=0.8888888888888888; neg_mean_absolute_error: (test=-0.366) r2: (test=-0.019) total time=  22.5s\n",
      "[CV 3/5] END model__colsample_bytree=0.5, model__gamma=0.6666666666666666, model__learning_rate=0.3792690190732246, model__max_depth=None, model__min_child_weight=8.0, model__n_estimators=900, model__subsample=1.0; neg_mean_absolute_error: (test=-0.683) r2: (test=-0.048) total time=  19.5s\n",
      "[CV 4/5] END model__colsample_bytree=0.5, model__gamma=0.6666666666666666, model__learning_rate=0.3792690190732246, model__max_depth=None, model__min_child_weight=8.0, model__n_estimators=900, model__subsample=1.0; neg_mean_absolute_error: (test=-0.584) r2: (test=-0.684) total time=  19.2s\n",
      "[CV 5/5] END model__colsample_bytree=1.0, model__gamma=0.2222222222222222, model__learning_rate=0.012742749857031334, model__max_depth=3, model__min_child_weight=6.0, model__n_estimators=500, model__subsample=0.8888888888888888; neg_mean_absolute_error: (test=-0.362) r2: (test=0.037) total time=  18.3s\n",
      "[CV 1/5] END model__colsample_bytree=0.30000000000000004, model__gamma=0.4444444444444444, model__learning_rate=0.0001623776739188721, model__max_depth=None, model__min_child_weight=6.0, model__n_estimators=800, model__subsample=0.8888888888888888; neg_mean_absolute_error: (test=-0.484) r2: (test=-0.038) total time=  20.9s\n",
      "[CV 3/5] END model__colsample_bytree=1.0, model__gamma=0.2222222222222222, model__learning_rate=0.012742749857031334, model__max_depth=3, model__min_child_weight=6.0, model__n_estimators=500, model__subsample=0.8888888888888888; neg_mean_absolute_error: (test=-0.622) r2: (test=0.124) total time=  18.9s\n",
      "[CV 4/5] END model__colsample_bytree=0.30000000000000004, model__gamma=0.4444444444444444, model__learning_rate=0.0001623776739188721, model__max_depth=None, model__min_child_weight=6.0, model__n_estimators=800, model__subsample=0.8888888888888888; neg_mean_absolute_error: (test=-0.617) r2: (test=-0.854) total time=  20.5s\n",
      "[CV 3/5] END model__colsample_bytree=0.30000000000000004, model__gamma=0.4444444444444444, model__learning_rate=0.0001623776739188721, model__max_depth=None, model__min_child_weight=6.0, model__n_estimators=800, model__subsample=0.8888888888888888; neg_mean_absolute_error: (test=-0.705) r2: (test=0.016) total time=  20.7s\n",
      "[CV 1/5] END model__colsample_bytree=0.4, model__gamma=0.7777777777777777, model__learning_rate=0.0011288378916846883, model__max_depth=6, model__min_child_weight=3.0, model__n_estimators=700, model__subsample=1.0; neg_mean_absolute_error: (test=-0.457) r2: (test=0.032) total time=  20.1s\n",
      "[CV 2/5] END model__colsample_bytree=1.0, model__gamma=0.2222222222222222, model__learning_rate=0.012742749857031334, model__max_depth=3, model__min_child_weight=6.0, model__n_estimators=500, model__subsample=0.8888888888888888; neg_mean_absolute_error: (test=-0.618) r2: (test=-1.547) total time=  19.5s\n",
      "[CV 5/5] END model__colsample_bytree=0.30000000000000004, model__gamma=0.4444444444444444, model__learning_rate=0.0001623776739188721, model__max_depth=None, model__min_child_weight=6.0, model__n_estimators=800, model__subsample=0.8888888888888888; neg_mean_absolute_error: (test=-0.365) r2: (test=-0.006) total time=  21.1s\n",
      "[CV 3/5] END model__colsample_bytree=0.30000000000000004, model__gamma=0.4444444444444444, model__learning_rate=0.0001623776739188721, model__max_depth=8, model__min_child_weight=5.0, model__n_estimators=1000, model__subsample=0.7777777777777778; neg_mean_absolute_error: (test=-0.702) r2: (test=0.020) total time=  21.9s\n",
      "[CV 2/5] END model__colsample_bytree=0.4, model__gamma=0.7777777777777777, model__learning_rate=0.0011288378916846883, model__max_depth=6, model__min_child_weight=3.0, model__n_estimators=700, model__subsample=1.0; neg_mean_absolute_error: (test=-0.613) r2: (test=-1.373) total time=  21.0s\n",
      "[CV 1/5] END model__colsample_bytree=1.0, model__gamma=0.2222222222222222, model__learning_rate=0.012742749857031334, model__max_depth=3, model__min_child_weight=6.0, model__n_estimators=500, model__subsample=0.8888888888888888; neg_mean_absolute_error: (test=-0.415) r2: (test=0.200) total time=  20.2s\n",
      "[CV 4/5] END model__colsample_bytree=1.0, model__gamma=0.2222222222222222, model__learning_rate=0.012742749857031334, model__max_depth=3, model__min_child_weight=6.0, model__n_estimators=500, model__subsample=0.8888888888888888; neg_mean_absolute_error: (test=-0.489) r2: (test=-0.084) total time=  20.0s\n",
      "[CV 2/5] END model__colsample_bytree=0.30000000000000004, model__gamma=0.4444444444444444, model__learning_rate=0.0001623776739188721, model__max_depth=None, model__min_child_weight=6.0, model__n_estimators=800, model__subsample=0.8888888888888888; neg_mean_absolute_error: (test=-0.628) r2: (test=-1.406) total time=  21.9s\n",
      "[CV 4/5] END model__colsample_bytree=0.4, model__gamma=0.7777777777777777, model__learning_rate=0.0011288378916846883, model__max_depth=6, model__min_child_weight=3.0, model__n_estimators=700, model__subsample=1.0; neg_mean_absolute_error: (test=-0.542) r2: (test=-0.474) total time=  20.6s\n",
      "[CV 4/5] END model__colsample_bytree=0.30000000000000004, model__gamma=0.4444444444444444, model__learning_rate=0.0001623776739188721, model__max_depth=8, model__min_child_weight=5.0, model__n_estimators=1000, model__subsample=0.7777777777777778; neg_mean_absolute_error: (test=-0.613) r2: (test=-0.838) total time=  22.5s\n",
      "[CV 3/5] END model__colsample_bytree=0.4, model__gamma=0.7777777777777777, model__learning_rate=0.0011288378916846883, model__max_depth=6, model__min_child_weight=3.0, model__n_estimators=700, model__subsample=1.0; neg_mean_absolute_error: (test=-0.651) r2: (test=0.075) total time=  20.8s\n",
      "[CV 5/5] END model__colsample_bytree=0.30000000000000004, model__gamma=0.4444444444444444, model__learning_rate=0.0001623776739188721, model__max_depth=8, model__min_child_weight=5.0, model__n_estimators=1000, model__subsample=0.7777777777777778; neg_mean_absolute_error: (test=-0.365) r2: (test=-0.003) total time=  22.5s\n",
      "[CV 5/5] END model__colsample_bytree=0.4, model__gamma=0.7777777777777777, model__learning_rate=0.0011288378916846883, model__max_depth=6, model__min_child_weight=3.0, model__n_estimators=700, model__subsample=1.0; neg_mean_absolute_error: (test=-0.364) r2: (test=-0.001) total time=  21.0s\n",
      "[CV 1/5] END model__colsample_bytree=0.30000000000000004, model__gamma=0.4444444444444444, model__learning_rate=0.0001623776739188721, model__max_depth=8, model__min_child_weight=5.0, model__n_estimators=1000, model__subsample=0.7777777777777778; neg_mean_absolute_error: (test=-0.481) r2: (test=-0.027) total time=  23.6s\n",
      "[CV 2/5] END model__colsample_bytree=0.30000000000000004, model__gamma=0.4444444444444444, model__learning_rate=0.0001623776739188721, model__max_depth=8, model__min_child_weight=5.0, model__n_estimators=1000, model__subsample=0.7777777777777778; neg_mean_absolute_error: (test=-0.624) r2: (test=-1.380) total time=  23.3s\n",
      "[CV 1/5] END model__colsample_bytree=0.8, model__gamma=0.2222222222222222, model__learning_rate=0.0018329807108324356, model__max_depth=7, model__min_child_weight=3.0, model__n_estimators=1000, model__subsample=0.5; neg_mean_absolute_error: (test=-0.439) r2: (test=0.119) total time=  22.4s\n",
      "[CV 1/5] END model__colsample_bytree=0.6, model__gamma=0.1111111111111111, model__learning_rate=0.23357214690901212, model__max_depth=4, model__min_child_weight=6.0, model__n_estimators=200, model__subsample=0.8333333333333333; neg_mean_absolute_error: (test=-0.685) r2: (test=-1.053) total time=  12.9s\n",
      "[CV 2/5] END model__colsample_bytree=0.8, model__gamma=0.2222222222222222, model__learning_rate=0.0018329807108324356, model__max_depth=7, model__min_child_weight=3.0, model__n_estimators=1000, model__subsample=0.5; neg_mean_absolute_error: (test=-0.589) r2: (test=-1.269) total time=  22.4s\n",
      "[CV 2/5] END model__colsample_bytree=0.9, model__gamma=0.1111111111111111, model__learning_rate=0.0018329807108324356, model__max_depth=6, model__min_child_weight=9.0, model__n_estimators=600, model__subsample=0.8888888888888888; neg_mean_absolute_error: (test=-0.637) r2: (test=-1.567) total time=  18.9s\n",
      "[CV 3/5] END model__colsample_bytree=0.8, model__gamma=0.2222222222222222, model__learning_rate=0.0018329807108324356, model__max_depth=7, model__min_child_weight=3.0, model__n_estimators=1000, model__subsample=0.5; neg_mean_absolute_error: (test=-0.631) r2: (test=0.101) total time=  22.4s\n",
      "[CV 1/5] END model__colsample_bytree=0.9, model__gamma=0.1111111111111111, model__learning_rate=0.0018329807108324356, model__max_depth=6, model__min_child_weight=9.0, model__n_estimators=600, model__subsample=0.8888888888888888; neg_mean_absolute_error: (test=-0.441) r2: (test=0.093) total time=  20.2s\n",
      "[CV 4/5] END model__colsample_bytree=0.8, model__gamma=0.2222222222222222, model__learning_rate=0.0018329807108324356, model__max_depth=7, model__min_child_weight=3.0, model__n_estimators=1000, model__subsample=0.5; neg_mean_absolute_error: (test=-0.520) r2: (test=-0.349) total time=  21.9s\n",
      "[CV 3/5] END model__colsample_bytree=0.6, model__gamma=0.1111111111111111, model__learning_rate=0.23357214690901212, model__max_depth=4, model__min_child_weight=6.0, model__n_estimators=200, model__subsample=0.8333333333333333; neg_mean_absolute_error: (test=-0.540) r2: (test=0.129) total time=  13.6s\n",
      "[CV 4/5] END model__colsample_bytree=0.6, model__gamma=0.1111111111111111, model__learning_rate=0.23357214690901212, model__max_depth=4, model__min_child_weight=6.0, model__n_estimators=200, model__subsample=0.8333333333333333; neg_mean_absolute_error: (test=-0.660) r2: (test=-1.092) total time=  13.4s\n",
      "[CV 2/5] END model__colsample_bytree=0.6, model__gamma=0.1111111111111111, model__learning_rate=0.23357214690901212, model__max_depth=4, model__min_child_weight=6.0, model__n_estimators=200, model__subsample=0.8333333333333333; neg_mean_absolute_error: (test=-0.583) r2: (test=-1.081) total time=  13.8s\n",
      "[CV 5/5] END model__colsample_bytree=0.8, model__gamma=0.2222222222222222, model__learning_rate=0.0018329807108324356, model__max_depth=7, model__min_child_weight=3.0, model__n_estimators=1000, model__subsample=0.5; neg_mean_absolute_error: (test=-0.363) r2: (test=0.049) total time=  21.0s\n",
      "[CV 5/5] END model__colsample_bytree=0.6, model__gamma=0.1111111111111111, model__learning_rate=0.23357214690901212, model__max_depth=4, model__min_child_weight=6.0, model__n_estimators=200, model__subsample=0.8333333333333333; neg_mean_absolute_error: (test=-0.374) r2: (test=-0.176) total time=  13.0s\n",
      "[CV 3/5] END model__colsample_bytree=0.9, model__gamma=0.1111111111111111, model__learning_rate=0.0018329807108324356, model__max_depth=6, model__min_child_weight=9.0, model__n_estimators=600, model__subsample=0.8888888888888888; neg_mean_absolute_error: (test=-0.696) r2: (test=0.059) total time=  17.5s\n",
      "[CV 1/5] END model__colsample_bytree=1.0, model__gamma=1.0, model__learning_rate=0.00026366508987303583, model__max_depth=None, model__min_child_weight=4.0, model__n_estimators=200, model__subsample=0.7222222222222222; neg_mean_absolute_error: (test=-0.486) r2: (test=-0.048) total time=  13.0s\n",
      "[CV 4/5] END model__colsample_bytree=1.0, model__gamma=1.0, model__learning_rate=0.00026366508987303583, model__max_depth=None, model__min_child_weight=4.0, model__n_estimators=200, model__subsample=0.7222222222222222; neg_mean_absolute_error: (test=-0.626) r2: (test=-0.895) total time=  12.6s\n",
      "[CV 2/5] END model__colsample_bytree=1.0, model__gamma=1.0, model__learning_rate=0.00026366508987303583, model__max_depth=None, model__min_child_weight=4.0, model__n_estimators=200, model__subsample=0.7222222222222222; neg_mean_absolute_error: (test=-0.639) r2: (test=-1.474) total time=  13.1s\n",
      "[CV 3/5] END model__colsample_bytree=1.0, model__gamma=1.0, model__learning_rate=0.00026366508987303583, model__max_depth=None, model__min_child_weight=4.0, model__n_estimators=200, model__subsample=0.7222222222222222; neg_mean_absolute_error: (test=-0.710) r2: (test=0.011) total time=  13.1s\n",
      "[CV 5/5] END model__colsample_bytree=1.0, model__gamma=1.0, model__learning_rate=0.00026366508987303583, model__max_depth=None, model__min_child_weight=4.0, model__n_estimators=200, model__subsample=0.7222222222222222; neg_mean_absolute_error: (test=-0.366) r2: (test=-0.018) total time=  12.6s\n",
      "[CV 4/5] END model__colsample_bytree=0.9, model__gamma=0.1111111111111111, model__learning_rate=0.0018329807108324356, model__max_depth=6, model__min_child_weight=9.0, model__n_estimators=600, model__subsample=0.8888888888888888; neg_mean_absolute_error: (test=-0.526) r2: (test=-0.391) total time=  17.2s\n",
      "[CV 5/5] END model__colsample_bytree=0.9, model__gamma=0.1111111111111111, model__learning_rate=0.0018329807108324356, model__max_depth=6, model__min_child_weight=9.0, model__n_estimators=600, model__subsample=0.8888888888888888; neg_mean_absolute_error: (test=-0.368) r2: (test=-0.065) total time=  17.3s\n",
      "[CV 2/5] END model__colsample_bytree=0.9, model__gamma=0.6666666666666666, model__learning_rate=0.00026366508987303583, model__max_depth=None, model__min_child_weight=3.0, model__n_estimators=800, model__subsample=0.9444444444444444; neg_mean_absolute_error: (test=-0.635) r2: (test=-1.465) total time=  17.0s\n",
      "[CV 1/5] END model__colsample_bytree=0.9, model__gamma=0.6666666666666666, model__learning_rate=0.00026366508987303583, model__max_depth=None, model__min_child_weight=3.0, model__n_estimators=800, model__subsample=0.9444444444444444; neg_mean_absolute_error: (test=-0.464) r2: (test=0.021) total time=  17.4s\n",
      "[CV 1/5] END model__colsample_bytree=0.9, model__gamma=0.2222222222222222, model__learning_rate=0.00026366508987303583, model__max_depth=4, model__min_child_weight=6.0, model__n_estimators=400, model__subsample=0.5; neg_mean_absolute_error: (test=-0.482) r2: (test=-0.031) total time=  10.4s\n",
      "[CV 5/5] END model__colsample_bytree=0.9, model__gamma=0.6666666666666666, model__learning_rate=0.00026366508987303583, model__max_depth=None, model__min_child_weight=3.0, model__n_estimators=800, model__subsample=0.9444444444444444; neg_mean_absolute_error: (test=-0.365) r2: (test=-0.028) total time=  16.3s\n",
      "[CV 4/5] END model__colsample_bytree=0.9, model__gamma=0.2222222222222222, model__learning_rate=0.00026366508987303583, model__max_depth=4, model__min_child_weight=6.0, model__n_estimators=400, model__subsample=0.5; neg_mean_absolute_error: (test=-0.616) r2: (test=-0.849) total time=   9.9s\n",
      "[CV 3/5] END model__colsample_bytree=0.9, model__gamma=0.6666666666666666, model__learning_rate=0.00026366508987303583, model__max_depth=None, model__min_child_weight=3.0, model__n_estimators=800, model__subsample=0.9444444444444444; neg_mean_absolute_error: (test=-0.680) r2: (test=0.064) total time=  16.8s\n",
      "[CV 2/5] END model__colsample_bytree=0.9, model__gamma=0.2222222222222222, model__learning_rate=0.00026366508987303583, model__max_depth=4, model__min_child_weight=6.0, model__n_estimators=400, model__subsample=0.5; neg_mean_absolute_error: (test=-0.634) r2: (test=-1.445) total time=  10.7s\n",
      "[CV 3/5] END model__colsample_bytree=0.9, model__gamma=0.2222222222222222, model__learning_rate=0.00026366508987303583, model__max_depth=4, model__min_child_weight=6.0, model__n_estimators=400, model__subsample=0.5; neg_mean_absolute_error: (test=-0.711) r2: (test=0.008) total time=  10.6s\n",
      "[CV 4/5] END model__colsample_bytree=0.9, model__gamma=0.6666666666666666, model__learning_rate=0.00026366508987303583, model__max_depth=None, model__min_child_weight=3.0, model__n_estimators=800, model__subsample=0.9444444444444444; neg_mean_absolute_error: (test=-0.602) r2: (test=-0.784) total time=  16.8s\n",
      "[CV 5/5] END model__colsample_bytree=0.9, model__gamma=0.2222222222222222, model__learning_rate=0.00026366508987303583, model__max_depth=4, model__min_child_weight=6.0, model__n_estimators=400, model__subsample=0.5; neg_mean_absolute_error: (test=-0.365) r2: (test=-0.009) total time=  10.1s\n",
      "[CV 2/5] END model__colsample_bytree=0.8, model__gamma=0.3333333333333333, model__learning_rate=0.002976351441631319, model__max_depth=8, model__min_child_weight=3.0, model__n_estimators=1000, model__subsample=0.7777777777777778; neg_mean_absolute_error: (test=-0.591) r2: (test=-1.307) total time=  13.0s\n",
      "[CV 1/5] END model__colsample_bytree=0.8, model__gamma=0.3333333333333333, model__learning_rate=0.002976351441631319, model__max_depth=8, model__min_child_weight=3.0, model__n_estimators=1000, model__subsample=0.7777777777777778; neg_mean_absolute_error: (test=-0.448) r2: (test=0.075) total time=  13.3s\n",
      "[CV 4/5] END model__colsample_bytree=0.8, model__gamma=0.3333333333333333, model__learning_rate=0.002976351441631319, model__max_depth=8, model__min_child_weight=3.0, model__n_estimators=1000, model__subsample=0.7777777777777778; neg_mean_absolute_error: (test=-0.512) r2: (test=-0.264) total time=  12.6s\n",
      "[CV 3/5] END model__colsample_bytree=0.8, model__gamma=0.3333333333333333, model__learning_rate=0.002976351441631319, model__max_depth=8, model__min_child_weight=3.0, model__n_estimators=1000, model__subsample=0.7777777777777778; neg_mean_absolute_error: (test=-0.603) r2: (test=0.128) total time=  12.7s\n",
      "[CV 5/5] END model__colsample_bytree=0.8, model__gamma=0.3333333333333333, model__learning_rate=0.002976351441631319, model__max_depth=8, model__min_child_weight=3.0, model__n_estimators=1000, model__subsample=0.7777777777777778; neg_mean_absolute_error: (test=-0.362) r2: (test=0.043) total time=  11.7s\n"
     ]
    },
    {
     "name": "stderr",
     "output_type": "stream",
     "text": [
      "/Users/utkarsh/miniconda3/lib/python3.11/site-packages/sklearn/utils/validation.py:1310: DataConversionWarning: A column-vector y was passed when a 1d array was expected. Please change the shape of y to (n_samples, ), for example using ravel().\n",
      "  y = column_or_1d(y, warn=True)\n"
     ]
    },
    {
     "name": "stdout",
     "output_type": "stream",
     "text": [
      "Best XGBoost parameters:\n",
      "{'model__colsample_bytree': 0.7000000000000001,\n",
      " 'model__gamma': 0.4444444444444444,\n",
      " 'model__learning_rate': 0.03359818286283781,\n",
      " 'model__max_depth': 4,\n",
      " 'model__min_child_weight': 8.0,\n",
      " 'model__n_estimators': 800,\n",
      " 'model__subsample': 0.5555555555555556}\n",
      "XGB: Fitting took 192.809s.\n"
     ]
    },
    {
     "name": "stderr",
     "output_type": "stream",
     "text": [
      "/Users/utkarsh/miniconda3/lib/python3.11/site-packages/sklearn/utils/validation.py:1310: DataConversionWarning: A column-vector y was passed when a 1d array was expected. Please change the shape of y to (n_samples, ), for example using ravel().\n",
      "  y = column_or_1d(y, warn=True)\n",
      "/Users/utkarsh/miniconda3/lib/python3.11/site-packages/sklearn/utils/validation.py:1310: DataConversionWarning: A column-vector y was passed when a 1d array was expected. Please change the shape of y to (n_samples, ), for example using ravel().\n",
      "  y = column_or_1d(y, warn=True)\n",
      "/Users/utkarsh/miniconda3/lib/python3.11/site-packages/sklearn/utils/validation.py:1310: DataConversionWarning: A column-vector y was passed when a 1d array was expected. Please change the shape of y to (n_samples, ), for example using ravel().\n",
      "  y = column_or_1d(y, warn=True)\n",
      "/Users/utkarsh/miniconda3/lib/python3.11/site-packages/sklearn/utils/validation.py:1310: DataConversionWarning: A column-vector y was passed when a 1d array was expected. Please change the shape of y to (n_samples, ), for example using ravel().\n",
      "  y = column_or_1d(y, warn=True)\n",
      "/Users/utkarsh/miniconda3/lib/python3.11/site-packages/sklearn/utils/validation.py:1310: DataConversionWarning: A column-vector y was passed when a 1d array was expected. Please change the shape of y to (n_samples, ), for example using ravel().\n",
      "  y = column_or_1d(y, warn=True)\n"
     ]
    },
    {
     "name": "stdout",
     "output_type": "stream",
     "text": [
      "{'fit_time': array([1.77148008, 1.51426315, 1.36000896, 2.27825308, 1.60608625]),\n",
      " 'score_time': array([0.00903201, 0.01003575, 0.00553107, 0.01059294, 0.00563288]),\n",
      " 'test_neg_mean_absolute_error': array([-0.45103183, -0.51250857, -0.53950462, -0.50193259, -0.36164833]),\n",
      " 'test_r2': array([ 0.09152317, -0.76095247,  0.19485027, -0.19167602,  0.0377425 ]),\n",
      " 'train_neg_mean_absolute_error': array([-0.34057979, -0.37001301, -0.32474161, -0.3222842 , -0.33212364]),\n",
      " 'train_r2': array([0.65245199, 0.60275936, 0.60909897, 0.65365493, 0.69254196])}\n",
      "XGB Q_2: -0.12570\n",
      "BPA_Combinatorial_XGB\n",
      "Train R^2: 0.64879, train MAE: 0.33818\n",
      "Test R^2: 0.71515, test MAE: 0.30185\n",
      "Test R^2: -0.04008, test MAE: 0.55536\n",
      "Test R^2: -0.11822, test MAE: 0.59328\n",
      "All models trained and evaluated successfully.\n"
     ]
    }
   ],
   "source": [
    "# Train and evaluate models\n",
    "for model_name, model in models.items():\n",
    "    pipe = deepcopy(base_pipeline)\n",
    "    pipe.steps.append(('model', model))\n",
    "    \n",
    "    print(f\"\\nTraining {model_name}...\")\n",
    "    t0 = time()\n",
    "    \n",
    "    if model_name == \"XGB\":\n",
    "        search = RandomizedSearchCV(pipe, cv=5, param_distributions=xgb_param_grid,\n",
    "                                    n_iter=100, n_jobs=64, verbose=3, refit='neg_mean_absolute_error',\n",
    "                                    scoring=['neg_mean_absolute_error', 'r2'])\n",
    "        search.fit(X_train, Y_train)\n",
    "        pipe = search.best_estimator_\n",
    "        print(\"Best XGBoost parameters:\")\n",
    "        pprint(search.best_params_)\n",
    "    else:\n",
    "        pipe.fit(X_train, Y_train)\n",
    "    \n",
    "    print(f\"{model_name}: Fitting took {time() - t0:.3f}s.\")\n",
    "\n",
    "    scores = cross_validate(pipe, X_train, Y_train, cv=5, scoring=['neg_mean_absolute_error', 'r2'], return_train_score=True)\n",
    "    pprint(scores)\n",
    "    print(f\"{model_name} Q_2: {np.mean(scores['test_r2']):.5f}\")\n",
    "\n",
    "    multiplot_and_print(pipe, X_train, Y_train, comb_partitions, f\"BPA_Combinatorial_{model_name}\")\n",
    "\n",
    "print(\"All models trained and evaluated successfully.\")"
   ]
  },
  {
   "cell_type": "code",
   "execution_count": 23,
   "metadata": {},
   "outputs": [],
   "source": [
    "import numpy as np\n",
    "import pandas as pd\n",
    "import matplotlib.pyplot as plt\n",
    "from sklearn.inspection import permutation_importance\n",
    "\n",
    "def analyze_feature_importance(model, X, y, feature_names, model_name):\n",
    "    if hasattr(model, 'feature_importances_'):\n",
    "        # For tree-based models (RF, GBR, XGB)\n",
    "        importances = model.feature_importances_\n",
    "        indices = np.argsort(importances)[::-1]\n",
    "        \n",
    "        plt.figure(figsize=(12, 8))\n",
    "        plt.title(f\"Feature Importances ({model_name})\")\n",
    "        plt.bar(range(min(20, len(importances))), importances[indices][:20], align=\"center\")\n",
    "        plt.xticks(range(min(20, len(importances))), [feature_names[i] for i in indices[:20]], rotation=90)\n",
    "        plt.tight_layout()\n",
    "        plt.savefig(f\"feature_importances_{model_name.lower()}.png\")\n",
    "        plt.close()\n",
    "        \n",
    "        print(f\"\\nTop 20 features for {model_name}:\")\n",
    "        for f in range(min(20, len(importances))):\n",
    "            print(\"%d. %s (%f)\" % (f + 1, feature_names[indices[f]], importances[indices[f]]))\n",
    "    \n",
    "    # Permutation Importance (works for all models)\n",
    "    perm_importance = permutation_importance(model, X, y, n_repeats=10, random_state=42, n_jobs=-1)\n",
    "    \n",
    "    perm_importances = pd.DataFrame({\n",
    "        'feature': feature_names[:len(perm_importance.importances_mean)],\n",
    "        'importance': perm_importance.importances_mean,\n",
    "        'std': perm_importance.importances_std\n",
    "    }).sort_values('importance', ascending=False)\n",
    "    \n",
    "    plt.figure(figsize=(12, 8))\n",
    "    plt.title(f\"Permutation Importances ({model_name})\")\n",
    "    plt.bar(range(20), perm_importances['importance'][:20], yerr=perm_importances['std'][:20], align=\"center\")\n",
    "    plt.xticks(range(20), perm_importances['feature'][:20], rotation=90)\n",
    "    plt.tight_layout()\n",
    "    plt.savefig(f\"permutation_importances_{model_name.lower()}.png\")\n",
    "    plt.close()\n",
    "    \n",
    "    print(f\"\\nTop 20 features by permutation importance for {model_name}:\")\n",
    "    print(perm_importances.head(20))"
   ]
  },
  {
   "cell_type": "code",
   "execution_count": null,
   "metadata": {},
   "outputs": [],
   "source": []
  }
 ],
 "metadata": {
  "kernelspec": {
   "display_name": "base",
   "language": "python",
   "name": "python3"
  },
  "language_info": {
   "codemirror_mode": {
    "name": "ipython",
    "version": 3
   },
   "file_extension": ".py",
   "mimetype": "text/x-python",
   "name": "python",
   "nbconvert_exporter": "python",
   "pygments_lexer": "ipython3",
   "version": "3.11.8"
  },
  "orig_nbformat": 4
 },
 "nbformat": 4,
 "nbformat_minor": 2
}
